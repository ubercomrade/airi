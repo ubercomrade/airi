{
 "cells": [
  {
   "cell_type": "code",
   "execution_count": 179,
   "id": "695c681a",
   "metadata": {},
   "outputs": [],
   "source": [
    "# ! pip install pytorch-metric-learning"
   ]
  },
  {
   "cell_type": "code",
   "execution_count": 186,
   "id": "465a62d6",
   "metadata": {},
   "outputs": [],
   "source": [
    "import os\n",
    "import lightning as L\n",
    "from lightning.pytorch import loggers as pl_loggers\n",
    "from lightning.pytorch.callbacks import TQDMProgressBar, ModelCheckpoint, EarlyStopping\n",
    "\n",
    "import numpy as np\n",
    "import pandas as pd\n",
    "\n",
    "import seaborn as sns\n",
    "import matplotlib.pyplot as plt\n",
    "\n",
    "import torch\n",
    "import torch.nn as nn\n",
    "import torchmetrics\n",
    "import torch.nn.functional as F\n",
    "from torch.utils.data import Dataset, DataLoader\n",
    "\n",
    "from torchmetrics.classification import (\n",
    "    AUROC,\n",
    "    Accuracy\n",
    ")\n",
    "from torchmetrics import (\n",
    "    PearsonCorrCoef,\n",
    "    SpearmanCorrCoef,\n",
    "    R2Score\n",
    ")\n",
    "\n",
    "import ast\n",
    "\n",
    "import torch\n",
    "import numpy as np\n",
    "import pandas as pd\n",
    "from torch.utils.data import Dataset, DataLoader\n",
    "from pytorch_metric_learning.samplers import MPerClassSampler\n",
    "import torch.nn.functional as F\n",
    "from ast import literal_eval\n",
    "\n",
    "\n",
    "from pytorch_metric_learning.losses import TripletMarginLoss\n",
    "from pytorch_metric_learning.miners import TripletMarginMiner\n",
    "\n",
    "\n",
    "plt.rcParams[\"savefig.bbox\"] = 'tight'"
   ]
  },
  {
   "cell_type": "markdown",
   "id": "2748da9f",
   "metadata": {},
   "source": [
    "# Загружаем данные"
   ]
  },
  {
   "cell_type": "code",
   "execution_count": 172,
   "id": "67c6031f",
   "metadata": {},
   "outputs": [
    {
     "name": "stdout",
     "output_type": "stream",
     "text": [
      "2052\n",
      "2009\n"
     ]
    }
   ],
   "source": [
    "data = pd.read_csv(\"/home/user11/data/data_processed/data.tsv\", sep=\"\\t\", names=[\"peptide\", \"score\", \"hla\"])\n",
    "#embeddings_table = pd.read_csv(\"/home/user11/data/embeddings_proteins/wide_data.tsv\", sep=\"\\t\")\n",
    "embeddings_table = pd.read_csv(\"/home/user11/data/embeddings_proteins/wide_data_32float.tsv\", sep=\"\\t\")\n",
    "\n",
    "i = 1\n",
    "\n",
    "train = pd.read_csv(f\"/home/user11/data/data_processed/train{i}\", sep=\"\\t\", names=[\"peptide\", \"score\", \"hla\"])\n",
    "train.hla = train.hla.str.replace(\"_\", \"\")\n",
    "train_data = pd.merge(train, embeddings_table, on=[\"peptide\", \"score\", \"hla\"])\n",
    "train_data = train_data[train_data['peptide'].apply(len) <= 21]\n",
    "train_data = train_data[train_data['peptide'].apply(len) >= 9]\n",
    "\n",
    "\n",
    "val = pd.read_csv(f\"/home/user11/data/data_processed/test{i}\", sep=\"\\t\", names=[\"peptide\", \"score\", \"hla\"])\n",
    "val.hla = val.hla.str.replace(\"_\", \"\")\n",
    "val_data = pd.merge(val, embeddings_table, on=[\"peptide\", \"score\", \"hla\"])\n",
    "val_data = val_data[val_data['peptide'].apply(len) <= 21]\n",
    "val_data = val_data[val_data['peptide'].apply(len) >= 9]\n",
    "\n",
    "test_data = pd.read_csv(\"/home/user11/data/embeddings_proteins/wide_data_test.tsv\", sep=\"\\t\")\n",
    "test_data = pd.read_csv(\"/home/user11/data/embeddings_proteins/wide_data_test_32float.tsv\", sep=\"\\t\")\n",
    "print(len(test_data))\n",
    "test_data = test_data[test_data['peptide'].apply(len) <= 21]\n",
    "test_data = test_data[test_data['peptide'].apply(len) >= 9]\n",
    "test_data = test_data.reset_index(drop=True)\n",
    "print(len(test_data))\n"
   ]
  },
  {
   "cell_type": "code",
   "execution_count": 190,
   "id": "4fb17fd2",
   "metadata": {},
   "outputs": [],
   "source": [
    "from collections import Counter\n",
    "\n",
    "filter_ = []\n",
    "for k, val in Counter(embeddings_table['hla']).items():\n",
    "    if val <= 3:\n",
    "        filter_.append(k)\n",
    "filter_ = set(filter_)"
   ]
  },
  {
   "cell_type": "code",
   "execution_count": 193,
   "id": "26931d0d",
   "metadata": {},
   "outputs": [
    {
     "name": "stdout",
     "output_type": "stream",
     "text": [
      "Train size: 25216\n",
      "Validation size: 5403\n",
      "Test size: 5404\n"
     ]
    }
   ],
   "source": [
    "import pandas as pd\n",
    "from sklearn.model_selection import train_test_split\n",
    "from collections import Counter\n",
    "\n",
    "embeddings_table = pd.read_csv(\"/home/user11/data/embeddings_proteins/greate_data.tsv\", sep=\"\\t\")\n",
    "\n",
    "\n",
    "filter_ = []\n",
    "for k, val in Counter(embeddings_table['hla']).items():\n",
    "    if val <= 5:\n",
    "        filter_.append(k)\n",
    "filter_ = set(filter_)\n",
    "\n",
    "embeddings_table = embeddings_table[[True if not i in filter_ else False for i in embeddings_table['hla']]]\n",
    "\n",
    "# Сначала делим на train и temp (временно для val и test)\n",
    "train_data, temp_df = train_test_split(embeddings_table, \n",
    "                                       test_size=0.3, \n",
    "                                       random_state=42, \n",
    "                                       shuffle=True,\n",
    "                                       stratify=embeddings_table['hla'])\n",
    "\n",
    "# Теперь делим temp на val и test\n",
    "val_data, test_data = train_test_split(temp_df, \n",
    "                                       test_size=0.5, \n",
    "                                       random_state=42, \n",
    "                                       shuffle=True,\n",
    "                                       stratify=temp_df['hla'])\n",
    "\n",
    "# Проверка размеров\n",
    "print(f\"Train size: {len(train_data)}\")\n",
    "print(f\"Validation size: {len(val_data)}\")\n",
    "print(f\"Test size: {len(test_data)}\")\n"
   ]
  },
  {
   "cell_type": "markdown",
   "id": "56def86a",
   "metadata": {},
   "source": [
    "### Применение PCA + SVM"
   ]
  },
  {
   "cell_type": "code",
   "execution_count": 5,
   "id": "8bac2322",
   "metadata": {},
   "outputs": [],
   "source": [
    "def pracess_table(data):\n",
    "    featuries = []\n",
    "    labels = []\n",
    "    for index, row in data.iterrows():\n",
    "        alpha_path = row['alpha_path']\n",
    "        beta_path = row['beta_path']\n",
    "        peptide_path = row['peptide_path']\n",
    "        # alpha_positions = row['alpha_positions']\n",
    "        # beta_positions = row['beta_positions']\n",
    "        score = row['score']\n",
    "\n",
    "        alpha_embeddings = np.load(alpha_path)[:,1:-1].squeeze(0).mean(axis=0)\n",
    "        beta_embeddings = np.load(beta_path)[:,1:-1].squeeze(0).mean(axis=0)\n",
    "        peptide_embeddings = torch.FloatTensor(np.load(peptide_path))[:,1:-1].squeeze(0).mean(axis=0)\n",
    "        featuries.append(np.concat([alpha_embeddings, beta_embeddings, peptide_embeddings]))\n",
    "        labels.append(score > 0.496)\n",
    "    return featuries, labels\n",
    "\n"
   ]
  },
  {
   "cell_type": "code",
   "execution_count": 8,
   "id": "aa9c8091",
   "metadata": {},
   "outputs": [],
   "source": [
    "test_features, test_labels = pracess_table(test_data)\n",
    "train_features, train_labels = pracess_table(train_data)"
   ]
  },
  {
   "cell_type": "code",
   "execution_count": null,
   "id": "a8c2df4e",
   "metadata": {},
   "outputs": [],
   "source": [
    "from sklearn.svm import SVC\n",
    "from sklearn.decomposition import PCA\n",
    "from sklearn.preprocessing import StandardScaler\n",
    "from sklearn.metrics import (\n",
    "    accuracy_score,\n",
    "    classification_report,\n",
    "    confusion_matrix,\n",
    "    roc_auc_score,\n",
    ")\n",
    "\n",
    "# Предобработка\n",
    "# test_features, test_labels = pracess_table(test_data)\n",
    "# train_features, train_labels = pracess_table(train_data)\n",
    "\n",
    "# Масштабирование признаков\n",
    "scaler = StandardScaler()\n",
    "train_scaled = scaler.fit_transform(train_features)\n",
    "test_scaled = scaler.transform(test_features)\n",
    "\n",
    "# PCA: уменьшаем размерность (например, до 20 компонентов — можно изменить)\n",
    "pca = PCA(n_components=20)\n",
    "train_pca = pca.fit_transform(train_scaled)\n",
    "test_pca = pca.transform(test_scaled)\n",
    "\n",
    "# Обучение SVM\n",
    "model = SVC(kernel='rbf', C=1.0, gamma='scale', probability=True)\n",
    "model.fit(train_pca, train_labels)\n",
    "\n",
    "# Предсказания\n",
    "predictions = model.predict(test_pca)\n",
    "probas = model.predict_proba(test_pca)\n",
    "\n",
    "# AUC ROC (только для бинарной классификации)\n",
    "if len(model.classes_) == 2:\n",
    "    auc = roc_auc_score(test_labels, probas[:, 1])\n",
    "    print(\"AUC ROC:\", auc)\n",
    "else:\n",
    "    print(\"AUC ROC доступен только для бинарной классификации.\")\n",
    "\n",
    "# Метрики\n",
    "print(\"Accuracy:\", accuracy_score(test_labels, predictions))\n",
    "print(\"Confusion Matrix:\\n\", confusion_matrix(test_labels, predictions))\n",
    "print(\"Classification Report:\\n\", classification_report(test_labels, predictions))\n"
   ]
  },
  {
   "cell_type": "code",
   "execution_count": null,
   "id": "6f7c856f",
   "metadata": {},
   "outputs": [
    {
     "ename": "",
     "evalue": "",
     "output_type": "error",
     "traceback": [
      "\u001b[1;31mnotebook controller is DISPOSED. \n",
      "\u001b[1;31mView Jupyter <a href='command:jupyter.viewOutput'>log</a> for further details."
     ]
    }
   ],
   "source": [
    "def is_exists(path):\n",
    "    return os.path.exists(path)"
   ]
  },
  {
   "cell_type": "code",
   "execution_count": null,
   "id": "6e926ff6",
   "metadata": {},
   "outputs": [
    {
     "data": {
      "text/plain": [
       "np.True_"
      ]
     },
     "execution_count": 61,
     "metadata": {},
     "output_type": "execute_result"
    },
    {
     "ename": "",
     "evalue": "",
     "output_type": "error",
     "traceback": [
      "\u001b[1;31mnotebook controller is DISPOSED. \n",
      "\u001b[1;31mView Jupyter <a href='command:jupyter.viewOutput'>log</a> for further details."
     ]
    }
   ],
   "source": [
    "np.sum(test_data['peptide_path'].apply(is_exists)) == len(test_data)"
   ]
  },
  {
   "cell_type": "code",
   "execution_count": null,
   "id": "49ed6f53",
   "metadata": {},
   "outputs": [
    {
     "data": {
      "text/plain": [
       "array([[[ 0.01533592,  0.04636236, -0.02179497, ...,  0.00812898,\n",
       "          0.01680294, -0.01285871],\n",
       "        [-0.00108992,  0.02830932,  0.00663236, ..., -0.00385393,\n",
       "         -0.01219377,  0.01918724],\n",
       "        [-0.00031568,  0.03600387, -0.02954051, ...,  0.01349472,\n",
       "         -0.01393486, -0.00657987],\n",
       "        ...,\n",
       "        [-0.00483224,  0.0498512 , -0.0490288 , ..., -0.00414214,\n",
       "          0.01086233, -0.00033358],\n",
       "        [-0.01201398,  0.05209634, -0.0242684 , ..., -0.01939956,\n",
       "         -0.00191659, -0.00660642],\n",
       "        [-0.0449412 ,  0.0454271 ,  0.00334062, ...,  0.00191115,\n",
       "          0.00306173, -0.00519145]]], shape=(1, 15, 1152), dtype=float32)"
      ]
     },
     "execution_count": 163,
     "metadata": {},
     "output_type": "execute_result"
    },
    {
     "ename": "",
     "evalue": "",
     "output_type": "error",
     "traceback": [
      "\u001b[1;31mnotebook controller is DISPOSED. \n",
      "\u001b[1;31mView Jupyter <a href='command:jupyter.viewOutput'>log</a> for further details."
     ]
    }
   ],
   "source": [
    "np.load(train_data.iloc[10]['peptide_path'])"
   ]
  },
  {
   "cell_type": "markdown",
   "id": "5865a435",
   "metadata": {},
   "source": [
    "### Пути и глобальные переменные"
   ]
  },
  {
   "cell_type": "code",
   "execution_count": 173,
   "id": "a0f8bdf3",
   "metadata": {},
   "outputs": [],
   "source": [
    "log_path = '/home/user11/results/logs/'\n",
    "log_csv_path = '/home/user11/results/logs_csv/'\n",
    "checkpoints_path = '/home/user11/results/models/'\n",
    "EPOCHS = 100\n"
   ]
  },
  {
   "cell_type": "markdown",
   "id": "7f541717",
   "metadata": {},
   "source": [
    "## Работа с моделями на основе Attention"
   ]
  },
  {
   "cell_type": "markdown",
   "id": "ba7b6c44",
   "metadata": {},
   "source": [
    "### Базовый датасет"
   ]
  },
  {
   "cell_type": "code",
   "execution_count": 216,
   "id": "5c8f8c37",
   "metadata": {},
   "outputs": [],
   "source": [
    "def collate_fn(batch):\n",
    "    proteins, peptides, lengths, scores = zip(*batch)\n",
    "    \n",
    "    proteins = torch.stack(proteins)        # [B, 34, 1152]\n",
    "    peptides = torch.stack(peptides)        # [B, 21, 1152] — уже паддинг\n",
    "    lengths = torch.tensor(lengths)         # [B]\n",
    "    scores = torch.tensor(scores)#.unsqueeze(1)  # [B, 1]\n",
    "    \n",
    "    return proteins, peptides, lengths, scores\n",
    "\n",
    "\n",
    "class MHCSequenceDataset(Dataset):\n",
    "    def __init__(self, df):\n",
    "        self.df = df\n",
    "        \n",
    "    def __len__(self):\n",
    "        return len(self.df)\n",
    "    \n",
    "    def __getitem__(self, idx):\n",
    "        row = self.df.loc[idx]\n",
    "        score = row['score']\n",
    "        alpha_path = row['alpha_path']\n",
    "        beta_path = row['beta_path']\n",
    "        peptide_path = row['peptide_path']\n",
    "        alpha_positions = row['alpha_positions']\n",
    "        beta_positions = row['beta_positions']\n",
    "                \n",
    "        alpha_embeddings = np.load(alpha_path)[:, ast.literal_eval(alpha_positions), :].squeeze(0)\n",
    "        beta_embeddings = np.load(beta_path)[:, ast.literal_eval(beta_positions), :].squeeze(0)\n",
    "        peptide_embeddings = torch.FloatTensor(np.load(peptide_path))[:,1:-1].squeeze(0)\n",
    "\n",
    "        peptide_len = peptide_embeddings.shape[0]\n",
    "\n",
    "        # Паддинг по центру до 21\n",
    "        total_pad = 21 - peptide_len\n",
    "        left_pad = total_pad // 2\n",
    "        right_pad = total_pad - left_pad\n",
    "        peptide_padded = F.pad(peptide_embeddings, (0, 0, left_pad, right_pad), 'constant', value=0)\n",
    "        protein = torch.FloatTensor(np.concatenate([alpha_embeddings, beta_embeddings], axis=0))\n",
    "\n",
    "        # peptide_mask = torch.zeros(peptide_padded.size(0), dtype=torch.bool)\n",
    "        # peptide_mask[peptide_len:] = True\n",
    "\n",
    "        return protein, peptide_padded, peptide_len, torch.tensor(score, dtype=torch.float)\n",
    "    \n",
    "    "
   ]
  },
  {
   "cell_type": "markdown",
   "id": "148ee13b",
   "metadata": {},
   "source": [
    "###  Датасет с маской"
   ]
  },
  {
   "cell_type": "code",
   "execution_count": 224,
   "id": "2c86339c",
   "metadata": {},
   "outputs": [],
   "source": [
    "def collate_fn(batch):\n",
    "    proteins, peptides, masks, scores = zip(*batch)\n",
    "\n",
    "    proteins = torch.stack(proteins)        # [B, 34, 1152]\n",
    "    peptides = torch.stack(peptides)        # [B, 21, 1152]\n",
    "    masks = torch.stack(masks)              # [B, 21] — attention mask\n",
    "    scores = torch.tensor(scores)           # [B]\n",
    "\n",
    "    return proteins, peptides, masks, scores\n",
    "\n",
    "\n",
    "class MHCSequenceDataset(Dataset):\n",
    "    def __init__(self, df):\n",
    "        self.df = df\n",
    "        \n",
    "    def __len__(self):\n",
    "        return len(self.df)\n",
    "\n",
    "    def __getitem__(self, idx):\n",
    "        row = self.df.iloc[idx]\n",
    "        score = row['score']\n",
    "        alpha_path = row['alpha_path']\n",
    "        beta_path = row['beta_path']\n",
    "        peptide_path = row['peptide_path']\n",
    "        alpha_positions = row['alpha_positions']\n",
    "        beta_positions = row['beta_positions']\n",
    "                \n",
    "        alpha_embeddings = np.load(alpha_path)[:, ast.literal_eval(alpha_positions), :].squeeze(0)\n",
    "        beta_embeddings = np.load(beta_path)[:, ast.literal_eval(beta_positions), :].squeeze(0)\n",
    "        peptide_embeddings = torch.FloatTensor(np.load(peptide_path))[:,1:-1].squeeze(0)\n",
    "\n",
    "        peptide_len = peptide_embeddings.shape[0]\n",
    "\n",
    "        # Паддинг по центру до 21\n",
    "        total_pad = 21 - peptide_len\n",
    "        left_pad = total_pad // 2\n",
    "        right_pad = total_pad - left_pad\n",
    "        peptide_padded = F.pad(peptide_embeddings, (0, 0, left_pad, right_pad), 'constant', value=0)\n",
    "\n",
    "        # Маска: 1 — реальные токены, 0 — паддинг\n",
    "        mask = torch.zeros(21, dtype=torch.bool)\n",
    "        mask[left_pad:left_pad + peptide_len] = True\n",
    "\n",
    "        protein = torch.FloatTensor(np.concatenate([alpha_embeddings, beta_embeddings], axis=0))\n",
    "\n",
    "        return protein, peptide_padded, mask, torch.tensor(score, dtype=torch.float)\n"
   ]
  },
  {
   "cell_type": "markdown",
   "id": "bb82fbcd",
   "metadata": {},
   "source": [
    "### Датасет с использованием маски для данных, где эмбендинг считался по белку эпитопа"
   ]
  },
  {
   "cell_type": "code",
   "execution_count": 209,
   "id": "44fe7ee9",
   "metadata": {},
   "outputs": [],
   "source": [
    "def collate_fn(batch):\n",
    "    proteins, peptides, masks, scores = zip(*batch)\n",
    "\n",
    "    proteins = torch.stack(proteins)        # [B, 34, 1152]\n",
    "    peptides = torch.stack(peptides)        # [B, 21, 1152]\n",
    "    masks = torch.stack(masks)              # [B, 21] — attention mask\n",
    "    scores = torch.tensor(scores)           # [B]\n",
    "\n",
    "    return proteins, peptides, masks, scores\n",
    "\n",
    "\n",
    "class MHCSequenceDataset(Dataset):\n",
    "    def __init__(self, df):\n",
    "        self.df = df\n",
    "        \n",
    "    def __len__(self):\n",
    "        return len(self.df)\n",
    "\n",
    "    def __getitem__(self, idx):\n",
    "        row = self.df.iloc[idx]\n",
    "        score = row['score']\n",
    "        alpha_path = row['alpha_path']\n",
    "        beta_path = row['beta_path']\n",
    "        peptide_path = row['epitop_full_sequence_emb_path']\n",
    "        start_epitop = int(row['start_epitop'] + 1) # +1 к как первый вектор технический\n",
    "        end_epitop = int(row['end_epitop'] + 1)# +1 к как первый вектор технический\n",
    "        alpha_positions = row['alpha_positions']\n",
    "        beta_positions = row['beta_positions']\n",
    "                \n",
    "\n",
    "        alpha_embeddings = np.load(alpha_path)[:, ast.literal_eval(alpha_positions), :].squeeze(0)\n",
    "        beta_embeddings = np.load(beta_path)[:, ast.literal_eval(beta_positions), :].squeeze(0)\n",
    "        peptide_embeddings = torch.FloatTensor(np.load(peptide_path)[:, start_epitop:end_epitop, :].squeeze(0))\n",
    "\n",
    "        peptide_len = peptide_embeddings.shape[0]\n",
    "\n",
    "        # Паддинг по центру до 21\n",
    "        total_pad = 21 - peptide_len\n",
    "        left_pad = total_pad // 2\n",
    "        right_pad = total_pad - left_pad\n",
    "        peptide_padded = F.pad(peptide_embeddings, (0, 0, left_pad, right_pad), 'constant', value=0)\n",
    "\n",
    "        # Маска: 1 — реальные токены, 0 — паддинг\n",
    "        mask = torch.zeros(21, dtype=torch.bool)\n",
    "        mask[left_pad:left_pad + peptide_len] = True\n",
    "\n",
    "        protein = torch.FloatTensor(np.concatenate([alpha_embeddings, beta_embeddings], axis=0))\n",
    "\n",
    "        return protein, peptide_padded, mask, torch.tensor(score, dtype=torch.float)\n"
   ]
  },
  {
   "cell_type": "markdown",
   "id": "84339002",
   "metadata": {},
   "source": [
    "### Обьявляем наши датасеты"
   ]
  },
  {
   "cell_type": "markdown",
   "id": "77f909e6",
   "metadata": {},
   "source": [
    "#### Получен из базы данных + была подготовка эмбендингов и др-е."
   ]
  },
  {
   "cell_type": "code",
   "execution_count": 195,
   "id": "26387a5a",
   "metadata": {},
   "outputs": [],
   "source": [
    "BATCH_SIZE = 512\n",
    "\n",
    "train_dataset = MHCSequenceDataset(train_data)\n",
    "val_dataset = MHCSequenceDataset(val_data)\n",
    "test_dataset = MHCSequenceDataset(test_data)\n",
    "\n",
    "train_dataloader = DataLoader(train_dataset, batch_size=BATCH_SIZE, shuffle=True, num_workers=8, collate_fn=collate_fn)\n",
    "val_dataloader = DataLoader(val_dataset, batch_size=BATCH_SIZE, shuffle=False, num_workers=8, collate_fn=collate_fn)\n",
    "test_dataloader = DataLoader(test_dataset, batch_size=BATCH_SIZE, shuffle=False, num_workers=8, collate_fn=collate_fn)\n",
    "\n",
    "#len(train_dataset), train_dataset[30][1].shape"
   ]
  },
  {
   "cell_type": "markdown",
   "id": "48c57bff",
   "metadata": {},
   "source": [
    "#### Был извлечен эмбенддинг для целого белка эпитопа"
   ]
  },
  {
   "cell_type": "code",
   "execution_count": 225,
   "id": "75c3a3b6",
   "metadata": {},
   "outputs": [],
   "source": [
    "BATCH_SIZE = 512\n",
    "\n",
    "train_dataset = MHCSequenceDataset(train_data)\n",
    "val_dataset = MHCSequenceDataset(val_data)\n",
    "test_dataset = MHCSequenceDataset(test_data)\n",
    "\n",
    "train_dataloader = DataLoader(train_dataset, batch_size=BATCH_SIZE, shuffle=True, num_workers=8, collate_fn=collate_fn)\n",
    "val_dataloader = DataLoader(val_dataset, batch_size=BATCH_SIZE, shuffle=False, num_workers=8, collate_fn=collate_fn)\n",
    "test_dataloader = DataLoader(test_dataset, batch_size=BATCH_SIZE, shuffle=False, num_workers=8, collate_fn=collate_fn)\n",
    "\n",
    "#len(train_dataset), train_dataset[30][1].shape"
   ]
  },
  {
   "cell_type": "code",
   "execution_count": 220,
   "id": "86d0b816",
   "metadata": {},
   "outputs": [
    {
     "data": {
      "text/plain": [
       "'/home/user11/data/embeddings_proteins/emb_esmc_full_epitopes_650m//Q40960.npy'"
      ]
     },
     "execution_count": 220,
     "metadata": {},
     "output_type": "execute_result"
    }
   ],
   "source": [
    "train_data.iloc[0]['epitop_full_sequence_emb_path']"
   ]
  },
  {
   "cell_type": "code",
   "execution_count": 200,
   "id": "a596750d",
   "metadata": {},
   "outputs": [
    {
     "data": {
      "text/plain": [
       "(1, 314, 1152)"
      ]
     },
     "execution_count": 200,
     "metadata": {},
     "output_type": "execute_result"
    }
   ],
   "source": [
    "peptide_embeddings = np.load(train_data.iloc[0]['epitop_full_sequence_emb_path'])\n",
    "peptide_embeddings.shape"
   ]
  },
  {
   "cell_type": "code",
   "execution_count": 202,
   "id": "ce702e71",
   "metadata": {},
   "outputs": [
    {
     "data": {
      "text/plain": [
       "array([[[ 0.03336792,  0.03972925, -0.00214513, ..., -0.02084067,\n",
       "          0.00078157, -0.02744721],\n",
       "        [ 0.00825546,  0.05325219, -0.00796509, ..., -0.01479157,\n",
       "          0.01584252, -0.03361255],\n",
       "        [-0.03011555,  0.05421186,  0.01487346, ..., -0.02082266,\n",
       "          0.03606271, -0.02635617],\n",
       "        ...,\n",
       "        [ 0.00183306,  0.00074739,  0.03007515, ...,  0.01752948,\n",
       "          0.01187115, -0.02337635],\n",
       "        [-0.0229768 ,  0.03160378, -0.01471132, ...,  0.01785925,\n",
       "          0.00329863, -0.01348982],\n",
       "        [ 0.00669834,  0.02358298,  0.00841137, ...,  0.00549607,\n",
       "          0.00671421, -0.00211226]]], shape=(1, 99, 1152), dtype=float32)"
      ]
     },
     "execution_count": 202,
     "metadata": {},
     "output_type": "execute_result"
    }
   ],
   "source": [
    "peptide_embeddings[:,1:100,:]"
   ]
  },
  {
   "cell_type": "code",
   "execution_count": 212,
   "id": "4ee16083",
   "metadata": {},
   "outputs": [],
   "source": [
    "batch = next(iter(train_dataloader))"
   ]
  },
  {
   "cell_type": "code",
   "execution_count": null,
   "id": "ac6500be",
   "metadata": {},
   "outputs": [
    {
     "data": {
      "text/plain": [
       "torch.Size([512, 21, 1152])"
      ]
     },
     "execution_count": 136,
     "metadata": {},
     "output_type": "execute_result"
    },
    {
     "ename": "",
     "evalue": "",
     "output_type": "error",
     "traceback": [
      "\u001b[1;31mnotebook controller is DISPOSED. \n",
      "\u001b[1;31mView Jupyter <a href='command:jupyter.viewOutput'>log</a> for further details."
     ]
    }
   ],
   "source": [
    "batch[1].shape"
   ]
  },
  {
   "cell_type": "markdown",
   "id": "78c8252a",
   "metadata": {},
   "source": [
    "### Модели с attention"
   ]
  },
  {
   "cell_type": "markdown",
   "id": "9114a57e",
   "metadata": {},
   "source": [
    "#### 1) ProteinPeptideInteractionModel"
   ]
  },
  {
   "cell_type": "code",
   "execution_count": 222,
   "id": "fdcbc7c9",
   "metadata": {},
   "outputs": [],
   "source": [
    "import torch\n",
    "import torch.nn as nn\n",
    "import torch.nn.functional as F\n",
    "\n",
    "class ProteinPeptideInteractionModel(nn.Module):\n",
    "    def __init__(self, embedding_dim=1152, hidden_dim=512, num_heads=4, dropout=0.3):\n",
    "        super(ProteinPeptideInteractionModel, self).__init__()\n",
    "        \n",
    "        self.peptide_proj = nn.Linear(embedding_dim, hidden_dim)\n",
    "        self.protein_proj = nn.Linear(embedding_dim, hidden_dim)\n",
    "        \n",
    "        self.cross_attn = nn.MultiheadAttention(embed_dim=hidden_dim, \n",
    "                                                num_heads=num_heads, \n",
    "                                                batch_first=True,\n",
    "                                                dropout=dropout)\n",
    "        \n",
    "        self.fc = nn.Sequential(\n",
    "            nn.Linear(hidden_dim * 2, hidden_dim),\n",
    "            nn.ReLU(),\n",
    "            nn.Dropout(dropout),\n",
    "            nn.Linear(hidden_dim, 1),\n",
    "        )\n",
    "        \n",
    "    def forward(self, protein, peptide):\n",
    "        # protein: [B, 34, 1152]\n",
    "        # peptide: [B, 21, 1152]\n",
    "        \n",
    "        # Проецируем эмбеддинги\n",
    "        protein_proj = self.protein_proj(protein)   # [B, 34, hidden]\n",
    "        peptide_proj = self.peptide_proj(peptide)   # [B, 21, hidden]\n",
    "        \n",
    "        # Кросс-аттеншн: пептид (query) взаимодействует с белком (key, value)\n",
    "        attn_output, _ = self.cross_attn(query=peptide_proj,\n",
    "                                         key=protein_proj,\n",
    "                                         value=protein_proj)\n",
    "\n",
    "        # Агрегируем: берем среднее по всем позициям пептида\n",
    "        attn_repr = attn_output.mean(dim=1)        # [B, hidden]\n",
    "        pep_repr = peptide_proj.mean(dim=1)        # [B, hidden]\n",
    "        \n",
    "        combined = torch.cat([attn_repr, pep_repr], dim=1)  # [B, hidden*2]\n",
    "        \n",
    "        output = self.fc(combined)\n",
    "        \n",
    "        return output\n",
    "    \n",
    "\n",
    "# 2\n",
    "class ProteinPeptideInteractionModelMask(nn.Module):\n",
    "    def __init__(self, embedding_dim=1152, hidden_dim=512, num_heads=4, dropout=0.3):\n",
    "        super(ProteinPeptideInteractionModelMask, self).__init__()\n",
    "        \n",
    "        self.peptide_proj = nn.Linear(embedding_dim, hidden_dim)\n",
    "        self.protein_proj = nn.Linear(embedding_dim, hidden_dim)\n",
    "        \n",
    "        self.cross_attn = nn.MultiheadAttention(embed_dim=hidden_dim, \n",
    "                                                num_heads=num_heads, \n",
    "                                                batch_first=True,\n",
    "                                                dropout=dropout)\n",
    "        \n",
    "        self.fc = nn.Sequential(\n",
    "            nn.Linear(hidden_dim * 2, hidden_dim),\n",
    "            nn.ReLU(),\n",
    "            nn.Dropout(dropout),\n",
    "            nn.Linear(hidden_dim, 1),\n",
    "        )\n",
    "        \n",
    "    def forward(self, protein, peptide, peptide_mask):\n",
    "        # protein: [B, 34, 1152]\n",
    "        # peptide: [B, 21, 1152]\n",
    "        # peptide_mask: [B, 21] — bool tensor, True = настоящий токен, False = паддинг\n",
    "        \n",
    "        # Проецируем\n",
    "        protein_proj = self.protein_proj(protein)   # [B, 34, hidden]\n",
    "        peptide_proj = self.peptide_proj(peptide)   # [B, 21, hidden]\n",
    "        \n",
    "        # Кросс-аттеншн: пептид (query) ↔ белок (key/value)\n",
    "        attn_output, _ = self.cross_attn(\n",
    "            query=peptide_proj,\n",
    "            key=protein_proj,\n",
    "            value=protein_proj,\n",
    "            key_padding_mask=None  # можно добавить, если у белка будет паддинг\n",
    "        )\n",
    "\n",
    "        # Маскированное среднее по пептиду\n",
    "        mask = peptide_mask.unsqueeze(-1).float()  # [B, 21, 1]\n",
    "        attn_repr = (attn_output * mask).sum(dim=1) / mask.sum(dim=1).clamp(min=1.0)\n",
    "        pep_repr = (peptide_proj * mask).sum(dim=1) / mask.sum(dim=1).clamp(min=1.0)\n",
    "        \n",
    "        combined = torch.cat([attn_repr, pep_repr], dim=1)  # [B, hidden*2]\n",
    "        \n",
    "        output = self.fc(combined)  # [B, 1]\n",
    "        return output\n",
    "\n",
    "\n",
    "# 3\n",
    "class ProteinPeptideInteractionModelWithSmartGate(nn.Module):\n",
    "    def __init__(self, embedding_dim=1152, hidden_dim=512, num_heads=4, dropout=0.3):\n",
    "        super(ProteinPeptideInteractionModelWithSmartGate, self).__init__()\n",
    "        \n",
    "        self.peptide_proj = nn.Linear(embedding_dim, hidden_dim)\n",
    "        self.protein_proj = nn.Linear(embedding_dim, hidden_dim)\n",
    "        \n",
    "        self.cross_attn = nn.MultiheadAttention(embed_dim=hidden_dim, \n",
    "                                                num_heads=num_heads, \n",
    "                                                batch_first=True,\n",
    "                                                dropout=dropout)\n",
    "        \n",
    "        self.fc = nn.Sequential(\n",
    "            nn.Linear(hidden_dim * 2, hidden_dim),\n",
    "            nn.ReLU(),\n",
    "            nn.Dropout(dropout),\n",
    "            nn.Linear(hidden_dim, 1),\n",
    "        )\n",
    "        \n",
    "        self.gate  = nn.Sequential(\n",
    "            nn.Linear(hidden_dim * 2, hidden_dim),\n",
    "            nn.ReLU(),\n",
    "            nn.Dropout(dropout),\n",
    "            nn.Linear(hidden_dim, 2)\n",
    "        )\n",
    "\n",
    "    def forward(self, protein, peptide):\n",
    "        # protein: [B, 34, 1152]\n",
    "        # peptide: [B, 21, 1152]\n",
    "        \n",
    "        # Проецируем эмбеддинги\n",
    "        protein_proj = self.protein_proj(protein)   # [B, 34, hidden]\n",
    "        peptide_proj = self.peptide_proj(peptide)   # [B, 21, hidden]\n",
    "        \n",
    "        # Кросс-аттеншн: пептид (query) взаимодействует с белком (key, value)\n",
    "        attn_output, attn_weights = self.cross_attn(query=peptide_proj,\n",
    "                                         key=protein_proj,\n",
    "                                         value=protein_proj,\n",
    "                                        average_attn_weights=False)\n",
    "        # Агрегируем: берем среднее по всем позициям пептида\n",
    "        attn_repr = attn_output.mean(dim=1)        # [B, hidden]\n",
    "        pep_repr = peptide_proj.mean(dim=1)        # [B, hidden]\n",
    "        \n",
    "        combined = torch.cat([attn_repr, pep_repr], dim=1)  # [B, hidden*2]\n",
    "        alpha, beta = self.gate(combined).chunk(chunks=2, dim=-1)\n",
    "\n",
    "        combined_2 = torch.cat([attn_repr * alpha, pep_repr * beta], dim=1)\n",
    "        output = self.fc(combined_2)\n",
    "\n",
    "        return output\n",
    "    \n",
    "\n",
    "# 4\n",
    "class ProteinPeptideInteractionModelWithSmartGateMask(nn.Module):\n",
    "    def __init__(self, embedding_dim=1152, hidden_dim=512, num_heads=4, dropout=0.3):\n",
    "        super(ProteinPeptideInteractionModelWithSmartGateMask, self).__init__()\n",
    "        \n",
    "        self.peptide_proj = nn.Linear(embedding_dim, hidden_dim)\n",
    "        self.protein_proj = nn.Linear(embedding_dim, hidden_dim)\n",
    "        \n",
    "        self.cross_attn = nn.MultiheadAttention(\n",
    "            embed_dim=hidden_dim, \n",
    "            num_heads=num_heads, \n",
    "            batch_first=True,\n",
    "            dropout=dropout\n",
    "        )\n",
    "        \n",
    "        self.fc = nn.Sequential(\n",
    "            nn.Linear(hidden_dim * 2, hidden_dim),\n",
    "            nn.ReLU(),\n",
    "            nn.Dropout(dropout),\n",
    "            nn.Linear(hidden_dim, 1),\n",
    "        )\n",
    "        \n",
    "        self.gate = nn.Sequential(\n",
    "            nn.Linear(hidden_dim * 2, hidden_dim),\n",
    "            nn.ReLU(),\n",
    "            nn.Dropout(dropout),\n",
    "            nn.Linear(hidden_dim, 2)\n",
    "        )\n",
    "\n",
    "    def forward(self, protein, peptide, peptide_mask):\n",
    "        \"\"\"\n",
    "        protein:       [B, 34, 1152]\n",
    "        peptide:       [B, 21, 1152]\n",
    "        peptide_mask:  [B, 21] — bool tensor (True = настоящий токен, False = паддинг)\n",
    "        \"\"\"\n",
    "        # Проекции\n",
    "        protein_proj = self.protein_proj(protein)   # [B, 34, hidden]\n",
    "        peptide_proj = self.peptide_proj(peptide)   # [B, 21, hidden]\n",
    "        \n",
    "        # Кросс-аттеншн\n",
    "        attn_output, _ = self.cross_attn(\n",
    "            query=peptide_proj,\n",
    "            key=protein_proj,\n",
    "            value=protein_proj,\n",
    "            key_padding_mask=None,  # не нужен, так как белок фиксированной длины\n",
    "            average_attn_weights=False\n",
    "        )\n",
    "\n",
    "        # Маска: [B, 21, 1]\n",
    "        mask = peptide_mask.unsqueeze(-1).float()         # float: True → 1.0, False → 0.0\n",
    "        mask_sum = mask.sum(dim=1).clamp(min=1.0)         # избегаем деления на 0\n",
    "\n",
    "        # Маскированное среднее\n",
    "        attn_repr = (attn_output * mask).sum(dim=1) / mask_sum  # [B, hidden]\n",
    "        pep_repr  = (peptide_proj * mask).sum(dim=1) / mask_sum # [B, hidden]\n",
    "\n",
    "        # Smart Gate\n",
    "        combined = torch.cat([attn_repr, pep_repr], dim=1)         # [B, hidden*2]\n",
    "        alpha, beta = self.gate(combined).chunk(2, dim=-1)         # [B, hidden], [B, hidden]\n",
    "        gated = torch.cat([attn_repr * alpha, pep_repr * beta], dim=1)  # [B, hidden*2]\n",
    "\n",
    "        return self.fc(gated)  # [B, 1]\n",
    "    \n",
    "\n",
    "\n",
    "class ProteinPeptideInteractionModelWithSmartGateAndWeighting(nn.Module):\n",
    "    def __init__(self, embedding_dim=1152, hidden_dim=512, num_heads=4, dropout=0.3):\n",
    "        super(ProteinPeptideInteractionModelWithSmartGateAndWeighting, self).__init__()\n",
    "        \n",
    "        self.peptide_proj = nn.Linear(embedding_dim, hidden_dim)\n",
    "        self.protein_proj = nn.Linear(embedding_dim, hidden_dim)\n",
    "        \n",
    "        self.cross_attn = nn.MultiheadAttention(embed_dim=hidden_dim, \n",
    "                                                num_heads=num_heads, \n",
    "                                                batch_first=True,\n",
    "                                                dropout=dropout)\n",
    "        \n",
    "        self.fc = nn.Sequential(\n",
    "            nn.Linear(hidden_dim * 2, hidden_dim),\n",
    "            nn.ReLU(),\n",
    "            nn.Dropout(dropout),\n",
    "            nn.Linear(hidden_dim, 1),\n",
    "        )\n",
    "        \n",
    "        self.gate  = nn.Sequential(\n",
    "            nn.Linear(hidden_dim * 2, hidden_dim),\n",
    "            nn.ReLU(),\n",
    "            nn.Dropout(dropout),\n",
    "            nn.Linear(hidden_dim, 2)\n",
    "        )\n",
    "\n",
    "        self.peptide_importance = nn.Sequential(\n",
    "            nn.Linear(hidden_dim, 32),\n",
    "            nn.ReLU(),\n",
    "            nn.Dropout(dropout),\n",
    "            nn.Linear(32, 1)\n",
    "        )\n",
    "\n",
    "    def forward(self, protein, peptide, peptide_mask):\n",
    "        # protein: [B, 34, 1152]\n",
    "        # peptide: [B, 21, 1152]\n",
    "        \n",
    "        # Проецируем эмбеддинги\n",
    "        protein_proj = self.protein_proj(protein)   # [B, 34, hidden]\n",
    "        peptide_proj = self.peptide_proj(peptide)   # [B, 21, hidden]\n",
    "        \n",
    "        # Кросс-аттеншн: пептид (query) взаимодействует с белком (key, value)\n",
    "        attn_output, attn_weights = self.cross_attn(query=peptide_proj,\n",
    "                                        key=protein_proj,\n",
    "                                        value=protein_proj,\n",
    "                                        average_attn_weights=False)\n",
    "        # Агрегируем: берем среднее по всем позициям пептида\n",
    "        attn_repr = attn_output.mean(dim=1)        # [B, hidden]\n",
    "\n",
    "        pep_weights = self.peptide_importance(peptide_proj) \n",
    "        pep_repr = (peptide_proj * pep_weights.softmax(dim=1)).sum(dim=1) # [B, hidden]\n",
    "\n",
    "        combined = torch.cat([attn_repr, pep_repr], dim=1)  # [B, hidden*2]\n",
    "        alpha, beta = self.gate(combined).chunk(chunks=2, dim=-1)\n",
    "\n",
    "        combined_2 = torch.cat([attn_repr * alpha, pep_repr * beta], dim=1)\n",
    "        output = self.fc(combined_2)\n",
    "\n",
    "        return output\n",
    "\n"
   ]
  },
  {
   "cell_type": "markdown",
   "id": "0921e8a1",
   "metadata": {},
   "source": [
    "#### 2) CrossAttentionModel (Модель с масками и позиционным кодированием)"
   ]
  },
  {
   "cell_type": "code",
   "execution_count": 26,
   "id": "b292d93e",
   "metadata": {},
   "outputs": [],
   "source": [
    "\n",
    "class PositionalEncoding(nn.Module):\n",
    "    def __init__(self, dim, max_len=1000):\n",
    "        super().__init__()\n",
    "        pe = torch.zeros(max_len, dim)\n",
    "        position = torch.arange(0, max_len).unsqueeze(1)\n",
    "        div_term = torch.exp(torch.arange(0, dim, 2) * -(torch.log(torch.tensor(10000.0)) / dim))\n",
    "        pe[:, 0::2] = torch.sin(position * div_term)\n",
    "        pe[:, 1::2] = torch.cos(position * div_term)\n",
    "        self.pe = pe.unsqueeze(0)  # [1, max_len, dim]\n",
    "\n",
    "    def forward(self, x):\n",
    "        return x + self.pe[:, :x.size(1), :].to(x.device)\n",
    "\n",
    "class CrossAttentionModel(nn.Module):\n",
    "    def __init__(self, d_model=1152, nhead=8, dim_feedforward=2048, dropout=0.2):\n",
    "        super().__init__()\n",
    "        self.protein_pos = PositionalEncoding(d_model, max_len=34)\n",
    "        self.peptide_pos = PositionalEncoding(d_model, max_len=21)\n",
    "\n",
    "        self.cross_attn = nn.MultiheadAttention(embed_dim=d_model, num_heads=nhead, dropout=dropout, batch_first=True)\n",
    "\n",
    "        self.mlp = nn.Sequential(\n",
    "            nn.Linear(d_model, dim_feedforward),\n",
    "            nn.ReLU(),\n",
    "            nn.Dropout(dropout),\n",
    "            nn.Linear(dim_feedforward, 1),\n",
    "        )\n",
    "\n",
    "    def forward(self, protein, peptide, peptide_mask):\n",
    "\n",
    "        #B, L, D = peptide.size()\n",
    "\n",
    "        # позиционная кодировка\n",
    "        protein = self.protein_pos(protein)\n",
    "        peptide_fwd = self.peptide_pos(peptide)\n",
    "        peptide_rev = self.peptide_pos(torch.flip(peptide, dims=[1]))\n",
    "\n",
    "        peptide_mask_rev = torch.flip(peptide_mask, dims=[1])\n",
    "\n",
    "        # cross-attention (protein queries, peptide keys/values)\n",
    "        attn_out_fwd, _ = self.cross_attn(\n",
    "            query=protein,\n",
    "            key=peptide_fwd,\n",
    "            value=peptide_fwd,\n",
    "            key_padding_mask=~peptide_mask  # игнорировать паддинг\n",
    "        )\n",
    "\n",
    "        attn_out_rev, _ = self.cross_attn(\n",
    "            query=protein,\n",
    "            key=peptide_rev,\n",
    "            value=peptide_rev,\n",
    "            key_padding_mask=~peptide_mask_rev\n",
    "        )\n",
    "\n",
    "        # Инвариантность ориентации — усреднение\n",
    "        attn_out = (attn_out_fwd + attn_out_rev) / 2  # [B, 34, 1152]\n",
    "\n",
    "        # Пулинг по белку\n",
    "        pooled = attn_out.mean(dim=1)  # [B, 1152]\n",
    "\n",
    "        return self.mlp(pooled)  # [B, 1]\n"
   ]
  },
  {
   "cell_type": "code",
   "execution_count": 140,
   "id": "91eff5ad",
   "metadata": {},
   "outputs": [],
   "source": [
    "class ProteinPeptideInteractionTransformer(nn.Module):\n",
    "    def __init__(self, embedding_dim=1152, hidden_dim=512, embedding_out_dim=128, num_heads=8, dropout=0.3):\n",
    "        super().__init__()\n",
    "\n",
    "        self.embedding_dim = embedding_dim\n",
    "        self.hidden_dim = hidden_dim\n",
    "\n",
    "        # Проекция\n",
    "        self.protein_proj = nn.Linear(embedding_dim, hidden_dim)\n",
    "        self.peptide_proj = nn.Linear(embedding_dim, hidden_dim)\n",
    "\n",
    "        # Первый слой cross-attention\n",
    "        self.cross_attn1 = nn.MultiheadAttention(embed_dim=hidden_dim, num_heads=num_heads, dropout=dropout, batch_first=True)\n",
    "        self.norm1 = nn.LayerNorm(hidden_dim)\n",
    "\n",
    "        # Второй слой cross-attention\n",
    "        self.cross_attn2 = nn.MultiheadAttention(embed_dim=hidden_dim, num_heads=num_heads, dropout=dropout, batch_first=True)\n",
    "        self.norm2 = nn.LayerNorm(hidden_dim)\n",
    "\n",
    "        # Агрегация и объединение представлений\n",
    "        self.encoder = nn.Sequential(\n",
    "            nn.Linear(hidden_dim * 2, hidden_dim),\n",
    "            nn.ReLU(),\n",
    "            nn.Dropout(dropout),\n",
    "            nn.LayerNorm(hidden_dim),\n",
    "            nn.Linear(hidden_dim, embedding_out_dim)\n",
    "        )\n",
    "\n",
    "        # Предсказание биндинга\n",
    "        self.score_head = nn.Sequential(\n",
    "            nn.Linear(embedding_out_dim, 64),\n",
    "            nn.ReLU(),\n",
    "            nn.Linear(64, 1)\n",
    "        )\n",
    "\n",
    "    def forward(self, protein, peptide):\n",
    "        \"\"\"\n",
    "        protein: [B, P_len, 1152]\n",
    "        peptide: [B, pep_len, 1152]\n",
    "        Returns:\n",
    "            embedding: [B, embedding_out_dim]\n",
    "            score:     [B]\n",
    "        \"\"\"\n",
    "        B = protein.shape[0]\n",
    "\n",
    "        # Проекция эмбеддингов\n",
    "        protein_proj = self.protein_proj(protein)     # [B, P_len, hidden_dim]\n",
    "        peptide_proj = self.peptide_proj(peptide)     # [B, pep_len, hidden_dim]\n",
    "\n",
    "        # Первый cross-attention\n",
    "        attn_out1, _ = self.cross_attn1(query=peptide_proj, key=protein_proj, value=protein_proj)\n",
    "        attn_out1 = self.norm1(attn_out1 + peptide_proj)  # skip-connection\n",
    "\n",
    "        # Второй cross-attention\n",
    "        attn_out2, _ = self.cross_attn2(query=attn_out1, key=protein_proj, value=protein_proj)\n",
    "        attn_out2 = self.norm2(attn_out2 + attn_out1)     # skip-connection\n",
    "\n",
    "        # Усреднение\n",
    "        peptide_repr = attn_out2.mean(dim=1)              # [B, hidden_dim]\n",
    "        protein_repr = protein_proj.mean(dim=1)           # [B, hidden_dim]\n",
    "\n",
    "        # Объединение\n",
    "        combined = torch.cat([protein_repr, peptide_repr], dim=1)  # [B, hidden_dim * 2]\n",
    "\n",
    "        # Получение эмбеддинга\n",
    "        embedding = self.encoder(combined)                # [B, embedding_out_dim]\n",
    "        embedding = F.normalize(embedding, p=2, dim=1)\n",
    "\n",
    "        # Предсказание бинарного класса\n",
    "        score = self.score_head(embedding).squeeze(-1)    # [B]\n",
    "\n",
    "        return score\n"
   ]
  },
  {
   "cell_type": "markdown",
   "id": "931375c8",
   "metadata": {},
   "source": [
    "### Класс Lightning  для обучения и логирования модели"
   ]
  },
  {
   "cell_type": "code",
   "execution_count": null,
   "id": "d83f2343",
   "metadata": {},
   "outputs": [],
   "source": [
    "\n",
    "class LModelA(L.LightningModule):\n",
    "    def __init__(self, model, learning_rate, weight_decay):\n",
    "        super().__init__()\n",
    "        self.save_hyperparameters(ignore=['model'])\n",
    "        self.model = model\n",
    "\n",
    "        self.learning_rate = learning_rate\n",
    "        self.weight_decay = weight_decay\n",
    "\n",
    "        # Метрики для каждой стадии\n",
    "        self.train_metrics_regression = self._make_metrics_regression(\"train_\")\n",
    "        self.validation_metrics_regression = self._make_metrics_regression(\"validation_\")\n",
    "        self.test_metrics_regression = self._make_metrics_regression(\"test_\")\n",
    "\n",
    "        self.train_metrics_classification = self._make_metrics_classification(\"train_\")\n",
    "        self.validation_metrics_classification = self._make_metrics_classification(\"validation_\")\n",
    "        self.test_metrics_classification = self._make_metrics_classification(\"test_\")\n",
    "\n",
    "        # self.loss_fn = nn.MSELoss()\n",
    "        self.loss_fn = nn.HuberLoss()\n",
    "        #self.loss_fn = nn.BCEWithLogitsLoss()\n",
    "\n",
    "        self.cutoff = 1.0 - np.log(500) / np.log(50000)\n",
    "\n",
    "    def _make_metrics_classification(self, prefix):\n",
    "        metrics = torchmetrics.MetricCollection(\n",
    "            {\n",
    "                \"auroc\": AUROC(task=\"binary\"),\n",
    "                \"accuracy\": Accuracy(task=\"binary\")\n",
    "            },\n",
    "            prefix=prefix\n",
    "        )\n",
    "        return metrics\n",
    "\n",
    "    def _make_metrics_regression(self, prefix):\n",
    "        metrics = torchmetrics.MetricCollection(\n",
    "            {\n",
    "                \"pcc\": PearsonCorrCoef(),\n",
    "                \"r2\": R2Score()\n",
    "            },\n",
    "            prefix=prefix\n",
    "        )\n",
    "        return metrics\n",
    "\n",
    "\n",
    "    def forward(self, mhc_embeddings, peptide_embeddings):\n",
    "        return self.model(mhc_embeddings, peptide_embeddings)\n",
    "        \n",
    "\n",
    "    def _evaluate(self, batch, stage=None):\n",
    "\n",
    "        mhc_embeddings, peptide_embeddings, _, scores = batch\n",
    "        binary_scores = (scores >= self.cutoff).float()\n",
    "        logits = self.forward(mhc_embeddings, peptide_embeddings).squeeze()        \n",
    "        probs = logits.sigmoid()\n",
    "        #loss = self.loss_fn(logits, binary_scores) # For BCE\n",
    "        loss = self.loss_fn(probs, scores) # For regression\n",
    "\n",
    "        metrics_dict = {f\"{stage}_loss\": loss}\n",
    "\n",
    "        if stage == 'train':\n",
    "            metrics_dict.update(self.train_metrics_regression(probs, scores))\n",
    "            metrics_dict.update(self.train_metrics_classification(probs, binary_scores))\n",
    "        elif stage == 'validation':\n",
    "            metrics_dict.update(self.validation_metrics_regression(probs, scores))\n",
    "            metrics_dict.update(self.validation_metrics_classification(probs, binary_scores))\n",
    "        elif stage == 'test':\n",
    "            metrics_dict.update(self.test_metrics_regression(probs, scores))\n",
    "            metrics_dict.update(self.test_metrics_classification(probs, binary_scores))\n",
    "\n",
    "        self.log_dict(metrics_dict, \n",
    "                      on_step=(stage == 'train'), \n",
    "                      on_epoch=True, \n",
    "                      prog_bar=True, \n",
    "                      sync_dist=True,\n",
    "                      batch_size=BATCH_SIZE)\n",
    "\n",
    "        return loss\n",
    "\n",
    "    def training_step(self, batch, batch_idx):\n",
    "        return self._evaluate(batch, stage='train')\n",
    "\n",
    "    def validation_step(self, batch, batch_idx):\n",
    "        self._evaluate(batch, stage='validation')\n",
    "\n",
    "    def test_step(self, batch, batch_idx):\n",
    "        self._evaluate(batch, stage='test')\n",
    "\n",
    "    def on_train_epoch_end(self):\n",
    "        self.train_metrics_classification.reset()\n",
    "        self.train_metrics_regression.reset()\n",
    "\n",
    "    def on_validation_epoch_end(self):\n",
    "        self.log_dict(self.validation_metrics_regression.compute(),\n",
    "                      on_step=False, on_epoch=True, \n",
    "                      prog_bar=True, sync_dist=True, \n",
    "                      batch_size=BATCH_SIZE)\n",
    "        self.validation_metrics_regression.reset()\n",
    "\n",
    "        self.log_dict(self.validation_metrics_classification.compute(),\n",
    "                      on_step=False, on_epoch=True, \n",
    "                      prog_bar=True, sync_dist=True, \n",
    "                      batch_size=BATCH_SIZE)\n",
    "        self.validation_metrics_classification.reset()\n",
    "\n",
    "    def on_test_epoch_end(self):\n",
    "        self.log_dict(self.test_metrics_regression.compute(),\n",
    "                      on_step=False, on_epoch=True, \n",
    "                      prog_bar=True, sync_dist=True, \n",
    "                      batch_size=BATCH_SIZE)\n",
    "        self.test_metrics_regression.reset()\n",
    "\n",
    "        self.log_dict(self.test_metrics_classification.compute(),\n",
    "                      on_step=False, on_epoch=True, \n",
    "                      prog_bar=True, sync_dist=True, \n",
    "                      batch_size=BATCH_SIZE)\n",
    "        self.test_metrics_classification.reset()\n",
    "\n",
    "    def configure_optimizers(self):\n",
    "        optimizer = torch.optim.AdamW(self.parameters(), \n",
    "                                      lr=self.learning_rate, \n",
    "                                      weight_decay=self.weight_decay)\n",
    "\n",
    "        scheduler = torch.optim.lr_scheduler.CosineAnnealingLR(\n",
    "            optimizer,\n",
    "            T_max=self.trainer.max_epochs,\n",
    "            eta_min=1e-6\n",
    "        )\n",
    "\n",
    "        return {\n",
    "            \"optimizer\": optimizer,\n",
    "            \"lr_scheduler\": {\n",
    "                \"scheduler\": scheduler,\n",
    "                \"interval\": \"step\",\n",
    "                \"frequency\": 20,\n",
    "            }\n",
    "        }\n"
   ]
  },
  {
   "cell_type": "markdown",
   "id": "7f3ab86e",
   "metadata": {},
   "source": [
    "### Класс Lightning  для обучения и логирования модели (с маской)"
   ]
  },
  {
   "cell_type": "code",
   "execution_count": 177,
   "id": "324f76e0",
   "metadata": {},
   "outputs": [],
   "source": [
    "\n",
    "class LModelA(L.LightningModule):\n",
    "    def __init__(self, model, learning_rate, weight_decay):\n",
    "        super().__init__()\n",
    "        self.save_hyperparameters(ignore=['model'])\n",
    "        self.model = model\n",
    "\n",
    "        self.learning_rate = learning_rate\n",
    "        self.weight_decay = weight_decay\n",
    "\n",
    "        # Метрики для каждой стадии\n",
    "        self.train_metrics_regression = self._make_metrics_regression(\"train_\")\n",
    "        self.validation_metrics_regression = self._make_metrics_regression(\"validation_\")\n",
    "        self.test_metrics_regression = self._make_metrics_regression(\"test_\")\n",
    "\n",
    "        self.train_metrics_classification = self._make_metrics_classification(\"train_\")\n",
    "        self.validation_metrics_classification = self._make_metrics_classification(\"validation_\")\n",
    "        self.test_metrics_classification = self._make_metrics_classification(\"test_\")\n",
    "\n",
    "        # self.loss_fn = nn.MSELoss()\n",
    "        self.loss_fn = nn.HuberLoss()\n",
    "        #self.loss_fn = nn.BCEWithLogitsLoss()\n",
    "\n",
    "        self.cutoff = 1.0 - np.log(500) / np.log(50000)\n",
    "\n",
    "    def _make_metrics_classification(self, prefix):\n",
    "        metrics = torchmetrics.MetricCollection(\n",
    "            {\n",
    "                \"auroc\": AUROC(task=\"binary\"),\n",
    "                \"accuracy\": Accuracy(task=\"binary\")\n",
    "            },\n",
    "            prefix=prefix\n",
    "        )\n",
    "        return metrics\n",
    "\n",
    "    def _make_metrics_regression(self, prefix):\n",
    "        metrics = torchmetrics.MetricCollection(\n",
    "            {\n",
    "                \"pcc\": PearsonCorrCoef(),\n",
    "                \"r2\": R2Score()\n",
    "            },\n",
    "            prefix=prefix\n",
    "        )\n",
    "        return metrics\n",
    "\n",
    "\n",
    "    def forward(self, mhc_embeddings, peptide_embeddings, mask):\n",
    "        return self.model(mhc_embeddings, peptide_embeddings, mask)\n",
    "        \n",
    "\n",
    "    def _evaluate(self, batch, stage=None):\n",
    "\n",
    "        mhc_embeddings, peptide_embeddings, mask, scores = batch\n",
    "        binary_scores = (scores >= self.cutoff).float()\n",
    "        logits = self.forward(mhc_embeddings, peptide_embeddings, mask).squeeze()        \n",
    "        probs = logits.sigmoid()\n",
    "        #loss = self.loss_fn(logits, binary_scores) # For BCE\n",
    "        loss = self.loss_fn(probs, scores) # For regression\n",
    "\n",
    "        metrics_dict = {f\"{stage}_loss\": loss}\n",
    "\n",
    "        if stage == 'train':\n",
    "            metrics_dict.update(self.train_metrics_regression(probs, scores))\n",
    "            metrics_dict.update(self.train_metrics_classification(probs, binary_scores))\n",
    "        elif stage == 'validation':\n",
    "            metrics_dict.update(self.validation_metrics_regression(probs, scores))\n",
    "            metrics_dict.update(self.validation_metrics_classification(probs, binary_scores))\n",
    "        elif stage == 'test':\n",
    "            metrics_dict.update(self.test_metrics_regression(probs, scores))\n",
    "            metrics_dict.update(self.test_metrics_classification(probs, binary_scores))\n",
    "\n",
    "        self.log_dict(metrics_dict, \n",
    "                      on_step=(stage == 'train'), \n",
    "                      on_epoch=True, \n",
    "                      prog_bar=True, \n",
    "                      sync_dist=True,\n",
    "                      batch_size=BATCH_SIZE)\n",
    "\n",
    "        return loss\n",
    "\n",
    "    def training_step(self, batch, batch_idx):\n",
    "        return self._evaluate(batch, stage='train')\n",
    "\n",
    "    def validation_step(self, batch, batch_idx):\n",
    "        self._evaluate(batch, stage='validation')\n",
    "\n",
    "    def test_step(self, batch, batch_idx):\n",
    "        self._evaluate(batch, stage='test')\n",
    "\n",
    "    def on_train_epoch_end(self):\n",
    "        self.train_metrics_classification.reset()\n",
    "        self.train_metrics_regression.reset()\n",
    "\n",
    "    def on_validation_epoch_end(self):\n",
    "        self.log_dict(self.validation_metrics_regression.compute(),\n",
    "                      on_step=False, on_epoch=True, \n",
    "                      prog_bar=True, sync_dist=True, \n",
    "                      batch_size=BATCH_SIZE)\n",
    "        self.validation_metrics_regression.reset()\n",
    "\n",
    "        self.log_dict(self.validation_metrics_classification.compute(),\n",
    "                      on_step=False, on_epoch=True, \n",
    "                      prog_bar=True, sync_dist=True, \n",
    "                      batch_size=BATCH_SIZE)\n",
    "        self.validation_metrics_classification.reset()\n",
    "\n",
    "    def on_test_epoch_end(self):\n",
    "        self.log_dict(self.test_metrics_regression.compute(),\n",
    "                      on_step=False, on_epoch=True, \n",
    "                      prog_bar=True, sync_dist=True, \n",
    "                      batch_size=BATCH_SIZE)\n",
    "        self.test_metrics_regression.reset()\n",
    "\n",
    "        self.log_dict(self.test_metrics_classification.compute(),\n",
    "                      on_step=False, on_epoch=True, \n",
    "                      prog_bar=True, sync_dist=True, \n",
    "                      batch_size=BATCH_SIZE)\n",
    "        self.test_metrics_classification.reset()\n",
    "\n",
    "    def configure_optimizers(self):\n",
    "        optimizer = torch.optim.AdamW(self.parameters(), \n",
    "                                      lr=self.learning_rate, \n",
    "                                      weight_decay=self.weight_decay)\n",
    "\n",
    "        scheduler = torch.optim.lr_scheduler.CosineAnnealingLR(\n",
    "            optimizer,\n",
    "            T_max=self.trainer.max_epochs,\n",
    "            eta_min=1e-6\n",
    "        )\n",
    "\n",
    "        return {\n",
    "            \"optimizer\": optimizer,\n",
    "            \"lr_scheduler\": {\n",
    "                \"scheduler\": scheduler,\n",
    "                \"interval\": \"step\",\n",
    "                \"frequency\": 20,\n",
    "            }\n",
    "        }\n"
   ]
  },
  {
   "cell_type": "markdown",
   "id": "aeec82be",
   "metadata": {},
   "source": [
    "### Обучаем модели с Attention"
   ]
  },
  {
   "cell_type": "code",
   "execution_count": 226,
   "id": "3f19d9a2",
   "metadata": {},
   "outputs": [
    {
     "name": "stderr",
     "output_type": "stream",
     "text": [
      "GPU available: True (cuda), used: True\n",
      "TPU available: False, using: 0 TPU cores\n",
      "HPU available: False, using: 0 HPUs\n",
      "LOCAL_RANK: 0 - CUDA_VISIBLE_DEVICES: [0,1,2,3]\n",
      "\n",
      "  | Name                              | Type                               | Params | Mode \n",
      "-------------------------------------------------------------------------------------------------\n",
      "0 | model                             | ProteinPeptideInteractionModelMask | 2.8 M  | train\n",
      "1 | train_metrics_regression          | MetricCollection                   | 0      | train\n",
      "2 | validation_metrics_regression     | MetricCollection                   | 0      | train\n",
      "3 | test_metrics_regression           | MetricCollection                   | 0      | train\n",
      "4 | train_metrics_classification      | MetricCollection                   | 0      | train\n",
      "5 | validation_metrics_classification | MetricCollection                   | 0      | train\n",
      "6 | test_metrics_classification       | MetricCollection                   | 0      | train\n",
      "7 | loss_fn                           | HuberLoss                          | 0      | train\n",
      "-------------------------------------------------------------------------------------------------\n",
      "2.8 M     Trainable params\n",
      "0         Non-trainable params\n",
      "2.8 M     Total params\n",
      "11.026    Total estimated model params size (MB)\n",
      "29        Modules in train mode\n",
      "0         Modules in eval mode\n"
     ]
    },
    {
     "data": {
      "application/vnd.jupyter.widget-view+json": {
       "model_id": "0651af4c316b433f9319e58bb96dd992",
       "version_major": 2,
       "version_minor": 0
      },
      "text/plain": [
       "Sanity Checking: |                                                       | 0/? [00:00<?, ?it/s]"
      ]
     },
     "metadata": {},
     "output_type": "display_data"
    },
    {
     "data": {
      "application/vnd.jupyter.widget-view+json": {
       "model_id": "8d06cfbb55664bd2ab315dfa9ce18d0d",
       "version_major": 2,
       "version_minor": 0
      },
      "text/plain": [
       "Training: |                                                              | 0/? [00:00<?, ?it/s]"
      ]
     },
     "metadata": {},
     "output_type": "display_data"
    },
    {
     "data": {
      "application/vnd.jupyter.widget-view+json": {
       "model_id": "152816590d7f4bd381a2e5ac5de98745",
       "version_major": 2,
       "version_minor": 0
      },
      "text/plain": [
       "Validation: |                                                            | 0/? [00:00<?, ?it/s]"
      ]
     },
     "metadata": {},
     "output_type": "display_data"
    },
    {
     "data": {
      "application/vnd.jupyter.widget-view+json": {
       "model_id": "4719c1408ac14f139a6e7d68918db3e6",
       "version_major": 2,
       "version_minor": 0
      },
      "text/plain": [
       "Validation: |                                                            | 0/? [00:00<?, ?it/s]"
      ]
     },
     "metadata": {},
     "output_type": "display_data"
    },
    {
     "data": {
      "application/vnd.jupyter.widget-view+json": {
       "model_id": "de3a3a2f6b2d4241b14f412a6dac7b6d",
       "version_major": 2,
       "version_minor": 0
      },
      "text/plain": [
       "Validation: |                                                            | 0/? [00:00<?, ?it/s]"
      ]
     },
     "metadata": {},
     "output_type": "display_data"
    },
    {
     "data": {
      "application/vnd.jupyter.widget-view+json": {
       "model_id": "053b125d965f4acfa76b9b7701ebe33f",
       "version_major": 2,
       "version_minor": 0
      },
      "text/plain": [
       "Validation: |                                                            | 0/? [00:00<?, ?it/s]"
      ]
     },
     "metadata": {},
     "output_type": "display_data"
    },
    {
     "data": {
      "application/vnd.jupyter.widget-view+json": {
       "model_id": "9de29ee7cb1741ac8eff77ccafe04c40",
       "version_major": 2,
       "version_minor": 0
      },
      "text/plain": [
       "Validation: |                                                            | 0/? [00:00<?, ?it/s]"
      ]
     },
     "metadata": {},
     "output_type": "display_data"
    },
    {
     "data": {
      "application/vnd.jupyter.widget-view+json": {
       "model_id": "efb52d754ea942d596156e65eab436ae",
       "version_major": 2,
       "version_minor": 0
      },
      "text/plain": [
       "Validation: |                                                            | 0/? [00:00<?, ?it/s]"
      ]
     },
     "metadata": {},
     "output_type": "display_data"
    },
    {
     "data": {
      "application/vnd.jupyter.widget-view+json": {
       "model_id": "0ddc94d092d94291899df592526bb28a",
       "version_major": 2,
       "version_minor": 0
      },
      "text/plain": [
       "Validation: |                                                            | 0/? [00:00<?, ?it/s]"
      ]
     },
     "metadata": {},
     "output_type": "display_data"
    },
    {
     "data": {
      "application/vnd.jupyter.widget-view+json": {
       "model_id": "4cd54d983d6248cdadba7e5a0089d530",
       "version_major": 2,
       "version_minor": 0
      },
      "text/plain": [
       "Validation: |                                                            | 0/? [00:00<?, ?it/s]"
      ]
     },
     "metadata": {},
     "output_type": "display_data"
    },
    {
     "data": {
      "application/vnd.jupyter.widget-view+json": {
       "model_id": "41a6cbb6fddb48ec9764bdc6007e3114",
       "version_major": 2,
       "version_minor": 0
      },
      "text/plain": [
       "Validation: |                                                            | 0/? [00:00<?, ?it/s]"
      ]
     },
     "metadata": {},
     "output_type": "display_data"
    },
    {
     "data": {
      "application/vnd.jupyter.widget-view+json": {
       "model_id": "b555a7e06320491891d3ab1a57e30e2f",
       "version_major": 2,
       "version_minor": 0
      },
      "text/plain": [
       "Validation: |                                                            | 0/? [00:00<?, ?it/s]"
      ]
     },
     "metadata": {},
     "output_type": "display_data"
    },
    {
     "data": {
      "application/vnd.jupyter.widget-view+json": {
       "model_id": "746f8aa8a23f470fa15ffa2867421d34",
       "version_major": 2,
       "version_minor": 0
      },
      "text/plain": [
       "Validation: |                                                            | 0/? [00:00<?, ?it/s]"
      ]
     },
     "metadata": {},
     "output_type": "display_data"
    },
    {
     "data": {
      "application/vnd.jupyter.widget-view+json": {
       "model_id": "81974e89dae445209b87afe00804c113",
       "version_major": 2,
       "version_minor": 0
      },
      "text/plain": [
       "Validation: |                                                            | 0/? [00:00<?, ?it/s]"
      ]
     },
     "metadata": {},
     "output_type": "display_data"
    },
    {
     "data": {
      "application/vnd.jupyter.widget-view+json": {
       "model_id": "6305ca04decc45f6af6f91cf00451ce8",
       "version_major": 2,
       "version_minor": 0
      },
      "text/plain": [
       "Validation: |                                                            | 0/? [00:00<?, ?it/s]"
      ]
     },
     "metadata": {},
     "output_type": "display_data"
    },
    {
     "data": {
      "application/vnd.jupyter.widget-view+json": {
       "model_id": "da1608126eae48a2a20a8b88c13ed613",
       "version_major": 2,
       "version_minor": 0
      },
      "text/plain": [
       "Validation: |                                                            | 0/? [00:00<?, ?it/s]"
      ]
     },
     "metadata": {},
     "output_type": "display_data"
    },
    {
     "data": {
      "application/vnd.jupyter.widget-view+json": {
       "model_id": "a5e1ceed970d45a39524687113ef376d",
       "version_major": 2,
       "version_minor": 0
      },
      "text/plain": [
       "Validation: |                                                            | 0/? [00:00<?, ?it/s]"
      ]
     },
     "metadata": {},
     "output_type": "display_data"
    },
    {
     "data": {
      "application/vnd.jupyter.widget-view+json": {
       "model_id": "07f13978bef14da49213d4d0355e0814",
       "version_major": 2,
       "version_minor": 0
      },
      "text/plain": [
       "Validation: |                                                            | 0/? [00:00<?, ?it/s]"
      ]
     },
     "metadata": {},
     "output_type": "display_data"
    },
    {
     "data": {
      "application/vnd.jupyter.widget-view+json": {
       "model_id": "0dab99eaef444980804c655d73d1a824",
       "version_major": 2,
       "version_minor": 0
      },
      "text/plain": [
       "Validation: |                                                            | 0/? [00:00<?, ?it/s]"
      ]
     },
     "metadata": {},
     "output_type": "display_data"
    },
    {
     "data": {
      "application/vnd.jupyter.widget-view+json": {
       "model_id": "b56d5c8106c34cfa859064d4a64e0369",
       "version_major": 2,
       "version_minor": 0
      },
      "text/plain": [
       "Validation: |                                                            | 0/? [00:00<?, ?it/s]"
      ]
     },
     "metadata": {},
     "output_type": "display_data"
    },
    {
     "data": {
      "application/vnd.jupyter.widget-view+json": {
       "model_id": "66cae084795841eab3e992a83f8dcb51",
       "version_major": 2,
       "version_minor": 0
      },
      "text/plain": [
       "Validation: |                                                            | 0/? [00:00<?, ?it/s]"
      ]
     },
     "metadata": {},
     "output_type": "display_data"
    },
    {
     "data": {
      "application/vnd.jupyter.widget-view+json": {
       "model_id": "290fde9ff61e4862aa752e4d0f1fe58b",
       "version_major": 2,
       "version_minor": 0
      },
      "text/plain": [
       "Validation: |                                                            | 0/? [00:00<?, ?it/s]"
      ]
     },
     "metadata": {},
     "output_type": "display_data"
    },
    {
     "data": {
      "application/vnd.jupyter.widget-view+json": {
       "model_id": "4ca1b4481a344c7e983deeebb7b6bb3b",
       "version_major": 2,
       "version_minor": 0
      },
      "text/plain": [
       "Validation: |                                                            | 0/? [00:00<?, ?it/s]"
      ]
     },
     "metadata": {},
     "output_type": "display_data"
    },
    {
     "data": {
      "application/vnd.jupyter.widget-view+json": {
       "model_id": "babaf69a1cc745eebe0c15aeeb0a357c",
       "version_major": 2,
       "version_minor": 0
      },
      "text/plain": [
       "Validation: |                                                            | 0/? [00:00<?, ?it/s]"
      ]
     },
     "metadata": {},
     "output_type": "display_data"
    },
    {
     "data": {
      "application/vnd.jupyter.widget-view+json": {
       "model_id": "62f9b1e690a14c7eaea039041c1dfe7e",
       "version_major": 2,
       "version_minor": 0
      },
      "text/plain": [
       "Validation: |                                                            | 0/? [00:00<?, ?it/s]"
      ]
     },
     "metadata": {},
     "output_type": "display_data"
    },
    {
     "data": {
      "application/vnd.jupyter.widget-view+json": {
       "model_id": "f8109c4ff68c4ec498618106106dc388",
       "version_major": 2,
       "version_minor": 0
      },
      "text/plain": [
       "Validation: |                                                            | 0/? [00:00<?, ?it/s]"
      ]
     },
     "metadata": {},
     "output_type": "display_data"
    },
    {
     "data": {
      "application/vnd.jupyter.widget-view+json": {
       "model_id": "6649d6a92fab4f7d8d37f8dfc238a5b0",
       "version_major": 2,
       "version_minor": 0
      },
      "text/plain": [
       "Validation: |                                                            | 0/? [00:00<?, ?it/s]"
      ]
     },
     "metadata": {},
     "output_type": "display_data"
    },
    {
     "data": {
      "application/vnd.jupyter.widget-view+json": {
       "model_id": "60ddb67a82bd486495d0283687073be0",
       "version_major": 2,
       "version_minor": 0
      },
      "text/plain": [
       "Validation: |                                                            | 0/? [00:00<?, ?it/s]"
      ]
     },
     "metadata": {},
     "output_type": "display_data"
    },
    {
     "data": {
      "application/vnd.jupyter.widget-view+json": {
       "model_id": "b7936e4aade84cbe800eedb68c79103f",
       "version_major": 2,
       "version_minor": 0
      },
      "text/plain": [
       "Validation: |                                                            | 0/? [00:00<?, ?it/s]"
      ]
     },
     "metadata": {},
     "output_type": "display_data"
    },
    {
     "data": {
      "application/vnd.jupyter.widget-view+json": {
       "model_id": "9a08348a81324ac2921b5b9e5b19fcc9",
       "version_major": 2,
       "version_minor": 0
      },
      "text/plain": [
       "Validation: |                                                            | 0/? [00:00<?, ?it/s]"
      ]
     },
     "metadata": {},
     "output_type": "display_data"
    },
    {
     "data": {
      "application/vnd.jupyter.widget-view+json": {
       "model_id": "e435023372a74e7e97783228bd99ad50",
       "version_major": 2,
       "version_minor": 0
      },
      "text/plain": [
       "Validation: |                                                            | 0/? [00:00<?, ?it/s]"
      ]
     },
     "metadata": {},
     "output_type": "display_data"
    },
    {
     "data": {
      "application/vnd.jupyter.widget-view+json": {
       "model_id": "e11eedd4d33149bc9a13e6fbd0a2e31e",
       "version_major": 2,
       "version_minor": 0
      },
      "text/plain": [
       "Validation: |                                                            | 0/? [00:00<?, ?it/s]"
      ]
     },
     "metadata": {},
     "output_type": "display_data"
    },
    {
     "data": {
      "application/vnd.jupyter.widget-view+json": {
       "model_id": "b78e0fa336594483a8fc869845090a1b",
       "version_major": 2,
       "version_minor": 0
      },
      "text/plain": [
       "Validation: |                                                            | 0/? [00:00<?, ?it/s]"
      ]
     },
     "metadata": {},
     "output_type": "display_data"
    },
    {
     "data": {
      "application/vnd.jupyter.widget-view+json": {
       "model_id": "7dd42c875f0d463e889b4a7302198980",
       "version_major": 2,
       "version_minor": 0
      },
      "text/plain": [
       "Validation: |                                                            | 0/? [00:00<?, ?it/s]"
      ]
     },
     "metadata": {},
     "output_type": "display_data"
    },
    {
     "data": {
      "application/vnd.jupyter.widget-view+json": {
       "model_id": "c545ea7a624e4db39f2c13b2eb692e5d",
       "version_major": 2,
       "version_minor": 0
      },
      "text/plain": [
       "Validation: |                                                            | 0/? [00:00<?, ?it/s]"
      ]
     },
     "metadata": {},
     "output_type": "display_data"
    },
    {
     "data": {
      "application/vnd.jupyter.widget-view+json": {
       "model_id": "a085b7d645234a7db3f065a00fd50d41",
       "version_major": 2,
       "version_minor": 0
      },
      "text/plain": [
       "Validation: |                                                            | 0/? [00:00<?, ?it/s]"
      ]
     },
     "metadata": {},
     "output_type": "display_data"
    },
    {
     "data": {
      "application/vnd.jupyter.widget-view+json": {
       "model_id": "79f5a17737de4c4eb80956fd2c1afdd0",
       "version_major": 2,
       "version_minor": 0
      },
      "text/plain": [
       "Validation: |                                                            | 0/? [00:00<?, ?it/s]"
      ]
     },
     "metadata": {},
     "output_type": "display_data"
    },
    {
     "data": {
      "application/vnd.jupyter.widget-view+json": {
       "model_id": "df1214a5c1634799ab76b7a68804fe92",
       "version_major": 2,
       "version_minor": 0
      },
      "text/plain": [
       "Validation: |                                                            | 0/? [00:00<?, ?it/s]"
      ]
     },
     "metadata": {},
     "output_type": "display_data"
    },
    {
     "data": {
      "application/vnd.jupyter.widget-view+json": {
       "model_id": "e2dc04c8dca0457d8bcc8410e8ad5382",
       "version_major": 2,
       "version_minor": 0
      },
      "text/plain": [
       "Validation: |                                                            | 0/? [00:00<?, ?it/s]"
      ]
     },
     "metadata": {},
     "output_type": "display_data"
    },
    {
     "data": {
      "application/vnd.jupyter.widget-view+json": {
       "model_id": "7648893fb1d04cadbe2b37f0419dee5b",
       "version_major": 2,
       "version_minor": 0
      },
      "text/plain": [
       "Validation: |                                                            | 0/? [00:00<?, ?it/s]"
      ]
     },
     "metadata": {},
     "output_type": "display_data"
    },
    {
     "data": {
      "application/vnd.jupyter.widget-view+json": {
       "model_id": "bbfce8a501c94645a66537827c120d50",
       "version_major": 2,
       "version_minor": 0
      },
      "text/plain": [
       "Validation: |                                                            | 0/? [00:00<?, ?it/s]"
      ]
     },
     "metadata": {},
     "output_type": "display_data"
    },
    {
     "data": {
      "application/vnd.jupyter.widget-view+json": {
       "model_id": "0bed892a55a041ff9dffa197dec2e2e1",
       "version_major": 2,
       "version_minor": 0
      },
      "text/plain": [
       "Validation: |                                                            | 0/? [00:00<?, ?it/s]"
      ]
     },
     "metadata": {},
     "output_type": "display_data"
    },
    {
     "data": {
      "application/vnd.jupyter.widget-view+json": {
       "model_id": "1a395cba0d9e4765ab79617929ccd0e2",
       "version_major": 2,
       "version_minor": 0
      },
      "text/plain": [
       "Validation: |                                                            | 0/? [00:00<?, ?it/s]"
      ]
     },
     "metadata": {},
     "output_type": "display_data"
    },
    {
     "data": {
      "application/vnd.jupyter.widget-view+json": {
       "model_id": "292c221270a34a9caaffce042b3ca1cf",
       "version_major": 2,
       "version_minor": 0
      },
      "text/plain": [
       "Validation: |                                                            | 0/? [00:00<?, ?it/s]"
      ]
     },
     "metadata": {},
     "output_type": "display_data"
    },
    {
     "data": {
      "application/vnd.jupyter.widget-view+json": {
       "model_id": "8f6f22cb1a404bc08880721bbe7af0c2",
       "version_major": 2,
       "version_minor": 0
      },
      "text/plain": [
       "Validation: |                                                            | 0/? [00:00<?, ?it/s]"
      ]
     },
     "metadata": {},
     "output_type": "display_data"
    },
    {
     "data": {
      "application/vnd.jupyter.widget-view+json": {
       "model_id": "983f2de86f7f4341b395f0717a7f302c",
       "version_major": 2,
       "version_minor": 0
      },
      "text/plain": [
       "Validation: |                                                            | 0/? [00:00<?, ?it/s]"
      ]
     },
     "metadata": {},
     "output_type": "display_data"
    },
    {
     "data": {
      "application/vnd.jupyter.widget-view+json": {
       "model_id": "3f882b81959145eb9104b6f1155b71d2",
       "version_major": 2,
       "version_minor": 0
      },
      "text/plain": [
       "Validation: |                                                            | 0/? [00:00<?, ?it/s]"
      ]
     },
     "metadata": {},
     "output_type": "display_data"
    },
    {
     "data": {
      "application/vnd.jupyter.widget-view+json": {
       "model_id": "c461a0a66379432c892feb5a5f6592e8",
       "version_major": 2,
       "version_minor": 0
      },
      "text/plain": [
       "Validation: |                                                            | 0/? [00:00<?, ?it/s]"
      ]
     },
     "metadata": {},
     "output_type": "display_data"
    },
    {
     "data": {
      "application/vnd.jupyter.widget-view+json": {
       "model_id": "ffe70a51ef004b9ca7ef75da8d001f93",
       "version_major": 2,
       "version_minor": 0
      },
      "text/plain": [
       "Validation: |                                                            | 0/? [00:00<?, ?it/s]"
      ]
     },
     "metadata": {},
     "output_type": "display_data"
    },
    {
     "data": {
      "application/vnd.jupyter.widget-view+json": {
       "model_id": "1ab77c947304421fb6624638c98e97b0",
       "version_major": 2,
       "version_minor": 0
      },
      "text/plain": [
       "Validation: |                                                            | 0/? [00:00<?, ?it/s]"
      ]
     },
     "metadata": {},
     "output_type": "display_data"
    },
    {
     "data": {
      "application/vnd.jupyter.widget-view+json": {
       "model_id": "1db9749ddf60423690b7f5c84381191b",
       "version_major": 2,
       "version_minor": 0
      },
      "text/plain": [
       "Validation: |                                                            | 0/? [00:00<?, ?it/s]"
      ]
     },
     "metadata": {},
     "output_type": "display_data"
    },
    {
     "data": {
      "application/vnd.jupyter.widget-view+json": {
       "model_id": "c56bda3c2dd04bc0ada521fe606e42ec",
       "version_major": 2,
       "version_minor": 0
      },
      "text/plain": [
       "Validation: |                                                            | 0/? [00:00<?, ?it/s]"
      ]
     },
     "metadata": {},
     "output_type": "display_data"
    },
    {
     "data": {
      "application/vnd.jupyter.widget-view+json": {
       "model_id": "54ff0c351cb0415f8f569d4ad65c202c",
       "version_major": 2,
       "version_minor": 0
      },
      "text/plain": [
       "Validation: |                                                            | 0/? [00:00<?, ?it/s]"
      ]
     },
     "metadata": {},
     "output_type": "display_data"
    },
    {
     "data": {
      "application/vnd.jupyter.widget-view+json": {
       "model_id": "ff7d983209ff4f59bdec2b2e72b627de",
       "version_major": 2,
       "version_minor": 0
      },
      "text/plain": [
       "Validation: |                                                            | 0/? [00:00<?, ?it/s]"
      ]
     },
     "metadata": {},
     "output_type": "display_data"
    },
    {
     "data": {
      "application/vnd.jupyter.widget-view+json": {
       "model_id": "f1f50d95f90e404b94df48ee7784d960",
       "version_major": 2,
       "version_minor": 0
      },
      "text/plain": [
       "Validation: |                                                            | 0/? [00:00<?, ?it/s]"
      ]
     },
     "metadata": {},
     "output_type": "display_data"
    },
    {
     "data": {
      "application/vnd.jupyter.widget-view+json": {
       "model_id": "f503c997ca7f45b794e3800a4a25d5a2",
       "version_major": 2,
       "version_minor": 0
      },
      "text/plain": [
       "Validation: |                                                            | 0/? [00:00<?, ?it/s]"
      ]
     },
     "metadata": {},
     "output_type": "display_data"
    },
    {
     "data": {
      "application/vnd.jupyter.widget-view+json": {
       "model_id": "c7e9d8e0d98e4bd6bac34e18ebfe6088",
       "version_major": 2,
       "version_minor": 0
      },
      "text/plain": [
       "Validation: |                                                            | 0/? [00:00<?, ?it/s]"
      ]
     },
     "metadata": {},
     "output_type": "display_data"
    },
    {
     "data": {
      "application/vnd.jupyter.widget-view+json": {
       "model_id": "bd5174c70b3b48d58cc02f56b9cc3787",
       "version_major": 2,
       "version_minor": 0
      },
      "text/plain": [
       "Validation: |                                                            | 0/? [00:00<?, ?it/s]"
      ]
     },
     "metadata": {},
     "output_type": "display_data"
    },
    {
     "data": {
      "application/vnd.jupyter.widget-view+json": {
       "model_id": "192ffb264912488c96ba436eed30bd2f",
       "version_major": 2,
       "version_minor": 0
      },
      "text/plain": [
       "Validation: |                                                            | 0/? [00:00<?, ?it/s]"
      ]
     },
     "metadata": {},
     "output_type": "display_data"
    },
    {
     "data": {
      "application/vnd.jupyter.widget-view+json": {
       "model_id": "ab4e6b2291054463af5c18b4830cef4f",
       "version_major": 2,
       "version_minor": 0
      },
      "text/plain": [
       "Validation: |                                                            | 0/? [00:00<?, ?it/s]"
      ]
     },
     "metadata": {},
     "output_type": "display_data"
    },
    {
     "data": {
      "application/vnd.jupyter.widget-view+json": {
       "model_id": "6bc2dd479b89458da7e9103a3a0b6992",
       "version_major": 2,
       "version_minor": 0
      },
      "text/plain": [
       "Validation: |                                                            | 0/? [00:00<?, ?it/s]"
      ]
     },
     "metadata": {},
     "output_type": "display_data"
    },
    {
     "data": {
      "application/vnd.jupyter.widget-view+json": {
       "model_id": "304f9fcb07ff4b3c9a2ce6c2b579018f",
       "version_major": 2,
       "version_minor": 0
      },
      "text/plain": [
       "Validation: |                                                            | 0/? [00:00<?, ?it/s]"
      ]
     },
     "metadata": {},
     "output_type": "display_data"
    },
    {
     "data": {
      "application/vnd.jupyter.widget-view+json": {
       "model_id": "be32bc1d83bf4addb487524e50464291",
       "version_major": 2,
       "version_minor": 0
      },
      "text/plain": [
       "Validation: |                                                            | 0/? [00:00<?, ?it/s]"
      ]
     },
     "metadata": {},
     "output_type": "display_data"
    },
    {
     "data": {
      "application/vnd.jupyter.widget-view+json": {
       "model_id": "55f056f1004848aa8ba5ec4aab36b344",
       "version_major": 2,
       "version_minor": 0
      },
      "text/plain": [
       "Validation: |                                                            | 0/? [00:00<?, ?it/s]"
      ]
     },
     "metadata": {},
     "output_type": "display_data"
    },
    {
     "data": {
      "application/vnd.jupyter.widget-view+json": {
       "model_id": "8d266a45602a4cbf8a09ecc3eed3385d",
       "version_major": 2,
       "version_minor": 0
      },
      "text/plain": [
       "Validation: |                                                            | 0/? [00:00<?, ?it/s]"
      ]
     },
     "metadata": {},
     "output_type": "display_data"
    },
    {
     "data": {
      "application/vnd.jupyter.widget-view+json": {
       "model_id": "5d258ee3a31a40048d88d9c965f03c74",
       "version_major": 2,
       "version_minor": 0
      },
      "text/plain": [
       "Validation: |                                                            | 0/? [00:00<?, ?it/s]"
      ]
     },
     "metadata": {},
     "output_type": "display_data"
    },
    {
     "data": {
      "application/vnd.jupyter.widget-view+json": {
       "model_id": "6a5cf896c49c4ef0bda0686455fea5e5",
       "version_major": 2,
       "version_minor": 0
      },
      "text/plain": [
       "Validation: |                                                            | 0/? [00:00<?, ?it/s]"
      ]
     },
     "metadata": {},
     "output_type": "display_data"
    },
    {
     "data": {
      "application/vnd.jupyter.widget-view+json": {
       "model_id": "3372b3dfe76048fb8da6b675cb097a04",
       "version_major": 2,
       "version_minor": 0
      },
      "text/plain": [
       "Validation: |                                                            | 0/? [00:00<?, ?it/s]"
      ]
     },
     "metadata": {},
     "output_type": "display_data"
    },
    {
     "data": {
      "application/vnd.jupyter.widget-view+json": {
       "model_id": "9570359f6a8c4563838876d526fab6db",
       "version_major": 2,
       "version_minor": 0
      },
      "text/plain": [
       "Validation: |                                                            | 0/? [00:00<?, ?it/s]"
      ]
     },
     "metadata": {},
     "output_type": "display_data"
    },
    {
     "data": {
      "application/vnd.jupyter.widget-view+json": {
       "model_id": "0b038f7ef0b44bc7871425654a6196a0",
       "version_major": 2,
       "version_minor": 0
      },
      "text/plain": [
       "Validation: |                                                            | 0/? [00:00<?, ?it/s]"
      ]
     },
     "metadata": {},
     "output_type": "display_data"
    },
    {
     "data": {
      "application/vnd.jupyter.widget-view+json": {
       "model_id": "2aaf6f0775b145849537ec7896314330",
       "version_major": 2,
       "version_minor": 0
      },
      "text/plain": [
       "Validation: |                                                            | 0/? [00:00<?, ?it/s]"
      ]
     },
     "metadata": {},
     "output_type": "display_data"
    },
    {
     "data": {
      "application/vnd.jupyter.widget-view+json": {
       "model_id": "7eadc204b1094bd2bc18d20c80cfdb7c",
       "version_major": 2,
       "version_minor": 0
      },
      "text/plain": [
       "Validation: |                                                            | 0/? [00:00<?, ?it/s]"
      ]
     },
     "metadata": {},
     "output_type": "display_data"
    },
    {
     "data": {
      "application/vnd.jupyter.widget-view+json": {
       "model_id": "021e1fcda7b3486d828a34bd88887f90",
       "version_major": 2,
       "version_minor": 0
      },
      "text/plain": [
       "Validation: |                                                            | 0/? [00:00<?, ?it/s]"
      ]
     },
     "metadata": {},
     "output_type": "display_data"
    },
    {
     "data": {
      "application/vnd.jupyter.widget-view+json": {
       "model_id": "6747561deb6b4db7aa79f59dec3def26",
       "version_major": 2,
       "version_minor": 0
      },
      "text/plain": [
       "Validation: |                                                            | 0/? [00:00<?, ?it/s]"
      ]
     },
     "metadata": {},
     "output_type": "display_data"
    },
    {
     "data": {
      "application/vnd.jupyter.widget-view+json": {
       "model_id": "b1359de8c8d54449b0e0ca7668ec5adb",
       "version_major": 2,
       "version_minor": 0
      },
      "text/plain": [
       "Validation: |                                                            | 0/? [00:00<?, ?it/s]"
      ]
     },
     "metadata": {},
     "output_type": "display_data"
    },
    {
     "data": {
      "application/vnd.jupyter.widget-view+json": {
       "model_id": "ae4379efec8948d18bea22ff9b46964a",
       "version_major": 2,
       "version_minor": 0
      },
      "text/plain": [
       "Validation: |                                                            | 0/? [00:00<?, ?it/s]"
      ]
     },
     "metadata": {},
     "output_type": "display_data"
    },
    {
     "data": {
      "application/vnd.jupyter.widget-view+json": {
       "model_id": "effdaa077436444b95c01244733d3f7e",
       "version_major": 2,
       "version_minor": 0
      },
      "text/plain": [
       "Validation: |                                                            | 0/? [00:00<?, ?it/s]"
      ]
     },
     "metadata": {},
     "output_type": "display_data"
    },
    {
     "data": {
      "application/vnd.jupyter.widget-view+json": {
       "model_id": "4afb9a172381433ca81a7344441c39c9",
       "version_major": 2,
       "version_minor": 0
      },
      "text/plain": [
       "Validation: |                                                            | 0/? [00:00<?, ?it/s]"
      ]
     },
     "metadata": {},
     "output_type": "display_data"
    },
    {
     "data": {
      "application/vnd.jupyter.widget-view+json": {
       "model_id": "ae8c7cc64e7c4840bf7ffd68d2bec72d",
       "version_major": 2,
       "version_minor": 0
      },
      "text/plain": [
       "Validation: |                                                            | 0/? [00:00<?, ?it/s]"
      ]
     },
     "metadata": {},
     "output_type": "display_data"
    },
    {
     "data": {
      "application/vnd.jupyter.widget-view+json": {
       "model_id": "d44839f658c8448da29815d69ff5b0a2",
       "version_major": 2,
       "version_minor": 0
      },
      "text/plain": [
       "Validation: |                                                            | 0/? [00:00<?, ?it/s]"
      ]
     },
     "metadata": {},
     "output_type": "display_data"
    },
    {
     "data": {
      "application/vnd.jupyter.widget-view+json": {
       "model_id": "c3a1af2dae9b40b2a5fb80d27412a161",
       "version_major": 2,
       "version_minor": 0
      },
      "text/plain": [
       "Validation: |                                                            | 0/? [00:00<?, ?it/s]"
      ]
     },
     "metadata": {},
     "output_type": "display_data"
    },
    {
     "data": {
      "application/vnd.jupyter.widget-view+json": {
       "model_id": "7a3ec9946cbe4255bb12103b58839818",
       "version_major": 2,
       "version_minor": 0
      },
      "text/plain": [
       "Validation: |                                                            | 0/? [00:00<?, ?it/s]"
      ]
     },
     "metadata": {},
     "output_type": "display_data"
    },
    {
     "data": {
      "application/vnd.jupyter.widget-view+json": {
       "model_id": "14eaaa1f045d4412bbf9ff298e520823",
       "version_major": 2,
       "version_minor": 0
      },
      "text/plain": [
       "Validation: |                                                            | 0/? [00:00<?, ?it/s]"
      ]
     },
     "metadata": {},
     "output_type": "display_data"
    },
    {
     "data": {
      "application/vnd.jupyter.widget-view+json": {
       "model_id": "7433c90ef90443c3bdcb09c6745e8919",
       "version_major": 2,
       "version_minor": 0
      },
      "text/plain": [
       "Validation: |                                                            | 0/? [00:00<?, ?it/s]"
      ]
     },
     "metadata": {},
     "output_type": "display_data"
    },
    {
     "data": {
      "application/vnd.jupyter.widget-view+json": {
       "model_id": "8bf450bed0734fb28679df8038aeedc2",
       "version_major": 2,
       "version_minor": 0
      },
      "text/plain": [
       "Validation: |                                                            | 0/? [00:00<?, ?it/s]"
      ]
     },
     "metadata": {},
     "output_type": "display_data"
    },
    {
     "data": {
      "application/vnd.jupyter.widget-view+json": {
       "model_id": "c1c42bd693004be6b9ecbea53f3e1058",
       "version_major": 2,
       "version_minor": 0
      },
      "text/plain": [
       "Validation: |                                                            | 0/? [00:00<?, ?it/s]"
      ]
     },
     "metadata": {},
     "output_type": "display_data"
    },
    {
     "data": {
      "application/vnd.jupyter.widget-view+json": {
       "model_id": "03e29b6f9ff3454a85cb3664dc742634",
       "version_major": 2,
       "version_minor": 0
      },
      "text/plain": [
       "Validation: |                                                            | 0/? [00:00<?, ?it/s]"
      ]
     },
     "metadata": {},
     "output_type": "display_data"
    },
    {
     "data": {
      "application/vnd.jupyter.widget-view+json": {
       "model_id": "a67f41127b6b496ea40b8d797ea88756",
       "version_major": 2,
       "version_minor": 0
      },
      "text/plain": [
       "Validation: |                                                            | 0/? [00:00<?, ?it/s]"
      ]
     },
     "metadata": {},
     "output_type": "display_data"
    },
    {
     "data": {
      "application/vnd.jupyter.widget-view+json": {
       "model_id": "daa742c3164546a3a26d4d3e46ab6164",
       "version_major": 2,
       "version_minor": 0
      },
      "text/plain": [
       "Validation: |                                                            | 0/? [00:00<?, ?it/s]"
      ]
     },
     "metadata": {},
     "output_type": "display_data"
    },
    {
     "data": {
      "application/vnd.jupyter.widget-view+json": {
       "model_id": "ba71a3a3313540d8a9ab3c97a69753b8",
       "version_major": 2,
       "version_minor": 0
      },
      "text/plain": [
       "Validation: |                                                            | 0/? [00:00<?, ?it/s]"
      ]
     },
     "metadata": {},
     "output_type": "display_data"
    },
    {
     "data": {
      "application/vnd.jupyter.widget-view+json": {
       "model_id": "cf3b895ca2fa445ab0adab8796beaa7b",
       "version_major": 2,
       "version_minor": 0
      },
      "text/plain": [
       "Validation: |                                                            | 0/? [00:00<?, ?it/s]"
      ]
     },
     "metadata": {},
     "output_type": "display_data"
    },
    {
     "data": {
      "application/vnd.jupyter.widget-view+json": {
       "model_id": "1aac51cd506944929b06fd7fcfcd3103",
       "version_major": 2,
       "version_minor": 0
      },
      "text/plain": [
       "Validation: |                                                            | 0/? [00:00<?, ?it/s]"
      ]
     },
     "metadata": {},
     "output_type": "display_data"
    },
    {
     "data": {
      "application/vnd.jupyter.widget-view+json": {
       "model_id": "8ca4465ffbe04818b6c74b17aa387d21",
       "version_major": 2,
       "version_minor": 0
      },
      "text/plain": [
       "Validation: |                                                            | 0/? [00:00<?, ?it/s]"
      ]
     },
     "metadata": {},
     "output_type": "display_data"
    },
    {
     "data": {
      "application/vnd.jupyter.widget-view+json": {
       "model_id": "27822d95b0c04e6598959d2ccf605a08",
       "version_major": 2,
       "version_minor": 0
      },
      "text/plain": [
       "Validation: |                                                            | 0/? [00:00<?, ?it/s]"
      ]
     },
     "metadata": {},
     "output_type": "display_data"
    },
    {
     "data": {
      "application/vnd.jupyter.widget-view+json": {
       "model_id": "2ad1a0c534ec4c2a8c0410a9cc64fdb5",
       "version_major": 2,
       "version_minor": 0
      },
      "text/plain": [
       "Validation: |                                                            | 0/? [00:00<?, ?it/s]"
      ]
     },
     "metadata": {},
     "output_type": "display_data"
    },
    {
     "data": {
      "application/vnd.jupyter.widget-view+json": {
       "model_id": "31e8ac3f16ab4a7185f81e5ad1042e12",
       "version_major": 2,
       "version_minor": 0
      },
      "text/plain": [
       "Validation: |                                                            | 0/? [00:00<?, ?it/s]"
      ]
     },
     "metadata": {},
     "output_type": "display_data"
    },
    {
     "data": {
      "application/vnd.jupyter.widget-view+json": {
       "model_id": "bd1aaca1c3ed4cbaab57a0c3500e0e75",
       "version_major": 2,
       "version_minor": 0
      },
      "text/plain": [
       "Validation: |                                                            | 0/? [00:00<?, ?it/s]"
      ]
     },
     "metadata": {},
     "output_type": "display_data"
    },
    {
     "data": {
      "application/vnd.jupyter.widget-view+json": {
       "model_id": "e477e39a72464a93bc0c1dc0a8ca4166",
       "version_major": 2,
       "version_minor": 0
      },
      "text/plain": [
       "Validation: |                                                            | 0/? [00:00<?, ?it/s]"
      ]
     },
     "metadata": {},
     "output_type": "display_data"
    },
    {
     "data": {
      "application/vnd.jupyter.widget-view+json": {
       "model_id": "0a3ae5d5804e48c8b9ace98ac4b0a130",
       "version_major": 2,
       "version_minor": 0
      },
      "text/plain": [
       "Validation: |                                                            | 0/? [00:00<?, ?it/s]"
      ]
     },
     "metadata": {},
     "output_type": "display_data"
    },
    {
     "data": {
      "application/vnd.jupyter.widget-view+json": {
       "model_id": "197779a5032d419cabd2cec31db33c29",
       "version_major": 2,
       "version_minor": 0
      },
      "text/plain": [
       "Validation: |                                                            | 0/? [00:00<?, ?it/s]"
      ]
     },
     "metadata": {},
     "output_type": "display_data"
    },
    {
     "data": {
      "application/vnd.jupyter.widget-view+json": {
       "model_id": "0542df609cb7450dbc194acf5a6b60a1",
       "version_major": 2,
       "version_minor": 0
      },
      "text/plain": [
       "Validation: |                                                            | 0/? [00:00<?, ?it/s]"
      ]
     },
     "metadata": {},
     "output_type": "display_data"
    },
    {
     "data": {
      "application/vnd.jupyter.widget-view+json": {
       "model_id": "4db53bda35df4081943ea24fb5292f3b",
       "version_major": 2,
       "version_minor": 0
      },
      "text/plain": [
       "Validation: |                                                            | 0/? [00:00<?, ?it/s]"
      ]
     },
     "metadata": {},
     "output_type": "display_data"
    },
    {
     "name": "stderr",
     "output_type": "stream",
     "text": [
      "`Trainer.fit` stopped: `max_epochs=100` reached.\n"
     ]
    }
   ],
   "source": [
    "# best\n",
    "model_name = 'ProteinPeptideInteractionModelMask'\n",
    "obj_model = ProteinPeptideInteractionModelMask(embedding_dim=1152, hidden_dim=512, num_heads=4, dropout=0.3)\n",
    "\n",
    "\n",
    "model = LModelA(obj_model, \n",
    "                learning_rate=3e-4,\n",
    "                weight_decay=1e-4)\n",
    "\n",
    "logger = pl_loggers.TensorBoardLogger(name=f\"{model_name}\", save_dir=log_path)\n",
    "logger_csv = pl_loggers.CSVLogger(name=f\"{model_name}\", save_dir=log_csv_path)\n",
    "\n",
    "\n",
    "checkpoint_callback = ModelCheckpoint(\n",
    "    dirpath=os.path.join(checkpoints_path, f\"{model_name}\", f\"version_{logger_csv.version}\", \"checkpoints\"),\n",
    "    filename=\"model-epoch={epoch:02d}\",\n",
    "    save_top_k=-1,\n",
    "    every_n_epochs=1,\n",
    "    save_on_train_epoch_end=True,\n",
    ")\n",
    "\n",
    "best_iou_callback = ModelCheckpoint(\n",
    "    dirpath=os.path.join(checkpoints_path, f\"{model_name}\", f\"version_{logger_csv.version}\", \"checkpoints\"),\n",
    "    filename=\"best_model_epoch={epoch:02d}-auroc={validation_auroc:.4f}\",\n",
    "    monitor=\"validation_auroc\",\n",
    "    mode=\"max\",\n",
    "    save_top_k=1,\n",
    "    save_on_train_epoch_end=True,\n",
    ")\n",
    "\n",
    "early_stop = EarlyStopping(monitor=\"validation_auroc\", patience=10, mode=\"max\")\n",
    "\n",
    "trainer = L.Trainer(\n",
    "    max_epochs=EPOCHS,\n",
    "    devices=[0],\n",
    "    default_root_dir=f'{checkpoints_path}/{model_name}',\n",
    "    logger=[logger, logger_csv],\n",
    "    accelerator=\"gpu\",\n",
    "    precision=\"32\",\n",
    "    callbacks=[best_iou_callback, early_stop, TQDMProgressBar(refresh_rate=1)],\n",
    "    log_every_n_steps=1\n",
    ")\n",
    "\n",
    "\n",
    "trainer.fit(model, train_dataloaders=train_dataloader, val_dataloaders=val_dataloader)\n",
    "#trainer.test(model, dataloaders=test_dataloader)"
   ]
  },
  {
   "cell_type": "code",
   "execution_count": 215,
   "id": "f6b223b5",
   "metadata": {},
   "outputs": [
    {
     "name": "stderr",
     "output_type": "stream",
     "text": [
      "LOCAL_RANK: 0 - CUDA_VISIBLE_DEVICES: [0,1,2,3]\n"
     ]
    },
    {
     "data": {
      "application/vnd.jupyter.widget-view+json": {
       "model_id": "c573951bf23e458290677656d2449f18",
       "version_major": 2,
       "version_minor": 0
      },
      "text/plain": [
       "Testing: |                                                               | 0/? [00:00<?, ?it/s]"
      ]
     },
     "metadata": {},
     "output_type": "display_data"
    },
    {
     "name": "stdout",
     "output_type": "stream",
     "text": [
      "────────────────────────────────────────────────────────────────────────────────────────────────────────────────────────\n",
      "       Test metric             DataLoader 0\n",
      "────────────────────────────────────────────────────────────────────────────────────────────────────────────────────────\n",
      "      test_accuracy         0.6502590775489807\n",
      "       test_auroc           0.7415729761123657\n",
      "        test_loss          0.016708191484212875\n",
      "        test_pcc            0.5298307538032532\n",
      "         test_r2            0.27862781286239624\n",
      "────────────────────────────────────────────────────────────────────────────────────────────────────────────────────────\n"
     ]
    },
    {
     "data": {
      "text/plain": [
       "[{'test_loss': 0.016708191484212875,\n",
       "  'test_pcc': 0.5298307538032532,\n",
       "  'test_r2': 0.27862781286239624,\n",
       "  'test_accuracy': 0.6502590775489807,\n",
       "  'test_auroc': 0.7415729761123657}]"
      ]
     },
     "execution_count": 215,
     "metadata": {},
     "output_type": "execute_result"
    }
   ],
   "source": [
    "best_model_path = best_iou_callback.best_model_path\n",
    "model = LModelA.load_from_checkpoint(best_model_path, model=obj_model)\n",
    "trainer.test(model, dataloaders=test_dataloader)"
   ]
  },
  {
   "cell_type": "code",
   "execution_count": 184,
   "id": "b6fc04ae",
   "metadata": {},
   "outputs": [
    {
     "name": "stderr",
     "output_type": "stream",
     "text": [
      "GPU available: True (cuda), used: True\n",
      "TPU available: False, using: 0 TPU cores\n",
      "HPU available: False, using: 0 HPUs\n",
      "LOCAL_RANK: 0 - CUDA_VISIBLE_DEVICES: [0,1,2,3]\n",
      "\n",
      "  | Name                              | Type                                                    | Params | Mode \n",
      "----------------------------------------------------------------------------------------------------------------------\n",
      "0 | model                             | ProteinPeptideInteractionModelWithSmartGateAndWeighting | 3.3 M  | train\n",
      "1 | train_metrics_regression          | MetricCollection                                        | 0      | train\n",
      "2 | validation_metrics_regression     | MetricCollection                                        | 0      | train\n",
      "3 | test_metrics_regression           | MetricCollection                                        | 0      | train\n",
      "4 | train_metrics_classification      | MetricCollection                                        | 0      | train\n",
      "5 | validation_metrics_classification | MetricCollection                                        | 0      | train\n",
      "6 | test_metrics_classification       | MetricCollection                                        | 0      | train\n",
      "7 | loss_fn                           | HuberLoss                                               | 0      | train\n",
      "----------------------------------------------------------------------------------------------------------------------\n",
      "3.3 M     Trainable params\n",
      "0         Non-trainable params\n",
      "3.3 M     Total params\n",
      "13.196    Total estimated model params size (MB)\n",
      "39        Modules in train mode\n",
      "0         Modules in eval mode\n"
     ]
    },
    {
     "data": {
      "application/vnd.jupyter.widget-view+json": {
       "model_id": "dadd2f622de0430c815d491ec1bf497f",
       "version_major": 2,
       "version_minor": 0
      },
      "text/plain": [
       "Sanity Checking: |                                                       | 0/? [00:00<?, ?it/s]"
      ]
     },
     "metadata": {},
     "output_type": "display_data"
    },
    {
     "data": {
      "application/vnd.jupyter.widget-view+json": {
       "model_id": "cddcd361bfaf44819e5a5644102b1098",
       "version_major": 2,
       "version_minor": 0
      },
      "text/plain": [
       "Training: |                                                              | 0/? [00:00<?, ?it/s]"
      ]
     },
     "metadata": {},
     "output_type": "display_data"
    },
    {
     "data": {
      "application/vnd.jupyter.widget-view+json": {
       "model_id": "eb022d55936a4c548a393ed13057d018",
       "version_major": 2,
       "version_minor": 0
      },
      "text/plain": [
       "Validation: |                                                            | 0/? [00:00<?, ?it/s]"
      ]
     },
     "metadata": {},
     "output_type": "display_data"
    },
    {
     "data": {
      "application/vnd.jupyter.widget-view+json": {
       "model_id": "c552df03854a412794df65aafbbe0469",
       "version_major": 2,
       "version_minor": 0
      },
      "text/plain": [
       "Validation: |                                                            | 0/? [00:00<?, ?it/s]"
      ]
     },
     "metadata": {},
     "output_type": "display_data"
    },
    {
     "data": {
      "application/vnd.jupyter.widget-view+json": {
       "model_id": "f3695ba3b64d40a3aeed967bfd38cb7c",
       "version_major": 2,
       "version_minor": 0
      },
      "text/plain": [
       "Validation: |                                                            | 0/? [00:00<?, ?it/s]"
      ]
     },
     "metadata": {},
     "output_type": "display_data"
    },
    {
     "data": {
      "application/vnd.jupyter.widget-view+json": {
       "model_id": "021b797f3f7d49858cca6e84821c00f3",
       "version_major": 2,
       "version_minor": 0
      },
      "text/plain": [
       "Validation: |                                                            | 0/? [00:00<?, ?it/s]"
      ]
     },
     "metadata": {},
     "output_type": "display_data"
    },
    {
     "data": {
      "application/vnd.jupyter.widget-view+json": {
       "model_id": "dadfc2dd0f48427d94ef8fa360ea55cc",
       "version_major": 2,
       "version_minor": 0
      },
      "text/plain": [
       "Validation: |                                                            | 0/? [00:00<?, ?it/s]"
      ]
     },
     "metadata": {},
     "output_type": "display_data"
    },
    {
     "data": {
      "application/vnd.jupyter.widget-view+json": {
       "model_id": "735c1bc66aa24fcda460c98d8686ad7d",
       "version_major": 2,
       "version_minor": 0
      },
      "text/plain": [
       "Validation: |                                                            | 0/? [00:00<?, ?it/s]"
      ]
     },
     "metadata": {},
     "output_type": "display_data"
    },
    {
     "data": {
      "application/vnd.jupyter.widget-view+json": {
       "model_id": "4a79cf8b8468436abacda48f133419af",
       "version_major": 2,
       "version_minor": 0
      },
      "text/plain": [
       "Validation: |                                                            | 0/? [00:00<?, ?it/s]"
      ]
     },
     "metadata": {},
     "output_type": "display_data"
    },
    {
     "data": {
      "application/vnd.jupyter.widget-view+json": {
       "model_id": "19b4e41f52c641708d7aeeca6aa15e98",
       "version_major": 2,
       "version_minor": 0
      },
      "text/plain": [
       "Validation: |                                                            | 0/? [00:00<?, ?it/s]"
      ]
     },
     "metadata": {},
     "output_type": "display_data"
    },
    {
     "data": {
      "application/vnd.jupyter.widget-view+json": {
       "model_id": "c7225ef63d5f4a62943c98b47fac925e",
       "version_major": 2,
       "version_minor": 0
      },
      "text/plain": [
       "Validation: |                                                            | 0/? [00:00<?, ?it/s]"
      ]
     },
     "metadata": {},
     "output_type": "display_data"
    },
    {
     "data": {
      "application/vnd.jupyter.widget-view+json": {
       "model_id": "f960542509e644918e8aecb446955bea",
       "version_major": 2,
       "version_minor": 0
      },
      "text/plain": [
       "Validation: |                                                            | 0/? [00:00<?, ?it/s]"
      ]
     },
     "metadata": {},
     "output_type": "display_data"
    },
    {
     "data": {
      "application/vnd.jupyter.widget-view+json": {
       "model_id": "b587431acced4aee87ed4c91baab4631",
       "version_major": 2,
       "version_minor": 0
      },
      "text/plain": [
       "Validation: |                                                            | 0/? [00:00<?, ?it/s]"
      ]
     },
     "metadata": {},
     "output_type": "display_data"
    },
    {
     "data": {
      "application/vnd.jupyter.widget-view+json": {
       "model_id": "2b434eb43f4a43d0a523757c4cc14a5c",
       "version_major": 2,
       "version_minor": 0
      },
      "text/plain": [
       "Validation: |                                                            | 0/? [00:00<?, ?it/s]"
      ]
     },
     "metadata": {},
     "output_type": "display_data"
    },
    {
     "data": {
      "application/vnd.jupyter.widget-view+json": {
       "model_id": "8a7723ec03ca42578cc6d7440cfa4192",
       "version_major": 2,
       "version_minor": 0
      },
      "text/plain": [
       "Validation: |                                                            | 0/? [00:00<?, ?it/s]"
      ]
     },
     "metadata": {},
     "output_type": "display_data"
    },
    {
     "data": {
      "application/vnd.jupyter.widget-view+json": {
       "model_id": "c4be790f95ed4a238b9f20eb34beec32",
       "version_major": 2,
       "version_minor": 0
      },
      "text/plain": [
       "Validation: |                                                            | 0/? [00:00<?, ?it/s]"
      ]
     },
     "metadata": {},
     "output_type": "display_data"
    },
    {
     "data": {
      "application/vnd.jupyter.widget-view+json": {
       "model_id": "b2b980c5cdc146008e0b5bd2f4669374",
       "version_major": 2,
       "version_minor": 0
      },
      "text/plain": [
       "Validation: |                                                            | 0/? [00:00<?, ?it/s]"
      ]
     },
     "metadata": {},
     "output_type": "display_data"
    },
    {
     "data": {
      "application/vnd.jupyter.widget-view+json": {
       "model_id": "0f623724d1d74abaa35edae77500f1f2",
       "version_major": 2,
       "version_minor": 0
      },
      "text/plain": [
       "Validation: |                                                            | 0/? [00:00<?, ?it/s]"
      ]
     },
     "metadata": {},
     "output_type": "display_data"
    },
    {
     "data": {
      "application/vnd.jupyter.widget-view+json": {
       "model_id": "a2648e9bafe84c84b8711da17c141924",
       "version_major": 2,
       "version_minor": 0
      },
      "text/plain": [
       "Validation: |                                                            | 0/? [00:00<?, ?it/s]"
      ]
     },
     "metadata": {},
     "output_type": "display_data"
    },
    {
     "data": {
      "application/vnd.jupyter.widget-view+json": {
       "model_id": "1956f0f80e2f45fe93abbccbc9caa53c",
       "version_major": 2,
       "version_minor": 0
      },
      "text/plain": [
       "Validation: |                                                            | 0/? [00:00<?, ?it/s]"
      ]
     },
     "metadata": {},
     "output_type": "display_data"
    },
    {
     "data": {
      "application/vnd.jupyter.widget-view+json": {
       "model_id": "2a42f087513f46369a77e79652fc2e07",
       "version_major": 2,
       "version_minor": 0
      },
      "text/plain": [
       "Validation: |                                                            | 0/? [00:00<?, ?it/s]"
      ]
     },
     "metadata": {},
     "output_type": "display_data"
    },
    {
     "data": {
      "application/vnd.jupyter.widget-view+json": {
       "model_id": "13bce1feb63d4a83bffa675a51d27230",
       "version_major": 2,
       "version_minor": 0
      },
      "text/plain": [
       "Validation: |                                                            | 0/? [00:00<?, ?it/s]"
      ]
     },
     "metadata": {},
     "output_type": "display_data"
    },
    {
     "data": {
      "application/vnd.jupyter.widget-view+json": {
       "model_id": "a6b1effad1e947e894409b769e3bd4c8",
       "version_major": 2,
       "version_minor": 0
      },
      "text/plain": [
       "Validation: |                                                            | 0/? [00:00<?, ?it/s]"
      ]
     },
     "metadata": {},
     "output_type": "display_data"
    },
    {
     "data": {
      "application/vnd.jupyter.widget-view+json": {
       "model_id": "f6907d4c85114e95bcb06ce0b223d02b",
       "version_major": 2,
       "version_minor": 0
      },
      "text/plain": [
       "Validation: |                                                            | 0/? [00:00<?, ?it/s]"
      ]
     },
     "metadata": {},
     "output_type": "display_data"
    },
    {
     "data": {
      "application/vnd.jupyter.widget-view+json": {
       "model_id": "608e221a24c9494eadcaf7fd07668a33",
       "version_major": 2,
       "version_minor": 0
      },
      "text/plain": [
       "Validation: |                                                            | 0/? [00:00<?, ?it/s]"
      ]
     },
     "metadata": {},
     "output_type": "display_data"
    },
    {
     "data": {
      "application/vnd.jupyter.widget-view+json": {
       "model_id": "19e5877a319043d09717b1b1aa18da63",
       "version_major": 2,
       "version_minor": 0
      },
      "text/plain": [
       "Validation: |                                                            | 0/? [00:00<?, ?it/s]"
      ]
     },
     "metadata": {},
     "output_type": "display_data"
    },
    {
     "data": {
      "application/vnd.jupyter.widget-view+json": {
       "model_id": "acedab67d9ea43a2914061e8d24c23bf",
       "version_major": 2,
       "version_minor": 0
      },
      "text/plain": [
       "Validation: |                                                            | 0/? [00:00<?, ?it/s]"
      ]
     },
     "metadata": {},
     "output_type": "display_data"
    },
    {
     "data": {
      "application/vnd.jupyter.widget-view+json": {
       "model_id": "7c03e9c0847e47179ab46a6f48f398eb",
       "version_major": 2,
       "version_minor": 0
      },
      "text/plain": [
       "Validation: |                                                            | 0/? [00:00<?, ?it/s]"
      ]
     },
     "metadata": {},
     "output_type": "display_data"
    },
    {
     "data": {
      "application/vnd.jupyter.widget-view+json": {
       "model_id": "827bd300ad2f416a900aa5b5c3f8db8f",
       "version_major": 2,
       "version_minor": 0
      },
      "text/plain": [
       "Validation: |                                                            | 0/? [00:00<?, ?it/s]"
      ]
     },
     "metadata": {},
     "output_type": "display_data"
    },
    {
     "data": {
      "application/vnd.jupyter.widget-view+json": {
       "model_id": "99740ef4e0b14fa5888db072f9403839",
       "version_major": 2,
       "version_minor": 0
      },
      "text/plain": [
       "Validation: |                                                            | 0/? [00:00<?, ?it/s]"
      ]
     },
     "metadata": {},
     "output_type": "display_data"
    },
    {
     "data": {
      "application/vnd.jupyter.widget-view+json": {
       "model_id": "28b4169e23f0471b86a0a86793f4a765",
       "version_major": 2,
       "version_minor": 0
      },
      "text/plain": [
       "Validation: |                                                            | 0/? [00:00<?, ?it/s]"
      ]
     },
     "metadata": {},
     "output_type": "display_data"
    },
    {
     "data": {
      "application/vnd.jupyter.widget-view+json": {
       "model_id": "2a8b848a2e2e440e95221fad481935a8",
       "version_major": 2,
       "version_minor": 0
      },
      "text/plain": [
       "Validation: |                                                            | 0/? [00:00<?, ?it/s]"
      ]
     },
     "metadata": {},
     "output_type": "display_data"
    },
    {
     "data": {
      "application/vnd.jupyter.widget-view+json": {
       "model_id": "4faa13eb76a04003800df5c29e94535c",
       "version_major": 2,
       "version_minor": 0
      },
      "text/plain": [
       "Validation: |                                                            | 0/? [00:00<?, ?it/s]"
      ]
     },
     "metadata": {},
     "output_type": "display_data"
    },
    {
     "data": {
      "application/vnd.jupyter.widget-view+json": {
       "model_id": "e014d9c6ad0c4b04900afdff0f7a9f8e",
       "version_major": 2,
       "version_minor": 0
      },
      "text/plain": [
       "Validation: |                                                            | 0/? [00:00<?, ?it/s]"
      ]
     },
     "metadata": {},
     "output_type": "display_data"
    },
    {
     "data": {
      "application/vnd.jupyter.widget-view+json": {
       "model_id": "6c5ccac73ac44f2b9e22bfda7349ce8d",
       "version_major": 2,
       "version_minor": 0
      },
      "text/plain": [
       "Validation: |                                                            | 0/? [00:00<?, ?it/s]"
      ]
     },
     "metadata": {},
     "output_type": "display_data"
    },
    {
     "data": {
      "application/vnd.jupyter.widget-view+json": {
       "model_id": "df159a64f8ab453eb99c1e760b306c27",
       "version_major": 2,
       "version_minor": 0
      },
      "text/plain": [
       "Validation: |                                                            | 0/? [00:00<?, ?it/s]"
      ]
     },
     "metadata": {},
     "output_type": "display_data"
    },
    {
     "data": {
      "application/vnd.jupyter.widget-view+json": {
       "model_id": "d182479247724302b19d005e0cffa1cf",
       "version_major": 2,
       "version_minor": 0
      },
      "text/plain": [
       "Validation: |                                                            | 0/? [00:00<?, ?it/s]"
      ]
     },
     "metadata": {},
     "output_type": "display_data"
    },
    {
     "data": {
      "application/vnd.jupyter.widget-view+json": {
       "model_id": "a08c6dc9a8504c258d9fc64763c51c7f",
       "version_major": 2,
       "version_minor": 0
      },
      "text/plain": [
       "Validation: |                                                            | 0/? [00:00<?, ?it/s]"
      ]
     },
     "metadata": {},
     "output_type": "display_data"
    },
    {
     "data": {
      "application/vnd.jupyter.widget-view+json": {
       "model_id": "b14b320b3756480cb6a2ed409d7f1533",
       "version_major": 2,
       "version_minor": 0
      },
      "text/plain": [
       "Validation: |                                                            | 0/? [00:00<?, ?it/s]"
      ]
     },
     "metadata": {},
     "output_type": "display_data"
    },
    {
     "data": {
      "application/vnd.jupyter.widget-view+json": {
       "model_id": "320536362bca42e8b9ff894d301b0f05",
       "version_major": 2,
       "version_minor": 0
      },
      "text/plain": [
       "Validation: |                                                            | 0/? [00:00<?, ?it/s]"
      ]
     },
     "metadata": {},
     "output_type": "display_data"
    },
    {
     "data": {
      "application/vnd.jupyter.widget-view+json": {
       "model_id": "f0129a8a121f42a49387936f2a6545a3",
       "version_major": 2,
       "version_minor": 0
      },
      "text/plain": [
       "Validation: |                                                            | 0/? [00:00<?, ?it/s]"
      ]
     },
     "metadata": {},
     "output_type": "display_data"
    },
    {
     "data": {
      "application/vnd.jupyter.widget-view+json": {
       "model_id": "920388c196d24cbea3c43946e0b7adb3",
       "version_major": 2,
       "version_minor": 0
      },
      "text/plain": [
       "Validation: |                                                            | 0/? [00:00<?, ?it/s]"
      ]
     },
     "metadata": {},
     "output_type": "display_data"
    },
    {
     "data": {
      "application/vnd.jupyter.widget-view+json": {
       "model_id": "e35f0fe4e62945f6afbce9f4b6659c0b",
       "version_major": 2,
       "version_minor": 0
      },
      "text/plain": [
       "Validation: |                                                            | 0/? [00:00<?, ?it/s]"
      ]
     },
     "metadata": {},
     "output_type": "display_data"
    },
    {
     "data": {
      "application/vnd.jupyter.widget-view+json": {
       "model_id": "b785f1a84688480fbff7a441fc1a6abd",
       "version_major": 2,
       "version_minor": 0
      },
      "text/plain": [
       "Validation: |                                                            | 0/? [00:00<?, ?it/s]"
      ]
     },
     "metadata": {},
     "output_type": "display_data"
    },
    {
     "data": {
      "application/vnd.jupyter.widget-view+json": {
       "model_id": "d8aaf60522514186865b580a37ef7c48",
       "version_major": 2,
       "version_minor": 0
      },
      "text/plain": [
       "Validation: |                                                            | 0/? [00:00<?, ?it/s]"
      ]
     },
     "metadata": {},
     "output_type": "display_data"
    },
    {
     "data": {
      "application/vnd.jupyter.widget-view+json": {
       "model_id": "122a76cf2c9342158b0ee5d944d02c16",
       "version_major": 2,
       "version_minor": 0
      },
      "text/plain": [
       "Validation: |                                                            | 0/? [00:00<?, ?it/s]"
      ]
     },
     "metadata": {},
     "output_type": "display_data"
    },
    {
     "data": {
      "application/vnd.jupyter.widget-view+json": {
       "model_id": "f22bba76be0f4f15a073fdb486660589",
       "version_major": 2,
       "version_minor": 0
      },
      "text/plain": [
       "Validation: |                                                            | 0/? [00:00<?, ?it/s]"
      ]
     },
     "metadata": {},
     "output_type": "display_data"
    },
    {
     "data": {
      "application/vnd.jupyter.widget-view+json": {
       "model_id": "4e5bdac8de9e40d09d23722d257c7da8",
       "version_major": 2,
       "version_minor": 0
      },
      "text/plain": [
       "Validation: |                                                            | 0/? [00:00<?, ?it/s]"
      ]
     },
     "metadata": {},
     "output_type": "display_data"
    },
    {
     "data": {
      "application/vnd.jupyter.widget-view+json": {
       "model_id": "9122deed47784dc2a662549283bb05d9",
       "version_major": 2,
       "version_minor": 0
      },
      "text/plain": [
       "Validation: |                                                            | 0/? [00:00<?, ?it/s]"
      ]
     },
     "metadata": {},
     "output_type": "display_data"
    },
    {
     "data": {
      "application/vnd.jupyter.widget-view+json": {
       "model_id": "687b3b6e380d4d80aa20d3ee696e1eca",
       "version_major": 2,
       "version_minor": 0
      },
      "text/plain": [
       "Validation: |                                                            | 0/? [00:00<?, ?it/s]"
      ]
     },
     "metadata": {},
     "output_type": "display_data"
    },
    {
     "data": {
      "application/vnd.jupyter.widget-view+json": {
       "model_id": "e08ceb75c4f9481381f115dc462ec639",
       "version_major": 2,
       "version_minor": 0
      },
      "text/plain": [
       "Validation: |                                                            | 0/? [00:00<?, ?it/s]"
      ]
     },
     "metadata": {},
     "output_type": "display_data"
    },
    {
     "data": {
      "application/vnd.jupyter.widget-view+json": {
       "model_id": "3fb21a9b32f44bb3a1d6f898f53bf312",
       "version_major": 2,
       "version_minor": 0
      },
      "text/plain": [
       "Validation: |                                                            | 0/? [00:00<?, ?it/s]"
      ]
     },
     "metadata": {},
     "output_type": "display_data"
    },
    {
     "data": {
      "application/vnd.jupyter.widget-view+json": {
       "model_id": "9b0a7d8f2b1a4dfe993c657ce4918988",
       "version_major": 2,
       "version_minor": 0
      },
      "text/plain": [
       "Validation: |                                                            | 0/? [00:00<?, ?it/s]"
      ]
     },
     "metadata": {},
     "output_type": "display_data"
    },
    {
     "data": {
      "application/vnd.jupyter.widget-view+json": {
       "model_id": "868a1a2c478e4ee0ae1d085f75895b22",
       "version_major": 2,
       "version_minor": 0
      },
      "text/plain": [
       "Validation: |                                                            | 0/? [00:00<?, ?it/s]"
      ]
     },
     "metadata": {},
     "output_type": "display_data"
    },
    {
     "data": {
      "application/vnd.jupyter.widget-view+json": {
       "model_id": "69b48abba2a647f2a5edd696d4ad4dcf",
       "version_major": 2,
       "version_minor": 0
      },
      "text/plain": [
       "Validation: |                                                            | 0/? [00:00<?, ?it/s]"
      ]
     },
     "metadata": {},
     "output_type": "display_data"
    },
    {
     "data": {
      "application/vnd.jupyter.widget-view+json": {
       "model_id": "d6102f7406694add932650cf0007546a",
       "version_major": 2,
       "version_minor": 0
      },
      "text/plain": [
       "Validation: |                                                            | 0/? [00:00<?, ?it/s]"
      ]
     },
     "metadata": {},
     "output_type": "display_data"
    },
    {
     "data": {
      "application/vnd.jupyter.widget-view+json": {
       "model_id": "d5e14a76ed6148898200fd4feb0c99ad",
       "version_major": 2,
       "version_minor": 0
      },
      "text/plain": [
       "Validation: |                                                            | 0/? [00:00<?, ?it/s]"
      ]
     },
     "metadata": {},
     "output_type": "display_data"
    },
    {
     "data": {
      "application/vnd.jupyter.widget-view+json": {
       "model_id": "b97bf0ecf6494e9daa38fbf81d6b8424",
       "version_major": 2,
       "version_minor": 0
      },
      "text/plain": [
       "Validation: |                                                            | 0/? [00:00<?, ?it/s]"
      ]
     },
     "metadata": {},
     "output_type": "display_data"
    },
    {
     "data": {
      "application/vnd.jupyter.widget-view+json": {
       "model_id": "450573351c3f4747b9c4da13d5aa7f04",
       "version_major": 2,
       "version_minor": 0
      },
      "text/plain": [
       "Validation: |                                                            | 0/? [00:00<?, ?it/s]"
      ]
     },
     "metadata": {},
     "output_type": "display_data"
    },
    {
     "data": {
      "application/vnd.jupyter.widget-view+json": {
       "model_id": "338d0855f5024dc6b6ce318e1c12e478",
       "version_major": 2,
       "version_minor": 0
      },
      "text/plain": [
       "Validation: |                                                            | 0/? [00:00<?, ?it/s]"
      ]
     },
     "metadata": {},
     "output_type": "display_data"
    },
    {
     "data": {
      "application/vnd.jupyter.widget-view+json": {
       "model_id": "0cc1dc3ac570473eab77b9312e110677",
       "version_major": 2,
       "version_minor": 0
      },
      "text/plain": [
       "Validation: |                                                            | 0/? [00:00<?, ?it/s]"
      ]
     },
     "metadata": {},
     "output_type": "display_data"
    },
    {
     "data": {
      "application/vnd.jupyter.widget-view+json": {
       "model_id": "f170bab43539466cb99e565ec2a76830",
       "version_major": 2,
       "version_minor": 0
      },
      "text/plain": [
       "Validation: |                                                            | 0/? [00:00<?, ?it/s]"
      ]
     },
     "metadata": {},
     "output_type": "display_data"
    },
    {
     "data": {
      "application/vnd.jupyter.widget-view+json": {
       "model_id": "10d1162191b14b6da44c716adbd89842",
       "version_major": 2,
       "version_minor": 0
      },
      "text/plain": [
       "Validation: |                                                            | 0/? [00:00<?, ?it/s]"
      ]
     },
     "metadata": {},
     "output_type": "display_data"
    },
    {
     "data": {
      "application/vnd.jupyter.widget-view+json": {
       "model_id": "d15360eb27454a069c781b8b38853241",
       "version_major": 2,
       "version_minor": 0
      },
      "text/plain": [
       "Validation: |                                                            | 0/? [00:00<?, ?it/s]"
      ]
     },
     "metadata": {},
     "output_type": "display_data"
    },
    {
     "data": {
      "application/vnd.jupyter.widget-view+json": {
       "model_id": "c9e64646984749ce83c9a6794805a15f",
       "version_major": 2,
       "version_minor": 0
      },
      "text/plain": [
       "Validation: |                                                            | 0/? [00:00<?, ?it/s]"
      ]
     },
     "metadata": {},
     "output_type": "display_data"
    },
    {
     "data": {
      "application/vnd.jupyter.widget-view+json": {
       "model_id": "1edf83f0771d4ede926f64f234b57ac9",
       "version_major": 2,
       "version_minor": 0
      },
      "text/plain": [
       "Validation: |                                                            | 0/? [00:00<?, ?it/s]"
      ]
     },
     "metadata": {},
     "output_type": "display_data"
    },
    {
     "data": {
      "application/vnd.jupyter.widget-view+json": {
       "model_id": "a46477865b04438ea04f9bc98b25054b",
       "version_major": 2,
       "version_minor": 0
      },
      "text/plain": [
       "Validation: |                                                            | 0/? [00:00<?, ?it/s]"
      ]
     },
     "metadata": {},
     "output_type": "display_data"
    },
    {
     "data": {
      "application/vnd.jupyter.widget-view+json": {
       "model_id": "fdef6a5cce5a42c68ab31e168b384495",
       "version_major": 2,
       "version_minor": 0
      },
      "text/plain": [
       "Validation: |                                                            | 0/? [00:00<?, ?it/s]"
      ]
     },
     "metadata": {},
     "output_type": "display_data"
    },
    {
     "data": {
      "application/vnd.jupyter.widget-view+json": {
       "model_id": "d5c9e181b631476e8eee6fb0f970857c",
       "version_major": 2,
       "version_minor": 0
      },
      "text/plain": [
       "Validation: |                                                            | 0/? [00:00<?, ?it/s]"
      ]
     },
     "metadata": {},
     "output_type": "display_data"
    },
    {
     "data": {
      "application/vnd.jupyter.widget-view+json": {
       "model_id": "499fc2c0e12742968e9e900b2b76a5f8",
       "version_major": 2,
       "version_minor": 0
      },
      "text/plain": [
       "Validation: |                                                            | 0/? [00:00<?, ?it/s]"
      ]
     },
     "metadata": {},
     "output_type": "display_data"
    },
    {
     "data": {
      "application/vnd.jupyter.widget-view+json": {
       "model_id": "e8de41fe9b2f4ccca3ee54343d5d5167",
       "version_major": 2,
       "version_minor": 0
      },
      "text/plain": [
       "Validation: |                                                            | 0/? [00:00<?, ?it/s]"
      ]
     },
     "metadata": {},
     "output_type": "display_data"
    },
    {
     "data": {
      "application/vnd.jupyter.widget-view+json": {
       "model_id": "fb5eca9421ad4e4b86ea20aebcbcfaad",
       "version_major": 2,
       "version_minor": 0
      },
      "text/plain": [
       "Validation: |                                                            | 0/? [00:00<?, ?it/s]"
      ]
     },
     "metadata": {},
     "output_type": "display_data"
    },
    {
     "data": {
      "application/vnd.jupyter.widget-view+json": {
       "model_id": "4425ce3171104f4192c52a9c3225b53c",
       "version_major": 2,
       "version_minor": 0
      },
      "text/plain": [
       "Validation: |                                                            | 0/? [00:00<?, ?it/s]"
      ]
     },
     "metadata": {},
     "output_type": "display_data"
    },
    {
     "data": {
      "application/vnd.jupyter.widget-view+json": {
       "model_id": "37e3b66f1b304e91a2d88944b3772510",
       "version_major": 2,
       "version_minor": 0
      },
      "text/plain": [
       "Validation: |                                                            | 0/? [00:00<?, ?it/s]"
      ]
     },
     "metadata": {},
     "output_type": "display_data"
    },
    {
     "data": {
      "application/vnd.jupyter.widget-view+json": {
       "model_id": "3eaeda87c282457b90a576dedaec2123",
       "version_major": 2,
       "version_minor": 0
      },
      "text/plain": [
       "Validation: |                                                            | 0/? [00:00<?, ?it/s]"
      ]
     },
     "metadata": {},
     "output_type": "display_data"
    },
    {
     "data": {
      "application/vnd.jupyter.widget-view+json": {
       "model_id": "b198d2abf6354200ab8d156c0b7c7d81",
       "version_major": 2,
       "version_minor": 0
      },
      "text/plain": [
       "Validation: |                                                            | 0/? [00:00<?, ?it/s]"
      ]
     },
     "metadata": {},
     "output_type": "display_data"
    },
    {
     "data": {
      "application/vnd.jupyter.widget-view+json": {
       "model_id": "7a091a93d4aa4acbbc14a13f5ed19f69",
       "version_major": 2,
       "version_minor": 0
      },
      "text/plain": [
       "Validation: |                                                            | 0/? [00:00<?, ?it/s]"
      ]
     },
     "metadata": {},
     "output_type": "display_data"
    },
    {
     "data": {
      "application/vnd.jupyter.widget-view+json": {
       "model_id": "3a91b431279343b391b2e1482edebd98",
       "version_major": 2,
       "version_minor": 0
      },
      "text/plain": [
       "Validation: |                                                            | 0/? [00:00<?, ?it/s]"
      ]
     },
     "metadata": {},
     "output_type": "display_data"
    },
    {
     "data": {
      "application/vnd.jupyter.widget-view+json": {
       "model_id": "7aa36eafc5be48cd9ef624497e2093c5",
       "version_major": 2,
       "version_minor": 0
      },
      "text/plain": [
       "Validation: |                                                            | 0/? [00:00<?, ?it/s]"
      ]
     },
     "metadata": {},
     "output_type": "display_data"
    },
    {
     "data": {
      "application/vnd.jupyter.widget-view+json": {
       "model_id": "3208afb20e0d483488a65edbf05b0363",
       "version_major": 2,
       "version_minor": 0
      },
      "text/plain": [
       "Validation: |                                                            | 0/? [00:00<?, ?it/s]"
      ]
     },
     "metadata": {},
     "output_type": "display_data"
    },
    {
     "data": {
      "application/vnd.jupyter.widget-view+json": {
       "model_id": "fa41253d90964d13b3b1dea0382f085b",
       "version_major": 2,
       "version_minor": 0
      },
      "text/plain": [
       "Validation: |                                                            | 0/? [00:00<?, ?it/s]"
      ]
     },
     "metadata": {},
     "output_type": "display_data"
    },
    {
     "data": {
      "application/vnd.jupyter.widget-view+json": {
       "model_id": "d5437e6620cf48d1a531b99d2aac15bf",
       "version_major": 2,
       "version_minor": 0
      },
      "text/plain": [
       "Validation: |                                                            | 0/? [00:00<?, ?it/s]"
      ]
     },
     "metadata": {},
     "output_type": "display_data"
    },
    {
     "data": {
      "application/vnd.jupyter.widget-view+json": {
       "model_id": "42161c70ee694e3bb221dc14c65256e3",
       "version_major": 2,
       "version_minor": 0
      },
      "text/plain": [
       "Validation: |                                                            | 0/? [00:00<?, ?it/s]"
      ]
     },
     "metadata": {},
     "output_type": "display_data"
    },
    {
     "data": {
      "application/vnd.jupyter.widget-view+json": {
       "model_id": "ca04fb43a5d44fa0b0f638aeae064c4e",
       "version_major": 2,
       "version_minor": 0
      },
      "text/plain": [
       "Validation: |                                                            | 0/? [00:00<?, ?it/s]"
      ]
     },
     "metadata": {},
     "output_type": "display_data"
    },
    {
     "data": {
      "application/vnd.jupyter.widget-view+json": {
       "model_id": "f02e2bd2f30840b2b360bb9d1e0a19ed",
       "version_major": 2,
       "version_minor": 0
      },
      "text/plain": [
       "Validation: |                                                            | 0/? [00:00<?, ?it/s]"
      ]
     },
     "metadata": {},
     "output_type": "display_data"
    },
    {
     "data": {
      "application/vnd.jupyter.widget-view+json": {
       "model_id": "c597cbe33e92442f86a7db139458aea6",
       "version_major": 2,
       "version_minor": 0
      },
      "text/plain": [
       "Validation: |                                                            | 0/? [00:00<?, ?it/s]"
      ]
     },
     "metadata": {},
     "output_type": "display_data"
    },
    {
     "data": {
      "application/vnd.jupyter.widget-view+json": {
       "model_id": "d07566e983c44706b368f138fa0e8f00",
       "version_major": 2,
       "version_minor": 0
      },
      "text/plain": [
       "Validation: |                                                            | 0/? [00:00<?, ?it/s]"
      ]
     },
     "metadata": {},
     "output_type": "display_data"
    },
    {
     "data": {
      "application/vnd.jupyter.widget-view+json": {
       "model_id": "75fa1810ac0142eaa999b105352f4a45",
       "version_major": 2,
       "version_minor": 0
      },
      "text/plain": [
       "Validation: |                                                            | 0/? [00:00<?, ?it/s]"
      ]
     },
     "metadata": {},
     "output_type": "display_data"
    },
    {
     "data": {
      "application/vnd.jupyter.widget-view+json": {
       "model_id": "6ecfbbfa5efb45d2aa170bbb0f87ddc9",
       "version_major": 2,
       "version_minor": 0
      },
      "text/plain": [
       "Validation: |                                                            | 0/? [00:00<?, ?it/s]"
      ]
     },
     "metadata": {},
     "output_type": "display_data"
    },
    {
     "data": {
      "application/vnd.jupyter.widget-view+json": {
       "model_id": "e4d3013d7fa04a3ead5d1715f03f8238",
       "version_major": 2,
       "version_minor": 0
      },
      "text/plain": [
       "Validation: |                                                            | 0/? [00:00<?, ?it/s]"
      ]
     },
     "metadata": {},
     "output_type": "display_data"
    },
    {
     "data": {
      "application/vnd.jupyter.widget-view+json": {
       "model_id": "cea856186f0e48099489760869908904",
       "version_major": 2,
       "version_minor": 0
      },
      "text/plain": [
       "Validation: |                                                            | 0/? [00:00<?, ?it/s]"
      ]
     },
     "metadata": {},
     "output_type": "display_data"
    },
    {
     "data": {
      "application/vnd.jupyter.widget-view+json": {
       "model_id": "40afdba07a60471893aea8bfa2e9a8db",
       "version_major": 2,
       "version_minor": 0
      },
      "text/plain": [
       "Validation: |                                                            | 0/? [00:00<?, ?it/s]"
      ]
     },
     "metadata": {},
     "output_type": "display_data"
    },
    {
     "data": {
      "application/vnd.jupyter.widget-view+json": {
       "model_id": "2edd781999e2474cb65b06c15048d07d",
       "version_major": 2,
       "version_minor": 0
      },
      "text/plain": [
       "Validation: |                                                            | 0/? [00:00<?, ?it/s]"
      ]
     },
     "metadata": {},
     "output_type": "display_data"
    },
    {
     "data": {
      "application/vnd.jupyter.widget-view+json": {
       "model_id": "e14f879ad1a84aac8c515bbeb91aef9c",
       "version_major": 2,
       "version_minor": 0
      },
      "text/plain": [
       "Validation: |                                                            | 0/? [00:00<?, ?it/s]"
      ]
     },
     "metadata": {},
     "output_type": "display_data"
    },
    {
     "data": {
      "application/vnd.jupyter.widget-view+json": {
       "model_id": "7f533c37c8ff4e10837e975fa7b57263",
       "version_major": 2,
       "version_minor": 0
      },
      "text/plain": [
       "Validation: |                                                            | 0/? [00:00<?, ?it/s]"
      ]
     },
     "metadata": {},
     "output_type": "display_data"
    },
    {
     "data": {
      "application/vnd.jupyter.widget-view+json": {
       "model_id": "2816f9602d8d434d9f05f5a3e4eb1d08",
       "version_major": 2,
       "version_minor": 0
      },
      "text/plain": [
       "Validation: |                                                            | 0/? [00:00<?, ?it/s]"
      ]
     },
     "metadata": {},
     "output_type": "display_data"
    },
    {
     "data": {
      "application/vnd.jupyter.widget-view+json": {
       "model_id": "567efc3d5b7e4ecea6cd1b34425f0f30",
       "version_major": 2,
       "version_minor": 0
      },
      "text/plain": [
       "Validation: |                                                            | 0/? [00:00<?, ?it/s]"
      ]
     },
     "metadata": {},
     "output_type": "display_data"
    }
   ],
   "source": [
    "model_name = 'ProteinPeptideInteractionModelWithSmartGateAndWeighting'\n",
    "obj_model = ProteinPeptideInteractionModelWithSmartGateAndWeighting(embedding_dim=1152, hidden_dim=512, num_heads=8, dropout=0.3)\n",
    "\n",
    "\n",
    "model = LModelA(obj_model, \n",
    "                learning_rate=1e-4,\n",
    "                weight_decay=1e-4)\n",
    "\n",
    "logger = pl_loggers.TensorBoardLogger(name=f\"{model_name}\", save_dir=log_path)\n",
    "logger_csv = pl_loggers.CSVLogger(name=f\"{model_name}\", save_dir=log_csv_path)\n",
    "\n",
    "\n",
    "checkpoint_callback = ModelCheckpoint(\n",
    "    dirpath=os.path.join(checkpoints_path, f\"{model_name}\", f\"version_{logger_csv.version}\", \"checkpoints\"),\n",
    "    filename=\"model-epoch={epoch:02d}\",\n",
    "    save_top_k=-1,\n",
    "    every_n_epochs=1,\n",
    "    save_on_train_epoch_end=True,\n",
    ")\n",
    "\n",
    "best_iou_callback = ModelCheckpoint(\n",
    "    dirpath=os.path.join(checkpoints_path, f\"{model_name}\", f\"version_{logger_csv.version}\", \"checkpoints\"),\n",
    "    filename=\"best_model_epoch={epoch:02d}-auroc={validation_auroc:.4f}\",\n",
    "    monitor=\"validation_auroc\",\n",
    "    mode=\"max\",\n",
    "    save_top_k=1,\n",
    "    save_on_train_epoch_end=True,\n",
    ")\n",
    "\n",
    "early_stop = EarlyStopping(monitor=\"validation_auroc\", patience=10, mode=\"max\")\n",
    "\n",
    "trainer = L.Trainer(\n",
    "    max_epochs=EPOCHS,\n",
    "    devices=[0],\n",
    "    default_root_dir=f'{checkpoints_path}/{model_name}',\n",
    "    logger=[logger, logger_csv],\n",
    "    accelerator=\"gpu\",\n",
    "    precision=\"32\",\n",
    "    callbacks=[best_iou_callback, early_stop, TQDMProgressBar(refresh_rate=1)],\n",
    "    log_every_n_steps=1\n",
    ")\n",
    "\n",
    "\n",
    "trainer.fit(model, train_dataloaders=train_dataloader, val_dataloaders=val_dataloader)\n",
    "#trainer.test(model, dataloaders=test_dataloader)"
   ]
  },
  {
   "cell_type": "code",
   "execution_count": 185,
   "id": "1a1d11e6",
   "metadata": {},
   "outputs": [
    {
     "name": "stderr",
     "output_type": "stream",
     "text": [
      "LOCAL_RANK: 0 - CUDA_VISIBLE_DEVICES: [0,1,2,3]\n"
     ]
    },
    {
     "data": {
      "application/vnd.jupyter.widget-view+json": {
       "model_id": "bcb6c10cc545437789c8fe0cd2793e6f",
       "version_major": 2,
       "version_minor": 0
      },
      "text/plain": [
       "Testing: |                                                               | 0/? [00:00<?, ?it/s]"
      ]
     },
     "metadata": {},
     "output_type": "display_data"
    },
    {
     "name": "stdout",
     "output_type": "stream",
     "text": [
      "────────────────────────────────────────────────────────────────────────────────────────────────────────────────────────\n",
      "       Test metric             DataLoader 0\n",
      "────────────────────────────────────────────────────────────────────────────────────────────────────────────────────────\n",
      "      test_accuracy         0.7292185425758362\n",
      "       test_auroc           0.5902154445648193\n",
      "        test_loss          0.038490358740091324\n",
      "        test_pcc            0.2269923835992813\n",
      "         test_r2           -0.40101897716522217\n",
      "────────────────────────────────────────────────────────────────────────────────────────────────────────────────────────\n"
     ]
    },
    {
     "data": {
      "text/plain": [
       "[{'test_loss': 0.038490358740091324,\n",
       "  'test_pcc': 0.2269923835992813,\n",
       "  'test_r2': -0.40101897716522217,\n",
       "  'test_accuracy': 0.7292185425758362,\n",
       "  'test_auroc': 0.5902154445648193}]"
      ]
     },
     "execution_count": 185,
     "metadata": {},
     "output_type": "execute_result"
    }
   ],
   "source": [
    "best_model_path = best_iou_callback.best_model_path\n",
    "model = LModelA.load_from_checkpoint(best_model_path, model=obj_model)\n",
    "trainer.test(model, dataloaders=test_dataloader)"
   ]
  },
  {
   "cell_type": "code",
   "execution_count": 29,
   "id": "7dfbb5b6",
   "metadata": {},
   "outputs": [
    {
     "name": "stderr",
     "output_type": "stream",
     "text": [
      "GPU available: True (cuda), used: True\n",
      "TPU available: False, using: 0 TPU cores\n",
      "HPU available: False, using: 0 HPUs\n",
      "LOCAL_RANK: 0 - CUDA_VISIBLE_DEVICES: [0,1,2,3]\n",
      "\n",
      "  | Name                              | Type                | Params | Mode \n",
      "----------------------------------------------------------------------------------\n",
      "0 | model                             | CrossAttentionModel | 7.7 M  | train\n",
      "1 | train_metrics_regression          | MetricCollection    | 0      | train\n",
      "2 | validation_metrics_regression     | MetricCollection    | 0      | train\n",
      "3 | test_metrics_regression           | MetricCollection    | 0      | train\n",
      "4 | train_metrics_classification      | MetricCollection    | 0      | train\n",
      "5 | validation_metrics_classification | MetricCollection    | 0      | train\n",
      "6 | test_metrics_classification       | MetricCollection    | 0      | train\n",
      "7 | loss_fn                           | HuberLoss           | 0      | train\n",
      "----------------------------------------------------------------------------------\n",
      "7.7 M     Trainable params\n",
      "0         Non-trainable params\n",
      "7.7 M     Total params\n",
      "30.706    Total estimated model params size (MB)\n",
      "29        Modules in train mode\n",
      "0         Modules in eval mode\n"
     ]
    },
    {
     "data": {
      "application/vnd.jupyter.widget-view+json": {
       "model_id": "d2b345709f994043be5fa93bda7e38db",
       "version_major": 2,
       "version_minor": 0
      },
      "text/plain": [
       "Sanity Checking: |                                                       | 0/? [00:00<?, ?it/s]"
      ]
     },
     "metadata": {},
     "output_type": "display_data"
    },
    {
     "data": {
      "application/vnd.jupyter.widget-view+json": {
       "model_id": "b72441237c984c5c843021e22dc4d647",
       "version_major": 2,
       "version_minor": 0
      },
      "text/plain": [
       "Training: |                                                              | 0/? [00:00<?, ?it/s]"
      ]
     },
     "metadata": {},
     "output_type": "display_data"
    },
    {
     "data": {
      "application/vnd.jupyter.widget-view+json": {
       "model_id": "db5a8858adc44499bd0ba4f6ca388a82",
       "version_major": 2,
       "version_minor": 0
      },
      "text/plain": [
       "Validation: |                                                            | 0/? [00:00<?, ?it/s]"
      ]
     },
     "metadata": {},
     "output_type": "display_data"
    },
    {
     "data": {
      "application/vnd.jupyter.widget-view+json": {
       "model_id": "e8a08ae607fb4f838012e603e92437ad",
       "version_major": 2,
       "version_minor": 0
      },
      "text/plain": [
       "Validation: |                                                            | 0/? [00:00<?, ?it/s]"
      ]
     },
     "metadata": {},
     "output_type": "display_data"
    },
    {
     "data": {
      "application/vnd.jupyter.widget-view+json": {
       "model_id": "610b4978c94043258f7dfe49e138e9f1",
       "version_major": 2,
       "version_minor": 0
      },
      "text/plain": [
       "Validation: |                                                            | 0/? [00:00<?, ?it/s]"
      ]
     },
     "metadata": {},
     "output_type": "display_data"
    },
    {
     "data": {
      "application/vnd.jupyter.widget-view+json": {
       "model_id": "84044791a5b040719b5891c20fd1b17c",
       "version_major": 2,
       "version_minor": 0
      },
      "text/plain": [
       "Validation: |                                                            | 0/? [00:00<?, ?it/s]"
      ]
     },
     "metadata": {},
     "output_type": "display_data"
    },
    {
     "data": {
      "application/vnd.jupyter.widget-view+json": {
       "model_id": "7329918e43e04a04b96849ee41c53839",
       "version_major": 2,
       "version_minor": 0
      },
      "text/plain": [
       "Validation: |                                                            | 0/? [00:00<?, ?it/s]"
      ]
     },
     "metadata": {},
     "output_type": "display_data"
    },
    {
     "data": {
      "application/vnd.jupyter.widget-view+json": {
       "model_id": "5cce0126038c4690b934056f8bcd3901",
       "version_major": 2,
       "version_minor": 0
      },
      "text/plain": [
       "Validation: |                                                            | 0/? [00:00<?, ?it/s]"
      ]
     },
     "metadata": {},
     "output_type": "display_data"
    },
    {
     "data": {
      "application/vnd.jupyter.widget-view+json": {
       "model_id": "db8bf8e584314af994ba0e02717d7804",
       "version_major": 2,
       "version_minor": 0
      },
      "text/plain": [
       "Validation: |                                                            | 0/? [00:00<?, ?it/s]"
      ]
     },
     "metadata": {},
     "output_type": "display_data"
    },
    {
     "data": {
      "application/vnd.jupyter.widget-view+json": {
       "model_id": "56195c8386054fd1bef4082ebf516987",
       "version_major": 2,
       "version_minor": 0
      },
      "text/plain": [
       "Validation: |                                                            | 0/? [00:00<?, ?it/s]"
      ]
     },
     "metadata": {},
     "output_type": "display_data"
    },
    {
     "data": {
      "application/vnd.jupyter.widget-view+json": {
       "model_id": "a1030d6b54f348f8881e96ca2312b411",
       "version_major": 2,
       "version_minor": 0
      },
      "text/plain": [
       "Validation: |                                                            | 0/? [00:00<?, ?it/s]"
      ]
     },
     "metadata": {},
     "output_type": "display_data"
    },
    {
     "data": {
      "application/vnd.jupyter.widget-view+json": {
       "model_id": "07fbe38547a84925a5fb923ddb571955",
       "version_major": 2,
       "version_minor": 0
      },
      "text/plain": [
       "Validation: |                                                            | 0/? [00:00<?, ?it/s]"
      ]
     },
     "metadata": {},
     "output_type": "display_data"
    },
    {
     "data": {
      "application/vnd.jupyter.widget-view+json": {
       "model_id": "c21fc7fc801546e1ab31f9ebb5ce708a",
       "version_major": 2,
       "version_minor": 0
      },
      "text/plain": [
       "Validation: |                                                            | 0/? [00:00<?, ?it/s]"
      ]
     },
     "metadata": {},
     "output_type": "display_data"
    },
    {
     "data": {
      "application/vnd.jupyter.widget-view+json": {
       "model_id": "98328c338fab4cfbb716b22132d47d90",
       "version_major": 2,
       "version_minor": 0
      },
      "text/plain": [
       "Validation: |                                                            | 0/? [00:00<?, ?it/s]"
      ]
     },
     "metadata": {},
     "output_type": "display_data"
    },
    {
     "data": {
      "application/vnd.jupyter.widget-view+json": {
       "model_id": "1528a744b31f479db33c59bbe84e8050",
       "version_major": 2,
       "version_minor": 0
      },
      "text/plain": [
       "Validation: |                                                            | 0/? [00:00<?, ?it/s]"
      ]
     },
     "metadata": {},
     "output_type": "display_data"
    },
    {
     "data": {
      "application/vnd.jupyter.widget-view+json": {
       "model_id": "9322ddbaf05f43f0a03de7de4d03dc61",
       "version_major": 2,
       "version_minor": 0
      },
      "text/plain": [
       "Validation: |                                                            | 0/? [00:00<?, ?it/s]"
      ]
     },
     "metadata": {},
     "output_type": "display_data"
    },
    {
     "data": {
      "application/vnd.jupyter.widget-view+json": {
       "model_id": "fb453e8c5d814caba79df3364d38705e",
       "version_major": 2,
       "version_minor": 0
      },
      "text/plain": [
       "Validation: |                                                            | 0/? [00:00<?, ?it/s]"
      ]
     },
     "metadata": {},
     "output_type": "display_data"
    },
    {
     "data": {
      "application/vnd.jupyter.widget-view+json": {
       "model_id": "36f787969f504dbfb8e6d5449ef203d2",
       "version_major": 2,
       "version_minor": 0
      },
      "text/plain": [
       "Validation: |                                                            | 0/? [00:00<?, ?it/s]"
      ]
     },
     "metadata": {},
     "output_type": "display_data"
    },
    {
     "data": {
      "application/vnd.jupyter.widget-view+json": {
       "model_id": "e79b5f2482854580ae4e087cec04c0cb",
       "version_major": 2,
       "version_minor": 0
      },
      "text/plain": [
       "Validation: |                                                            | 0/? [00:00<?, ?it/s]"
      ]
     },
     "metadata": {},
     "output_type": "display_data"
    },
    {
     "data": {
      "application/vnd.jupyter.widget-view+json": {
       "model_id": "8d88ca24e9f84c92a7556dc3804cb76a",
       "version_major": 2,
       "version_minor": 0
      },
      "text/plain": [
       "Validation: |                                                            | 0/? [00:00<?, ?it/s]"
      ]
     },
     "metadata": {},
     "output_type": "display_data"
    },
    {
     "data": {
      "application/vnd.jupyter.widget-view+json": {
       "model_id": "c9040338b0d940d28cc309641f97f239",
       "version_major": 2,
       "version_minor": 0
      },
      "text/plain": [
       "Validation: |                                                            | 0/? [00:00<?, ?it/s]"
      ]
     },
     "metadata": {},
     "output_type": "display_data"
    },
    {
     "data": {
      "application/vnd.jupyter.widget-view+json": {
       "model_id": "718bd551ec514c7797aceebe4cb0173c",
       "version_major": 2,
       "version_minor": 0
      },
      "text/plain": [
       "Validation: |                                                            | 0/? [00:00<?, ?it/s]"
      ]
     },
     "metadata": {},
     "output_type": "display_data"
    },
    {
     "data": {
      "application/vnd.jupyter.widget-view+json": {
       "model_id": "3839be58b5e946e9bae22d139e1a1fa3",
       "version_major": 2,
       "version_minor": 0
      },
      "text/plain": [
       "Validation: |                                                            | 0/? [00:00<?, ?it/s]"
      ]
     },
     "metadata": {},
     "output_type": "display_data"
    },
    {
     "data": {
      "application/vnd.jupyter.widget-view+json": {
       "model_id": "59becebc5477468aa7308c8dedce457e",
       "version_major": 2,
       "version_minor": 0
      },
      "text/plain": [
       "Validation: |                                                            | 0/? [00:00<?, ?it/s]"
      ]
     },
     "metadata": {},
     "output_type": "display_data"
    },
    {
     "data": {
      "application/vnd.jupyter.widget-view+json": {
       "model_id": "a2301fcf89994e9ea4c3a39d9f268f13",
       "version_major": 2,
       "version_minor": 0
      },
      "text/plain": [
       "Validation: |                                                            | 0/? [00:00<?, ?it/s]"
      ]
     },
     "metadata": {},
     "output_type": "display_data"
    },
    {
     "data": {
      "application/vnd.jupyter.widget-view+json": {
       "model_id": "ed998ae178254a1698655de475dc3c11",
       "version_major": 2,
       "version_minor": 0
      },
      "text/plain": [
       "Validation: |                                                            | 0/? [00:00<?, ?it/s]"
      ]
     },
     "metadata": {},
     "output_type": "display_data"
    },
    {
     "data": {
      "application/vnd.jupyter.widget-view+json": {
       "model_id": "75f6890074374b5dbc89fd343d6019fe",
       "version_major": 2,
       "version_minor": 0
      },
      "text/plain": [
       "Validation: |                                                            | 0/? [00:00<?, ?it/s]"
      ]
     },
     "metadata": {},
     "output_type": "display_data"
    },
    {
     "data": {
      "application/vnd.jupyter.widget-view+json": {
       "model_id": "aaab4f4fb1e748179667dccdcd6dd6d4",
       "version_major": 2,
       "version_minor": 0
      },
      "text/plain": [
       "Validation: |                                                            | 0/? [00:00<?, ?it/s]"
      ]
     },
     "metadata": {},
     "output_type": "display_data"
    },
    {
     "data": {
      "application/vnd.jupyter.widget-view+json": {
       "model_id": "0effd47540784e188e18273ce2f6ab67",
       "version_major": 2,
       "version_minor": 0
      },
      "text/plain": [
       "Validation: |                                                            | 0/? [00:00<?, ?it/s]"
      ]
     },
     "metadata": {},
     "output_type": "display_data"
    },
    {
     "data": {
      "application/vnd.jupyter.widget-view+json": {
       "model_id": "c6747c03a715410eadb76dc38c83b203",
       "version_major": 2,
       "version_minor": 0
      },
      "text/plain": [
       "Validation: |                                                            | 0/? [00:00<?, ?it/s]"
      ]
     },
     "metadata": {},
     "output_type": "display_data"
    },
    {
     "data": {
      "application/vnd.jupyter.widget-view+json": {
       "model_id": "f192efe4721343f1b07f071e8c47558c",
       "version_major": 2,
       "version_minor": 0
      },
      "text/plain": [
       "Validation: |                                                            | 0/? [00:00<?, ?it/s]"
      ]
     },
     "metadata": {},
     "output_type": "display_data"
    },
    {
     "data": {
      "application/vnd.jupyter.widget-view+json": {
       "model_id": "99bb3ec94e064bb6bef400b95d406913",
       "version_major": 2,
       "version_minor": 0
      },
      "text/plain": [
       "Validation: |                                                            | 0/? [00:00<?, ?it/s]"
      ]
     },
     "metadata": {},
     "output_type": "display_data"
    },
    {
     "data": {
      "application/vnd.jupyter.widget-view+json": {
       "model_id": "39f83fca0b0e4185a7a40d97c0bfbfa9",
       "version_major": 2,
       "version_minor": 0
      },
      "text/plain": [
       "Validation: |                                                            | 0/? [00:00<?, ?it/s]"
      ]
     },
     "metadata": {},
     "output_type": "display_data"
    },
    {
     "data": {
      "application/vnd.jupyter.widget-view+json": {
       "model_id": "209f9805f158466f9a52ed9cdfb846c6",
       "version_major": 2,
       "version_minor": 0
      },
      "text/plain": [
       "Validation: |                                                            | 0/? [00:00<?, ?it/s]"
      ]
     },
     "metadata": {},
     "output_type": "display_data"
    },
    {
     "data": {
      "application/vnd.jupyter.widget-view+json": {
       "model_id": "eea9a02a5e084177bd3db8d3e26cd007",
       "version_major": 2,
       "version_minor": 0
      },
      "text/plain": [
       "Validation: |                                                            | 0/? [00:00<?, ?it/s]"
      ]
     },
     "metadata": {},
     "output_type": "display_data"
    },
    {
     "data": {
      "application/vnd.jupyter.widget-view+json": {
       "model_id": "30c6ec66a9974931b945481b5645a302",
       "version_major": 2,
       "version_minor": 0
      },
      "text/plain": [
       "Validation: |                                                            | 0/? [00:00<?, ?it/s]"
      ]
     },
     "metadata": {},
     "output_type": "display_data"
    },
    {
     "data": {
      "application/vnd.jupyter.widget-view+json": {
       "model_id": "31605a4c8f4543f399a52244b230da10",
       "version_major": 2,
       "version_minor": 0
      },
      "text/plain": [
       "Validation: |                                                            | 0/? [00:00<?, ?it/s]"
      ]
     },
     "metadata": {},
     "output_type": "display_data"
    },
    {
     "data": {
      "application/vnd.jupyter.widget-view+json": {
       "model_id": "d91c3ce76c4848a394909e42680c357f",
       "version_major": 2,
       "version_minor": 0
      },
      "text/plain": [
       "Validation: |                                                            | 0/? [00:00<?, ?it/s]"
      ]
     },
     "metadata": {},
     "output_type": "display_data"
    },
    {
     "data": {
      "application/vnd.jupyter.widget-view+json": {
       "model_id": "2c3247e41054410785155db63871af79",
       "version_major": 2,
       "version_minor": 0
      },
      "text/plain": [
       "Validation: |                                                            | 0/? [00:00<?, ?it/s]"
      ]
     },
     "metadata": {},
     "output_type": "display_data"
    },
    {
     "data": {
      "application/vnd.jupyter.widget-view+json": {
       "model_id": "41906f039874473090476c6328ee2213",
       "version_major": 2,
       "version_minor": 0
      },
      "text/plain": [
       "Validation: |                                                            | 0/? [00:00<?, ?it/s]"
      ]
     },
     "metadata": {},
     "output_type": "display_data"
    },
    {
     "data": {
      "application/vnd.jupyter.widget-view+json": {
       "model_id": "2bac9ed180cd40839fe5a98ccd289f37",
       "version_major": 2,
       "version_minor": 0
      },
      "text/plain": [
       "Validation: |                                                            | 0/? [00:00<?, ?it/s]"
      ]
     },
     "metadata": {},
     "output_type": "display_data"
    }
   ],
   "source": [
    "# best\n",
    "model_name = 'CrossAttentionModel'\n",
    "obj_model = CrossAttentionModel(d_model=1152, nhead=8, dim_feedforward=2048, dropout=0.2)\n",
    "\n",
    "\n",
    "model = LModelA(obj_model, \n",
    "                learning_rate=3e-4,\n",
    "                weight_decay=1e-4)\n",
    "\n",
    "logger = pl_loggers.TensorBoardLogger(name=f\"{model_name}\", save_dir=log_path)\n",
    "logger_csv = pl_loggers.CSVLogger(name=f\"{model_name}\", save_dir=log_csv_path)\n",
    "\n",
    "\n",
    "checkpoint_callback = ModelCheckpoint(\n",
    "    dirpath=os.path.join(checkpoints_path, f\"{model_name}\", f\"version_{logger_csv.version}\", \"checkpoints\"),\n",
    "    filename=\"model-epoch={epoch:02d}\",\n",
    "    save_top_k=-1,\n",
    "    every_n_epochs=1,\n",
    "    save_on_train_epoch_end=True,\n",
    ")\n",
    "\n",
    "best_iou_callback = ModelCheckpoint(\n",
    "    dirpath=os.path.join(checkpoints_path, f\"{model_name}\", f\"version_{logger_csv.version}\", \"checkpoints\"),\n",
    "    filename=\"best_model_epoch={epoch:02d}-auroc={validation_auroc:.4f}\",\n",
    "    monitor=\"validation_auroc\",\n",
    "    mode=\"max\",\n",
    "    save_top_k=1,\n",
    "    save_on_train_epoch_end=True,\n",
    ")\n",
    "\n",
    "early_stop = EarlyStopping(monitor=\"validation_auroc\", patience=10, mode=\"max\")\n",
    "\n",
    "trainer = L.Trainer(\n",
    "    max_epochs=EPOCHS,\n",
    "    devices=[0],\n",
    "    default_root_dir=f'{checkpoints_path}/{model_name}',\n",
    "    logger=[logger, logger_csv],\n",
    "    accelerator=\"gpu\",\n",
    "    precision=\"32\",\n",
    "    callbacks=[best_iou_callback, early_stop, TQDMProgressBar(refresh_rate=1)],\n",
    "    log_every_n_steps=1\n",
    ")\n",
    "\n",
    "\n",
    "trainer.fit(model, train_dataloaders=train_dataloader, val_dataloaders=val_dataloader)\n",
    "#trainer.test(model, dataloaders=test_dataloader)"
   ]
  },
  {
   "cell_type": "code",
   "execution_count": 31,
   "id": "8017095e",
   "metadata": {},
   "outputs": [
    {
     "name": "stderr",
     "output_type": "stream",
     "text": [
      "LOCAL_RANK: 0 - CUDA_VISIBLE_DEVICES: [0,1,2,3]\n"
     ]
    },
    {
     "data": {
      "application/vnd.jupyter.widget-view+json": {
       "model_id": "94368537401547048cc4d4b4deb24e5b",
       "version_major": 2,
       "version_minor": 0
      },
      "text/plain": [
       "Testing: |                                                               | 0/? [00:00<?, ?it/s]"
      ]
     },
     "metadata": {},
     "output_type": "display_data"
    },
    {
     "name": "stdout",
     "output_type": "stream",
     "text": [
      "────────────────────────────────────────────────────────────────────────────────────────────────────────────────────────\n",
      "       Test metric             DataLoader 0\n",
      "────────────────────────────────────────────────────────────────────────────────────────────────────────────────────────\n",
      "      test_accuracy         0.7376804351806641\n",
      "       test_auroc           0.5802174210548401\n",
      "        test_loss           0.03555288910865784\n",
      "        test_pcc            0.24202650785446167\n",
      "         test_r2           -0.29383599758148193\n",
      "────────────────────────────────────────────────────────────────────────────────────────────────────────────────────────\n"
     ]
    },
    {
     "data": {
      "text/plain": [
       "[{'test_loss': 0.03555288910865784,\n",
       "  'test_pcc': 0.24202650785446167,\n",
       "  'test_r2': -0.29383599758148193,\n",
       "  'test_accuracy': 0.7376804351806641,\n",
       "  'test_auroc': 0.5802174210548401}]"
      ]
     },
     "execution_count": 31,
     "metadata": {},
     "output_type": "execute_result"
    }
   ],
   "source": [
    "best_model_path = best_iou_callback.best_model_path\n",
    "obj_model = CrossAttentionModel(d_model=1152, nhead=8, dim_feedforward=2048, dropout=0.2)\n",
    "model = LModelA.load_from_checkpoint(best_model_path, model=obj_model)\n",
    "trainer.test(model, dataloaders=test_dataloader)"
   ]
  },
  {
   "cell_type": "code",
   "execution_count": 165,
   "id": "483ca97f",
   "metadata": {},
   "outputs": [
    {
     "name": "stderr",
     "output_type": "stream",
     "text": [
      "GPU available: True (cuda), used: True\n",
      "TPU available: False, using: 0 TPU cores\n",
      "HPU available: False, using: 0 HPUs\n",
      "LOCAL_RANK: 0 - CUDA_VISIBLE_DEVICES: [0,1,2,3]\n",
      "\n",
      "  | Name                              | Type                         | Params | Mode \n",
      "-------------------------------------------------------------------------------------------\n",
      "0 | model                             | TensorFusionInteractionModel | 1.4 M  | train\n",
      "1 | train_metrics_regression          | MetricCollection             | 0      | train\n",
      "2 | validation_metrics_regression     | MetricCollection             | 0      | train\n",
      "3 | test_metrics_regression           | MetricCollection             | 0      | train\n",
      "4 | train_metrics_classification      | MetricCollection             | 0      | train\n",
      "5 | validation_metrics_classification | MetricCollection             | 0      | train\n",
      "6 | test_metrics_classification       | MetricCollection             | 0      | train\n",
      "7 | loss_fn                           | HuberLoss                    | 0      | train\n",
      "-------------------------------------------------------------------------------------------\n",
      "1.4 M     Trainable params\n",
      "0         Non-trainable params\n",
      "1.4 M     Total params\n",
      "5.795     Total estimated model params size (MB)\n",
      "34        Modules in train mode\n",
      "0         Modules in eval mode\n"
     ]
    },
    {
     "data": {
      "application/vnd.jupyter.widget-view+json": {
       "model_id": "dd7a65a12acf4170bcbe6831a844abf7",
       "version_major": 2,
       "version_minor": 0
      },
      "text/plain": [
       "Sanity Checking: |                                                       | 0/? [00:00<?, ?it/s]"
      ]
     },
     "metadata": {},
     "output_type": "display_data"
    },
    {
     "data": {
      "application/vnd.jupyter.widget-view+json": {
       "model_id": "ef78e3ab5fb548a8aa86d2e472129f6f",
       "version_major": 2,
       "version_minor": 0
      },
      "text/plain": [
       "Training: |                                                              | 0/? [00:00<?, ?it/s]"
      ]
     },
     "metadata": {},
     "output_type": "display_data"
    },
    {
     "data": {
      "application/vnd.jupyter.widget-view+json": {
       "model_id": "9ee2c71725234a0d95c19d191b0aaf3d",
       "version_major": 2,
       "version_minor": 0
      },
      "text/plain": [
       "Validation: |                                                            | 0/? [00:00<?, ?it/s]"
      ]
     },
     "metadata": {},
     "output_type": "display_data"
    },
    {
     "data": {
      "application/vnd.jupyter.widget-view+json": {
       "model_id": "8526f07a43ec4f65a35e8be6c87f5389",
       "version_major": 2,
       "version_minor": 0
      },
      "text/plain": [
       "Validation: |                                                            | 0/? [00:00<?, ?it/s]"
      ]
     },
     "metadata": {},
     "output_type": "display_data"
    },
    {
     "data": {
      "application/vnd.jupyter.widget-view+json": {
       "model_id": "633e37aec0fe4c3593e4f62b80d08bb3",
       "version_major": 2,
       "version_minor": 0
      },
      "text/plain": [
       "Validation: |                                                            | 0/? [00:00<?, ?it/s]"
      ]
     },
     "metadata": {},
     "output_type": "display_data"
    },
    {
     "data": {
      "application/vnd.jupyter.widget-view+json": {
       "model_id": "72adeb8f19924587a87081702416cff9",
       "version_major": 2,
       "version_minor": 0
      },
      "text/plain": [
       "Validation: |                                                            | 0/? [00:00<?, ?it/s]"
      ]
     },
     "metadata": {},
     "output_type": "display_data"
    },
    {
     "data": {
      "application/vnd.jupyter.widget-view+json": {
       "model_id": "5935aa68d93b42f9845db8d19917e8ba",
       "version_major": 2,
       "version_minor": 0
      },
      "text/plain": [
       "Validation: |                                                            | 0/? [00:00<?, ?it/s]"
      ]
     },
     "metadata": {},
     "output_type": "display_data"
    },
    {
     "data": {
      "application/vnd.jupyter.widget-view+json": {
       "model_id": "2cd24107b4f34989a85a0a1289021dc9",
       "version_major": 2,
       "version_minor": 0
      },
      "text/plain": [
       "Validation: |                                                            | 0/? [00:00<?, ?it/s]"
      ]
     },
     "metadata": {},
     "output_type": "display_data"
    },
    {
     "data": {
      "application/vnd.jupyter.widget-view+json": {
       "model_id": "375bdc7f47694c689fab2239b3949afe",
       "version_major": 2,
       "version_minor": 0
      },
      "text/plain": [
       "Validation: |                                                            | 0/? [00:00<?, ?it/s]"
      ]
     },
     "metadata": {},
     "output_type": "display_data"
    },
    {
     "data": {
      "application/vnd.jupyter.widget-view+json": {
       "model_id": "c69addd3216749279906831c10c10441",
       "version_major": 2,
       "version_minor": 0
      },
      "text/plain": [
       "Validation: |                                                            | 0/? [00:00<?, ?it/s]"
      ]
     },
     "metadata": {},
     "output_type": "display_data"
    },
    {
     "data": {
      "application/vnd.jupyter.widget-view+json": {
       "model_id": "32d6eeb919fe4a8ba4269141bac5416c",
       "version_major": 2,
       "version_minor": 0
      },
      "text/plain": [
       "Validation: |                                                            | 0/? [00:00<?, ?it/s]"
      ]
     },
     "metadata": {},
     "output_type": "display_data"
    },
    {
     "data": {
      "application/vnd.jupyter.widget-view+json": {
       "model_id": "072abd9460f441bab6081a59e6559737",
       "version_major": 2,
       "version_minor": 0
      },
      "text/plain": [
       "Validation: |                                                            | 0/? [00:00<?, ?it/s]"
      ]
     },
     "metadata": {},
     "output_type": "display_data"
    },
    {
     "data": {
      "application/vnd.jupyter.widget-view+json": {
       "model_id": "5ac46169a4ca494fb5162cc38cc3e87f",
       "version_major": 2,
       "version_minor": 0
      },
      "text/plain": [
       "Validation: |                                                            | 0/? [00:00<?, ?it/s]"
      ]
     },
     "metadata": {},
     "output_type": "display_data"
    },
    {
     "data": {
      "application/vnd.jupyter.widget-view+json": {
       "model_id": "3cd66799e8364b0c9a6b1985197a11ca",
       "version_major": 2,
       "version_minor": 0
      },
      "text/plain": [
       "Validation: |                                                            | 0/? [00:00<?, ?it/s]"
      ]
     },
     "metadata": {},
     "output_type": "display_data"
    },
    {
     "data": {
      "application/vnd.jupyter.widget-view+json": {
       "model_id": "679d19ba03d443c48b4bd772c91b8792",
       "version_major": 2,
       "version_minor": 0
      },
      "text/plain": [
       "Validation: |                                                            | 0/? [00:00<?, ?it/s]"
      ]
     },
     "metadata": {},
     "output_type": "display_data"
    },
    {
     "data": {
      "application/vnd.jupyter.widget-view+json": {
       "model_id": "638fe8f037f54551aa8b48e4bdf70c98",
       "version_major": 2,
       "version_minor": 0
      },
      "text/plain": [
       "Validation: |                                                            | 0/? [00:00<?, ?it/s]"
      ]
     },
     "metadata": {},
     "output_type": "display_data"
    },
    {
     "data": {
      "application/vnd.jupyter.widget-view+json": {
       "model_id": "7a13f2f01f564dcb83dce786d02f3d7a",
       "version_major": 2,
       "version_minor": 0
      },
      "text/plain": [
       "Validation: |                                                            | 0/? [00:00<?, ?it/s]"
      ]
     },
     "metadata": {},
     "output_type": "display_data"
    },
    {
     "data": {
      "application/vnd.jupyter.widget-view+json": {
       "model_id": "4ad0dbf93ef0466a8232ac88bcbb027c",
       "version_major": 2,
       "version_minor": 0
      },
      "text/plain": [
       "Validation: |                                                            | 0/? [00:00<?, ?it/s]"
      ]
     },
     "metadata": {},
     "output_type": "display_data"
    },
    {
     "data": {
      "application/vnd.jupyter.widget-view+json": {
       "model_id": "f0f74787ecd94bfa9eb4c94c4bcc3e2e",
       "version_major": 2,
       "version_minor": 0
      },
      "text/plain": [
       "Validation: |                                                            | 0/? [00:00<?, ?it/s]"
      ]
     },
     "metadata": {},
     "output_type": "display_data"
    },
    {
     "data": {
      "application/vnd.jupyter.widget-view+json": {
       "model_id": "97a846321f3d4420916444bf0c8852d2",
       "version_major": 2,
       "version_minor": 0
      },
      "text/plain": [
       "Validation: |                                                            | 0/? [00:00<?, ?it/s]"
      ]
     },
     "metadata": {},
     "output_type": "display_data"
    },
    {
     "data": {
      "application/vnd.jupyter.widget-view+json": {
       "model_id": "b67da49ebdf6449796835f340a975dbb",
       "version_major": 2,
       "version_minor": 0
      },
      "text/plain": [
       "Validation: |                                                            | 0/? [00:00<?, ?it/s]"
      ]
     },
     "metadata": {},
     "output_type": "display_data"
    },
    {
     "data": {
      "application/vnd.jupyter.widget-view+json": {
       "model_id": "1301d88871824a87a91cd78e649d5758",
       "version_major": 2,
       "version_minor": 0
      },
      "text/plain": [
       "Validation: |                                                            | 0/? [00:00<?, ?it/s]"
      ]
     },
     "metadata": {},
     "output_type": "display_data"
    },
    {
     "name": "stderr",
     "output_type": "stream",
     "text": [
      "`Trainer.fit` stopped: `max_epochs=20` reached.\n"
     ]
    }
   ],
   "source": [
    "model_name = 'TensorFusionInteractionModel'\n",
    "obj_model = TensorFusionInteractionModel(embedding_dim=1152, hidden_dim=512, dropout=0.2)\n",
    "\n",
    "\n",
    "model = LModelA(obj_model, \n",
    "                learning_rate=3e-4,\n",
    "                weight_decay=1e-3)\n",
    "\n",
    "logger = pl_loggers.TensorBoardLogger(name=f\"{model_name}\", save_dir=log_path)\n",
    "logger_csv = pl_loggers.CSVLogger(name=f\"{model_name}\", save_dir=log_csv_path)\n",
    "\n",
    "\n",
    "checkpoint_callback = ModelCheckpoint(\n",
    "    dirpath=os.path.join(checkpoints_path, f\"{model_name}\", f\"version_{logger_csv.version}\", \"checkpoints\"),\n",
    "    filename=\"model-epoch={epoch:02d}\",\n",
    "    save_top_k=-1,\n",
    "    every_n_epochs=1,\n",
    "    save_on_train_epoch_end=True,\n",
    ")\n",
    "\n",
    "best_iou_callback = ModelCheckpoint(\n",
    "    dirpath=os.path.join(checkpoints_path, f\"{model_name}\", f\"version_{logger_csv.version}\", \"checkpoints\"),\n",
    "    filename=\"best_model_epoch={epoch:02d}-auroc={validation_auroc:.4f}\",\n",
    "    monitor=\"validation_auroc\",\n",
    "    mode=\"max\",\n",
    "    save_top_k=1,\n",
    "    save_on_train_epoch_end=True,\n",
    ")\n",
    "\n",
    "early_stop = EarlyStopping(monitor=\"validation_auroc\", patience=10, mode=\"max\")\n",
    "\n",
    "trainer = L.Trainer(\n",
    "    max_epochs=EPOCHS,\n",
    "    devices=[0],\n",
    "    default_root_dir=f'{checkpoints_path}/{model_name}',\n",
    "    logger=[logger, logger_csv],\n",
    "    accelerator=\"gpu\",\n",
    "    precision=\"32\",\n",
    "    callbacks=[best_iou_callback, early_stop, TQDMProgressBar(refresh_rate=1)],\n",
    "    log_every_n_steps=1\n",
    ")\n",
    "\n",
    "\n",
    "trainer.fit(model, train_dataloaders=train_dataloader, val_dataloaders=val_dataloader)\n",
    "best_model_path = best_iou_callback.best_model_path\n",
    "model = LModelA.load_from_checkpoint(best_model_path, model=obj_model)\n",
    "#trainer.test(model, dataloaders=test_dataloader)\n"
   ]
  },
  {
   "cell_type": "code",
   "execution_count": 166,
   "id": "06cf8ec0",
   "metadata": {},
   "outputs": [
    {
     "name": "stderr",
     "output_type": "stream",
     "text": [
      "LOCAL_RANK: 0 - CUDA_VISIBLE_DEVICES: [0,1,2,3]\n"
     ]
    },
    {
     "data": {
      "application/vnd.jupyter.widget-view+json": {
       "model_id": "c3688d37e2b046c79b0ad7d9bd9b0fc0",
       "version_major": 2,
       "version_minor": 0
      },
      "text/plain": [
       "Testing: |                                                               | 0/? [00:00<?, ?it/s]"
      ]
     },
     "metadata": {},
     "output_type": "display_data"
    },
    {
     "name": "stdout",
     "output_type": "stream",
     "text": [
      "────────────────────────────────────────────────────────────────────────────────────────────────────────────────────────\n",
      "       Test metric             DataLoader 0\n",
      "────────────────────────────────────────────────────────────────────────────────────────────────────────────────────────\n",
      "      test_accuracy         0.6993529200553894\n",
      "       test_auroc           0.5953564643859863\n",
      "        test_loss          0.039996568113565445\n",
      "        test_pcc            0.2469816356897354\n",
      "         test_r2           -0.45708346366882324\n",
      "────────────────────────────────────────────────────────────────────────────────────────────────────────────────────────\n"
     ]
    },
    {
     "data": {
      "text/plain": [
       "[{'test_loss': 0.039996568113565445,\n",
       "  'test_pcc': 0.2469816356897354,\n",
       "  'test_r2': -0.45708346366882324,\n",
       "  'test_accuracy': 0.6993529200553894,\n",
       "  'test_auroc': 0.5953564643859863}]"
      ]
     },
     "execution_count": 166,
     "metadata": {},
     "output_type": "execute_result"
    }
   ],
   "source": [
    "best_model_path = best_iou_callback.best_model_path\n",
    "model = LModelA.load_from_checkpoint(best_model_path, model=obj_model)\n",
    "trainer.test(model, dataloaders=test_dataloader)"
   ]
  },
  {
   "cell_type": "markdown",
   "id": "4b21baa5",
   "metadata": {},
   "source": [
    "# Использование моделей на основе графов"
   ]
  },
  {
   "cell_type": "markdown",
   "id": "0b6b49c8",
   "metadata": {},
   "source": [
    "## Датасет для графов"
   ]
  },
  {
   "cell_type": "code",
   "execution_count": null,
   "id": "8e798f32",
   "metadata": {},
   "outputs": [
    {
     "ename": "",
     "evalue": "",
     "output_type": "error",
     "traceback": [
      "\u001b[1;31mnotebook controller is DISPOSED. \n",
      "\u001b[1;31mView Jupyter <a href='command:jupyter.viewOutput'>log</a> for further details."
     ]
    }
   ],
   "source": [
    "import torch\n",
    "import torch.nn as nn\n",
    "import torch.nn.functional as F\n",
    "import numpy as np\n",
    "import ast\n",
    "import pandas as pd\n",
    "\n",
    "from torch.utils.data import Dataset\n",
    "from torch_geometric.data import Data\n",
    "from torch_geometric.loader import DataLoader\n",
    "from torch_geometric.nn import GINConv, GATConv, global_mean_pool, LayerNorm\n",
    "\n",
    "\n",
    "class ProteinPeptideGNNDataset(Dataset):\n",
    "    def __init__(self, df):\n",
    "        self.df = df\n",
    "\n",
    "    def __len__(self):\n",
    "        return len(self.df)\n",
    "\n",
    "    def create_chain_edges(self, length, offset=0):\n",
    "        edges = []\n",
    "        for i in range(length - 1):\n",
    "            edges.append((i + offset, i + 1 + offset))\n",
    "            edges.append((i + 1 + offset, i + offset))\n",
    "        return edges\n",
    "\n",
    "    def create_full_bipartite_edges(self, protein_len, peptide_len):\n",
    "        edges = []\n",
    "        for i in range(protein_len):\n",
    "            for j in range(peptide_len):\n",
    "                edges.append((i, j + protein_len))\n",
    "                edges.append((j + protein_len, i))\n",
    "        return edges\n",
    "\n",
    "    def __getitem__(self, idx):\n",
    "        row = self.df.loc[idx]\n",
    "        score = row['score']\n",
    "        alpha_path = row['alpha_path']\n",
    "        beta_path = row['beta_path']\n",
    "        peptide_path = row['peptide_path']\n",
    "        alpha_positions = row['alpha_positions']\n",
    "        beta_positions = row['beta_positions']\n",
    "\n",
    "        alpha_embeddings = np.load(alpha_path)[:, ast.literal_eval(alpha_positions), :].squeeze(0)\n",
    "        beta_embeddings = np.load(beta_path)[:, ast.literal_eval(beta_positions), :].squeeze(0)\n",
    "        protein_embeddings = np.concatenate([alpha_embeddings, beta_embeddings], axis=0)\n",
    "        peptide_embeddings = np.load(peptide_path)[:,1:-1].squeeze(0)\n",
    "\n",
    "        protein_embeddings = torch.FloatTensor(protein_embeddings)\n",
    "        peptide_embeddings = torch.FloatTensor(peptide_embeddings)\n",
    "\n",
    "        x = torch.cat([protein_embeddings, peptide_embeddings], dim=0)\n",
    "        protein_len = protein_embeddings.size(0)\n",
    "        peptide_len = peptide_embeddings.size(0)\n",
    "\n",
    "        seq_edges = self.create_chain_edges(protein_len) + self.create_chain_edges(peptide_len, offset=protein_len)\n",
    "        int_edges = self.create_full_bipartite_edges(protein_len, peptide_len)\n",
    "        edge_index = torch.tensor(seq_edges + int_edges, dtype=torch.long).t().contiguous()\n",
    "\n",
    "        peptide_mask = torch.zeros(x.size(0), dtype=torch.bool)\n",
    "        peptide_mask[protein_len:] = True\n",
    "        y = torch.tensor([score], dtype=torch.float)\n",
    "\n",
    "        data = Data(x=x, edge_index=edge_index, y=y)\n",
    "        data.peptide_mask = peptide_mask\n",
    "        data.protein_len = protein_len\n",
    "        data.peptide_len = peptide_len\n",
    "        return data"
   ]
  },
  {
   "cell_type": "markdown",
   "id": "e6602197",
   "metadata": {},
   "source": [
    "### Объявляем датасеты"
   ]
  },
  {
   "cell_type": "code",
   "execution_count": null,
   "id": "45f02261",
   "metadata": {},
   "outputs": [
    {
     "ename": "",
     "evalue": "",
     "output_type": "error",
     "traceback": [
      "\u001b[1;31mnotebook controller is DISPOSED. \n",
      "\u001b[1;31mView Jupyter <a href='command:jupyter.viewOutput'>log</a> for further details."
     ]
    }
   ],
   "source": [
    "BATCH_SIZE = 512\n",
    "\n",
    "train_dataset = ProteinPeptideGNNDataset(train_data)\n",
    "val_dataset = ProteinPeptideGNNDataset(val_data)\n",
    "test_dataset = ProteinPeptideGNNDataset(test_data)\n",
    "\n",
    "\n",
    "train_dataloader = DataLoader(train_dataset, batch_size=BATCH_SIZE, shuffle=True, num_workers=8)\n",
    "val_dataloader = DataLoader(val_dataset, batch_size=BATCH_SIZE, shuffle=False, num_workers=8)\n",
    "test_dataloader = DataLoader(test_dataset, batch_size=BATCH_SIZE, shuffle=False, num_workers=8)\n"
   ]
  },
  {
   "cell_type": "markdown",
   "id": "93ffa916",
   "metadata": {},
   "source": [
    "### Модели на графах"
   ]
  },
  {
   "cell_type": "markdown",
   "id": "5f781daf",
   "metadata": {},
   "source": [
    "#### 1)"
   ]
  },
  {
   "cell_type": "code",
   "execution_count": null,
   "id": "84936aa9",
   "metadata": {},
   "outputs": [
    {
     "ename": "",
     "evalue": "",
     "output_type": "error",
     "traceback": [
      "\u001b[1;31mnotebook controller is DISPOSED. \n",
      "\u001b[1;31mView Jupyter <a href='command:jupyter.viewOutput'>log</a> for further details."
     ]
    }
   ],
   "source": [
    "# ---------- GNN Model ----------\n",
    "class GNNModel(nn.Module):\n",
    "    def __init__(self, input_dim=1152, hidden_dim=128, dropout=0.2):\n",
    "        super().__init__()\n",
    "\n",
    "        self.conv1 = GATConv(input_dim, hidden_dim, heads=2, concat=False)\n",
    "        self.norm1 = LayerNorm(hidden_dim)\n",
    "        self.conv2 = GATConv(hidden_dim, hidden_dim, heads=2, concat=False)\n",
    "        self.norm2 = LayerNorm(hidden_dim)\n",
    "\n",
    "        self.dropout = nn.Dropout(dropout)\n",
    "\n",
    "        self.out = nn.Sequential(\n",
    "            nn.Linear(hidden_dim * 2, 128),\n",
    "            nn.ReLU(),\n",
    "            nn.Dropout(dropout),\n",
    "            nn.Linear(128, 1)\n",
    "        )\n",
    "\n",
    "    def forward(self, data):\n",
    "        x, edge_index = data.x, data.edge_index\n",
    "        batch = data.batch\n",
    "        peptide_mask = data.peptide_mask\n",
    "\n",
    "        x = F.elu(self.norm1(self.conv1(x, edge_index)))\n",
    "        x = self.dropout(x)\n",
    "        x = F.elu(self.norm2(self.conv2(x, edge_index)))\n",
    "        x = self.dropout(x)\n",
    "\n",
    "        prot_repr = global_mean_pool(x[~peptide_mask], batch[~peptide_mask])\n",
    "        pep_repr = global_mean_pool(x[peptide_mask], batch[peptide_mask])\n",
    "\n",
    "        combined = torch.cat([prot_repr, pep_repr], dim=1)\n",
    "        score = self.out(combined)\n",
    "\n",
    "        return score\n",
    "\n",
    "\n"
   ]
  },
  {
   "cell_type": "markdown",
   "id": "fa4cc850",
   "metadata": {},
   "source": [
    "#### 2)"
   ]
  },
  {
   "cell_type": "code",
   "execution_count": null,
   "id": "606e3bae",
   "metadata": {},
   "outputs": [
    {
     "ename": "",
     "evalue": "",
     "output_type": "error",
     "traceback": [
      "\u001b[1;31mnotebook controller is DISPOSED. \n",
      "\u001b[1;31mView Jupyter <a href='command:jupyter.viewOutput'>log</a> for further details."
     ]
    }
   ],
   "source": [
    "class GINModel(nn.Module):\n",
    "    def __init__(self, input_dim=1152, hidden_dim=128, dropout=0.3):\n",
    "        super().__init__()\n",
    "\n",
    "        # MLP для GINConv (обычно состоит из 2-х линейных слоёв)\n",
    "        def gin_mlp(in_dim, out_dim):\n",
    "            return nn.Sequential(\n",
    "                nn.Linear(in_dim, out_dim),\n",
    "                nn.ReLU(),\n",
    "                nn.Linear(out_dim, out_dim)\n",
    "            )\n",
    "\n",
    "        self.gin1 = GINConv(gin_mlp(input_dim, hidden_dim))\n",
    "        self.norm1 = LayerNorm(hidden_dim)\n",
    "\n",
    "        self.gin2 = GINConv(gin_mlp(hidden_dim, hidden_dim))\n",
    "        self.norm2 = LayerNorm(hidden_dim)\n",
    "\n",
    "        self.dropout = nn.Dropout(dropout)\n",
    "\n",
    "        self.mlp = nn.Sequential(\n",
    "            nn.Linear(hidden_dim * 2, 128),\n",
    "            nn.ReLU(),\n",
    "            nn.Dropout(dropout),\n",
    "            nn.Linear(128, 1)\n",
    "        )\n",
    "\n",
    "    def forward(self, data):\n",
    "        x, edge_index = data.x, data.edge_index\n",
    "        batch = data.batch\n",
    "        peptide_mask = data.peptide_mask\n",
    "\n",
    "        x = F.relu(self.norm1(self.gin1(x, edge_index)))\n",
    "        x = self.dropout(x)\n",
    "\n",
    "        x = F.relu(self.norm2(self.gin2(x, edge_index)))\n",
    "        x = self.dropout(x)\n",
    "\n",
    "        prot_repr = global_mean_pool(x[~peptide_mask], batch[~peptide_mask])\n",
    "        pep_repr  = global_mean_pool(x[peptide_mask], batch[peptide_mask])\n",
    "\n",
    "        combined = torch.cat([prot_repr, pep_repr], dim=1)\n",
    "        score = self.mlp(combined)\n",
    "        return score"
   ]
  },
  {
   "cell_type": "markdown",
   "id": "58d4ea76",
   "metadata": {},
   "source": [
    "### Lightning для графов"
   ]
  },
  {
   "cell_type": "code",
   "execution_count": null,
   "id": "95496b08",
   "metadata": {},
   "outputs": [
    {
     "ename": "",
     "evalue": "",
     "output_type": "error",
     "traceback": [
      "\u001b[1;31mnotebook controller is DISPOSED. \n",
      "\u001b[1;31mView Jupyter <a href='command:jupyter.viewOutput'>log</a> for further details."
     ]
    }
   ],
   "source": [
    "\n",
    "class LModelGM(L.LightningModule):\n",
    "    def __init__(self, model, learning_rate, weight_decay):\n",
    "        super().__init__()\n",
    "        self.save_hyperparameters(ignore=['model'])\n",
    "        self.model = model\n",
    "\n",
    "        self.learning_rate = learning_rate\n",
    "        self.weight_decay = weight_decay\n",
    "\n",
    "        # Метрики для каждой стадии\n",
    "        self.train_metrics_regression = self._make_metrics_regression(\"train_\")\n",
    "        self.validation_metrics_regression = self._make_metrics_regression(\"validation_\")\n",
    "        self.test_metrics_regression = self._make_metrics_regression(\"test_\")\n",
    "\n",
    "        self.train_metrics_classification = self._make_metrics_classification(\"train_\")\n",
    "        self.validation_metrics_classification = self._make_metrics_classification(\"validation_\")\n",
    "        self.test_metrics_classification = self._make_metrics_classification(\"test_\")\n",
    "\n",
    "        # self.loss_fn = nn.MSELoss()\n",
    "        self.loss_fn = nn.HuberLoss()\n",
    "        #self.loss_fn = nn.BCEWithLogitsLoss()\n",
    "\n",
    "        self.cutoff = 1.0 - np.log(500) / np.log(50000)\n",
    "\n",
    "    def _make_metrics_classification(self, prefix):\n",
    "        metrics = torchmetrics.MetricCollection(\n",
    "            {\n",
    "                \"auroc\": AUROC(task=\"binary\"),\n",
    "                \"accuracy\": Accuracy(task=\"binary\")\n",
    "            },\n",
    "            prefix=prefix\n",
    "        )\n",
    "        return metrics\n",
    "\n",
    "    def _make_metrics_regression(self, prefix):\n",
    "        metrics = torchmetrics.MetricCollection(\n",
    "            {\n",
    "                \"pcc\": PearsonCorrCoef(),\n",
    "                \"r2\": R2Score()\n",
    "            },\n",
    "            prefix=prefix\n",
    "        )\n",
    "        return metrics\n",
    "\n",
    "\n",
    "    def forward(self, batch):\n",
    "        return self.model(batch)\n",
    "\n",
    "    def _evaluate(self, batch, stage=None):\n",
    "        scores = batch.y\n",
    "        binary_scores = (scores >= self.cutoff).float()\n",
    "        logits = self.forward(batch)\n",
    "        probs = logits.sigmoid()        \n",
    "        loss = self.loss_fn(probs, scores)\n",
    "\n",
    "        metrics_dict = {f\"{stage}_loss\": loss}\n",
    "        if stage == 'train':\n",
    "            metrics_dict.update(self.train_metrics_regression(probs, scores))\n",
    "            metrics_dict.update(self.train_metrics_classification(probs, binary_scores))\n",
    "        elif stage == 'validation':\n",
    "            metrics_dict.update(self.validation_metrics_regression(probs, scores))\n",
    "            metrics_dict.update(self.validation_metrics_classification(probs, binary_scores))\n",
    "        elif stage == 'test':\n",
    "            metrics_dict.update(self.test_metrics_regression(probs, scores))\n",
    "            metrics_dict.update(self.test_metrics_classification(probs, binary_scores))\n",
    "\n",
    "        self.log_dict(metrics_dict, \n",
    "                      on_step=(stage == 'train'), \n",
    "                      on_epoch=True, \n",
    "                      prog_bar=True, \n",
    "                      sync_dist=True,\n",
    "                      batch_size=BATCH_SIZE)\n",
    "\n",
    "        return loss\n",
    "\n",
    "    def training_step(self, batch, batch_idx):\n",
    "        return self._evaluate(batch, stage='train')\n",
    "\n",
    "    def validation_step(self, batch, batch_idx):\n",
    "        self._evaluate(batch, stage='validation')\n",
    "\n",
    "    def test_step(self, batch, batch_idx):\n",
    "        self._evaluate(batch, stage='test')\n",
    "\n",
    "    def on_train_epoch_end(self):\n",
    "        self.train_metrics_classification.reset()\n",
    "        self.train_metrics_regression.reset()\n",
    "\n",
    "    def on_validation_epoch_end(self):\n",
    "        self.log_dict(self.validation_metrics_regression.compute(),\n",
    "                      on_step=False, on_epoch=True, \n",
    "                      prog_bar=True, sync_dist=True, \n",
    "                      batch_size=BATCH_SIZE)\n",
    "        self.validation_metrics_regression.reset()\n",
    "\n",
    "        self.log_dict(self.validation_metrics_classification.compute(),\n",
    "                      on_step=False, on_epoch=True, \n",
    "                      prog_bar=True, sync_dist=True, \n",
    "                      batch_size=BATCH_SIZE)\n",
    "        self.validation_metrics_classification.reset()\n",
    "\n",
    "    def on_test_epoch_end(self):\n",
    "        self.log_dict(self.test_metrics_regression.compute(),\n",
    "                      on_step=False, on_epoch=True, \n",
    "                      prog_bar=True, sync_dist=True, \n",
    "                      batch_size=BATCH_SIZE)\n",
    "        self.test_metrics_regression.reset()\n",
    "\n",
    "        self.log_dict(self.test_metrics_classification.compute(),\n",
    "                      on_step=False, on_epoch=True, \n",
    "                      prog_bar=True, sync_dist=True, \n",
    "                      batch_size=BATCH_SIZE)\n",
    "        self.test_metrics_classification.reset()\n",
    "\n",
    "    def configure_optimizers(self):\n",
    "        optimizer = torch.optim.AdamW(self.parameters(), \n",
    "                                      lr=self.learning_rate, \n",
    "                                      weight_decay=self.weight_decay)\n",
    "\n",
    "        scheduler = torch.optim.lr_scheduler.CosineAnnealingLR(\n",
    "            optimizer,\n",
    "            T_max=self.trainer.max_epochs,\n",
    "            eta_min=1e-6\n",
    "        )\n",
    "\n",
    "        return {\n",
    "            \"optimizer\": optimizer,\n",
    "            \"lr_scheduler\": {\n",
    "                \"scheduler\": scheduler,\n",
    "                \"interval\": \"step\",\n",
    "                \"frequency\": 20,\n",
    "            }\n",
    "        }\n"
   ]
  },
  {
   "cell_type": "code",
   "execution_count": null,
   "id": "1c8962e7",
   "metadata": {},
   "outputs": [
    {
     "name": "stderr",
     "output_type": "stream",
     "text": [
      "Using 16bit Automatic Mixed Precision (AMP)\n",
      "GPU available: True (cuda), used: True\n",
      "TPU available: False, using: 0 TPU cores\n",
      "HPU available: False, using: 0 HPUs\n",
      "LOCAL_RANK: 0 - CUDA_VISIBLE_DEVICES: [0,1,2,3]\n",
      "\n",
      "  | Name                              | Type             | Params | Mode \n",
      "-------------------------------------------------------------------------------\n",
      "0 | model                             | GNNModel         | 362 K  | train\n",
      "1 | train_metrics_regression          | MetricCollection | 0      | train\n",
      "2 | validation_metrics_regression     | MetricCollection | 0      | train\n",
      "3 | test_metrics_regression           | MetricCollection | 0      | train\n",
      "4 | train_metrics_classification      | MetricCollection | 0      | train\n",
      "5 | validation_metrics_classification | MetricCollection | 0      | train\n",
      "6 | test_metrics_classification       | MetricCollection | 0      | train\n",
      "7 | loss_fn                           | HuberLoss        | 0      | train\n",
      "-------------------------------------------------------------------------------\n",
      "362 K     Trainable params\n",
      "0         Non-trainable params\n",
      "362 K     Total params\n",
      "1.450     Total estimated model params size (MB)\n",
      "34        Modules in train mode\n",
      "0         Modules in eval mode\n"
     ]
    },
    {
     "data": {
      "application/vnd.jupyter.widget-view+json": {
       "model_id": "9294ef3716484f1aaa8c54e91d7f7318",
       "version_major": 2,
       "version_minor": 0
      },
      "text/plain": [
       "Sanity Checking: |                                                       | 0/? [00:00<?, ?it/s]"
      ]
     },
     "metadata": {},
     "output_type": "display_data"
    },
    {
     "data": {
      "application/vnd.jupyter.widget-view+json": {
       "model_id": "649130c2a5fe4ba39f18a76a0126f404",
       "version_major": 2,
       "version_minor": 0
      },
      "text/plain": [
       "Training: |                                                              | 0/? [00:00<?, ?it/s]"
      ]
     },
     "metadata": {},
     "output_type": "display_data"
    },
    {
     "data": {
      "application/vnd.jupyter.widget-view+json": {
       "model_id": "d667d4ab3960426b8c27b1db4c76c9e8",
       "version_major": 2,
       "version_minor": 0
      },
      "text/plain": [
       "Validation: |                                                            | 0/? [00:00<?, ?it/s]"
      ]
     },
     "metadata": {},
     "output_type": "display_data"
    },
    {
     "data": {
      "application/vnd.jupyter.widget-view+json": {
       "model_id": "9ec4877faf9942cdbcbc7636ccaf8ec2",
       "version_major": 2,
       "version_minor": 0
      },
      "text/plain": [
       "Validation: |                                                            | 0/? [00:00<?, ?it/s]"
      ]
     },
     "metadata": {},
     "output_type": "display_data"
    },
    {
     "data": {
      "application/vnd.jupyter.widget-view+json": {
       "model_id": "5070ff54432a49468ea25721a2c96e03",
       "version_major": 2,
       "version_minor": 0
      },
      "text/plain": [
       "Validation: |                                                            | 0/? [00:00<?, ?it/s]"
      ]
     },
     "metadata": {},
     "output_type": "display_data"
    },
    {
     "data": {
      "application/vnd.jupyter.widget-view+json": {
       "model_id": "78031b10dc0c45e0b5419e25455a69b4",
       "version_major": 2,
       "version_minor": 0
      },
      "text/plain": [
       "Validation: |                                                            | 0/? [00:00<?, ?it/s]"
      ]
     },
     "metadata": {},
     "output_type": "display_data"
    },
    {
     "data": {
      "application/vnd.jupyter.widget-view+json": {
       "model_id": "e9095374714d4b25acbfd609047c2ea8",
       "version_major": 2,
       "version_minor": 0
      },
      "text/plain": [
       "Validation: |                                                            | 0/? [00:00<?, ?it/s]"
      ]
     },
     "metadata": {},
     "output_type": "display_data"
    },
    {
     "data": {
      "application/vnd.jupyter.widget-view+json": {
       "model_id": "be22b6632f364f6d84c5f173032d2c13",
       "version_major": 2,
       "version_minor": 0
      },
      "text/plain": [
       "Validation: |                                                            | 0/? [00:00<?, ?it/s]"
      ]
     },
     "metadata": {},
     "output_type": "display_data"
    },
    {
     "data": {
      "application/vnd.jupyter.widget-view+json": {
       "model_id": "93f9104bea2a4cee953b6f970348f6d0",
       "version_major": 2,
       "version_minor": 0
      },
      "text/plain": [
       "Validation: |                                                            | 0/? [00:00<?, ?it/s]"
      ]
     },
     "metadata": {},
     "output_type": "display_data"
    },
    {
     "data": {
      "application/vnd.jupyter.widget-view+json": {
       "model_id": "5e572fcbd7a14cd79dd3cd22f14dcc66",
       "version_major": 2,
       "version_minor": 0
      },
      "text/plain": [
       "Validation: |                                                            | 0/? [00:00<?, ?it/s]"
      ]
     },
     "metadata": {},
     "output_type": "display_data"
    },
    {
     "data": {
      "application/vnd.jupyter.widget-view+json": {
       "model_id": "3be8d463379f46169ab1d7c8ab8387ab",
       "version_major": 2,
       "version_minor": 0
      },
      "text/plain": [
       "Validation: |                                                            | 0/? [00:00<?, ?it/s]"
      ]
     },
     "metadata": {},
     "output_type": "display_data"
    },
    {
     "data": {
      "application/vnd.jupyter.widget-view+json": {
       "model_id": "f46132e398dc4b16a299f6d68e3634d1",
       "version_major": 2,
       "version_minor": 0
      },
      "text/plain": [
       "Validation: |                                                            | 0/? [00:00<?, ?it/s]"
      ]
     },
     "metadata": {},
     "output_type": "display_data"
    },
    {
     "data": {
      "application/vnd.jupyter.widget-view+json": {
       "model_id": "f8f4f381b3eb44f383733c486eeb245c",
       "version_major": 2,
       "version_minor": 0
      },
      "text/plain": [
       "Validation: |                                                            | 0/? [00:00<?, ?it/s]"
      ]
     },
     "metadata": {},
     "output_type": "display_data"
    },
    {
     "data": {
      "application/vnd.jupyter.widget-view+json": {
       "model_id": "16c687bfb68642dda1b23eca6fd4e6a7",
       "version_major": 2,
       "version_minor": 0
      },
      "text/plain": [
       "Validation: |                                                            | 0/? [00:00<?, ?it/s]"
      ]
     },
     "metadata": {},
     "output_type": "display_data"
    },
    {
     "data": {
      "application/vnd.jupyter.widget-view+json": {
       "model_id": "6a2b18a746be4ed8a090d6242589bf42",
       "version_major": 2,
       "version_minor": 0
      },
      "text/plain": [
       "Validation: |                                                            | 0/? [00:00<?, ?it/s]"
      ]
     },
     "metadata": {},
     "output_type": "display_data"
    },
    {
     "data": {
      "application/vnd.jupyter.widget-view+json": {
       "model_id": "7bcc687142a34df395f9b715cb03250d",
       "version_major": 2,
       "version_minor": 0
      },
      "text/plain": [
       "Validation: |                                                            | 0/? [00:00<?, ?it/s]"
      ]
     },
     "metadata": {},
     "output_type": "display_data"
    },
    {
     "data": {
      "application/vnd.jupyter.widget-view+json": {
       "model_id": "30326c9457aa43009fbd9ac35ba2220a",
       "version_major": 2,
       "version_minor": 0
      },
      "text/plain": [
       "Validation: |                                                            | 0/? [00:00<?, ?it/s]"
      ]
     },
     "metadata": {},
     "output_type": "display_data"
    },
    {
     "data": {
      "application/vnd.jupyter.widget-view+json": {
       "model_id": "e6f78ae7f62f4497a29dfa8b1b5e819e",
       "version_major": 2,
       "version_minor": 0
      },
      "text/plain": [
       "Validation: |                                                            | 0/? [00:00<?, ?it/s]"
      ]
     },
     "metadata": {},
     "output_type": "display_data"
    },
    {
     "data": {
      "application/vnd.jupyter.widget-view+json": {
       "model_id": "903114107afa406ea256f6fce58582c6",
       "version_major": 2,
       "version_minor": 0
      },
      "text/plain": [
       "Validation: |                                                            | 0/? [00:00<?, ?it/s]"
      ]
     },
     "metadata": {},
     "output_type": "display_data"
    },
    {
     "data": {
      "application/vnd.jupyter.widget-view+json": {
       "model_id": "1d9f23752709496db3689b90adcf7d8a",
       "version_major": 2,
       "version_minor": 0
      },
      "text/plain": [
       "Validation: |                                                            | 0/? [00:00<?, ?it/s]"
      ]
     },
     "metadata": {},
     "output_type": "display_data"
    },
    {
     "data": {
      "application/vnd.jupyter.widget-view+json": {
       "model_id": "813bc7773e87416b9cb016a6843d3d96",
       "version_major": 2,
       "version_minor": 0
      },
      "text/plain": [
       "Validation: |                                                            | 0/? [00:00<?, ?it/s]"
      ]
     },
     "metadata": {},
     "output_type": "display_data"
    },
    {
     "data": {
      "application/vnd.jupyter.widget-view+json": {
       "model_id": "cc69ab9f6ea54bf5a6113ac0425af492",
       "version_major": 2,
       "version_minor": 0
      },
      "text/plain": [
       "Validation: |                                                            | 0/? [00:00<?, ?it/s]"
      ]
     },
     "metadata": {},
     "output_type": "display_data"
    },
    {
     "data": {
      "application/vnd.jupyter.widget-view+json": {
       "model_id": "b8a9241601bf466a81486344147e43a5",
       "version_major": 2,
       "version_minor": 0
      },
      "text/plain": [
       "Validation: |                                                            | 0/? [00:00<?, ?it/s]"
      ]
     },
     "metadata": {},
     "output_type": "display_data"
    },
    {
     "data": {
      "application/vnd.jupyter.widget-view+json": {
       "model_id": "b76fa71f04cd4126bf4c88fd24c05d92",
       "version_major": 2,
       "version_minor": 0
      },
      "text/plain": [
       "Validation: |                                                            | 0/? [00:00<?, ?it/s]"
      ]
     },
     "metadata": {},
     "output_type": "display_data"
    },
    {
     "data": {
      "application/vnd.jupyter.widget-view+json": {
       "model_id": "32b3282747dc435c98d49b8f138f9b83",
       "version_major": 2,
       "version_minor": 0
      },
      "text/plain": [
       "Validation: |                                                            | 0/? [00:00<?, ?it/s]"
      ]
     },
     "metadata": {},
     "output_type": "display_data"
    },
    {
     "data": {
      "application/vnd.jupyter.widget-view+json": {
       "model_id": "d1b94ac7102c44609984e057fc99707e",
       "version_major": 2,
       "version_minor": 0
      },
      "text/plain": [
       "Validation: |                                                            | 0/? [00:00<?, ?it/s]"
      ]
     },
     "metadata": {},
     "output_type": "display_data"
    },
    {
     "data": {
      "application/vnd.jupyter.widget-view+json": {
       "model_id": "bc50455747dc4c6283e7ba1d7db02242",
       "version_major": 2,
       "version_minor": 0
      },
      "text/plain": [
       "Validation: |                                                            | 0/? [00:00<?, ?it/s]"
      ]
     },
     "metadata": {},
     "output_type": "display_data"
    },
    {
     "data": {
      "application/vnd.jupyter.widget-view+json": {
       "model_id": "a81b7c6e24294f6baf42bf86d99fbb62",
       "version_major": 2,
       "version_minor": 0
      },
      "text/plain": [
       "Validation: |                                                            | 0/? [00:00<?, ?it/s]"
      ]
     },
     "metadata": {},
     "output_type": "display_data"
    },
    {
     "data": {
      "application/vnd.jupyter.widget-view+json": {
       "model_id": "7bdd96fb235948cb9f6ac199d6666d84",
       "version_major": 2,
       "version_minor": 0
      },
      "text/plain": [
       "Validation: |                                                            | 0/? [00:00<?, ?it/s]"
      ]
     },
     "metadata": {},
     "output_type": "display_data"
    },
    {
     "data": {
      "application/vnd.jupyter.widget-view+json": {
       "model_id": "34ee4fa48e264df0b501395bad24a4ee",
       "version_major": 2,
       "version_minor": 0
      },
      "text/plain": [
       "Validation: |                                                            | 0/? [00:00<?, ?it/s]"
      ]
     },
     "metadata": {},
     "output_type": "display_data"
    },
    {
     "data": {
      "application/vnd.jupyter.widget-view+json": {
       "model_id": "a32ecb4006b24bb39f0c0c0615eee75b",
       "version_major": 2,
       "version_minor": 0
      },
      "text/plain": [
       "Validation: |                                                            | 0/? [00:00<?, ?it/s]"
      ]
     },
     "metadata": {},
     "output_type": "display_data"
    },
    {
     "data": {
      "application/vnd.jupyter.widget-view+json": {
       "model_id": "569dd18462ae43cba81e098aa3067e24",
       "version_major": 2,
       "version_minor": 0
      },
      "text/plain": [
       "Validation: |                                                            | 0/? [00:00<?, ?it/s]"
      ]
     },
     "metadata": {},
     "output_type": "display_data"
    },
    {
     "data": {
      "application/vnd.jupyter.widget-view+json": {
       "model_id": "f57fdfaabfa94ce3aa6b9def194000b7",
       "version_major": 2,
       "version_minor": 0
      },
      "text/plain": [
       "Validation: |                                                            | 0/? [00:00<?, ?it/s]"
      ]
     },
     "metadata": {},
     "output_type": "display_data"
    },
    {
     "data": {
      "application/vnd.jupyter.widget-view+json": {
       "model_id": "a8155db7aaeb405ea9890d53096b0822",
       "version_major": 2,
       "version_minor": 0
      },
      "text/plain": [
       "Validation: |                                                            | 0/? [00:00<?, ?it/s]"
      ]
     },
     "metadata": {},
     "output_type": "display_data"
    },
    {
     "data": {
      "application/vnd.jupyter.widget-view+json": {
       "model_id": "81dbc33db41542d88f874b3fbe082a02",
       "version_major": 2,
       "version_minor": 0
      },
      "text/plain": [
       "Validation: |                                                            | 0/? [00:00<?, ?it/s]"
      ]
     },
     "metadata": {},
     "output_type": "display_data"
    },
    {
     "data": {
      "application/vnd.jupyter.widget-view+json": {
       "model_id": "963ced533c444c83882fb8b814ea03e9",
       "version_major": 2,
       "version_minor": 0
      },
      "text/plain": [
       "Validation: |                                                            | 0/? [00:00<?, ?it/s]"
      ]
     },
     "metadata": {},
     "output_type": "display_data"
    },
    {
     "data": {
      "application/vnd.jupyter.widget-view+json": {
       "model_id": "fc0899436217432cb5cc4c5ee1dd5328",
       "version_major": 2,
       "version_minor": 0
      },
      "text/plain": [
       "Validation: |                                                            | 0/? [00:00<?, ?it/s]"
      ]
     },
     "metadata": {},
     "output_type": "display_data"
    },
    {
     "data": {
      "application/vnd.jupyter.widget-view+json": {
       "model_id": "3e2600c74a2a4dbdafacea92ea1debb3",
       "version_major": 2,
       "version_minor": 0
      },
      "text/plain": [
       "Validation: |                                                            | 0/? [00:00<?, ?it/s]"
      ]
     },
     "metadata": {},
     "output_type": "display_data"
    },
    {
     "data": {
      "application/vnd.jupyter.widget-view+json": {
       "model_id": "275ba2069099443593e498ba8d1604ee",
       "version_major": 2,
       "version_minor": 0
      },
      "text/plain": [
       "Validation: |                                                            | 0/? [00:00<?, ?it/s]"
      ]
     },
     "metadata": {},
     "output_type": "display_data"
    },
    {
     "data": {
      "application/vnd.jupyter.widget-view+json": {
       "model_id": "ab7098ac9d634e97a80246f9f9449688",
       "version_major": 2,
       "version_minor": 0
      },
      "text/plain": [
       "Validation: |                                                            | 0/? [00:00<?, ?it/s]"
      ]
     },
     "metadata": {},
     "output_type": "display_data"
    },
    {
     "data": {
      "application/vnd.jupyter.widget-view+json": {
       "model_id": "5469e8a972f84b3fb00c5bd4ba740593",
       "version_major": 2,
       "version_minor": 0
      },
      "text/plain": [
       "Validation: |                                                            | 0/? [00:00<?, ?it/s]"
      ]
     },
     "metadata": {},
     "output_type": "display_data"
    },
    {
     "data": {
      "application/vnd.jupyter.widget-view+json": {
       "model_id": "c917dd4ec0224d97bb961214484509e1",
       "version_major": 2,
       "version_minor": 0
      },
      "text/plain": [
       "Validation: |                                                            | 0/? [00:00<?, ?it/s]"
      ]
     },
     "metadata": {},
     "output_type": "display_data"
    },
    {
     "data": {
      "application/vnd.jupyter.widget-view+json": {
       "model_id": "cf5a5252191c47fc995f5f95c1368228",
       "version_major": 2,
       "version_minor": 0
      },
      "text/plain": [
       "Validation: |                                                            | 0/? [00:00<?, ?it/s]"
      ]
     },
     "metadata": {},
     "output_type": "display_data"
    },
    {
     "data": {
      "application/vnd.jupyter.widget-view+json": {
       "model_id": "3db0e6bc4eaa4a778022d46b53814d2c",
       "version_major": 2,
       "version_minor": 0
      },
      "text/plain": [
       "Validation: |                                                            | 0/? [00:00<?, ?it/s]"
      ]
     },
     "metadata": {},
     "output_type": "display_data"
    },
    {
     "data": {
      "application/vnd.jupyter.widget-view+json": {
       "model_id": "ae3124a2c1b6483b8de26125d0ff2499",
       "version_major": 2,
       "version_minor": 0
      },
      "text/plain": [
       "Validation: |                                                            | 0/? [00:00<?, ?it/s]"
      ]
     },
     "metadata": {},
     "output_type": "display_data"
    },
    {
     "data": {
      "application/vnd.jupyter.widget-view+json": {
       "model_id": "b32e6de366644098b33bdfd3f653a7e5",
       "version_major": 2,
       "version_minor": 0
      },
      "text/plain": [
       "Validation: |                                                            | 0/? [00:00<?, ?it/s]"
      ]
     },
     "metadata": {},
     "output_type": "display_data"
    },
    {
     "data": {
      "application/vnd.jupyter.widget-view+json": {
       "model_id": "416029752d1f4f6ca96c525b8f8caaf1",
       "version_major": 2,
       "version_minor": 0
      },
      "text/plain": [
       "Validation: |                                                            | 0/? [00:00<?, ?it/s]"
      ]
     },
     "metadata": {},
     "output_type": "display_data"
    },
    {
     "data": {
      "application/vnd.jupyter.widget-view+json": {
       "model_id": "aaa05e5f1c1f4c5fb785ecf9746c4d5d",
       "version_major": 2,
       "version_minor": 0
      },
      "text/plain": [
       "Validation: |                                                            | 0/? [00:00<?, ?it/s]"
      ]
     },
     "metadata": {},
     "output_type": "display_data"
    },
    {
     "data": {
      "application/vnd.jupyter.widget-view+json": {
       "model_id": "eb0dd06bc17f492787da7f0dbcb38f8e",
       "version_major": 2,
       "version_minor": 0
      },
      "text/plain": [
       "Validation: |                                                            | 0/? [00:00<?, ?it/s]"
      ]
     },
     "metadata": {},
     "output_type": "display_data"
    },
    {
     "data": {
      "application/vnd.jupyter.widget-view+json": {
       "model_id": "425bd25ec5b24ad1965e8e25de8c10ae",
       "version_major": 2,
       "version_minor": 0
      },
      "text/plain": [
       "Validation: |                                                            | 0/? [00:00<?, ?it/s]"
      ]
     },
     "metadata": {},
     "output_type": "display_data"
    },
    {
     "data": {
      "application/vnd.jupyter.widget-view+json": {
       "model_id": "dbd97b1704974aa98eefe1ce003307e7",
       "version_major": 2,
       "version_minor": 0
      },
      "text/plain": [
       "Validation: |                                                            | 0/? [00:00<?, ?it/s]"
      ]
     },
     "metadata": {},
     "output_type": "display_data"
    },
    {
     "data": {
      "application/vnd.jupyter.widget-view+json": {
       "model_id": "c38903335f2a4f4787c7a1d2d521f48c",
       "version_major": 2,
       "version_minor": 0
      },
      "text/plain": [
       "Validation: |                                                            | 0/? [00:00<?, ?it/s]"
      ]
     },
     "metadata": {},
     "output_type": "display_data"
    },
    {
     "data": {
      "application/vnd.jupyter.widget-view+json": {
       "model_id": "090b9fcba6d34ce888712c03de7432d6",
       "version_major": 2,
       "version_minor": 0
      },
      "text/plain": [
       "Validation: |                                                            | 0/? [00:00<?, ?it/s]"
      ]
     },
     "metadata": {},
     "output_type": "display_data"
    },
    {
     "data": {
      "application/vnd.jupyter.widget-view+json": {
       "model_id": "002a02d6f94a4929b83cc405f173fdd4",
       "version_major": 2,
       "version_minor": 0
      },
      "text/plain": [
       "Validation: |                                                            | 0/? [00:00<?, ?it/s]"
      ]
     },
     "metadata": {},
     "output_type": "display_data"
    },
    {
     "data": {
      "application/vnd.jupyter.widget-view+json": {
       "model_id": "ab56d9696e58417585e9bbf392d42b7e",
       "version_major": 2,
       "version_minor": 0
      },
      "text/plain": [
       "Validation: |                                                            | 0/? [00:00<?, ?it/s]"
      ]
     },
     "metadata": {},
     "output_type": "display_data"
    },
    {
     "data": {
      "application/vnd.jupyter.widget-view+json": {
       "model_id": "065e2a95b7eb46f395ca4dee1d890f0f",
       "version_major": 2,
       "version_minor": 0
      },
      "text/plain": [
       "Validation: |                                                            | 0/? [00:00<?, ?it/s]"
      ]
     },
     "metadata": {},
     "output_type": "display_data"
    },
    {
     "data": {
      "application/vnd.jupyter.widget-view+json": {
       "model_id": "274819f8049140feb45cc6f3254e9449",
       "version_major": 2,
       "version_minor": 0
      },
      "text/plain": [
       "Validation: |                                                            | 0/? [00:00<?, ?it/s]"
      ]
     },
     "metadata": {},
     "output_type": "display_data"
    },
    {
     "data": {
      "application/vnd.jupyter.widget-view+json": {
       "model_id": "29b799feda094c5e92d5c37c06676e74",
       "version_major": 2,
       "version_minor": 0
      },
      "text/plain": [
       "Validation: |                                                            | 0/? [00:00<?, ?it/s]"
      ]
     },
     "metadata": {},
     "output_type": "display_data"
    },
    {
     "data": {
      "application/vnd.jupyter.widget-view+json": {
       "model_id": "d6ac8b718f264d6782cbaa66f6e06e2e",
       "version_major": 2,
       "version_minor": 0
      },
      "text/plain": [
       "Validation: |                                                            | 0/? [00:00<?, ?it/s]"
      ]
     },
     "metadata": {},
     "output_type": "display_data"
    },
    {
     "data": {
      "application/vnd.jupyter.widget-view+json": {
       "model_id": "dd0835c86cfc49c4b2f1ebd822842537",
       "version_major": 2,
       "version_minor": 0
      },
      "text/plain": [
       "Validation: |                                                            | 0/? [00:00<?, ?it/s]"
      ]
     },
     "metadata": {},
     "output_type": "display_data"
    },
    {
     "name": "stderr",
     "output_type": "stream",
     "text": [
      "LOCAL_RANK: 0 - CUDA_VISIBLE_DEVICES: [0,1,2,3]\n"
     ]
    },
    {
     "data": {
      "application/vnd.jupyter.widget-view+json": {
       "model_id": "c9816db2746c4e0f893045c96589b454",
       "version_major": 2,
       "version_minor": 0
      },
      "text/plain": [
       "Testing: |                                                               | 0/? [00:00<?, ?it/s]"
      ]
     },
     "metadata": {},
     "output_type": "display_data"
    },
    {
     "name": "stdout",
     "output_type": "stream",
     "text": [
      "────────────────────────────────────────────────────────────────────────────────────────────────────────────────────────\n",
      "       Test metric             DataLoader 0\n",
      "────────────────────────────────────────────────────────────────────────────────────────────────────────────────────────\n",
      "      test_accuracy         0.7147834897041321\n",
      "       test_auroc           0.5235203504562378\n",
      "        test_loss          0.042379897087812424\n",
      "        test_pcc            0.10439755022525787\n",
      "         test_r2            -0.536857008934021\n",
      "────────────────────────────────────────────────────────────────────────────────────────────────────────────────────────\n"
     ]
    },
    {
     "data": {
      "text/plain": [
       "[{'test_loss': 0.042379897087812424,\n",
       "  'test_pcc': 0.10439755022525787,\n",
       "  'test_r2': -0.536857008934021,\n",
       "  'test_accuracy': 0.7147834897041321,\n",
       "  'test_auroc': 0.5235203504562378}]"
      ]
     },
     "execution_count": 48,
     "metadata": {},
     "output_type": "execute_result"
    },
    {
     "ename": "",
     "evalue": "",
     "output_type": "error",
     "traceback": [
      "\u001b[1;31mnotebook controller is DISPOSED. \n",
      "\u001b[1;31mView Jupyter <a href='command:jupyter.viewOutput'>log</a> for further details."
     ]
    }
   ],
   "source": [
    "model_name = 'GNNModel'\n",
    "obj_model = GNNModel(input_dim=1152, hidden_dim=128, dropout=0.2)\n",
    "\n",
    "model = LModelGM(obj_model, \n",
    "                 learning_rate=3e-4, \n",
    "                 weight_decay=1e-3)\n",
    "\n",
    "logger = pl_loggers.TensorBoardLogger(name=f\"{model_name}\", save_dir=log_path)\n",
    "logger_csv = pl_loggers.CSVLogger(name=f\"{model_name}\", save_dir=log_csv_path)\n",
    "\n",
    "checkpoint_callback = ModelCheckpoint(\n",
    "    dirpath=os.path.join(checkpoints_path, f\"{model_name}\", f\"version_{logger_csv.version}\", \"checkpoints\"),\n",
    "    filename=\"model-epoch={epoch:02d}\",\n",
    "    save_top_k=-1,\n",
    "    every_n_epochs=1,\n",
    "    save_on_train_epoch_end=True,\n",
    ")\n",
    "\n",
    "best_iou_callback = ModelCheckpoint(\n",
    "    dirpath=os.path.join(checkpoints_path, f\"{model_name}\", f\"version_{logger_csv.version}\", \"checkpoints\"),\n",
    "    filename=\"best_model_epoch={epoch:02d}-auroc={validation_auroc:.4f}\",\n",
    "    monitor=\"validation_auroc\",\n",
    "    mode=\"max\",\n",
    "    save_top_k=1,\n",
    "    save_on_train_epoch_end=True,\n",
    ")\n",
    "\n",
    "early_stop = EarlyStopping(monitor=\"validation_auroc\", patience=10, mode=\"max\")\n",
    "\n",
    "trainer = L.Trainer(\n",
    "    max_epochs=EPOCHS,\n",
    "    devices=[0],\n",
    "    default_root_dir=f'{checkpoints_path}/{model_name}',\n",
    "    logger=[logger, logger_csv],\n",
    "    accelerator=\"gpu\",\n",
    "    precision=\"16-mixed\",\n",
    "    callbacks=[best_iou_callback, early_stop, TQDMProgressBar(refresh_rate=1)],\n",
    "    log_every_n_steps=1\n",
    ")\n",
    "\n",
    "\n",
    "trainer.fit(model, train_dataloaders=train_dataloader, val_dataloaders=val_dataloader)\n",
    "trainer.test(model, dataloaders=test_dataloader)"
   ]
  },
  {
   "cell_type": "code",
   "execution_count": null,
   "id": "b2ab624d",
   "metadata": {},
   "outputs": [
    {
     "name": "stderr",
     "output_type": "stream",
     "text": [
      "Using 16bit Automatic Mixed Precision (AMP)\n",
      "GPU available: True (cuda), used: True\n",
      "TPU available: False, using: 0 TPU cores\n",
      "HPU available: False, using: 0 HPUs\n",
      "LOCAL_RANK: 0 - CUDA_VISIBLE_DEVICES: [0,1,2,3]\n",
      "\n",
      "  | Name                              | Type             | Params | Mode \n",
      "-------------------------------------------------------------------------------\n",
      "0 | model                             | GINModel         | 230 K  | train\n",
      "1 | train_metrics_regression          | MetricCollection | 0      | train\n",
      "2 | validation_metrics_regression     | MetricCollection | 0      | train\n",
      "3 | test_metrics_regression           | MetricCollection | 0      | train\n",
      "4 | train_metrics_classification      | MetricCollection | 0      | train\n",
      "5 | validation_metrics_classification | MetricCollection | 0      | train\n",
      "6 | test_metrics_classification       | MetricCollection | 0      | train\n",
      "7 | loss_fn                           | HuberLoss        | 0      | train\n",
      "-------------------------------------------------------------------------------\n",
      "230 K     Trainable params\n",
      "0         Non-trainable params\n",
      "230 K     Total params\n",
      "0.923     Total estimated model params size (MB)\n",
      "40        Modules in train mode\n",
      "0         Modules in eval mode\n"
     ]
    },
    {
     "data": {
      "application/vnd.jupyter.widget-view+json": {
       "model_id": "f708b12cb37b4e68ab3e3c9f9ec45acf",
       "version_major": 2,
       "version_minor": 0
      },
      "text/plain": [
       "Sanity Checking: |                                                       | 0/? [00:00<?, ?it/s]"
      ]
     },
     "metadata": {},
     "output_type": "display_data"
    },
    {
     "data": {
      "application/vnd.jupyter.widget-view+json": {
       "model_id": "c212f50eb17c41ea86711c01c48fa772",
       "version_major": 2,
       "version_minor": 0
      },
      "text/plain": [
       "Training: |                                                              | 0/? [00:00<?, ?it/s]"
      ]
     },
     "metadata": {},
     "output_type": "display_data"
    },
    {
     "data": {
      "application/vnd.jupyter.widget-view+json": {
       "model_id": "bcd0c332b92b4b8dbd00eef33849ca7e",
       "version_major": 2,
       "version_minor": 0
      },
      "text/plain": [
       "Validation: |                                                            | 0/? [00:00<?, ?it/s]"
      ]
     },
     "metadata": {},
     "output_type": "display_data"
    },
    {
     "data": {
      "application/vnd.jupyter.widget-view+json": {
       "model_id": "c1042658ba9f4c1c895ff08f9d20e742",
       "version_major": 2,
       "version_minor": 0
      },
      "text/plain": [
       "Validation: |                                                            | 0/? [00:00<?, ?it/s]"
      ]
     },
     "metadata": {},
     "output_type": "display_data"
    },
    {
     "data": {
      "application/vnd.jupyter.widget-view+json": {
       "model_id": "65d04f6693954e5b870cd5fc2d5c78cd",
       "version_major": 2,
       "version_minor": 0
      },
      "text/plain": [
       "Validation: |                                                            | 0/? [00:00<?, ?it/s]"
      ]
     },
     "metadata": {},
     "output_type": "display_data"
    },
    {
     "data": {
      "application/vnd.jupyter.widget-view+json": {
       "model_id": "9de7d6132f42474ca6b3c48eabe6f3e1",
       "version_major": 2,
       "version_minor": 0
      },
      "text/plain": [
       "Validation: |                                                            | 0/? [00:00<?, ?it/s]"
      ]
     },
     "metadata": {},
     "output_type": "display_data"
    },
    {
     "data": {
      "application/vnd.jupyter.widget-view+json": {
       "model_id": "4b40f001327d48d5b45f6bba762a3db1",
       "version_major": 2,
       "version_minor": 0
      },
      "text/plain": [
       "Validation: |                                                            | 0/? [00:00<?, ?it/s]"
      ]
     },
     "metadata": {},
     "output_type": "display_data"
    },
    {
     "data": {
      "application/vnd.jupyter.widget-view+json": {
       "model_id": "b0b5a8f99d044976aae619bb35d337a2",
       "version_major": 2,
       "version_minor": 0
      },
      "text/plain": [
       "Validation: |                                                            | 0/? [00:00<?, ?it/s]"
      ]
     },
     "metadata": {},
     "output_type": "display_data"
    },
    {
     "data": {
      "application/vnd.jupyter.widget-view+json": {
       "model_id": "36658deaa6f24190a42f99e47d6cee91",
       "version_major": 2,
       "version_minor": 0
      },
      "text/plain": [
       "Validation: |                                                            | 0/? [00:00<?, ?it/s]"
      ]
     },
     "metadata": {},
     "output_type": "display_data"
    },
    {
     "data": {
      "application/vnd.jupyter.widget-view+json": {
       "model_id": "03f2ad5a6a27497c9f81336ea22f45bd",
       "version_major": 2,
       "version_minor": 0
      },
      "text/plain": [
       "Validation: |                                                            | 0/? [00:00<?, ?it/s]"
      ]
     },
     "metadata": {},
     "output_type": "display_data"
    },
    {
     "data": {
      "application/vnd.jupyter.widget-view+json": {
       "model_id": "f093e95309ee41d7870b5b8ff54cb0a2",
       "version_major": 2,
       "version_minor": 0
      },
      "text/plain": [
       "Validation: |                                                            | 0/? [00:00<?, ?it/s]"
      ]
     },
     "metadata": {},
     "output_type": "display_data"
    },
    {
     "data": {
      "application/vnd.jupyter.widget-view+json": {
       "model_id": "3effbd20389945058080f99c50c1bf66",
       "version_major": 2,
       "version_minor": 0
      },
      "text/plain": [
       "Validation: |                                                            | 0/? [00:00<?, ?it/s]"
      ]
     },
     "metadata": {},
     "output_type": "display_data"
    },
    {
     "data": {
      "application/vnd.jupyter.widget-view+json": {
       "model_id": "d0e563122650487d868aefe01f263d49",
       "version_major": 2,
       "version_minor": 0
      },
      "text/plain": [
       "Validation: |                                                            | 0/? [00:00<?, ?it/s]"
      ]
     },
     "metadata": {},
     "output_type": "display_data"
    },
    {
     "data": {
      "application/vnd.jupyter.widget-view+json": {
       "model_id": "c2dfb8e329844af5ac4c525b10d95dc9",
       "version_major": 2,
       "version_minor": 0
      },
      "text/plain": [
       "Validation: |                                                            | 0/? [00:00<?, ?it/s]"
      ]
     },
     "metadata": {},
     "output_type": "display_data"
    },
    {
     "data": {
      "application/vnd.jupyter.widget-view+json": {
       "model_id": "3e3280b84ac3469eb3329226d4f3f704",
       "version_major": 2,
       "version_minor": 0
      },
      "text/plain": [
       "Validation: |                                                            | 0/? [00:00<?, ?it/s]"
      ]
     },
     "metadata": {},
     "output_type": "display_data"
    },
    {
     "data": {
      "application/vnd.jupyter.widget-view+json": {
       "model_id": "a567dba4007b40b8bd3b21464688af6e",
       "version_major": 2,
       "version_minor": 0
      },
      "text/plain": [
       "Validation: |                                                            | 0/? [00:00<?, ?it/s]"
      ]
     },
     "metadata": {},
     "output_type": "display_data"
    },
    {
     "data": {
      "application/vnd.jupyter.widget-view+json": {
       "model_id": "cc99f2305a5242959e32c66f65555501",
       "version_major": 2,
       "version_minor": 0
      },
      "text/plain": [
       "Validation: |                                                            | 0/? [00:00<?, ?it/s]"
      ]
     },
     "metadata": {},
     "output_type": "display_data"
    },
    {
     "data": {
      "application/vnd.jupyter.widget-view+json": {
       "model_id": "7c513f0032014a72b0b313012ca39fb5",
       "version_major": 2,
       "version_minor": 0
      },
      "text/plain": [
       "Validation: |                                                            | 0/? [00:00<?, ?it/s]"
      ]
     },
     "metadata": {},
     "output_type": "display_data"
    },
    {
     "data": {
      "application/vnd.jupyter.widget-view+json": {
       "model_id": "9c7a6669fb2845b78f2b8689af36c58c",
       "version_major": 2,
       "version_minor": 0
      },
      "text/plain": [
       "Validation: |                                                            | 0/? [00:00<?, ?it/s]"
      ]
     },
     "metadata": {},
     "output_type": "display_data"
    },
    {
     "data": {
      "application/vnd.jupyter.widget-view+json": {
       "model_id": "191676379feb47168e84c5db482e7888",
       "version_major": 2,
       "version_minor": 0
      },
      "text/plain": [
       "Validation: |                                                            | 0/? [00:00<?, ?it/s]"
      ]
     },
     "metadata": {},
     "output_type": "display_data"
    },
    {
     "data": {
      "application/vnd.jupyter.widget-view+json": {
       "model_id": "54d27ab168604c63a6fa817b658c85b4",
       "version_major": 2,
       "version_minor": 0
      },
      "text/plain": [
       "Validation: |                                                            | 0/? [00:00<?, ?it/s]"
      ]
     },
     "metadata": {},
     "output_type": "display_data"
    },
    {
     "name": "stderr",
     "output_type": "stream",
     "text": [
      "LOCAL_RANK: 0 - CUDA_VISIBLE_DEVICES: [0,1,2,3]\n"
     ]
    },
    {
     "data": {
      "application/vnd.jupyter.widget-view+json": {
       "model_id": "089d3dea48ed49a88b5f8d3abc025cb5",
       "version_major": 2,
       "version_minor": 0
      },
      "text/plain": [
       "Testing: |                                                               | 0/? [00:00<?, ?it/s]"
      ]
     },
     "metadata": {},
     "output_type": "display_data"
    },
    {
     "name": "stdout",
     "output_type": "stream",
     "text": [
      "────────────────────────────────────────────────────────────────────────────────────────────────────────────────────────\n",
      "       Test metric             DataLoader 0\n",
      "────────────────────────────────────────────────────────────────────────────────────────────────────────────────────────\n",
      "      test_accuracy         0.7028372287750244\n",
      "       test_auroc           0.5785893797874451\n",
      "        test_loss          0.042902134358882904\n",
      "        test_pcc            0.18665660917758942\n",
      "         test_r2            -0.5628758668899536\n",
      "────────────────────────────────────────────────────────────────────────────────────────────────────────────────────────\n"
     ]
    },
    {
     "data": {
      "text/plain": [
       "[{'test_loss': 0.042902134358882904,\n",
       "  'test_pcc': 0.18665660917758942,\n",
       "  'test_r2': -0.5628758668899536,\n",
       "  'test_accuracy': 0.7028372287750244,\n",
       "  'test_auroc': 0.5785893797874451}]"
      ]
     },
     "execution_count": 49,
     "metadata": {},
     "output_type": "execute_result"
    },
    {
     "ename": "",
     "evalue": "",
     "output_type": "error",
     "traceback": [
      "\u001b[1;31mnotebook controller is DISPOSED. \n",
      "\u001b[1;31mView Jupyter <a href='command:jupyter.viewOutput'>log</a> for further details."
     ]
    }
   ],
   "source": [
    "model_name = 'GINModel'\n",
    "obj_model = GINModel(input_dim=1152, hidden_dim=128, dropout=0.2)\n",
    "\n",
    "model = LModelGM(obj_model, \n",
    "                 learning_rate=3e-4, \n",
    "                 weight_decay=1e-3)\n",
    "\n",
    "logger = pl_loggers.TensorBoardLogger(name=f\"{model_name}\", save_dir=log_path)\n",
    "logger_csv = pl_loggers.CSVLogger(name=f\"{model_name}\", save_dir=log_csv_path)\n",
    "\n",
    "checkpoint_callback = ModelCheckpoint(\n",
    "    dirpath=os.path.join(checkpoints_path, f\"{model_name}\", f\"version_{logger_csv.version}\", \"checkpoints\"),\n",
    "    filename=\"model-epoch={epoch:02d}\",\n",
    "    save_top_k=-1,\n",
    "    every_n_epochs=1,\n",
    "    save_on_train_epoch_end=True,\n",
    ")\n",
    "\n",
    "best_iou_callback = ModelCheckpoint(\n",
    "    dirpath=os.path.join(checkpoints_path, f\"{model_name}\", f\"version_{logger_csv.version}\", \"checkpoints\"),\n",
    "    filename=\"best_model_epoch={epoch:02d}-auroc={validation_auroc:.4f}\",\n",
    "    monitor=\"validation_auroc\",\n",
    "    mode=\"max\",\n",
    "    save_top_k=1,\n",
    "    save_on_train_epoch_end=True,\n",
    ")\n",
    "\n",
    "early_stop = EarlyStopping(monitor=\"validation_auroc\", patience=10, mode=\"max\")\n",
    "\n",
    "trainer = L.Trainer(\n",
    "    max_epochs=EPOCHS,\n",
    "    devices=[0],\n",
    "    default_root_dir=f'{checkpoints_path}/{model_name}',\n",
    "    logger=[logger, logger_csv],\n",
    "    accelerator=\"gpu\",\n",
    "    precision=\"16-mixed\",\n",
    "    callbacks=[best_iou_callback, early_stop, TQDMProgressBar(refresh_rate=1)],\n",
    "    log_every_n_steps=1\n",
    ")\n",
    "\n",
    "\n",
    "trainer.fit(model, train_dataloaders=train_dataloader, val_dataloaders=val_dataloader)\n",
    "trainer.test(model, dataloaders=test_dataloader)"
   ]
  },
  {
   "cell_type": "markdown",
   "id": "d0d6f4ff",
   "metadata": {},
   "source": [
    "# Embeddings"
   ]
  },
  {
   "cell_type": "markdown",
   "id": "ba882798",
   "metadata": {},
   "source": [
    "### Модели для работы с эмбендингами"
   ]
  },
  {
   "cell_type": "code",
   "execution_count": 92,
   "id": "62ab4782",
   "metadata": {},
   "outputs": [],
   "source": [
    "def collate_fn(batch):\n",
    "    proteins, peptides, labels = zip(*batch)\n",
    "    \n",
    "    proteins = torch.stack(proteins)        # [B, 34, 1152]\n",
    "    peptides = torch.stack(peptides)        # [B, 21, 1152] — уже паддинг\n",
    "    labels = torch.tensor(labels).unsqueeze(0)\n",
    "    \n",
    "    return proteins, peptides, labels\n",
    "\n",
    "\n",
    "class MHCSequenceDatasetEmb(Dataset):\n",
    "    def __init__(self, df, labels):\n",
    "        self.df = df\n",
    "        self.labels = labels\n",
    "        \n",
    "    def __len__(self):\n",
    "        return len(self.df)\n",
    "    \n",
    "    def __getitem__(self, idx):\n",
    "        row = self.df.iloc[idx]\n",
    "        label = self.labels[idx]\n",
    "        alpha_path = row['alpha_path']\n",
    "        beta_path = row['beta_path']\n",
    "        peptide_path = row['peptide_path']\n",
    "        alpha_positions = row['alpha_positions']\n",
    "        beta_positions = row['beta_positions']\n",
    "        \n",
    "                \n",
    "        alpha_embeddings = np.load(alpha_path)[:, ast.literal_eval(alpha_positions), :].squeeze(0)\n",
    "        beta_embeddings = np.load(beta_path)[:, ast.literal_eval(beta_positions), :].squeeze(0)\n",
    "        peptide_embeddings = torch.FloatTensor(np.load(peptide_path))[:,1:-1].squeeze(0)\n",
    "\n",
    "        peptide_len = peptide_embeddings.shape[0]\n",
    "\n",
    "        # Паддинг по центру до 21\n",
    "        total_pad = 21 - peptide_len\n",
    "        left_pad = total_pad // 2\n",
    "        right_pad = total_pad - left_pad\n",
    "        peptide_padded = F.pad(peptide_embeddings, (0, 0, left_pad, right_pad), 'constant', value=0)\n",
    "        protein = torch.FloatTensor(np.concatenate([alpha_embeddings, beta_embeddings], axis=0))\n",
    "\n",
    "        return protein, peptide_padded, int(label)\n",
    "    \n",
    "    "
   ]
  },
  {
   "cell_type": "code",
   "execution_count": 110,
   "id": "27c4f6aa",
   "metadata": {},
   "outputs": [],
   "source": [
    "from pytorch_metric_learning.losses import TripletMarginLoss\n",
    "from pytorch_metric_learning.samplers import MPerClassSampler\n",
    "from pytorch_metric_learning.miners import TripletMarginMiner\n",
    "\n",
    "\n",
    "cutoff = 1.0 - np.log(500) / np.log(50000)\n",
    "train_labels = np.array((train_data['score'] >= cutoff), dtype=np.int64)\n",
    "\n",
    "train_dataset = MHCSequenceDatasetEmb(train_data, train_labels)\n",
    "sampler = MPerClassSampler(train_labels, m=256, length_before_new_iter=len(train_labels))\n",
    "train_dataloader = DataLoader(train_dataset, batch_size=BATCH_SIZE, sampler=sampler, num_workers=8)\n",
    "\n",
    "cutoff = 1.0 - np.log(500) / np.log(50000)\n",
    "test_labels = np.array((test_data['score'] >= cutoff), dtype=np.int32)\n",
    "\n",
    "test_dataset = MHCSequenceDatasetEmb(test_data, test_labels)\n",
    "test_dataloader = DataLoader(test_dataset, batch_size=BATCH_SIZE, num_workers=8)\n",
    "\n",
    "cutoff = 1.0 - np.log(500) / np.log(50000)\n",
    "val_labels = np.array((val_data['score'] >= cutoff), dtype=np.int32)\n",
    "\n",
    "val_dataset = MHCSequenceDatasetEmb(val_data, val_labels)\n",
    "val_dataloader = DataLoader(val_dataset, batch_size=BATCH_SIZE, num_workers=8)\n",
    "\n"
   ]
  },
  {
   "cell_type": "code",
   "execution_count": 108,
   "id": "4a3c71ed",
   "metadata": {},
   "outputs": [],
   "source": [
    "batch = next(iter(train_dataloader))"
   ]
  },
  {
   "cell_type": "code",
   "execution_count": 109,
   "id": "d5520e49",
   "metadata": {},
   "outputs": [
    {
     "data": {
      "text/plain": [
       "tensor(256)"
      ]
     },
     "execution_count": 109,
     "metadata": {},
     "output_type": "execute_result"
    }
   ],
   "source": [
    "\n",
    "(batch[2] == 1).sum()"
   ]
  },
  {
   "cell_type": "code",
   "execution_count": 117,
   "id": "3efc68c0",
   "metadata": {},
   "outputs": [],
   "source": [
    "class ProteinPeptideInteractionEmbeddingModel(nn.Module):\n",
    "    def __init__(self, embedding_dim=1152, hidden_dim=512, embedding_out_dim=128, num_heads=8, dropout=0.3):\n",
    "        super().__init__()\n",
    "\n",
    "        # Проекция эмбеддингов\n",
    "        self.protein_proj = nn.Linear(embedding_dim, hidden_dim)\n",
    "        self.peptide_proj = nn.Linear(embedding_dim, hidden_dim)\n",
    "\n",
    "        # Кросс-аттеншн: пептид (query) ↔ белок (key/value)\n",
    "        self.cross_attn = nn.MultiheadAttention(\n",
    "            embed_dim=hidden_dim,\n",
    "            num_heads=num_heads,\n",
    "            dropout=dropout,\n",
    "            batch_first=True\n",
    "        )\n",
    "\n",
    "        # Голова для эмбеддингов (triplet/metric learning)\n",
    "        self.embedding_head = nn.Sequential(\n",
    "            nn.Linear(hidden_dim * 2, hidden_dim),\n",
    "            nn.ReLU(),\n",
    "            nn.Dropout(dropout),\n",
    "            nn.Linear(hidden_dim, embedding_out_dim)\n",
    "        )\n",
    "\n",
    "        # Голова для предсказания score (IC50, аффинность и т.д.)\n",
    "        self.score_head = nn.Sequential(\n",
    "            nn.Linear(embedding_out_dim, 64),\n",
    "            nn.ReLU(),\n",
    "            nn.Linear(64, 1)\n",
    "        )\n",
    "\n",
    "    def forward(self, protein, peptide):\n",
    "        \"\"\"\n",
    "        protein: [B, P_len, 1152]\n",
    "        peptide: [B, pep_len, 1152]\n",
    "        Returns:\n",
    "            embedding: [B, embedding_out_dim]\n",
    "            score:     [B] — регрессия\n",
    "        \"\"\"\n",
    "\n",
    "        # 1. Проекция\n",
    "        protein_proj = self.protein_proj(protein)   # [B, P_len, hidden_dim]\n",
    "        peptide_proj = self.peptide_proj(peptide)   # [B, pep_len, hidden_dim]\n",
    "\n",
    "        # 2. Cross-attention: пептид спрашивает белок\n",
    "        attn_out, _ = self.cross_attn(query=peptide_proj,\n",
    "                                      key=protein_proj,\n",
    "                                      value=protein_proj)  # [B, pep_len, hidden_dim]\n",
    "\n",
    "        # 3. Усреднение представлений\n",
    "        attn_repr = attn_out.mean(dim=1)            # [B, hidden_dim]\n",
    "        pep_repr = peptide_proj.mean(dim=1)         # [B, hidden_dim]\n",
    "\n",
    "        # 4. Объединение\n",
    "        combined = torch.cat([attn_repr, pep_repr], dim=1)  # [B, hidden_dim * 2]\n",
    "\n",
    "        # 5. Эмбеддинг (L2-нормализованный)\n",
    "        embedding = self.embedding_head(combined)           # [B, embedding_out_dim]\n",
    "        embedding = F.normalize(embedding, p=2, dim=1)      # L2 нормировка\n",
    "\n",
    "        # 6. Предсказание score\n",
    "        score = self.score_head(embedding).squeeze(-1)      # [B]\n",
    "\n",
    "        return embedding, score\n"
   ]
  },
  {
   "cell_type": "code",
   "execution_count": 130,
   "id": "34e8cf04",
   "metadata": {},
   "outputs": [],
   "source": [
    "import torch\n",
    "import torch.nn as nn\n",
    "import torch.nn.functional as F\n",
    "\n",
    "class ProteinPeptideInteractionTransformer(nn.Module):\n",
    "    def __init__(self, embedding_dim=1152, hidden_dim=512, embedding_out_dim=128, num_heads=8, dropout=0.3):\n",
    "        super().__init__()\n",
    "\n",
    "        self.embedding_dim = embedding_dim\n",
    "        self.hidden_dim = hidden_dim\n",
    "\n",
    "        # Проекция\n",
    "        self.protein_proj = nn.Linear(embedding_dim, hidden_dim)\n",
    "        self.peptide_proj = nn.Linear(embedding_dim, hidden_dim)\n",
    "\n",
    "        # Первый слой cross-attention\n",
    "        self.cross_attn1 = nn.MultiheadAttention(embed_dim=hidden_dim, num_heads=num_heads, dropout=dropout, batch_first=True)\n",
    "        self.norm1 = nn.LayerNorm(hidden_dim)\n",
    "\n",
    "        # Второй слой cross-attention\n",
    "        self.cross_attn2 = nn.MultiheadAttention(embed_dim=hidden_dim, num_heads=num_heads, dropout=dropout, batch_first=True)\n",
    "        self.norm2 = nn.LayerNorm(hidden_dim)\n",
    "\n",
    "        # Агрегация и объединение представлений\n",
    "        self.encoder = nn.Sequential(\n",
    "            nn.Linear(hidden_dim * 2, hidden_dim),\n",
    "            nn.ReLU(),\n",
    "            nn.Dropout(dropout),\n",
    "            nn.LayerNorm(hidden_dim),\n",
    "            nn.Linear(hidden_dim, embedding_out_dim)\n",
    "        )\n",
    "\n",
    "        # Предсказание биндинга\n",
    "        self.score_head = nn.Sequential(\n",
    "            nn.Linear(embedding_out_dim, 64),\n",
    "            nn.ReLU(),\n",
    "            nn.Linear(64, 1)\n",
    "        )\n",
    "\n",
    "    def forward(self, protein, peptide):\n",
    "        \"\"\"\n",
    "        protein: [B, P_len, 1152]\n",
    "        peptide: [B, pep_len, 1152]\n",
    "        Returns:\n",
    "            embedding: [B, embedding_out_dim]\n",
    "            score:     [B]\n",
    "        \"\"\"\n",
    "        B = protein.shape[0]\n",
    "\n",
    "        # Проекция эмбеддингов\n",
    "        protein_proj = self.protein_proj(protein)     # [B, P_len, hidden_dim]\n",
    "        peptide_proj = self.peptide_proj(peptide)     # [B, pep_len, hidden_dim]\n",
    "\n",
    "        # Первый cross-attention\n",
    "        attn_out1, _ = self.cross_attn1(query=peptide_proj, key=protein_proj, value=protein_proj)\n",
    "        attn_out1 = self.norm1(attn_out1 + peptide_proj)  # skip-connection\n",
    "\n",
    "        # Второй cross-attention\n",
    "        attn_out2, _ = self.cross_attn2(query=attn_out1, key=protein_proj, value=protein_proj)\n",
    "        attn_out2 = self.norm2(attn_out2 + attn_out1)     # skip-connection\n",
    "\n",
    "        # Усреднение\n",
    "        peptide_repr = attn_out2.mean(dim=1)              # [B, hidden_dim]\n",
    "        protein_repr = protein_proj.mean(dim=1)           # [B, hidden_dim]\n",
    "\n",
    "        # Объединение\n",
    "        combined = torch.cat([protein_repr, peptide_repr], dim=1)  # [B, hidden_dim * 2]\n",
    "\n",
    "        # Получение эмбеддинга\n",
    "        embedding = self.encoder(combined)                # [B, embedding_out_dim]\n",
    "        embedding = F.normalize(embedding, p=2, dim=1)\n",
    "\n",
    "        # Предсказание бинарного класса\n",
    "        score = self.score_head(embedding).squeeze(-1)    # [B]\n",
    "\n",
    "        return embedding, score\n"
   ]
  },
  {
   "cell_type": "markdown",
   "id": "13e1278e",
   "metadata": {},
   "source": [
    "### Lightning для Emb"
   ]
  },
  {
   "cell_type": "code",
   "execution_count": 134,
   "id": "87562a47",
   "metadata": {},
   "outputs": [],
   "source": [
    "\n",
    "class LModelEmb(L.LightningModule):\n",
    "    def __init__(self, model, learning_rate, weight_decay):\n",
    "        super().__init__()\n",
    "        self.save_hyperparameters(ignore=['model'])\n",
    "        self.model = model\n",
    "\n",
    "        self.learning_rate = learning_rate\n",
    "        self.weight_decay = weight_decay\n",
    "\n",
    "\n",
    "        self.loss_bce = nn.BCEWithLogitsLoss()\n",
    "        self.loss_fn = TripletMarginLoss(margin=2.)\n",
    "        self.miner = TripletMarginMiner(margin=2., type_of_triplets=\"semi-hard\")\n",
    "\n",
    "\n",
    "    def forward(self, mhc_embeddings, peptide_embeddings):\n",
    "        return self.model(mhc_embeddings, peptide_embeddings)\n",
    "        \n",
    "\n",
    "    def _evaluate(self, batch, stage=None):\n",
    "        mhc_embeddings, peptide_embeddings, labels = batch\n",
    "        embeddings, scores = self.forward(mhc_embeddings, peptide_embeddings)\n",
    "        hard_triplets = self.miner(embeddings, labels)    \n",
    "        loss_tml = self.loss_fn(embeddings, labels, hard_triplets)\n",
    "        loss_bce = self.loss_bce(scores, labels.float())\n",
    "\n",
    "        metrics_dict = {f\"{stage}_loss_tml\": loss_tml,\n",
    "                        f\"{stage}_loss_bce\": loss_bce,}\n",
    "        # with torch.no_grad():\n",
    "        #     dist_matrix = torch.cdist(embeddings, embeddings, p=2)\n",
    "        #     print(f\"{stage}: mean dist = {dist_matrix.mean():.4f}, max = {dist_matrix.max():.4f}, min = {dist_matrix.min():.4f}\")\n",
    "        self.log_dict(metrics_dict, \n",
    "                      on_step=(stage == 'train'), \n",
    "                      on_epoch=True, \n",
    "                      prog_bar=True, \n",
    "                      sync_dist=True,\n",
    "                      batch_size=BATCH_SIZE)\n",
    "\n",
    "        return loss_tml + loss_bce\n",
    "\n",
    "    def training_step(self, batch, batch_idx):\n",
    "        return self._evaluate(batch, stage='train')\n",
    "\n",
    "    def validation_step(self, batch, batch_idx):\n",
    "        self._evaluate(batch, stage='validation')\n",
    "\n",
    "    def test_step(self, batch, batch_idx):\n",
    "        self._evaluate(batch, stage='test')\n",
    "\n",
    "    def configure_optimizers(self):\n",
    "        optimizer = torch.optim.AdamW(self.parameters(), \n",
    "                                      lr=self.learning_rate, \n",
    "                                      weight_decay=self.weight_decay)\n",
    "\n",
    "        scheduler = torch.optim.lr_scheduler.CosineAnnealingLR(\n",
    "            optimizer,\n",
    "            T_max=self.trainer.max_epochs,\n",
    "            eta_min=1e-6\n",
    "        )\n",
    "\n",
    "        return {\n",
    "            \"optimizer\": optimizer,\n",
    "            \"lr_scheduler\": {\n",
    "                \"scheduler\": scheduler,\n",
    "                \"interval\": \"step\",\n",
    "                \"frequency\": 20,\n",
    "            }\n",
    "        }\n"
   ]
  },
  {
   "cell_type": "code",
   "execution_count": null,
   "id": "cdd37580",
   "metadata": {},
   "outputs": [
    {
     "name": "stderr",
     "output_type": "stream",
     "text": [
      "GPU available: True (cuda), used: True\n",
      "TPU available: False, using: 0 TPU cores\n",
      "HPU available: False, using: 0 HPUs\n",
      "LOCAL_RANK: 0 - CUDA_VISIBLE_DEVICES: [0,1,2,3]\n",
      "\n",
      "  | Name     | Type                                 | Params | Mode \n",
      "--------------------------------------------------------------------------\n",
      "0 | model    | ProteinPeptideInteractionTransformer | 3.9 M  | train\n",
      "1 | loss_bce | BCEWithLogitsLoss                    | 0      | train\n",
      "2 | loss_fn  | TripletMarginLoss                    | 0      | train\n",
      "3 | miner    | TripletMarginMiner                   | 0      | train\n",
      "--------------------------------------------------------------------------\n",
      "3.9 M     Trainable params\n",
      "0         Non-trainable params\n",
      "3.9 M     Total params\n",
      "15.535    Total estimated model params size (MB)\n",
      "25        Modules in train mode\n",
      "0         Modules in eval mode\n"
     ]
    },
    {
     "data": {
      "application/vnd.jupyter.widget-view+json": {
       "model_id": "2de4b48329864ee8b8e4071cb8ccd09c",
       "version_major": 2,
       "version_minor": 0
      },
      "text/plain": [
       "Sanity Checking: |                                                       | 0/? [00:00<?, ?it/s]"
      ]
     },
     "metadata": {},
     "output_type": "display_data"
    },
    {
     "data": {
      "application/vnd.jupyter.widget-view+json": {
       "model_id": "671724a02479429fa9720c36e2d312a8",
       "version_major": 2,
       "version_minor": 0
      },
      "text/plain": [
       "Training: |                                                              | 0/? [00:00<?, ?it/s]"
      ]
     },
     "metadata": {},
     "output_type": "display_data"
    },
    {
     "data": {
      "application/vnd.jupyter.widget-view+json": {
       "model_id": "9e035602b92d4a2b93e584316637a399",
       "version_major": 2,
       "version_minor": 0
      },
      "text/plain": [
       "Validation: |                                                            | 0/? [00:00<?, ?it/s]"
      ]
     },
     "metadata": {},
     "output_type": "display_data"
    },
    {
     "data": {
      "application/vnd.jupyter.widget-view+json": {
       "model_id": "3fde5cf6f952418e968be8992b30edfa",
       "version_major": 2,
       "version_minor": 0
      },
      "text/plain": [
       "Validation: |                                                            | 0/? [00:00<?, ?it/s]"
      ]
     },
     "metadata": {},
     "output_type": "display_data"
    },
    {
     "data": {
      "application/vnd.jupyter.widget-view+json": {
       "model_id": "65ace38f9a78471d908b425a6e588a07",
       "version_major": 2,
       "version_minor": 0
      },
      "text/plain": [
       "Validation: |                                                            | 0/? [00:00<?, ?it/s]"
      ]
     },
     "metadata": {},
     "output_type": "display_data"
    },
    {
     "data": {
      "application/vnd.jupyter.widget-view+json": {
       "model_id": "be07fd2e8245422f88e46b6fda409081",
       "version_major": 2,
       "version_minor": 0
      },
      "text/plain": [
       "Validation: |                                                            | 0/? [00:00<?, ?it/s]"
      ]
     },
     "metadata": {},
     "output_type": "display_data"
    },
    {
     "data": {
      "application/vnd.jupyter.widget-view+json": {
       "model_id": "6f3018a22c3345dc9af47d2dae5b1130",
       "version_major": 2,
       "version_minor": 0
      },
      "text/plain": [
       "Validation: |                                                            | 0/? [00:00<?, ?it/s]"
      ]
     },
     "metadata": {},
     "output_type": "display_data"
    },
    {
     "data": {
      "application/vnd.jupyter.widget-view+json": {
       "model_id": "f8cb63a62eb8423888ee087d99e67a6e",
       "version_major": 2,
       "version_minor": 0
      },
      "text/plain": [
       "Validation: |                                                            | 0/? [00:00<?, ?it/s]"
      ]
     },
     "metadata": {},
     "output_type": "display_data"
    },
    {
     "data": {
      "application/vnd.jupyter.widget-view+json": {
       "model_id": "9545c1c80f4947b3826d17bb3a5d75d5",
       "version_major": 2,
       "version_minor": 0
      },
      "text/plain": [
       "Validation: |                                                            | 0/? [00:00<?, ?it/s]"
      ]
     },
     "metadata": {},
     "output_type": "display_data"
    },
    {
     "data": {
      "application/vnd.jupyter.widget-view+json": {
       "model_id": "8393a3dfcf074a55b33c4ca5ee25c749",
       "version_major": 2,
       "version_minor": 0
      },
      "text/plain": [
       "Validation: |                                                            | 0/? [00:00<?, ?it/s]"
      ]
     },
     "metadata": {},
     "output_type": "display_data"
    },
    {
     "data": {
      "application/vnd.jupyter.widget-view+json": {
       "model_id": "95b64608ec054321859495235e5b21d9",
       "version_major": 2,
       "version_minor": 0
      },
      "text/plain": [
       "Validation: |                                                            | 0/? [00:00<?, ?it/s]"
      ]
     },
     "metadata": {},
     "output_type": "display_data"
    },
    {
     "data": {
      "application/vnd.jupyter.widget-view+json": {
       "model_id": "1a6342f014cc4c85b8bc29fdce9cd519",
       "version_major": 2,
       "version_minor": 0
      },
      "text/plain": [
       "Validation: |                                                            | 0/? [00:00<?, ?it/s]"
      ]
     },
     "metadata": {},
     "output_type": "display_data"
    },
    {
     "data": {
      "application/vnd.jupyter.widget-view+json": {
       "model_id": "cb0a1acadcaf48178064996ec3b0dd11",
       "version_major": 2,
       "version_minor": 0
      },
      "text/plain": [
       "Validation: |                                                            | 0/? [00:00<?, ?it/s]"
      ]
     },
     "metadata": {},
     "output_type": "display_data"
    },
    {
     "data": {
      "application/vnd.jupyter.widget-view+json": {
       "model_id": "c602b35d24924f7a9928ff22839a6672",
       "version_major": 2,
       "version_minor": 0
      },
      "text/plain": [
       "Validation: |                                                            | 0/? [00:00<?, ?it/s]"
      ]
     },
     "metadata": {},
     "output_type": "display_data"
    },
    {
     "data": {
      "application/vnd.jupyter.widget-view+json": {
       "model_id": "1246b04842214f3fbdf1290592806c3b",
       "version_major": 2,
       "version_minor": 0
      },
      "text/plain": [
       "Validation: |                                                            | 0/? [00:00<?, ?it/s]"
      ]
     },
     "metadata": {},
     "output_type": "display_data"
    },
    {
     "data": {
      "application/vnd.jupyter.widget-view+json": {
       "model_id": "e86d04f5dae0409280132d02e36d9bec",
       "version_major": 2,
       "version_minor": 0
      },
      "text/plain": [
       "Validation: |                                                            | 0/? [00:00<?, ?it/s]"
      ]
     },
     "metadata": {},
     "output_type": "display_data"
    },
    {
     "data": {
      "application/vnd.jupyter.widget-view+json": {
       "model_id": "0991c9d045f442c5a3b427e9de29f2b7",
       "version_major": 2,
       "version_minor": 0
      },
      "text/plain": [
       "Validation: |                                                            | 0/? [00:00<?, ?it/s]"
      ]
     },
     "metadata": {},
     "output_type": "display_data"
    },
    {
     "data": {
      "application/vnd.jupyter.widget-view+json": {
       "model_id": "cb374d2f47ae463f9c5f63588d73f7d9",
       "version_major": 2,
       "version_minor": 0
      },
      "text/plain": [
       "Validation: |                                                            | 0/? [00:00<?, ?it/s]"
      ]
     },
     "metadata": {},
     "output_type": "display_data"
    },
    {
     "data": {
      "application/vnd.jupyter.widget-view+json": {
       "model_id": "cbf94bde23a94867836805f5012c919c",
       "version_major": 2,
       "version_minor": 0
      },
      "text/plain": [
       "Validation: |                                                            | 0/? [00:00<?, ?it/s]"
      ]
     },
     "metadata": {},
     "output_type": "display_data"
    },
    {
     "data": {
      "application/vnd.jupyter.widget-view+json": {
       "model_id": "6fa6bae37749420784af23393cee9744",
       "version_major": 2,
       "version_minor": 0
      },
      "text/plain": [
       "Validation: |                                                            | 0/? [00:00<?, ?it/s]"
      ]
     },
     "metadata": {},
     "output_type": "display_data"
    },
    {
     "data": {
      "application/vnd.jupyter.widget-view+json": {
       "model_id": "d7e65089ef4349ab810be7c9251178ec",
       "version_major": 2,
       "version_minor": 0
      },
      "text/plain": [
       "Validation: |                                                            | 0/? [00:00<?, ?it/s]"
      ]
     },
     "metadata": {},
     "output_type": "display_data"
    },
    {
     "data": {
      "application/vnd.jupyter.widget-view+json": {
       "model_id": "1c3760ac16ba4bc4be97cdaaa36457c2",
       "version_major": 2,
       "version_minor": 0
      },
      "text/plain": [
       "Validation: |                                                            | 0/? [00:00<?, ?it/s]"
      ]
     },
     "metadata": {},
     "output_type": "display_data"
    },
    {
     "data": {
      "application/vnd.jupyter.widget-view+json": {
       "model_id": "6b58b0e65a0e4e508cfb83cd4b5f2cc4",
       "version_major": 2,
       "version_minor": 0
      },
      "text/plain": [
       "Validation: |                                                            | 0/? [00:00<?, ?it/s]"
      ]
     },
     "metadata": {},
     "output_type": "display_data"
    },
    {
     "data": {
      "application/vnd.jupyter.widget-view+json": {
       "model_id": "6f33b80e65354d379787f14a92f5b958",
       "version_major": 2,
       "version_minor": 0
      },
      "text/plain": [
       "Validation: |                                                            | 0/? [00:00<?, ?it/s]"
      ]
     },
     "metadata": {},
     "output_type": "display_data"
    },
    {
     "data": {
      "application/vnd.jupyter.widget-view+json": {
       "model_id": "a8ca1aea9d804365aeef91d147638836",
       "version_major": 2,
       "version_minor": 0
      },
      "text/plain": [
       "Validation: |                                                            | 0/? [00:00<?, ?it/s]"
      ]
     },
     "metadata": {},
     "output_type": "display_data"
    },
    {
     "data": {
      "application/vnd.jupyter.widget-view+json": {
       "model_id": "a58ab235c90043bfbee2f86ca78790f9",
       "version_major": 2,
       "version_minor": 0
      },
      "text/plain": [
       "Validation: |                                                            | 0/? [00:00<?, ?it/s]"
      ]
     },
     "metadata": {},
     "output_type": "display_data"
    },
    {
     "data": {
      "application/vnd.jupyter.widget-view+json": {
       "model_id": "66ed0c13e1104d04898b5d61a076eac3",
       "version_major": 2,
       "version_minor": 0
      },
      "text/plain": [
       "Validation: |                                                            | 0/? [00:00<?, ?it/s]"
      ]
     },
     "metadata": {},
     "output_type": "display_data"
    },
    {
     "data": {
      "application/vnd.jupyter.widget-view+json": {
       "model_id": "8f6c030487554ee492370942c000ef13",
       "version_major": 2,
       "version_minor": 0
      },
      "text/plain": [
       "Validation: |                                                            | 0/? [00:00<?, ?it/s]"
      ]
     },
     "metadata": {},
     "output_type": "display_data"
    },
    {
     "data": {
      "application/vnd.jupyter.widget-view+json": {
       "model_id": "ab25722395c24cf5913fa5c8d67b0e6a",
       "version_major": 2,
       "version_minor": 0
      },
      "text/plain": [
       "Validation: |                                                            | 0/? [00:00<?, ?it/s]"
      ]
     },
     "metadata": {},
     "output_type": "display_data"
    },
    {
     "data": {
      "application/vnd.jupyter.widget-view+json": {
       "model_id": "edc5daf17e334a04a0d6be40fd100c36",
       "version_major": 2,
       "version_minor": 0
      },
      "text/plain": [
       "Validation: |                                                            | 0/? [00:00<?, ?it/s]"
      ]
     },
     "metadata": {},
     "output_type": "display_data"
    },
    {
     "data": {
      "application/vnd.jupyter.widget-view+json": {
       "model_id": "7e5e192cd1464d62a58496ad51784d87",
       "version_major": 2,
       "version_minor": 0
      },
      "text/plain": [
       "Validation: |                                                            | 0/? [00:00<?, ?it/s]"
      ]
     },
     "metadata": {},
     "output_type": "display_data"
    },
    {
     "data": {
      "application/vnd.jupyter.widget-view+json": {
       "model_id": "a0e6b5797ae341af8898f4cd5beab943",
       "version_major": 2,
       "version_minor": 0
      },
      "text/plain": [
       "Validation: |                                                            | 0/? [00:00<?, ?it/s]"
      ]
     },
     "metadata": {},
     "output_type": "display_data"
    },
    {
     "data": {
      "application/vnd.jupyter.widget-view+json": {
       "model_id": "89a911ceea5f4b2b8af0060ae9fc5c39",
       "version_major": 2,
       "version_minor": 0
      },
      "text/plain": [
       "Validation: |                                                            | 0/? [00:00<?, ?it/s]"
      ]
     },
     "metadata": {},
     "output_type": "display_data"
    },
    {
     "data": {
      "application/vnd.jupyter.widget-view+json": {
       "model_id": "914f502dba2c44a4b4c359a3ed2de1d1",
       "version_major": 2,
       "version_minor": 0
      },
      "text/plain": [
       "Validation: |                                                            | 0/? [00:00<?, ?it/s]"
      ]
     },
     "metadata": {},
     "output_type": "display_data"
    },
    {
     "data": {
      "application/vnd.jupyter.widget-view+json": {
       "model_id": "0475d9d8e8d8404a857c53ee90b70f68",
       "version_major": 2,
       "version_minor": 0
      },
      "text/plain": [
       "Validation: |                                                            | 0/? [00:00<?, ?it/s]"
      ]
     },
     "metadata": {},
     "output_type": "display_data"
    },
    {
     "data": {
      "application/vnd.jupyter.widget-view+json": {
       "model_id": "241a867fa308497c8b67999f9f12a256",
       "version_major": 2,
       "version_minor": 0
      },
      "text/plain": [
       "Validation: |                                                            | 0/? [00:00<?, ?it/s]"
      ]
     },
     "metadata": {},
     "output_type": "display_data"
    },
    {
     "data": {
      "application/vnd.jupyter.widget-view+json": {
       "model_id": "b0eb52a333444d0b987fe2f502bdbef6",
       "version_major": 2,
       "version_minor": 0
      },
      "text/plain": [
       "Validation: |                                                            | 0/? [00:00<?, ?it/s]"
      ]
     },
     "metadata": {},
     "output_type": "display_data"
    },
    {
     "data": {
      "application/vnd.jupyter.widget-view+json": {
       "model_id": "6241169b03c041fab9d765481d5ef67b",
       "version_major": 2,
       "version_minor": 0
      },
      "text/plain": [
       "Validation: |                                                            | 0/? [00:00<?, ?it/s]"
      ]
     },
     "metadata": {},
     "output_type": "display_data"
    },
    {
     "data": {
      "application/vnd.jupyter.widget-view+json": {
       "model_id": "81484da7b1f0416ab10fbe382257a179",
       "version_major": 2,
       "version_minor": 0
      },
      "text/plain": [
       "Validation: |                                                            | 0/? [00:00<?, ?it/s]"
      ]
     },
     "metadata": {},
     "output_type": "display_data"
    },
    {
     "data": {
      "application/vnd.jupyter.widget-view+json": {
       "model_id": "8c96c281267942b7840957adf7a7f2b6",
       "version_major": 2,
       "version_minor": 0
      },
      "text/plain": [
       "Validation: |                                                            | 0/? [00:00<?, ?it/s]"
      ]
     },
     "metadata": {},
     "output_type": "display_data"
    },
    {
     "data": {
      "application/vnd.jupyter.widget-view+json": {
       "model_id": "9ce7236c8fe04c83ac3d13e2f1379a6a",
       "version_major": 2,
       "version_minor": 0
      },
      "text/plain": [
       "Validation: |                                                            | 0/? [00:00<?, ?it/s]"
      ]
     },
     "metadata": {},
     "output_type": "display_data"
    },
    {
     "data": {
      "application/vnd.jupyter.widget-view+json": {
       "model_id": "31020848c4ed4a4683f61462f28b1e6a",
       "version_major": 2,
       "version_minor": 0
      },
      "text/plain": [
       "Validation: |                                                            | 0/? [00:00<?, ?it/s]"
      ]
     },
     "metadata": {},
     "output_type": "display_data"
    },
    {
     "data": {
      "application/vnd.jupyter.widget-view+json": {
       "model_id": "0c2c9beccc264d8787f89d81cd4d1f0a",
       "version_major": 2,
       "version_minor": 0
      },
      "text/plain": [
       "Validation: |                                                            | 0/? [00:00<?, ?it/s]"
      ]
     },
     "metadata": {},
     "output_type": "display_data"
    },
    {
     "data": {
      "application/vnd.jupyter.widget-view+json": {
       "model_id": "29ab46ae599d4ed08c60127f69fdaba7",
       "version_major": 2,
       "version_minor": 0
      },
      "text/plain": [
       "Validation: |                                                            | 0/? [00:00<?, ?it/s]"
      ]
     },
     "metadata": {},
     "output_type": "display_data"
    },
    {
     "data": {
      "application/vnd.jupyter.widget-view+json": {
       "model_id": "abb3bd3fa8444f46b2308da3b63650f4",
       "version_major": 2,
       "version_minor": 0
      },
      "text/plain": [
       "Validation: |                                                            | 0/? [00:00<?, ?it/s]"
      ]
     },
     "metadata": {},
     "output_type": "display_data"
    },
    {
     "data": {
      "application/vnd.jupyter.widget-view+json": {
       "model_id": "ac302a28238b4a26a4ba99b08a08e1e5",
       "version_major": 2,
       "version_minor": 0
      },
      "text/plain": [
       "Validation: |                                                            | 0/? [00:00<?, ?it/s]"
      ]
     },
     "metadata": {},
     "output_type": "display_data"
    },
    {
     "data": {
      "application/vnd.jupyter.widget-view+json": {
       "model_id": "5f5e429bc90140af905c59e08fa7fb62",
       "version_major": 2,
       "version_minor": 0
      },
      "text/plain": [
       "Validation: |                                                            | 0/? [00:00<?, ?it/s]"
      ]
     },
     "metadata": {},
     "output_type": "display_data"
    },
    {
     "data": {
      "application/vnd.jupyter.widget-view+json": {
       "model_id": "66dee28301de4d139ddd461f8d719a94",
       "version_major": 2,
       "version_minor": 0
      },
      "text/plain": [
       "Validation: |                                                            | 0/? [00:00<?, ?it/s]"
      ]
     },
     "metadata": {},
     "output_type": "display_data"
    },
    {
     "data": {
      "application/vnd.jupyter.widget-view+json": {
       "model_id": "9ec9ea853e384c828172c9ddedc6bcf1",
       "version_major": 2,
       "version_minor": 0
      },
      "text/plain": [
       "Validation: |                                                            | 0/? [00:00<?, ?it/s]"
      ]
     },
     "metadata": {},
     "output_type": "display_data"
    },
    {
     "data": {
      "application/vnd.jupyter.widget-view+json": {
       "model_id": "7000ad3c7d1842a58b4da7022c4fe880",
       "version_major": 2,
       "version_minor": 0
      },
      "text/plain": [
       "Validation: |                                                            | 0/? [00:00<?, ?it/s]"
      ]
     },
     "metadata": {},
     "output_type": "display_data"
    },
    {
     "data": {
      "application/vnd.jupyter.widget-view+json": {
       "model_id": "29f20a7fd8cf403396dd6204a0a14784",
       "version_major": 2,
       "version_minor": 0
      },
      "text/plain": [
       "Validation: |                                                            | 0/? [00:00<?, ?it/s]"
      ]
     },
     "metadata": {},
     "output_type": "display_data"
    },
    {
     "data": {
      "application/vnd.jupyter.widget-view+json": {
       "model_id": "ab4480e6731246fdba035dea67d7e5d0",
       "version_major": 2,
       "version_minor": 0
      },
      "text/plain": [
       "Validation: |                                                            | 0/? [00:00<?, ?it/s]"
      ]
     },
     "metadata": {},
     "output_type": "display_data"
    },
    {
     "data": {
      "application/vnd.jupyter.widget-view+json": {
       "model_id": "b29eb426becd4cd0b1270f577c7f6371",
       "version_major": 2,
       "version_minor": 0
      },
      "text/plain": [
       "Validation: |                                                            | 0/? [00:00<?, ?it/s]"
      ]
     },
     "metadata": {},
     "output_type": "display_data"
    },
    {
     "data": {
      "application/vnd.jupyter.widget-view+json": {
       "model_id": "41f2002d5f2848c898e4fe3d48353c46",
       "version_major": 2,
       "version_minor": 0
      },
      "text/plain": [
       "Validation: |                                                            | 0/? [00:00<?, ?it/s]"
      ]
     },
     "metadata": {},
     "output_type": "display_data"
    },
    {
     "data": {
      "application/vnd.jupyter.widget-view+json": {
       "model_id": "86a0dd8cf5664972852081e48e029e2c",
       "version_major": 2,
       "version_minor": 0
      },
      "text/plain": [
       "Validation: |                                                            | 0/? [00:00<?, ?it/s]"
      ]
     },
     "metadata": {},
     "output_type": "display_data"
    },
    {
     "data": {
      "application/vnd.jupyter.widget-view+json": {
       "model_id": "eafa0b0a50264d768b5275ac2e5b69a8",
       "version_major": 2,
       "version_minor": 0
      },
      "text/plain": [
       "Validation: |                                                            | 0/? [00:00<?, ?it/s]"
      ]
     },
     "metadata": {},
     "output_type": "display_data"
    },
    {
     "data": {
      "application/vnd.jupyter.widget-view+json": {
       "model_id": "5e5bbae3d167460dbf52fbcdbf243b6b",
       "version_major": 2,
       "version_minor": 0
      },
      "text/plain": [
       "Validation: |                                                            | 0/? [00:00<?, ?it/s]"
      ]
     },
     "metadata": {},
     "output_type": "display_data"
    },
    {
     "data": {
      "application/vnd.jupyter.widget-view+json": {
       "model_id": "08a0e7c925ad4598882bdd613b2818f2",
       "version_major": 2,
       "version_minor": 0
      },
      "text/plain": [
       "Validation: |                                                            | 0/? [00:00<?, ?it/s]"
      ]
     },
     "metadata": {},
     "output_type": "display_data"
    },
    {
     "data": {
      "application/vnd.jupyter.widget-view+json": {
       "model_id": "81b579f882944374a88fec61a6604a50",
       "version_major": 2,
       "version_minor": 0
      },
      "text/plain": [
       "Validation: |                                                            | 0/? [00:00<?, ?it/s]"
      ]
     },
     "metadata": {},
     "output_type": "display_data"
    },
    {
     "data": {
      "application/vnd.jupyter.widget-view+json": {
       "model_id": "1ba432252cda4fef988273cf7e9bc796",
       "version_major": 2,
       "version_minor": 0
      },
      "text/plain": [
       "Validation: |                                                            | 0/? [00:00<?, ?it/s]"
      ]
     },
     "metadata": {},
     "output_type": "display_data"
    },
    {
     "data": {
      "application/vnd.jupyter.widget-view+json": {
       "model_id": "3f5898de61a84810be05f88bce6e6064",
       "version_major": 2,
       "version_minor": 0
      },
      "text/plain": [
       "Validation: |                                                            | 0/? [00:00<?, ?it/s]"
      ]
     },
     "metadata": {},
     "output_type": "display_data"
    },
    {
     "name": "stderr",
     "output_type": "stream",
     "text": [
      "\n",
      "Detected KeyboardInterrupt, attempting graceful shutdown ...\n"
     ]
    },
    {
     "ename": "NameError",
     "evalue": "name 'exit' is not defined",
     "output_type": "error",
     "traceback": [
      "\u001b[31m---------------------------------------------------------------------------\u001b[39m",
      "\u001b[31mKeyboardInterrupt\u001b[39m                         Traceback (most recent call last)",
      "\u001b[36mFile \u001b[39m\u001b[32m~/.conda/envs/esm/lib/python3.11/site-packages/lightning/pytorch/trainer/call.py:48\u001b[39m, in \u001b[36m_call_and_handle_interrupt\u001b[39m\u001b[34m(trainer, trainer_fn, *args, **kwargs)\u001b[39m\n\u001b[32m     47\u001b[39m         \u001b[38;5;28;01mreturn\u001b[39;00m trainer.strategy.launcher.launch(trainer_fn, *args, trainer=trainer, **kwargs)\n\u001b[32m---> \u001b[39m\u001b[32m48\u001b[39m     \u001b[38;5;28;01mreturn\u001b[39;00m \u001b[43mtrainer_fn\u001b[49m\u001b[43m(\u001b[49m\u001b[43m*\u001b[49m\u001b[43margs\u001b[49m\u001b[43m,\u001b[49m\u001b[43m \u001b[49m\u001b[43m*\u001b[49m\u001b[43m*\u001b[49m\u001b[43mkwargs\u001b[49m\u001b[43m)\u001b[49m\n\u001b[32m     50\u001b[39m \u001b[38;5;28;01mexcept\u001b[39;00m _TunerExitException:\n",
      "\u001b[36mFile \u001b[39m\u001b[32m~/.conda/envs/esm/lib/python3.11/site-packages/lightning/pytorch/trainer/trainer.py:599\u001b[39m, in \u001b[36mTrainer._fit_impl\u001b[39m\u001b[34m(self, model, train_dataloaders, val_dataloaders, datamodule, ckpt_path)\u001b[39m\n\u001b[32m    593\u001b[39m ckpt_path = \u001b[38;5;28mself\u001b[39m._checkpoint_connector._select_ckpt_path(\n\u001b[32m    594\u001b[39m     \u001b[38;5;28mself\u001b[39m.state.fn,\n\u001b[32m    595\u001b[39m     ckpt_path,\n\u001b[32m    596\u001b[39m     model_provided=\u001b[38;5;28;01mTrue\u001b[39;00m,\n\u001b[32m    597\u001b[39m     model_connected=\u001b[38;5;28mself\u001b[39m.lightning_module \u001b[38;5;129;01mis\u001b[39;00m \u001b[38;5;129;01mnot\u001b[39;00m \u001b[38;5;28;01mNone\u001b[39;00m,\n\u001b[32m    598\u001b[39m )\n\u001b[32m--> \u001b[39m\u001b[32m599\u001b[39m \u001b[38;5;28;43mself\u001b[39;49m\u001b[43m.\u001b[49m\u001b[43m_run\u001b[49m\u001b[43m(\u001b[49m\u001b[43mmodel\u001b[49m\u001b[43m,\u001b[49m\u001b[43m \u001b[49m\u001b[43mckpt_path\u001b[49m\u001b[43m=\u001b[49m\u001b[43mckpt_path\u001b[49m\u001b[43m)\u001b[49m\n\u001b[32m    601\u001b[39m \u001b[38;5;28;01massert\u001b[39;00m \u001b[38;5;28mself\u001b[39m.state.stopped\n",
      "\u001b[36mFile \u001b[39m\u001b[32m~/.conda/envs/esm/lib/python3.11/site-packages/lightning/pytorch/trainer/trainer.py:1012\u001b[39m, in \u001b[36mTrainer._run\u001b[39m\u001b[34m(self, model, ckpt_path)\u001b[39m\n\u001b[32m   1009\u001b[39m \u001b[38;5;66;03m# ----------------------------\u001b[39;00m\n\u001b[32m   1010\u001b[39m \u001b[38;5;66;03m# RUN THE TRAINER\u001b[39;00m\n\u001b[32m   1011\u001b[39m \u001b[38;5;66;03m# ----------------------------\u001b[39;00m\n\u001b[32m-> \u001b[39m\u001b[32m1012\u001b[39m results = \u001b[38;5;28;43mself\u001b[39;49m\u001b[43m.\u001b[49m\u001b[43m_run_stage\u001b[49m\u001b[43m(\u001b[49m\u001b[43m)\u001b[49m\n\u001b[32m   1014\u001b[39m \u001b[38;5;66;03m# ----------------------------\u001b[39;00m\n\u001b[32m   1015\u001b[39m \u001b[38;5;66;03m# POST-Training CLEAN UP\u001b[39;00m\n\u001b[32m   1016\u001b[39m \u001b[38;5;66;03m# ----------------------------\u001b[39;00m\n",
      "\u001b[36mFile \u001b[39m\u001b[32m~/.conda/envs/esm/lib/python3.11/site-packages/lightning/pytorch/trainer/trainer.py:1056\u001b[39m, in \u001b[36mTrainer._run_stage\u001b[39m\u001b[34m(self)\u001b[39m\n\u001b[32m   1055\u001b[39m \u001b[38;5;28;01mwith\u001b[39;00m torch.autograd.set_detect_anomaly(\u001b[38;5;28mself\u001b[39m._detect_anomaly):\n\u001b[32m-> \u001b[39m\u001b[32m1056\u001b[39m     \u001b[38;5;28;43mself\u001b[39;49m\u001b[43m.\u001b[49m\u001b[43mfit_loop\u001b[49m\u001b[43m.\u001b[49m\u001b[43mrun\u001b[49m\u001b[43m(\u001b[49m\u001b[43m)\u001b[49m\n\u001b[32m   1057\u001b[39m \u001b[38;5;28;01mreturn\u001b[39;00m \u001b[38;5;28;01mNone\u001b[39;00m\n",
      "\u001b[36mFile \u001b[39m\u001b[32m~/.conda/envs/esm/lib/python3.11/site-packages/lightning/pytorch/loops/fit_loop.py:216\u001b[39m, in \u001b[36m_FitLoop.run\u001b[39m\u001b[34m(self)\u001b[39m\n\u001b[32m    215\u001b[39m \u001b[38;5;28mself\u001b[39m.on_advance_start()\n\u001b[32m--> \u001b[39m\u001b[32m216\u001b[39m \u001b[38;5;28;43mself\u001b[39;49m\u001b[43m.\u001b[49m\u001b[43madvance\u001b[49m\u001b[43m(\u001b[49m\u001b[43m)\u001b[49m\n\u001b[32m    217\u001b[39m \u001b[38;5;28mself\u001b[39m.on_advance_end()\n",
      "\u001b[36mFile \u001b[39m\u001b[32m~/.conda/envs/esm/lib/python3.11/site-packages/lightning/pytorch/loops/fit_loop.py:455\u001b[39m, in \u001b[36m_FitLoop.advance\u001b[39m\u001b[34m(self)\u001b[39m\n\u001b[32m    454\u001b[39m \u001b[38;5;28;01massert\u001b[39;00m \u001b[38;5;28mself\u001b[39m._data_fetcher \u001b[38;5;129;01mis\u001b[39;00m \u001b[38;5;129;01mnot\u001b[39;00m \u001b[38;5;28;01mNone\u001b[39;00m\n\u001b[32m--> \u001b[39m\u001b[32m455\u001b[39m \u001b[38;5;28;43mself\u001b[39;49m\u001b[43m.\u001b[49m\u001b[43mepoch_loop\u001b[49m\u001b[43m.\u001b[49m\u001b[43mrun\u001b[49m\u001b[43m(\u001b[49m\u001b[38;5;28;43mself\u001b[39;49m\u001b[43m.\u001b[49m\u001b[43m_data_fetcher\u001b[49m\u001b[43m)\u001b[49m\n",
      "\u001b[36mFile \u001b[39m\u001b[32m~/.conda/envs/esm/lib/python3.11/site-packages/lightning/pytorch/loops/training_epoch_loop.py:152\u001b[39m, in \u001b[36m_TrainingEpochLoop.run\u001b[39m\u001b[34m(self, data_fetcher)\u001b[39m\n\u001b[32m    151\u001b[39m \u001b[38;5;28;01mtry\u001b[39;00m:\n\u001b[32m--> \u001b[39m\u001b[32m152\u001b[39m     \u001b[38;5;28;43mself\u001b[39;49m\u001b[43m.\u001b[49m\u001b[43madvance\u001b[49m\u001b[43m(\u001b[49m\u001b[43mdata_fetcher\u001b[49m\u001b[43m)\u001b[49m\n\u001b[32m    153\u001b[39m     \u001b[38;5;28mself\u001b[39m.on_advance_end(data_fetcher)\n",
      "\u001b[36mFile \u001b[39m\u001b[32m~/.conda/envs/esm/lib/python3.11/site-packages/lightning/pytorch/loops/training_epoch_loop.py:363\u001b[39m, in \u001b[36m_TrainingEpochLoop.advance\u001b[39m\u001b[34m(self, data_fetcher)\u001b[39m\n\u001b[32m    361\u001b[39m     \u001b[38;5;28mself\u001b[39m.batch_progress.is_last_batch = data_fetcher.done\n\u001b[32m--> \u001b[39m\u001b[32m363\u001b[39m \u001b[43mcall\u001b[49m\u001b[43m.\u001b[49m\u001b[43m_call_callback_hooks\u001b[49m\u001b[43m(\u001b[49m\u001b[43mtrainer\u001b[49m\u001b[43m,\u001b[49m\u001b[43m \u001b[49m\u001b[33;43m\"\u001b[39;49m\u001b[33;43mon_train_batch_end\u001b[39;49m\u001b[33;43m\"\u001b[39;49m\u001b[43m,\u001b[49m\u001b[43m \u001b[49m\u001b[43mbatch_output\u001b[49m\u001b[43m,\u001b[49m\u001b[43m \u001b[49m\u001b[43mbatch\u001b[49m\u001b[43m,\u001b[49m\u001b[43m \u001b[49m\u001b[43mbatch_idx\u001b[49m\u001b[43m)\u001b[49m\n\u001b[32m    364\u001b[39m call._call_lightning_module_hook(trainer, \u001b[33m\"\u001b[39m\u001b[33mon_train_batch_end\u001b[39m\u001b[33m\"\u001b[39m, batch_output, batch, batch_idx)\n",
      "\u001b[36mFile \u001b[39m\u001b[32m~/.conda/envs/esm/lib/python3.11/site-packages/lightning/pytorch/trainer/call.py:227\u001b[39m, in \u001b[36m_call_callback_hooks\u001b[39m\u001b[34m(trainer, hook_name, monitoring_callbacks, *args, **kwargs)\u001b[39m\n\u001b[32m    226\u001b[39m         \u001b[38;5;28;01mwith\u001b[39;00m trainer.profiler.profile(\u001b[33mf\u001b[39m\u001b[33m\"\u001b[39m\u001b[33m[Callback]\u001b[39m\u001b[38;5;132;01m{\u001b[39;00mcallback.state_key\u001b[38;5;132;01m}\u001b[39;00m\u001b[33m.\u001b[39m\u001b[38;5;132;01m{\u001b[39;00mhook_name\u001b[38;5;132;01m}\u001b[39;00m\u001b[33m\"\u001b[39m):\n\u001b[32m--> \u001b[39m\u001b[32m227\u001b[39m             \u001b[43mfn\u001b[49m\u001b[43m(\u001b[49m\u001b[43mtrainer\u001b[49m\u001b[43m,\u001b[49m\u001b[43m \u001b[49m\u001b[43mtrainer\u001b[49m\u001b[43m.\u001b[49m\u001b[43mlightning_module\u001b[49m\u001b[43m,\u001b[49m\u001b[43m \u001b[49m\u001b[43m*\u001b[49m\u001b[43margs\u001b[49m\u001b[43m,\u001b[49m\u001b[43m \u001b[49m\u001b[43m*\u001b[49m\u001b[43m*\u001b[49m\u001b[43mkwargs\u001b[49m\u001b[43m)\u001b[49m\n\u001b[32m    229\u001b[39m \u001b[38;5;28;01mif\u001b[39;00m pl_module:\n\u001b[32m    230\u001b[39m     \u001b[38;5;66;03m# restore current_fx when nested context\u001b[39;00m\n",
      "\u001b[36mFile \u001b[39m\u001b[32m~/.conda/envs/esm/lib/python3.11/site-packages/lightning/pytorch/callbacks/progress/tqdm_progress.py:279\u001b[39m, in \u001b[36mTQDMProgressBar.on_train_batch_end\u001b[39m\u001b[34m(self, trainer, pl_module, outputs, batch, batch_idx)\u001b[39m\n\u001b[32m    278\u001b[39m _update_n(\u001b[38;5;28mself\u001b[39m.train_progress_bar, n)\n\u001b[32m--> \u001b[39m\u001b[32m279\u001b[39m \u001b[38;5;28mself\u001b[39m.train_progress_bar.set_postfix(\u001b[38;5;28;43mself\u001b[39;49m\u001b[43m.\u001b[49m\u001b[43mget_metrics\u001b[49m\u001b[43m(\u001b[49m\u001b[43mtrainer\u001b[49m\u001b[43m,\u001b[49m\u001b[43m \u001b[49m\u001b[43mpl_module\u001b[49m\u001b[43m)\u001b[49m)\n",
      "\u001b[36mFile \u001b[39m\u001b[32m~/.conda/envs/esm/lib/python3.11/site-packages/lightning/pytorch/callbacks/progress/progress_bar.py:201\u001b[39m, in \u001b[36mProgressBar.get_metrics\u001b[39m\u001b[34m(self, trainer, pl_module)\u001b[39m\n\u001b[32m    200\u001b[39m standard_metrics = get_standard_metrics(trainer)\n\u001b[32m--> \u001b[39m\u001b[32m201\u001b[39m pbar_metrics = \u001b[43mtrainer\u001b[49m\u001b[43m.\u001b[49m\u001b[43mprogress_bar_metrics\u001b[49m\n\u001b[32m    202\u001b[39m duplicates = \u001b[38;5;28mlist\u001b[39m(standard_metrics.keys() & pbar_metrics.keys())\n",
      "\u001b[36mFile \u001b[39m\u001b[32m~/.conda/envs/esm/lib/python3.11/site-packages/lightning/pytorch/trainer/trainer.py:1667\u001b[39m, in \u001b[36mTrainer.progress_bar_metrics\u001b[39m\u001b[34m(self)\u001b[39m\n\u001b[32m   1661\u001b[39m \u001b[38;5;250m\u001b[39m\u001b[33;03m\"\"\"The metrics sent to the progress bar.\u001b[39;00m\n\u001b[32m   1662\u001b[39m \n\u001b[32m   1663\u001b[39m \u001b[33;03mThis includes metrics logged via :meth:`~lightning.pytorch.core.LightningModule.log` with the\u001b[39;00m\n\u001b[32m   1664\u001b[39m \u001b[33;03m:paramref:`~lightning.pytorch.core.LightningModule.log.prog_bar` argument set.\u001b[39;00m\n\u001b[32m   1665\u001b[39m \n\u001b[32m   1666\u001b[39m \u001b[33;03m\"\"\"\u001b[39;00m\n\u001b[32m-> \u001b[39m\u001b[32m1667\u001b[39m \u001b[38;5;28;01mreturn\u001b[39;00m \u001b[38;5;28;43mself\u001b[39;49m\u001b[43m.\u001b[49m\u001b[43m_logger_connector\u001b[49m\u001b[43m.\u001b[49m\u001b[43mprogress_bar_metrics\u001b[49m\n",
      "\u001b[36mFile \u001b[39m\u001b[32m~/.conda/envs/esm/lib/python3.11/site-packages/lightning/pytorch/trainer/connectors/logger_connector/logger_connector.py:255\u001b[39m, in \u001b[36m_LoggerConnector.progress_bar_metrics\u001b[39m\u001b[34m(self)\u001b[39m\n\u001b[32m    254\u001b[39m \u001b[38;5;28;01mif\u001b[39;00m \u001b[38;5;28mself\u001b[39m.trainer._results:\n\u001b[32m--> \u001b[39m\u001b[32m255\u001b[39m     metrics = \u001b[38;5;28;43mself\u001b[39;49m\u001b[43m.\u001b[49m\u001b[43mmetrics\u001b[49m[\u001b[33m\"\u001b[39m\u001b[33mpbar\u001b[39m\u001b[33m\"\u001b[39m]\n\u001b[32m    256\u001b[39m     \u001b[38;5;28mself\u001b[39m._progress_bar_metrics.update(metrics)\n",
      "\u001b[36mFile \u001b[39m\u001b[32m~/.conda/envs/esm/lib/python3.11/site-packages/lightning/pytorch/trainer/connectors/logger_connector/logger_connector.py:236\u001b[39m, in \u001b[36m_LoggerConnector.metrics\u001b[39m\u001b[34m(self)\u001b[39m\n\u001b[32m    235\u001b[39m \u001b[38;5;28;01massert\u001b[39;00m \u001b[38;5;28mself\u001b[39m.trainer._results \u001b[38;5;129;01mis\u001b[39;00m \u001b[38;5;129;01mnot\u001b[39;00m \u001b[38;5;28;01mNone\u001b[39;00m\n\u001b[32m--> \u001b[39m\u001b[32m236\u001b[39m \u001b[38;5;28;01mreturn\u001b[39;00m \u001b[38;5;28;43mself\u001b[39;49m\u001b[43m.\u001b[49m\u001b[43mtrainer\u001b[49m\u001b[43m.\u001b[49m\u001b[43m_results\u001b[49m\u001b[43m.\u001b[49m\u001b[43mmetrics\u001b[49m\u001b[43m(\u001b[49m\u001b[43mon_step\u001b[49m\u001b[43m)\u001b[49m\n",
      "\u001b[36mFile \u001b[39m\u001b[32m~/.conda/envs/esm/lib/python3.11/site-packages/lightning/pytorch/trainer/connectors/logger_connector/result.py:493\u001b[39m, in \u001b[36m_ResultCollection.metrics\u001b[39m\u001b[34m(self, on_step)\u001b[39m\n\u001b[32m    492\u001b[39m     \u001b[38;5;28;01mif\u001b[39;00m result_metric.meta.prog_bar:\n\u001b[32m--> \u001b[39m\u001b[32m493\u001b[39m         metrics[\u001b[33m\"\u001b[39m\u001b[33mpbar\u001b[39m\u001b[33m\"\u001b[39m][forked_name] = \u001b[43mconvert_tensors_to_scalars\u001b[49m\u001b[43m(\u001b[49m\u001b[43mvalue\u001b[49m\u001b[43m)\u001b[49m\n\u001b[32m    495\u001b[39m \u001b[38;5;28;01mreturn\u001b[39;00m metrics\n",
      "\u001b[36mFile \u001b[39m\u001b[32m~/.conda/envs/esm/lib/python3.11/site-packages/lightning/fabric/utilities/apply_func.py:136\u001b[39m, in \u001b[36mconvert_tensors_to_scalars\u001b[39m\u001b[34m(data)\u001b[39m\n\u001b[32m    134\u001b[39m     \u001b[38;5;28;01mreturn\u001b[39;00m value.item()\n\u001b[32m--> \u001b[39m\u001b[32m136\u001b[39m \u001b[38;5;28;01mreturn\u001b[39;00m \u001b[43mapply_to_collection\u001b[49m\u001b[43m(\u001b[49m\u001b[43mdata\u001b[49m\u001b[43m,\u001b[49m\u001b[43m \u001b[49m\u001b[43mTensor\u001b[49m\u001b[43m,\u001b[49m\u001b[43m \u001b[49m\u001b[43mto_item\u001b[49m\u001b[43m)\u001b[49m\n",
      "\u001b[36mFile \u001b[39m\u001b[32m~/.conda/envs/esm/lib/python3.11/site-packages/lightning_utilities/core/apply_func.py:66\u001b[39m, in \u001b[36mapply_to_collection\u001b[39m\u001b[34m(data, dtype, function, wrong_dtype, include_none, allow_frozen, *args, **kwargs)\u001b[39m\n\u001b[32m     65\u001b[39m \u001b[38;5;28;01mif\u001b[39;00m \u001b[38;5;28misinstance\u001b[39m(data, dtype):  \u001b[38;5;66;03m# single element\u001b[39;00m\n\u001b[32m---> \u001b[39m\u001b[32m66\u001b[39m     \u001b[38;5;28;01mreturn\u001b[39;00m \u001b[43mfunction\u001b[49m\u001b[43m(\u001b[49m\u001b[43mdata\u001b[49m\u001b[43m,\u001b[49m\u001b[43m \u001b[49m\u001b[43m*\u001b[49m\u001b[43margs\u001b[49m\u001b[43m,\u001b[49m\u001b[43m \u001b[49m\u001b[43m*\u001b[49m\u001b[43m*\u001b[49m\u001b[43mkwargs\u001b[49m\u001b[43m)\u001b[49m\n\u001b[32m     67\u001b[39m \u001b[38;5;28;01mif\u001b[39;00m data.\u001b[34m__class__\u001b[39m \u001b[38;5;129;01mis\u001b[39;00m \u001b[38;5;28mlist\u001b[39m \u001b[38;5;129;01mand\u001b[39;00m \u001b[38;5;28mall\u001b[39m(\u001b[38;5;28misinstance\u001b[39m(x, dtype) \u001b[38;5;28;01mfor\u001b[39;00m x \u001b[38;5;129;01min\u001b[39;00m data):  \u001b[38;5;66;03m# 1d homogeneous list\u001b[39;00m\n",
      "\u001b[36mFile \u001b[39m\u001b[32m~/.conda/envs/esm/lib/python3.11/site-packages/lightning/fabric/utilities/apply_func.py:134\u001b[39m, in \u001b[36mconvert_tensors_to_scalars.<locals>.to_item\u001b[39m\u001b[34m(value)\u001b[39m\n\u001b[32m    131\u001b[39m     \u001b[38;5;28;01mraise\u001b[39;00m \u001b[38;5;167;01mValueError\u001b[39;00m(\n\u001b[32m    132\u001b[39m         \u001b[33mf\u001b[39m\u001b[33m\"\u001b[39m\u001b[33mThe metric `\u001b[39m\u001b[38;5;132;01m{\u001b[39;00mvalue\u001b[38;5;132;01m}\u001b[39;00m\u001b[33m` does not contain a single element, thus it cannot be converted to a scalar.\u001b[39m\u001b[33m\"\u001b[39m\n\u001b[32m    133\u001b[39m     )\n\u001b[32m--> \u001b[39m\u001b[32m134\u001b[39m \u001b[38;5;28;01mreturn\u001b[39;00m \u001b[43mvalue\u001b[49m\u001b[43m.\u001b[49m\u001b[43mitem\u001b[49m\u001b[43m(\u001b[49m\u001b[43m)\u001b[49m\n",
      "\u001b[31mKeyboardInterrupt\u001b[39m: ",
      "\nDuring handling of the above exception, another exception occurred:\n",
      "\u001b[31mNameError\u001b[39m                                 Traceback (most recent call last)",
      "\u001b[36mCell\u001b[39m\u001b[36m \u001b[39m\u001b[32mIn[137]\u001b[39m\u001b[32m, line 43\u001b[39m\n\u001b[32m     29\u001b[39m early_stop = EarlyStopping(monitor=\u001b[33m\"\u001b[39m\u001b[33mvalidation_loss_tml\u001b[39m\u001b[33m\"\u001b[39m, patience=\u001b[32m10\u001b[39m, mode=\u001b[33m\"\u001b[39m\u001b[33mmin\u001b[39m\u001b[33m\"\u001b[39m)\n\u001b[32m     31\u001b[39m trainer = L.Trainer(\n\u001b[32m     32\u001b[39m     max_epochs=EPOCHS,\n\u001b[32m     33\u001b[39m     devices=[\u001b[32m1\u001b[39m],\n\u001b[32m   (...)\u001b[39m\u001b[32m     39\u001b[39m     log_every_n_steps=\u001b[32m1\u001b[39m\n\u001b[32m     40\u001b[39m )\n\u001b[32m---> \u001b[39m\u001b[32m43\u001b[39m \u001b[43mtrainer\u001b[49m\u001b[43m.\u001b[49m\u001b[43mfit\u001b[49m\u001b[43m(\u001b[49m\u001b[43mmodel\u001b[49m\u001b[43m,\u001b[49m\u001b[43m \u001b[49m\u001b[43mtrain_dataloaders\u001b[49m\u001b[43m=\u001b[49m\u001b[43mtrain_dataloader\u001b[49m\u001b[43m,\u001b[49m\u001b[43m \u001b[49m\u001b[43mval_dataloaders\u001b[49m\u001b[43m=\u001b[49m\u001b[43mval_dataloader\u001b[49m\u001b[43m)\u001b[49m\n\u001b[32m     44\u001b[39m trainer.test(model, dataloaders=test_dataloader)\n",
      "\u001b[36mFile \u001b[39m\u001b[32m~/.conda/envs/esm/lib/python3.11/site-packages/lightning/pytorch/trainer/trainer.py:561\u001b[39m, in \u001b[36mTrainer.fit\u001b[39m\u001b[34m(self, model, train_dataloaders, val_dataloaders, datamodule, ckpt_path)\u001b[39m\n\u001b[32m    559\u001b[39m \u001b[38;5;28mself\u001b[39m.training = \u001b[38;5;28;01mTrue\u001b[39;00m\n\u001b[32m    560\u001b[39m \u001b[38;5;28mself\u001b[39m.should_stop = \u001b[38;5;28;01mFalse\u001b[39;00m\n\u001b[32m--> \u001b[39m\u001b[32m561\u001b[39m \u001b[43mcall\u001b[49m\u001b[43m.\u001b[49m\u001b[43m_call_and_handle_interrupt\u001b[49m\u001b[43m(\u001b[49m\n\u001b[32m    562\u001b[39m \u001b[43m    \u001b[49m\u001b[38;5;28;43mself\u001b[39;49m\u001b[43m,\u001b[49m\u001b[43m \u001b[49m\u001b[38;5;28;43mself\u001b[39;49m\u001b[43m.\u001b[49m\u001b[43m_fit_impl\u001b[49m\u001b[43m,\u001b[49m\u001b[43m \u001b[49m\u001b[43mmodel\u001b[49m\u001b[43m,\u001b[49m\u001b[43m \u001b[49m\u001b[43mtrain_dataloaders\u001b[49m\u001b[43m,\u001b[49m\u001b[43m \u001b[49m\u001b[43mval_dataloaders\u001b[49m\u001b[43m,\u001b[49m\u001b[43m \u001b[49m\u001b[43mdatamodule\u001b[49m\u001b[43m,\u001b[49m\u001b[43m \u001b[49m\u001b[43mckpt_path\u001b[49m\n\u001b[32m    563\u001b[39m \u001b[43m\u001b[49m\u001b[43m)\u001b[49m\n",
      "\u001b[36mFile \u001b[39m\u001b[32m~/.conda/envs/esm/lib/python3.11/site-packages/lightning/pytorch/trainer/call.py:65\u001b[39m, in \u001b[36m_call_and_handle_interrupt\u001b[39m\u001b[34m(trainer, trainer_fn, *args, **kwargs)\u001b[39m\n\u001b[32m     63\u001b[39m     \u001b[38;5;28;01mif\u001b[39;00m \u001b[38;5;28misinstance\u001b[39m(launcher, _SubprocessScriptLauncher):\n\u001b[32m     64\u001b[39m         launcher.kill(_get_sigkill_signal())\n\u001b[32m---> \u001b[39m\u001b[32m65\u001b[39m     \u001b[43mexit\u001b[49m(\u001b[32m1\u001b[39m)\n\u001b[32m     67\u001b[39m \u001b[38;5;28;01mexcept\u001b[39;00m \u001b[38;5;167;01mBaseException\u001b[39;00m \u001b[38;5;28;01mas\u001b[39;00m exception:\n\u001b[32m     68\u001b[39m     _interrupt(trainer, exception)\n",
      "\u001b[31mNameError\u001b[39m: name 'exit' is not defined"
     ]
    }
   ],
   "source": [
    "model_name = 'ProteinPeptideInteractionTransformer'\n",
    "obj_model = ProteinPeptideInteractionTransformer(embedding_dim=1152, hidden_dim=512, \n",
    "                                                    embedding_out_dim=128, num_heads=8, dropout=0.3)\n",
    "\n",
    "model = LModelEmb(obj_model, \n",
    "                 learning_rate=1e-, \n",
    "                 weight_decay=1e-3)\n",
    "\n",
    "logger = pl_loggers.TensorBoardLogger(name=f\"{model_name}\", save_dir=log_path)\n",
    "logger_csv = pl_loggers.CSVLogger(name=f\"{model_name}\", save_dir=log_csv_path)\n",
    "\n",
    "checkpoint_callback = ModelCheckpoint(\n",
    "    dirpath=os.path.join(checkpoints_path, f\"{model_name}\", f\"version_{logger_csv.version}\", \"checkpoints\"),\n",
    "    filename=\"model-epoch={epoch:02d}\",\n",
    "    save_top_k=-1,\n",
    "    every_n_epochs=1,\n",
    "    save_on_train_epoch_end=True,\n",
    ")\n",
    "\n",
    "best_iou_callback = ModelCheckpoint(\n",
    "    dirpath=os.path.join(checkpoints_path, f\"{model_name}\", f\"version_{logger_csv.version}\", \"checkpoints\"),\n",
    "    filename=\"best_model_epoch={epoch:02d}-loss={validation_loss_tml:.4f}\",\n",
    "    monitor=\"validation_loss_tml\",\n",
    "    mode=\"min\",\n",
    "    save_top_k=1,\n",
    "    save_on_train_epoch_end=True,\n",
    ")\n",
    "\n",
    "early_stop = EarlyStopping(monitor=\"validation_loss_tml\", patience=10, mode=\"min\")\n",
    "\n",
    "trainer = L.Trainer(\n",
    "    max_epochs=EPOCHS,\n",
    "    devices=[1],\n",
    "    default_root_dir=f'{checkpoints_path}/{model_name}',\n",
    "    logger=[logger, logger_csv],\n",
    "    accelerator=\"gpu\",\n",
    "    precision=\"32\",\n",
    "    callbacks=[best_iou_callback, early_stop, TQDMProgressBar(refresh_rate=1)],\n",
    "    log_every_n_steps=1\n",
    ")\n",
    "\n",
    "\n",
    "trainer.fit(model, train_dataloaders=train_dataloader, val_dataloaders=val_dataloader)\n",
    "trainer.test(model, dataloaders=test_dataloader)"
   ]
  }
 ],
 "metadata": {
  "kernelspec": {
   "display_name": "esm_kernel",
   "language": "python",
   "name": "esm"
  },
  "language_info": {
   "codemirror_mode": {
    "name": "ipython",
    "version": 3
   },
   "file_extension": ".py",
   "mimetype": "text/x-python",
   "name": "python",
   "nbconvert_exporter": "python",
   "pygments_lexer": "ipython3",
   "version": "3.11.13"
  }
 },
 "nbformat": 4,
 "nbformat_minor": 5
}
