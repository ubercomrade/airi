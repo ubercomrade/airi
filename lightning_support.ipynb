{
 "cells": [
  {
   "cell_type": "code",
   "execution_count": 81,
   "id": "695c681a",
   "metadata": {},
   "outputs": [
    {
     "name": "stdout",
     "output_type": "stream",
     "text": [
      "Requirement already satisfied: pytorch-metric-learning in /home/user11/.conda/envs/esm/lib/python3.11/site-packages (2.8.1)\n",
      "Requirement already satisfied: numpy in /home/user11/.conda/envs/esm/lib/python3.11/site-packages (from pytorch-metric-learning) (2.3.1)\n",
      "Requirement already satisfied: scikit-learn in /home/user11/.conda/envs/esm/lib/python3.11/site-packages (from pytorch-metric-learning) (1.7.0)\n",
      "Requirement already satisfied: torch>=1.6.0 in /home/user11/.conda/envs/esm/lib/python3.11/site-packages (from pytorch-metric-learning) (2.7.1)\n",
      "Requirement already satisfied: tqdm in /home/user11/.conda/envs/esm/lib/python3.11/site-packages (from pytorch-metric-learning) (4.67.1)\n",
      "Requirement already satisfied: filelock in /home/user11/.conda/envs/esm/lib/python3.11/site-packages (from torch>=1.6.0->pytorch-metric-learning) (3.18.0)\n",
      "Requirement already satisfied: typing-extensions>=4.10.0 in /home/user11/.conda/envs/esm/lib/python3.11/site-packages (from torch>=1.6.0->pytorch-metric-learning) (4.14.0)\n",
      "Requirement already satisfied: sympy>=1.13.3 in /home/user11/.conda/envs/esm/lib/python3.11/site-packages (from torch>=1.6.0->pytorch-metric-learning) (1.14.0)\n",
      "Requirement already satisfied: networkx in /home/user11/.conda/envs/esm/lib/python3.11/site-packages (from torch>=1.6.0->pytorch-metric-learning) (3.5)\n",
      "Requirement already satisfied: jinja2 in /home/user11/.conda/envs/esm/lib/python3.11/site-packages (from torch>=1.6.0->pytorch-metric-learning) (3.1.6)\n",
      "Requirement already satisfied: fsspec in /home/user11/.conda/envs/esm/lib/python3.11/site-packages (from torch>=1.6.0->pytorch-metric-learning) (2025.5.1)\n",
      "Requirement already satisfied: nvidia-cuda-nvrtc-cu12==12.6.77 in /home/user11/.conda/envs/esm/lib/python3.11/site-packages (from torch>=1.6.0->pytorch-metric-learning) (12.6.77)\n",
      "Requirement already satisfied: nvidia-cuda-runtime-cu12==12.6.77 in /home/user11/.conda/envs/esm/lib/python3.11/site-packages (from torch>=1.6.0->pytorch-metric-learning) (12.6.77)\n",
      "Requirement already satisfied: nvidia-cuda-cupti-cu12==12.6.80 in /home/user11/.conda/envs/esm/lib/python3.11/site-packages (from torch>=1.6.0->pytorch-metric-learning) (12.6.80)\n",
      "Requirement already satisfied: nvidia-cudnn-cu12==9.5.1.17 in /home/user11/.conda/envs/esm/lib/python3.11/site-packages (from torch>=1.6.0->pytorch-metric-learning) (9.5.1.17)\n",
      "Requirement already satisfied: nvidia-cublas-cu12==12.6.4.1 in /home/user11/.conda/envs/esm/lib/python3.11/site-packages (from torch>=1.6.0->pytorch-metric-learning) (12.6.4.1)\n",
      "Requirement already satisfied: nvidia-cufft-cu12==11.3.0.4 in /home/user11/.conda/envs/esm/lib/python3.11/site-packages (from torch>=1.6.0->pytorch-metric-learning) (11.3.0.4)\n",
      "Requirement already satisfied: nvidia-curand-cu12==10.3.7.77 in /home/user11/.conda/envs/esm/lib/python3.11/site-packages (from torch>=1.6.0->pytorch-metric-learning) (10.3.7.77)\n",
      "Requirement already satisfied: nvidia-cusolver-cu12==11.7.1.2 in /home/user11/.conda/envs/esm/lib/python3.11/site-packages (from torch>=1.6.0->pytorch-metric-learning) (11.7.1.2)\n",
      "Requirement already satisfied: nvidia-cusparse-cu12==12.5.4.2 in /home/user11/.conda/envs/esm/lib/python3.11/site-packages (from torch>=1.6.0->pytorch-metric-learning) (12.5.4.2)\n",
      "Requirement already satisfied: nvidia-cusparselt-cu12==0.6.3 in /home/user11/.conda/envs/esm/lib/python3.11/site-packages (from torch>=1.6.0->pytorch-metric-learning) (0.6.3)\n",
      "Requirement already satisfied: nvidia-nccl-cu12==2.26.2 in /home/user11/.conda/envs/esm/lib/python3.11/site-packages (from torch>=1.6.0->pytorch-metric-learning) (2.26.2)\n",
      "Requirement already satisfied: nvidia-nvtx-cu12==12.6.77 in /home/user11/.conda/envs/esm/lib/python3.11/site-packages (from torch>=1.6.0->pytorch-metric-learning) (12.6.77)\n",
      "Requirement already satisfied: nvidia-nvjitlink-cu12==12.6.85 in /home/user11/.conda/envs/esm/lib/python3.11/site-packages (from torch>=1.6.0->pytorch-metric-learning) (12.6.85)\n",
      "Requirement already satisfied: nvidia-cufile-cu12==1.11.1.6 in /home/user11/.conda/envs/esm/lib/python3.11/site-packages (from torch>=1.6.0->pytorch-metric-learning) (1.11.1.6)\n",
      "Requirement already satisfied: triton==3.3.1 in /home/user11/.conda/envs/esm/lib/python3.11/site-packages (from torch>=1.6.0->pytorch-metric-learning) (3.3.1)\n",
      "Requirement already satisfied: setuptools>=40.8.0 in /home/user11/.conda/envs/esm/lib/python3.11/site-packages (from triton==3.3.1->torch>=1.6.0->pytorch-metric-learning) (78.1.1)\n",
      "Requirement already satisfied: mpmath<1.4,>=1.1.0 in /home/user11/.conda/envs/esm/lib/python3.11/site-packages (from sympy>=1.13.3->torch>=1.6.0->pytorch-metric-learning) (1.3.0)\n",
      "Requirement already satisfied: MarkupSafe>=2.0 in /home/user11/.conda/envs/esm/lib/python3.11/site-packages (from jinja2->torch>=1.6.0->pytorch-metric-learning) (3.0.2)\n",
      "Requirement already satisfied: scipy>=1.8.0 in /home/user11/.conda/envs/esm/lib/python3.11/site-packages (from scikit-learn->pytorch-metric-learning) (1.16.0)\n",
      "Requirement already satisfied: joblib>=1.2.0 in /home/user11/.conda/envs/esm/lib/python3.11/site-packages (from scikit-learn->pytorch-metric-learning) (1.5.1)\n",
      "Requirement already satisfied: threadpoolctl>=3.1.0 in /home/user11/.conda/envs/esm/lib/python3.11/site-packages (from scikit-learn->pytorch-metric-learning) (3.6.0)\n",
      "^C\n",
      "\u001b[31mERROR: Operation cancelled by user\u001b[0m\u001b[31m\n",
      "\u001b[0m"
     ]
    }
   ],
   "source": [
    "! pip install pytorch-metric-learning"
   ]
  },
  {
   "cell_type": "code",
   "execution_count": 1,
   "id": "465a62d6",
   "metadata": {},
   "outputs": [],
   "source": [
    "import os\n",
    "import lightning as L\n",
    "from lightning.pytorch import loggers as pl_loggers\n",
    "from lightning.pytorch.callbacks import TQDMProgressBar, ModelCheckpoint, EarlyStopping\n",
    "\n",
    "import numpy as np\n",
    "import pandas as pd\n",
    "\n",
    "import seaborn as sns\n",
    "import matplotlib.pyplot as plt\n",
    "\n",
    "import torch\n",
    "import torch.nn as nn\n",
    "import torchmetrics\n",
    "import torch.nn.functional as F\n",
    "from torch.utils.data import Dataset, DataLoader\n",
    "\n",
    "from torchmetrics.classification import (\n",
    "    AUROC,\n",
    "    Accuracy\n",
    ")\n",
    "from torchmetrics import (\n",
    "    PearsonCorrCoef,\n",
    "    SpearmanCorrCoef,\n",
    "    R2Score\n",
    ")\n",
    "\n",
    "import ast\n",
    "\n",
    "import torch\n",
    "import numpy as np\n",
    "import pandas as pd\n",
    "from torch.utils.data import Dataset, DataLoader\n",
    "from pytorch_metric_learning.samplers import MPerClassSampler\n",
    "import torch.nn.functional as F\n",
    "from ast import literal_eval\n",
    "\n",
    "\n",
    "from pytorch_metric_learning.losses import TripletMarginLoss\n",
    "from pytorch_metric_learning.miners import TripletMarginMiner\n",
    "\n",
    "\n",
    "plt.rcParams[\"savefig.bbox\"] = 'tight'"
   ]
  },
  {
   "cell_type": "markdown",
   "id": "2748da9f",
   "metadata": {},
   "source": [
    "# Загружаем данные"
   ]
  },
  {
   "cell_type": "code",
   "execution_count": 2,
   "id": "67c6031f",
   "metadata": {},
   "outputs": [
    {
     "name": "stdout",
     "output_type": "stream",
     "text": [
      "2052\n",
      "2009\n"
     ]
    }
   ],
   "source": [
    "data = pd.read_csv(\"/home/user11/data/data_processed/data.tsv\", sep=\"\\t\", names=[\"peptide\", \"score\", \"hla\"])\n",
    "#embeddings_table = pd.read_csv(\"/home/user11/data/embeddings_proteins/wide_data.tsv\", sep=\"\\t\")\n",
    "embeddings_table = pd.read_csv(\"/home/user11/data/embeddings_proteins/wide_data_32float.tsv\", sep=\"\\t\")\n",
    "\n",
    "i = 1\n",
    "\n",
    "train = pd.read_csv(f\"/home/user11/data/data_processed/train{i}\", sep=\"\\t\", names=[\"peptide\", \"score\", \"hla\"])\n",
    "train.hla = train.hla.str.replace(\"_\", \"\")\n",
    "train_data = pd.merge(train, embeddings_table, on=[\"peptide\", \"score\", \"hla\"])\n",
    "train_data = train_data[train_data['peptide'].apply(len) <= 21]\n",
    "train_data = train_data[train_data['peptide'].apply(len) >= 9]\n",
    "\n",
    "\n",
    "val = pd.read_csv(f\"/home/user11/data/data_processed/test{i}\", sep=\"\\t\", names=[\"peptide\", \"score\", \"hla\"])\n",
    "val.hla = val.hla.str.replace(\"_\", \"\")\n",
    "val_data = pd.merge(val, embeddings_table, on=[\"peptide\", \"score\", \"hla\"])\n",
    "val_data = val_data[val_data['peptide'].apply(len) <= 21]\n",
    "val_data = val_data[val_data['peptide'].apply(len) >= 9]\n",
    "\n",
    "test_data = pd.read_csv(\"/home/user11/data/embeddings_proteins/wide_data_test.tsv\", sep=\"\\t\")\n",
    "test_data = pd.read_csv(\"/home/user11/data/embeddings_proteins/wide_data_test_32float.tsv\", sep=\"\\t\")\n",
    "print(len(test_data))\n",
    "test_data = test_data[test_data['peptide'].apply(len) <= 21]\n",
    "test_data = test_data[test_data['peptide'].apply(len) >= 9]\n",
    "test_data = test_data.reset_index(drop=True)\n",
    "print(len(test_data))\n"
   ]
  },
  {
   "cell_type": "code",
   "execution_count": 5,
   "id": "8bac2322",
   "metadata": {},
   "outputs": [],
   "source": [
    "def pracess_table(data):\n",
    "    featuries = []\n",
    "    labels = []\n",
    "    for index, row in data.iterrows():\n",
    "        alpha_path = row['alpha_path']\n",
    "        beta_path = row['beta_path']\n",
    "        peptide_path = row['peptide_path']\n",
    "        # alpha_positions = row['alpha_positions']\n",
    "        # beta_positions = row['beta_positions']\n",
    "        score = row['score']\n",
    "\n",
    "        alpha_embeddings = np.load(alpha_path)[:,1:-1].squeeze(0).mean(axis=0)\n",
    "        beta_embeddings = np.load(beta_path)[:,1:-1].squeeze(0).mean(axis=0)\n",
    "        peptide_embeddings = torch.FloatTensor(np.load(peptide_path))[:,1:-1].squeeze(0).mean(axis=0)\n",
    "        featuries.append(np.concat([alpha_embeddings, beta_embeddings, peptide_embeddings]))\n",
    "        labels.append(score > 0.496)\n",
    "    return featuries, labels\n",
    "\n"
   ]
  },
  {
   "cell_type": "code",
   "execution_count": 8,
   "id": "aa9c8091",
   "metadata": {},
   "outputs": [],
   "source": [
    "test_features, test_labels = pracess_table(test_data)\n",
    "train_features, train_labels = pracess_table(train_data)"
   ]
  },
  {
   "cell_type": "code",
   "execution_count": null,
   "id": "a8c2df4e",
   "metadata": {},
   "outputs": [],
   "source": [
    "from sklearn.svm import SVC\n",
    "from sklearn.decomposition import PCA\n",
    "from sklearn.preprocessing import StandardScaler\n",
    "from sklearn.metrics import (\n",
    "    accuracy_score,\n",
    "    classification_report,\n",
    "    confusion_matrix,\n",
    "    roc_auc_score,\n",
    ")\n",
    "\n",
    "# Предобработка\n",
    "# test_features, test_labels = pracess_table(test_data)\n",
    "# train_features, train_labels = pracess_table(train_data)\n",
    "\n",
    "# Масштабирование признаков\n",
    "scaler = StandardScaler()\n",
    "train_scaled = scaler.fit_transform(train_features)\n",
    "test_scaled = scaler.transform(test_features)\n",
    "\n",
    "# PCA: уменьшаем размерность (например, до 20 компонентов — можно изменить)\n",
    "pca = PCA(n_components=20)\n",
    "train_pca = pca.fit_transform(train_scaled)\n",
    "test_pca = pca.transform(test_scaled)\n",
    "\n",
    "# Обучение SVM\n",
    "model = SVC(kernel='rbf', C=1.0, gamma='scale', probability=True)\n",
    "model.fit(train_pca, train_labels)\n",
    "\n",
    "# Предсказания\n",
    "predictions = model.predict(test_pca)\n",
    "probas = model.predict_proba(test_pca)\n",
    "\n",
    "# AUC ROC (только для бинарной классификации)\n",
    "if len(model.classes_) == 2:\n",
    "    auc = roc_auc_score(test_labels, probas[:, 1])\n",
    "    print(\"AUC ROC:\", auc)\n",
    "else:\n",
    "    print(\"AUC ROC доступен только для бинарной классификации.\")\n",
    "\n",
    "# Метрики\n",
    "print(\"Accuracy:\", accuracy_score(test_labels, predictions))\n",
    "print(\"Confusion Matrix:\\n\", confusion_matrix(test_labels, predictions))\n",
    "print(\"Classification Report:\\n\", classification_report(test_labels, predictions))\n"
   ]
  },
  {
   "cell_type": "code",
   "execution_count": null,
   "id": "6f7c856f",
   "metadata": {},
   "outputs": [
    {
     "ename": "",
     "evalue": "",
     "output_type": "error",
     "traceback": [
      "\u001b[1;31mnotebook controller is DISPOSED. \n",
      "\u001b[1;31mView Jupyter <a href='command:jupyter.viewOutput'>log</a> for further details."
     ]
    }
   ],
   "source": [
    "def is_exists(path):\n",
    "    return os.path.exists(path)"
   ]
  },
  {
   "cell_type": "code",
   "execution_count": null,
   "id": "6e926ff6",
   "metadata": {},
   "outputs": [
    {
     "data": {
      "text/plain": [
       "np.True_"
      ]
     },
     "execution_count": 61,
     "metadata": {},
     "output_type": "execute_result"
    },
    {
     "ename": "",
     "evalue": "",
     "output_type": "error",
     "traceback": [
      "\u001b[1;31mnotebook controller is DISPOSED. \n",
      "\u001b[1;31mView Jupyter <a href='command:jupyter.viewOutput'>log</a> for further details."
     ]
    }
   ],
   "source": [
    "np.sum(test_data['peptide_path'].apply(is_exists)) == len(test_data)"
   ]
  },
  {
   "cell_type": "code",
   "execution_count": null,
   "id": "49ed6f53",
   "metadata": {},
   "outputs": [
    {
     "data": {
      "text/plain": [
       "array([[[ 0.01533592,  0.04636236, -0.02179497, ...,  0.00812898,\n",
       "          0.01680294, -0.01285871],\n",
       "        [-0.00108992,  0.02830932,  0.00663236, ..., -0.00385393,\n",
       "         -0.01219377,  0.01918724],\n",
       "        [-0.00031568,  0.03600387, -0.02954051, ...,  0.01349472,\n",
       "         -0.01393486, -0.00657987],\n",
       "        ...,\n",
       "        [-0.00483224,  0.0498512 , -0.0490288 , ..., -0.00414214,\n",
       "          0.01086233, -0.00033358],\n",
       "        [-0.01201398,  0.05209634, -0.0242684 , ..., -0.01939956,\n",
       "         -0.00191659, -0.00660642],\n",
       "        [-0.0449412 ,  0.0454271 ,  0.00334062, ...,  0.00191115,\n",
       "          0.00306173, -0.00519145]]], shape=(1, 15, 1152), dtype=float32)"
      ]
     },
     "execution_count": 163,
     "metadata": {},
     "output_type": "execute_result"
    },
    {
     "ename": "",
     "evalue": "",
     "output_type": "error",
     "traceback": [
      "\u001b[1;31mnotebook controller is DISPOSED. \n",
      "\u001b[1;31mView Jupyter <a href='command:jupyter.viewOutput'>log</a> for further details."
     ]
    }
   ],
   "source": [
    "np.load(train_data.iloc[10]['peptide_path'])"
   ]
  },
  {
   "cell_type": "markdown",
   "id": "5865a435",
   "metadata": {},
   "source": [
    "### Пути и глобальные переменные"
   ]
  },
  {
   "cell_type": "code",
   "execution_count": 3,
   "id": "a0f8bdf3",
   "metadata": {},
   "outputs": [],
   "source": [
    "log_path = '/home/user11/results/logs/'\n",
    "log_csv_path = '/home/user11/results/logs_csv/'\n",
    "checkpoints_path = '/home/user11/results/models/'\n",
    "EPOCHS = 100\n"
   ]
  },
  {
   "cell_type": "markdown",
   "id": "7f541717",
   "metadata": {},
   "source": [
    "## Работа с моделями на основе Attention"
   ]
  },
  {
   "cell_type": "markdown",
   "id": "ba7b6c44",
   "metadata": {},
   "source": [
    "### Базовый датасет"
   ]
  },
  {
   "cell_type": "code",
   "execution_count": 4,
   "id": "5c8f8c37",
   "metadata": {},
   "outputs": [],
   "source": [
    "def collate_fn(batch):\n",
    "    proteins, peptides, lengths, scores = zip(*batch)\n",
    "    \n",
    "    proteins = torch.stack(proteins)        # [B, 34, 1152]\n",
    "    peptides = torch.stack(peptides)        # [B, 21, 1152] — уже паддинг\n",
    "    lengths = torch.tensor(lengths)         # [B]\n",
    "    scores = torch.tensor(scores)#.unsqueeze(1)  # [B, 1]\n",
    "    \n",
    "    return proteins, peptides, lengths, scores\n",
    "\n",
    "\n",
    "class MHCSequenceDataset(Dataset):\n",
    "    def __init__(self, df):\n",
    "        self.df = df\n",
    "        \n",
    "    def __len__(self):\n",
    "        return len(self.df)\n",
    "    \n",
    "    def __getitem__(self, idx):\n",
    "        row = self.df.loc[idx]\n",
    "        score = row['score']\n",
    "        alpha_path = row['alpha_path']\n",
    "        beta_path = row['beta_path']\n",
    "        peptide_path = row['peptide_path']\n",
    "        alpha_positions = row['alpha_positions']\n",
    "        beta_positions = row['beta_positions']\n",
    "                \n",
    "        alpha_embeddings = np.load(alpha_path)[:, ast.literal_eval(alpha_positions), :].squeeze(0)\n",
    "        beta_embeddings = np.load(beta_path)[:, ast.literal_eval(beta_positions), :].squeeze(0)\n",
    "        peptide_embeddings = torch.FloatTensor(np.load(peptide_path))[:,1:-1].squeeze(0)\n",
    "\n",
    "        peptide_len = peptide_embeddings.shape[0]\n",
    "\n",
    "        # Паддинг по центру до 21\n",
    "        total_pad = 21 - peptide_len\n",
    "        left_pad = total_pad // 2\n",
    "        right_pad = total_pad - left_pad\n",
    "        peptide_padded = F.pad(peptide_embeddings, (0, 0, left_pad, right_pad), 'constant', value=0)\n",
    "        protein = torch.FloatTensor(np.concatenate([alpha_embeddings, beta_embeddings], axis=0))\n",
    "\n",
    "        # peptide_mask = torch.zeros(peptide_padded.size(0), dtype=torch.bool)\n",
    "        # peptide_mask[peptide_len:] = True\n",
    "\n",
    "        return protein, peptide_padded, peptide_len, torch.tensor(score, dtype=torch.float)\n",
    "    \n",
    "    "
   ]
  },
  {
   "cell_type": "markdown",
   "id": "148ee13b",
   "metadata": {},
   "source": [
    "###  Датасет с маской"
   ]
  },
  {
   "cell_type": "code",
   "execution_count": 12,
   "id": "2c86339c",
   "metadata": {},
   "outputs": [],
   "source": [
    "def collate_fn(batch):\n",
    "    proteins, peptides, masks, scores = zip(*batch)\n",
    "\n",
    "    proteins = torch.stack(proteins)        # [B, 34, 1152]\n",
    "    peptides = torch.stack(peptides)        # [B, 21, 1152]\n",
    "    masks = torch.stack(masks)              # [B, 21] — attention mask\n",
    "    scores = torch.tensor(scores)           # [B]\n",
    "\n",
    "    return proteins, peptides, masks, scores\n",
    "\n",
    "\n",
    "class MHCSequenceDataset(Dataset):\n",
    "    def __init__(self, df):\n",
    "        self.df = df\n",
    "        \n",
    "    def __len__(self):\n",
    "        return len(self.df)\n",
    "\n",
    "def __getitem__(self, idx):\n",
    "    row = self.df.loc[idx]\n",
    "    score = row['score']\n",
    "    alpha_path = row['alpha_path']\n",
    "    beta_path = row['beta_path']\n",
    "    peptide_path = row['peptide_path']\n",
    "    alpha_positions = row['alpha_positions']\n",
    "    beta_positions = row['beta_positions']\n",
    "            \n",
    "    alpha_embeddings = np.load(alpha_path)[:, ast.literal_eval(alpha_positions), :].squeeze(0)\n",
    "    beta_embeddings = np.load(beta_path)[:, ast.literal_eval(beta_positions), :].squeeze(0)\n",
    "    peptide_embeddings = torch.FloatTensor(np.load(peptide_path))[:,1:-1].squeeze(0)\n",
    "\n",
    "    peptide_len = peptide_embeddings.shape[0]\n",
    "\n",
    "    # Паддинг по центру до 21\n",
    "    total_pad = 21 - peptide_len\n",
    "    left_pad = total_pad // 2\n",
    "    right_pad = total_pad - left_pad\n",
    "    peptide_padded = F.pad(peptide_embeddings, (0, 0, left_pad, right_pad), 'constant', value=0)\n",
    "\n",
    "    # Маска: 1 — реальные токены, 0 — паддинг\n",
    "    mask = torch.zeros(21, dtype=torch.bool)\n",
    "    mask[left_pad:left_pad + peptide_len] = True\n",
    "\n",
    "    protein = torch.FloatTensor(np.concatenate([alpha_embeddings, beta_embeddings], axis=0))\n",
    "\n",
    "    return protein, peptide_padded, mask, torch.tensor(score, dtype=torch.float)\n"
   ]
  },
  {
   "cell_type": "markdown",
   "id": "84339002",
   "metadata": {},
   "source": [
    "### Обьявляем наши датасеты"
   ]
  },
  {
   "cell_type": "code",
   "execution_count": 13,
   "id": "26387a5a",
   "metadata": {},
   "outputs": [],
   "source": [
    "BATCH_SIZE = 512\n",
    "\n",
    "train_dataset = MHCSequenceDataset(train_data)\n",
    "val_dataset = MHCSequenceDataset(val_data)\n",
    "test_dataset = MHCSequenceDataset(test_data)\n",
    "\n",
    "train_dataloader = DataLoader(train_dataset, batch_size=BATCH_SIZE, shuffle=True, num_workers=8, collate_fn=collate_fn)\n",
    "val_dataloader = DataLoader(val_dataset, batch_size=BATCH_SIZE, shuffle=False, num_workers=8, collate_fn=collate_fn)\n",
    "test_dataloader = DataLoader(test_dataset, batch_size=BATCH_SIZE, shuffle=False, num_workers=8, collate_fn=collate_fn)\n",
    "\n",
    "#len(train_dataset), train_dataset[30][1].shape"
   ]
  },
  {
   "cell_type": "code",
   "execution_count": null,
   "id": "4ee16083",
   "metadata": {},
   "outputs": [
    {
     "ename": "",
     "evalue": "",
     "output_type": "error",
     "traceback": [
      "\u001b[1;31mnotebook controller is DISPOSED. \n",
      "\u001b[1;31mView Jupyter <a href='command:jupyter.viewOutput'>log</a> for further details."
     ]
    }
   ],
   "source": [
    "batch = next(iter(train_dataloader))"
   ]
  },
  {
   "cell_type": "code",
   "execution_count": null,
   "id": "ac6500be",
   "metadata": {},
   "outputs": [
    {
     "data": {
      "text/plain": [
       "torch.Size([512, 21, 1152])"
      ]
     },
     "execution_count": 136,
     "metadata": {},
     "output_type": "execute_result"
    },
    {
     "ename": "",
     "evalue": "",
     "output_type": "error",
     "traceback": [
      "\u001b[1;31mnotebook controller is DISPOSED. \n",
      "\u001b[1;31mView Jupyter <a href='command:jupyter.viewOutput'>log</a> for further details."
     ]
    }
   ],
   "source": [
    "batch[1].shape"
   ]
  },
  {
   "cell_type": "markdown",
   "id": "78c8252a",
   "metadata": {},
   "source": [
    "### Модели с attention"
   ]
  },
  {
   "cell_type": "markdown",
   "id": "9114a57e",
   "metadata": {},
   "source": [
    "#### 1) ProteinPeptideInteractionModel"
   ]
  },
  {
   "cell_type": "code",
   "execution_count": 6,
   "id": "fdcbc7c9",
   "metadata": {},
   "outputs": [],
   "source": [
    "import torch\n",
    "import torch.nn as nn\n",
    "import torch.nn.functional as F\n",
    "\n",
    "class ProteinPeptideInteractionModel(nn.Module):\n",
    "    def __init__(self, embedding_dim=1152, hidden_dim=512, num_heads=4, dropout=0.3):\n",
    "        super(ProteinPeptideInteractionModel, self).__init__()\n",
    "        \n",
    "        self.peptide_proj = nn.Linear(embedding_dim, hidden_dim)\n",
    "        self.protein_proj = nn.Linear(embedding_dim, hidden_dim)\n",
    "        \n",
    "        self.cross_attn = nn.MultiheadAttention(embed_dim=hidden_dim, \n",
    "                                                num_heads=num_heads, \n",
    "                                                batch_first=True,\n",
    "                                                dropout=dropout)\n",
    "        \n",
    "        self.fc = nn.Sequential(\n",
    "            nn.Linear(hidden_dim * 2, hidden_dim),\n",
    "            nn.ReLU(),\n",
    "            nn.Dropout(dropout),\n",
    "            nn.Linear(hidden_dim, 1),\n",
    "        )\n",
    "        \n",
    "    def forward(self, protein, peptide):\n",
    "        # protein: [B, 34, 1152]\n",
    "        # peptide: [B, 21, 1152]\n",
    "        \n",
    "        # Проецируем эмбеддинги\n",
    "        protein_proj = self.protein_proj(protein)   # [B, 34, hidden]\n",
    "        peptide_proj = self.peptide_proj(peptide)   # [B, 21, hidden]\n",
    "        \n",
    "        # Кросс-аттеншн: пептид (query) взаимодействует с белком (key, value)\n",
    "        # attn_output, _ = self.cross_attn(query=peptide_proj,\n",
    "        #                                  key=protein_proj,\n",
    "        #                                  value=protein_proj)\n",
    "        attn_output, _ = self.cross_attn(query=protein_proj,\n",
    "                                         key=peptide_proj,\n",
    "                                         value=peptide_proj)\n",
    "\n",
    "        # Агрегируем: берем среднее по всем позициям пептида\n",
    "        attn_repr = attn_output.mean(dim=1)        # [B, hidden]\n",
    "        pep_repr = peptide_proj.mean(dim=1)        # [B, hidden]\n",
    "        \n",
    "        combined = torch.cat([attn_repr, pep_repr], dim=1)  # [B, hidden*2]\n",
    "        \n",
    "        output = self.fc(combined)\n",
    "        \n",
    "        return output\n"
   ]
  },
  {
   "cell_type": "markdown",
   "id": "0921e8a1",
   "metadata": {},
   "source": [
    "#### 2) CrossAttentionModel"
   ]
  },
  {
   "cell_type": "code",
   "execution_count": 15,
   "id": "b292d93e",
   "metadata": {},
   "outputs": [],
   "source": [
    "\n",
    "class PositionalEncoding(nn.Module):\n",
    "    def __init__(self, dim, max_len=1000):\n",
    "        super().__init__()\n",
    "        pe = torch.zeros(max_len, dim)\n",
    "        position = torch.arange(0, max_len).unsqueeze(1)\n",
    "        div_term = torch.exp(torch.arange(0, dim, 2) * -(torch.log(torch.tensor(10000.0)) / dim))\n",
    "        pe[:, 0::2] = torch.sin(position * div_term)\n",
    "        pe[:, 1::2] = torch.cos(position * div_term)\n",
    "        self.pe = pe.unsqueeze(0)  # [1, max_len, dim]\n",
    "\n",
    "    def forward(self, x):\n",
    "        return x + self.pe[:, :x.size(1), :].to(x.device)\n",
    "\n",
    "class CrossAttentionModel(nn.Module):\n",
    "    def __init__(self, d_model=1152, nhead=8, dim_feedforward=2048, dropout=0.2):\n",
    "        super().__init__()\n",
    "        self.protein_pos = PositionalEncoding(d_model, max_len=34)\n",
    "        self.peptide_pos = PositionalEncoding(d_model, max_len=21)\n",
    "\n",
    "        self.cross_attn = nn.MultiheadAttention(embed_dim=d_model, num_heads=nhead, dropout=dropout, batch_first=True)\n",
    "\n",
    "        self.mlp = nn.Sequential(\n",
    "            nn.Linear(d_model, dim_feedforward),\n",
    "            nn.ReLU(),\n",
    "            nn.Dropout(dropout),\n",
    "            nn.Linear(dim_feedforward, 1),\n",
    "        )\n",
    "\n",
    "    def forward(self, protein, peptide, peptide_mask):\n",
    "\n",
    "        #B, L, D = peptide.size()\n",
    "\n",
    "        # позиционная кодировка\n",
    "        protein = self.protein_pos(protein)\n",
    "        peptide_fwd = self.peptide_pos(peptide)\n",
    "        peptide_rev = self.peptide_pos(torch.flip(peptide, dims=[1]))\n",
    "\n",
    "        peptide_mask_rev = torch.flip(peptide_mask, dims=[1])\n",
    "\n",
    "        # cross-attention (protein queries, peptide keys/values)\n",
    "        attn_out_fwd, _ = self.cross_attn(\n",
    "            query=protein,\n",
    "            key=peptide_fwd,\n",
    "            value=peptide_fwd,\n",
    "            key_padding_mask=~peptide_mask  # игнорировать паддинг\n",
    "        )\n",
    "\n",
    "        attn_out_rev, _ = self.cross_attn(\n",
    "            query=protein,\n",
    "            key=peptide_rev,\n",
    "            value=peptide_rev,\n",
    "            key_padding_mask=~peptide_mask_rev\n",
    "        )\n",
    "\n",
    "        # Инвариантность ориентации — усреднение\n",
    "        attn_out = (attn_out_fwd + attn_out_rev) / 2  # [B, 34, 1152]\n",
    "\n",
    "        # Пулинг по белку\n",
    "        pooled = attn_out.mean(dim=1)  # [B, 1152]\n",
    "\n",
    "        return self.mlp(pooled)  # [B, 1]\n"
   ]
  },
  {
   "cell_type": "markdown",
   "id": "da0fb7a8",
   "metadata": {},
   "source": [
    "### Модель с масками и позиционным кодированием"
   ]
  },
  {
   "cell_type": "code",
   "execution_count": 140,
   "id": "91eff5ad",
   "metadata": {},
   "outputs": [],
   "source": [
    "class ProteinPeptideInteractionTransformer(nn.Module):\n",
    "    def __init__(self, embedding_dim=1152, hidden_dim=512, embedding_out_dim=128, num_heads=8, dropout=0.3):\n",
    "        super().__init__()\n",
    "\n",
    "        self.embedding_dim = embedding_dim\n",
    "        self.hidden_dim = hidden_dim\n",
    "\n",
    "        # Проекция\n",
    "        self.protein_proj = nn.Linear(embedding_dim, hidden_dim)\n",
    "        self.peptide_proj = nn.Linear(embedding_dim, hidden_dim)\n",
    "\n",
    "        # Первый слой cross-attention\n",
    "        self.cross_attn1 = nn.MultiheadAttention(embed_dim=hidden_dim, num_heads=num_heads, dropout=dropout, batch_first=True)\n",
    "        self.norm1 = nn.LayerNorm(hidden_dim)\n",
    "\n",
    "        # Второй слой cross-attention\n",
    "        self.cross_attn2 = nn.MultiheadAttention(embed_dim=hidden_dim, num_heads=num_heads, dropout=dropout, batch_first=True)\n",
    "        self.norm2 = nn.LayerNorm(hidden_dim)\n",
    "\n",
    "        # Агрегация и объединение представлений\n",
    "        self.encoder = nn.Sequential(\n",
    "            nn.Linear(hidden_dim * 2, hidden_dim),\n",
    "            nn.ReLU(),\n",
    "            nn.Dropout(dropout),\n",
    "            nn.LayerNorm(hidden_dim),\n",
    "            nn.Linear(hidden_dim, embedding_out_dim)\n",
    "        )\n",
    "\n",
    "        # Предсказание биндинга\n",
    "        self.score_head = nn.Sequential(\n",
    "            nn.Linear(embedding_out_dim, 64),\n",
    "            nn.ReLU(),\n",
    "            nn.Linear(64, 1)\n",
    "        )\n",
    "\n",
    "    def forward(self, protein, peptide):\n",
    "        \"\"\"\n",
    "        protein: [B, P_len, 1152]\n",
    "        peptide: [B, pep_len, 1152]\n",
    "        Returns:\n",
    "            embedding: [B, embedding_out_dim]\n",
    "            score:     [B]\n",
    "        \"\"\"\n",
    "        B = protein.shape[0]\n",
    "\n",
    "        # Проекция эмбеддингов\n",
    "        protein_proj = self.protein_proj(protein)     # [B, P_len, hidden_dim]\n",
    "        peptide_proj = self.peptide_proj(peptide)     # [B, pep_len, hidden_dim]\n",
    "\n",
    "        # Первый cross-attention\n",
    "        attn_out1, _ = self.cross_attn1(query=peptide_proj, key=protein_proj, value=protein_proj)\n",
    "        attn_out1 = self.norm1(attn_out1 + peptide_proj)  # skip-connection\n",
    "\n",
    "        # Второй cross-attention\n",
    "        attn_out2, _ = self.cross_attn2(query=attn_out1, key=protein_proj, value=protein_proj)\n",
    "        attn_out2 = self.norm2(attn_out2 + attn_out1)     # skip-connection\n",
    "\n",
    "        # Усреднение\n",
    "        peptide_repr = attn_out2.mean(dim=1)              # [B, hidden_dim]\n",
    "        protein_repr = protein_proj.mean(dim=1)           # [B, hidden_dim]\n",
    "\n",
    "        # Объединение\n",
    "        combined = torch.cat([protein_repr, peptide_repr], dim=1)  # [B, hidden_dim * 2]\n",
    "\n",
    "        # Получение эмбеддинга\n",
    "        embedding = self.encoder(combined)                # [B, embedding_out_dim]\n",
    "        embedding = F.normalize(embedding, p=2, dim=1)\n",
    "\n",
    "        # Предсказание бинарного класса\n",
    "        score = self.score_head(embedding).squeeze(-1)    # [B]\n",
    "\n",
    "        return score\n"
   ]
  },
  {
   "cell_type": "code",
   "execution_count": 163,
   "id": "c747b3da",
   "metadata": {},
   "outputs": [],
   "source": [
    "class TensorFusionInteractionModel(nn.Module):\n",
    "    def __init__(self, embedding_dim=1152, hidden_dim=512, dropout=0.3):\n",
    "        super().__init__()\n",
    "        self.peptide_proj = nn.Linear(embedding_dim, hidden_dim)\n",
    "        self.protein_proj = nn.Linear(embedding_dim, hidden_dim)\n",
    "\n",
    "        self.conv = nn.Sequential(\n",
    "            nn.Conv2d(1, 16, kernel_size=3, padding=1),  # [B, 1, 34, 21] → [B, 16, 34, 21]\n",
    "            nn.ReLU(),\n",
    "            nn.Conv2d(16, 32, kernel_size=3, padding=1),  # [B, 32, 34, 21]\n",
    "            nn.ReLU(),\n",
    "            nn.AdaptiveAvgPool2d((4, 4)),                # [B, 32, 4, 4]\n",
    "        )\n",
    "\n",
    "        self.fc = nn.Sequential(\n",
    "            nn.Flatten(),                                # [B, 32 * 4 * 4]\n",
    "            nn.Linear(32 * 4 * 4, hidden_dim),\n",
    "            nn.ReLU(),\n",
    "            nn.Dropout(dropout),\n",
    "            nn.Linear(hidden_dim, 1)\n",
    "        )\n",
    "\n",
    "    def forward(self, protein, peptide):\n",
    "        protein_proj = self.protein_proj(protein)     # [B, 34, H]\n",
    "        peptide_proj = self.peptide_proj(peptide)     # [B, 21, H]\n",
    "\n",
    "        # Тензор взаимодействия (скалярное произведение)\n",
    "        interaction = torch.bmm(protein_proj, peptide_proj.transpose(1, 2))  # [B, 34, 21]\n",
    "        interaction = interaction.unsqueeze(1)  # [B, 1, 34, 21] — как одноканальное изображение\n",
    "\n",
    "        conv_out = self.conv(interaction)      # [B, 32, 4, 4]\n",
    "        return self.fc(conv_out)     "
   ]
  },
  {
   "cell_type": "markdown",
   "id": "7f3ab86e",
   "metadata": {},
   "source": [
    "### Класс Lightning  для обучения и логирования модели"
   ]
  },
  {
   "cell_type": "code",
   "execution_count": 8,
   "id": "324f76e0",
   "metadata": {},
   "outputs": [],
   "source": [
    "\n",
    "class LModelA(L.LightningModule):\n",
    "    def __init__(self, model, learning_rate, weight_decay):\n",
    "        super().__init__()\n",
    "        self.save_hyperparameters(ignore=['model'])\n",
    "        self.model = model\n",
    "\n",
    "        self.learning_rate = learning_rate\n",
    "        self.weight_decay = weight_decay\n",
    "\n",
    "        # Метрики для каждой стадии\n",
    "        self.train_metrics_regression = self._make_metrics_regression(\"train_\")\n",
    "        self.validation_metrics_regression = self._make_metrics_regression(\"validation_\")\n",
    "        self.test_metrics_regression = self._make_metrics_regression(\"test_\")\n",
    "\n",
    "        self.train_metrics_classification = self._make_metrics_classification(\"train_\")\n",
    "        self.validation_metrics_classification = self._make_metrics_classification(\"validation_\")\n",
    "        self.test_metrics_classification = self._make_metrics_classification(\"test_\")\n",
    "\n",
    "        # self.loss_fn = nn.MSELoss()\n",
    "        self.loss_fn = nn.HuberLoss()\n",
    "        #self.loss_fn = nn.BCEWithLogitsLoss()\n",
    "\n",
    "        self.cutoff = 1.0 - np.log(500) / np.log(50000)\n",
    "\n",
    "    def _make_metrics_classification(self, prefix):\n",
    "        metrics = torchmetrics.MetricCollection(\n",
    "            {\n",
    "                \"auroc\": AUROC(task=\"binary\"),\n",
    "                \"accuracy\": Accuracy(task=\"binary\")\n",
    "            },\n",
    "            prefix=prefix\n",
    "        )\n",
    "        return metrics\n",
    "\n",
    "    def _make_metrics_regression(self, prefix):\n",
    "        metrics = torchmetrics.MetricCollection(\n",
    "            {\n",
    "                \"pcc\": PearsonCorrCoef(),\n",
    "                \"r2\": R2Score()\n",
    "            },\n",
    "            prefix=prefix\n",
    "        )\n",
    "        return metrics\n",
    "\n",
    "\n",
    "    def forward(self, mhc_embeddings, peptide_embeddings):\n",
    "        return self.model(mhc_embeddings, peptide_embeddings)\n",
    "        \n",
    "\n",
    "    def _evaluate(self, batch, stage=None):\n",
    "\n",
    "        mhc_embeddings, peptide_embeddings, length, scores = batch\n",
    "        binary_scores = (scores >= self.cutoff).float()\n",
    "        logits = self.forward(mhc_embeddings, peptide_embeddings).squeeze()        \n",
    "        probs = logits.sigmoid()\n",
    "        #loss = self.loss_fn(logits, binary_scores) # For BCE\n",
    "        loss = self.loss_fn(probs, scores) # For regression\n",
    "\n",
    "        metrics_dict = {f\"{stage}_loss\": loss}\n",
    "\n",
    "        if stage == 'train':\n",
    "            metrics_dict.update(self.train_metrics_regression(probs, scores))\n",
    "            metrics_dict.update(self.train_metrics_classification(probs, binary_scores))\n",
    "        elif stage == 'validation':\n",
    "            metrics_dict.update(self.validation_metrics_regression(probs, scores))\n",
    "            metrics_dict.update(self.validation_metrics_classification(probs, binary_scores))\n",
    "        elif stage == 'test':\n",
    "            metrics_dict.update(self.test_metrics_regression(probs, scores))\n",
    "            metrics_dict.update(self.test_metrics_classification(probs, binary_scores))\n",
    "\n",
    "        self.log_dict(metrics_dict, \n",
    "                      on_step=(stage == 'train'), \n",
    "                      on_epoch=True, \n",
    "                      prog_bar=True, \n",
    "                      sync_dist=True,\n",
    "                      batch_size=BATCH_SIZE)\n",
    "\n",
    "        return loss\n",
    "\n",
    "    def training_step(self, batch, batch_idx):\n",
    "        return self._evaluate(batch, stage='train')\n",
    "\n",
    "    def validation_step(self, batch, batch_idx):\n",
    "        self._evaluate(batch, stage='validation')\n",
    "\n",
    "    def test_step(self, batch, batch_idx):\n",
    "        self._evaluate(batch, stage='test')\n",
    "\n",
    "    def on_train_epoch_end(self):\n",
    "        self.train_metrics_classification.reset()\n",
    "        self.train_metrics_regression.reset()\n",
    "\n",
    "    def on_validation_epoch_end(self):\n",
    "        self.log_dict(self.validation_metrics_regression.compute(),\n",
    "                      on_step=False, on_epoch=True, \n",
    "                      prog_bar=True, sync_dist=True, \n",
    "                      batch_size=BATCH_SIZE)\n",
    "        self.validation_metrics_regression.reset()\n",
    "\n",
    "        self.log_dict(self.validation_metrics_classification.compute(),\n",
    "                      on_step=False, on_epoch=True, \n",
    "                      prog_bar=True, sync_dist=True, \n",
    "                      batch_size=BATCH_SIZE)\n",
    "        self.validation_metrics_classification.reset()\n",
    "\n",
    "    def on_test_epoch_end(self):\n",
    "        self.log_dict(self.test_metrics_regression.compute(),\n",
    "                      on_step=False, on_epoch=True, \n",
    "                      prog_bar=True, sync_dist=True, \n",
    "                      batch_size=BATCH_SIZE)\n",
    "        self.test_metrics_regression.reset()\n",
    "\n",
    "        self.log_dict(self.test_metrics_classification.compute(),\n",
    "                      on_step=False, on_epoch=True, \n",
    "                      prog_bar=True, sync_dist=True, \n",
    "                      batch_size=BATCH_SIZE)\n",
    "        self.test_metrics_classification.reset()\n",
    "\n",
    "    def configure_optimizers(self):\n",
    "        optimizer = torch.optim.AdamW(self.parameters(), \n",
    "                                      lr=self.learning_rate, \n",
    "                                      weight_decay=self.weight_decay)\n",
    "\n",
    "        scheduler = torch.optim.lr_scheduler.CosineAnnealingLR(\n",
    "            optimizer,\n",
    "            T_max=self.trainer.max_epochs,\n",
    "            eta_min=1e-6\n",
    "        )\n",
    "\n",
    "        return {\n",
    "            \"optimizer\": optimizer,\n",
    "            \"lr_scheduler\": {\n",
    "                \"scheduler\": scheduler,\n",
    "                \"interval\": \"step\",\n",
    "                \"frequency\": 20,\n",
    "            }\n",
    "        }\n"
   ]
  },
  {
   "cell_type": "markdown",
   "id": "aeec82be",
   "metadata": {},
   "source": [
    "### Обучаем модели с Attention"
   ]
  },
  {
   "cell_type": "code",
   "execution_count": null,
   "id": "3f19d9a2",
   "metadata": {},
   "outputs": [
    {
     "name": "stderr",
     "output_type": "stream",
     "text": [
      "GPU available: True (cuda), used: True\n",
      "TPU available: False, using: 0 TPU cores\n",
      "HPU available: False, using: 0 HPUs\n",
      "LOCAL_RANK: 0 - CUDA_VISIBLE_DEVICES: [0,1,2,3]\n",
      "\n",
      "  | Name                              | Type                                 | Params | Mode \n",
      "---------------------------------------------------------------------------------------------------\n",
      "0 | model                             | ProteinPeptideInteractionTransformer | 3.9 M  | train\n",
      "1 | train_metrics_regression          | MetricCollection                     | 0      | train\n",
      "2 | validation_metrics_regression     | MetricCollection                     | 0      | train\n",
      "3 | test_metrics_regression           | MetricCollection                     | 0      | train\n",
      "4 | train_metrics_classification      | MetricCollection                     | 0      | train\n",
      "5 | validation_metrics_classification | MetricCollection                     | 0      | train\n",
      "6 | test_metrics_classification       | MetricCollection                     | 0      | train\n",
      "7 | loss_fn                           | HuberLoss                            | 0      | train\n",
      "---------------------------------------------------------------------------------------------------\n",
      "3.9 M     Trainable params\n",
      "0         Non-trainable params\n",
      "3.9 M     Total params\n",
      "15.535    Total estimated model params size (MB)\n",
      "38        Modules in train mode\n",
      "0         Modules in eval mode\n"
     ]
    },
    {
     "data": {
      "application/vnd.jupyter.widget-view+json": {
       "model_id": "4f8109c1cf674bfba2640278e625d078",
       "version_major": 2,
       "version_minor": 0
      },
      "text/plain": [
       "Sanity Checking: |                                                       | 0/? [00:00<?, ?it/s]"
      ]
     },
     "metadata": {},
     "output_type": "display_data"
    },
    {
     "data": {
      "application/vnd.jupyter.widget-view+json": {
       "model_id": "a64ea95c82f54f049e4056852aac7178",
       "version_major": 2,
       "version_minor": 0
      },
      "text/plain": [
       "Training: |                                                              | 0/? [00:00<?, ?it/s]"
      ]
     },
     "metadata": {},
     "output_type": "display_data"
    },
    {
     "data": {
      "application/vnd.jupyter.widget-view+json": {
       "model_id": "2629e462718b4ec281fa79390add5da3",
       "version_major": 2,
       "version_minor": 0
      },
      "text/plain": [
       "Validation: |                                                            | 0/? [00:00<?, ?it/s]"
      ]
     },
     "metadata": {},
     "output_type": "display_data"
    },
    {
     "data": {
      "application/vnd.jupyter.widget-view+json": {
       "model_id": "13097d91e01c455388f9d7823e4689e5",
       "version_major": 2,
       "version_minor": 0
      },
      "text/plain": [
       "Validation: |                                                            | 0/? [00:00<?, ?it/s]"
      ]
     },
     "metadata": {},
     "output_type": "display_data"
    },
    {
     "data": {
      "application/vnd.jupyter.widget-view+json": {
       "model_id": "e078bda2b8c1476c893d51ba2844b851",
       "version_major": 2,
       "version_minor": 0
      },
      "text/plain": [
       "Validation: |                                                            | 0/? [00:00<?, ?it/s]"
      ]
     },
     "metadata": {},
     "output_type": "display_data"
    }
   ],
   "source": [
    "EPOCHS = 20\n",
    "\n",
    "# best\n",
    "model_name = 'ProteinPeptideInteractionTransformer'\n",
    "obj_model = ProteinPeptideInteractionTransformer(embedding_dim=1152, \n",
    "                                                 hidden_dim=512, \n",
    "                                                 embedding_out_dim=128, \n",
    "                                                 num_heads=8, dropout=0.3)\n",
    "\n",
    "\n",
    "model = LModelA(obj_model, \n",
    "                learning_rate=3e-4,\n",
    "                weight_decay=1e-4)\n",
    "\n",
    "logger = pl_loggers.TensorBoardLogger(name=f\"{model_name}\", save_dir=log_path)\n",
    "logger_csv = pl_loggers.CSVLogger(name=f\"{model_name}\", save_dir=log_csv_path)\n",
    "\n",
    "\n",
    "checkpoint_callback = ModelCheckpoint(\n",
    "    dirpath=os.path.join(checkpoints_path, f\"{model_name}\", f\"version_{logger_csv.version}\", \"checkpoints\"),\n",
    "    filename=\"model-epoch={epoch:02d}\",\n",
    "    save_top_k=-1,\n",
    "    every_n_epochs=1,\n",
    "    save_on_train_epoch_end=True,\n",
    ")\n",
    "\n",
    "best_iou_callback = ModelCheckpoint(\n",
    "    dirpath=os.path.join(checkpoints_path, f\"{model_name}\", f\"version_{logger_csv.version}\", \"checkpoints\"),\n",
    "    filename=\"best_model_epoch={epoch:02d}-auroc={validation_auroc:.4f}\",\n",
    "    monitor=\"validation_auroc\",\n",
    "    mode=\"max\",\n",
    "    save_top_k=1,\n",
    "    save_on_train_epoch_end=True,\n",
    ")\n",
    "\n",
    "early_stop = EarlyStopping(monitor=\"validation_auroc\", patience=10, mode=\"max\")\n",
    "\n",
    "trainer = L.Trainer(\n",
    "    max_epochs=EPOCHS,\n",
    "    devices=[0],\n",
    "    default_root_dir=f'{checkpoints_path}/{model_name}',\n",
    "    logger=[logger, logger_csv],\n",
    "    accelerator=\"gpu\",\n",
    "    precision=\"32\",\n",
    "    callbacks=[best_iou_callback, early_stop, TQDMProgressBar(refresh_rate=1)],\n",
    "    log_every_n_steps=1\n",
    ")\n",
    "\n",
    "\n",
    "trainer.fit(model, train_dataloaders=train_dataloader, val_dataloaders=val_dataloader)\n",
    "#trainer.test(model, dataloaders=test_dataloader)"
   ]
  },
  {
   "cell_type": "code",
   "execution_count": 162,
   "id": "f6b223b5",
   "metadata": {},
   "outputs": [
    {
     "name": "stderr",
     "output_type": "stream",
     "text": [
      "LOCAL_RANK: 0 - CUDA_VISIBLE_DEVICES: [0,1,2,3]\n"
     ]
    },
    {
     "data": {
      "application/vnd.jupyter.widget-view+json": {
       "model_id": "9bbe3e10d14d4f61adee106c591e58f7",
       "version_major": 2,
       "version_minor": 0
      },
      "text/plain": [
       "Testing: |                                                               | 0/? [00:00<?, ?it/s]"
      ]
     },
     "metadata": {},
     "output_type": "display_data"
    },
    {
     "name": "stdout",
     "output_type": "stream",
     "text": [
      "────────────────────────────────────────────────────────────────────────────────────────────────────────────────────────\n",
      "       Test metric             DataLoader 0\n",
      "────────────────────────────────────────────────────────────────────────────────────────────────────────────────────────\n",
      "      test_accuracy         0.7391737103462219\n",
      "       test_auroc           0.6173334717750549\n",
      "        test_loss           0.0357336699962616\n",
      "        test_pcc            0.2737244665622711\n",
      "         test_r2           -0.30257248878479004\n",
      "────────────────────────────────────────────────────────────────────────────────────────────────────────────────────────\n"
     ]
    },
    {
     "data": {
      "text/plain": [
       "[{'test_loss': 0.0357336699962616,\n",
       "  'test_pcc': 0.2737244665622711,\n",
       "  'test_r2': -0.30257248878479004,\n",
       "  'test_accuracy': 0.7391737103462219,\n",
       "  'test_auroc': 0.6173334717750549}]"
      ]
     },
     "execution_count": 162,
     "metadata": {},
     "output_type": "execute_result"
    }
   ],
   "source": [
    "best_model_path = best_iou_callback.best_model_path\n",
    "model = LModelA.load_from_checkpoint(best_model_path, model=obj_model)\n",
    "trainer.test(model, dataloaders=test_dataloader)"
   ]
  },
  {
   "cell_type": "code",
   "execution_count": null,
   "id": "7dfbb5b6",
   "metadata": {},
   "outputs": [
    {
     "name": "stderr",
     "output_type": "stream",
     "text": [
      "GPU available: True (cuda), used: True\n",
      "TPU available: False, using: 0 TPU cores\n",
      "HPU available: False, using: 0 HPUs\n",
      "LOCAL_RANK: 0 - CUDA_VISIBLE_DEVICES: [0,1,2,3]\n",
      "\n",
      "  | Name                              | Type                           | Params | Mode \n",
      "---------------------------------------------------------------------------------------------\n",
      "0 | model                             | ProteinPeptideInteractionModel | 2.8 M  | train\n",
      "1 | train_metrics_regression          | MetricCollection               | 0      | train\n",
      "2 | validation_metrics_regression     | MetricCollection               | 0      | train\n",
      "3 | test_metrics_regression           | MetricCollection               | 0      | train\n",
      "4 | train_metrics_classification      | MetricCollection               | 0      | train\n",
      "5 | validation_metrics_classification | MetricCollection               | 0      | train\n",
      "6 | test_metrics_classification       | MetricCollection               | 0      | train\n",
      "7 | loss_fn                           | HuberLoss                      | 0      | train\n",
      "---------------------------------------------------------------------------------------------\n",
      "2.8 M     Trainable params\n",
      "0         Non-trainable params\n",
      "2.8 M     Total params\n",
      "11.026    Total estimated model params size (MB)\n",
      "29        Modules in train mode\n",
      "0         Modules in eval mode\n"
     ]
    },
    {
     "data": {
      "application/vnd.jupyter.widget-view+json": {
       "model_id": "a14d87b92ca94a24ac64c661741fed3e",
       "version_major": 2,
       "version_minor": 0
      },
      "text/plain": [
       "Sanity Checking: |                                                       | 0/? [00:00<?, ?it/s]"
      ]
     },
     "metadata": {},
     "output_type": "display_data"
    },
    {
     "data": {
      "application/vnd.jupyter.widget-view+json": {
       "model_id": "a33c576df73a4f87b851ab53cbd86921",
       "version_major": 2,
       "version_minor": 0
      },
      "text/plain": [
       "Training: |                                                              | 0/? [00:00<?, ?it/s]"
      ]
     },
     "metadata": {},
     "output_type": "display_data"
    },
    {
     "data": {
      "application/vnd.jupyter.widget-view+json": {
       "model_id": "1d4edef549c1435ab42fc57701238cce",
       "version_major": 2,
       "version_minor": 0
      },
      "text/plain": [
       "Validation: |                                                            | 0/? [00:00<?, ?it/s]"
      ]
     },
     "metadata": {},
     "output_type": "display_data"
    },
    {
     "data": {
      "application/vnd.jupyter.widget-view+json": {
       "model_id": "9786a3e7206141fa91159677c4bb7b02",
       "version_major": 2,
       "version_minor": 0
      },
      "text/plain": [
       "Validation: |                                                            | 0/? [00:00<?, ?it/s]"
      ]
     },
     "metadata": {},
     "output_type": "display_data"
    },
    {
     "data": {
      "application/vnd.jupyter.widget-view+json": {
       "model_id": "5b333efb22994c399e2cf0298f14584b",
       "version_major": 2,
       "version_minor": 0
      },
      "text/plain": [
       "Validation: |                                                            | 0/? [00:00<?, ?it/s]"
      ]
     },
     "metadata": {},
     "output_type": "display_data"
    },
    {
     "data": {
      "application/vnd.jupyter.widget-view+json": {
       "model_id": "6164fb06b95e4104a32a7bcb448db394",
       "version_major": 2,
       "version_minor": 0
      },
      "text/plain": [
       "Validation: |                                                            | 0/? [00:00<?, ?it/s]"
      ]
     },
     "metadata": {},
     "output_type": "display_data"
    },
    {
     "data": {
      "application/vnd.jupyter.widget-view+json": {
       "model_id": "ae5853e7b9ef43889bbed0e15f6d2510",
       "version_major": 2,
       "version_minor": 0
      },
      "text/plain": [
       "Validation: |                                                            | 0/? [00:00<?, ?it/s]"
      ]
     },
     "metadata": {},
     "output_type": "display_data"
    },
    {
     "data": {
      "application/vnd.jupyter.widget-view+json": {
       "model_id": "78eb0eef588a49a8972b1ba9b4e87f4c",
       "version_major": 2,
       "version_minor": 0
      },
      "text/plain": [
       "Validation: |                                                            | 0/? [00:00<?, ?it/s]"
      ]
     },
     "metadata": {},
     "output_type": "display_data"
    },
    {
     "data": {
      "application/vnd.jupyter.widget-view+json": {
       "model_id": "e8e1249bc92042149e8e36d45c1de7c2",
       "version_major": 2,
       "version_minor": 0
      },
      "text/plain": [
       "Validation: |                                                            | 0/? [00:00<?, ?it/s]"
      ]
     },
     "metadata": {},
     "output_type": "display_data"
    },
    {
     "data": {
      "application/vnd.jupyter.widget-view+json": {
       "model_id": "ee5c3cdc31ba45db8e0381d1c95f08fc",
       "version_major": 2,
       "version_minor": 0
      },
      "text/plain": [
       "Validation: |                                                            | 0/? [00:00<?, ?it/s]"
      ]
     },
     "metadata": {},
     "output_type": "display_data"
    },
    {
     "data": {
      "application/vnd.jupyter.widget-view+json": {
       "model_id": "e0885e6199cc4209b7003b3ad22e364e",
       "version_major": 2,
       "version_minor": 0
      },
      "text/plain": [
       "Validation: |                                                            | 0/? [00:00<?, ?it/s]"
      ]
     },
     "metadata": {},
     "output_type": "display_data"
    },
    {
     "data": {
      "application/vnd.jupyter.widget-view+json": {
       "model_id": "20a0b9ef705a42c3a846daf51134f6bf",
       "version_major": 2,
       "version_minor": 0
      },
      "text/plain": [
       "Validation: |                                                            | 0/? [00:00<?, ?it/s]"
      ]
     },
     "metadata": {},
     "output_type": "display_data"
    },
    {
     "data": {
      "application/vnd.jupyter.widget-view+json": {
       "model_id": "6bd218fa66be48459f01684cde8c892a",
       "version_major": 2,
       "version_minor": 0
      },
      "text/plain": [
       "Validation: |                                                            | 0/? [00:00<?, ?it/s]"
      ]
     },
     "metadata": {},
     "output_type": "display_data"
    },
    {
     "data": {
      "application/vnd.jupyter.widget-view+json": {
       "model_id": "75005a7cf9664005a090844577d840f8",
       "version_major": 2,
       "version_minor": 0
      },
      "text/plain": [
       "Validation: |                                                            | 0/? [00:00<?, ?it/s]"
      ]
     },
     "metadata": {},
     "output_type": "display_data"
    },
    {
     "data": {
      "application/vnd.jupyter.widget-view+json": {
       "model_id": "ed99e546b5224be8a2d88ae861fd98a0",
       "version_major": 2,
       "version_minor": 0
      },
      "text/plain": [
       "Validation: |                                                            | 0/? [00:00<?, ?it/s]"
      ]
     },
     "metadata": {},
     "output_type": "display_data"
    },
    {
     "data": {
      "application/vnd.jupyter.widget-view+json": {
       "model_id": "f3cde62cbe9e4745a4c99cf20bdea612",
       "version_major": 2,
       "version_minor": 0
      },
      "text/plain": [
       "Validation: |                                                            | 0/? [00:00<?, ?it/s]"
      ]
     },
     "metadata": {},
     "output_type": "display_data"
    },
    {
     "data": {
      "application/vnd.jupyter.widget-view+json": {
       "model_id": "959d79ae65544385855ea14661eaeaa5",
       "version_major": 2,
       "version_minor": 0
      },
      "text/plain": [
       "Validation: |                                                            | 0/? [00:00<?, ?it/s]"
      ]
     },
     "metadata": {},
     "output_type": "display_data"
    },
    {
     "data": {
      "application/vnd.jupyter.widget-view+json": {
       "model_id": "ef67fa41c2214418a0ddf6d9e2ab970a",
       "version_major": 2,
       "version_minor": 0
      },
      "text/plain": [
       "Validation: |                                                            | 0/? [00:00<?, ?it/s]"
      ]
     },
     "metadata": {},
     "output_type": "display_data"
    },
    {
     "data": {
      "application/vnd.jupyter.widget-view+json": {
       "model_id": "88eacf92f78e42bab3e31bcb423e7498",
       "version_major": 2,
       "version_minor": 0
      },
      "text/plain": [
       "Validation: |                                                            | 0/? [00:00<?, ?it/s]"
      ]
     },
     "metadata": {},
     "output_type": "display_data"
    },
    {
     "data": {
      "application/vnd.jupyter.widget-view+json": {
       "model_id": "9b2ae69246c64d17b4cf1d96db7e1f51",
       "version_major": 2,
       "version_minor": 0
      },
      "text/plain": [
       "Validation: |                                                            | 0/? [00:00<?, ?it/s]"
      ]
     },
     "metadata": {},
     "output_type": "display_data"
    }
   ],
   "source": [
    "# best\n",
    "model_name = 'CrossAttentionModel'\n",
    "obj_model = CrossAttentionModel(d_model=1152, nhead=8, dim_feedforward=2048, dropout=0.2)\n",
    "\n",
    "\n",
    "model = LModelA(obj_model, \n",
    "                learning_rate=1e-3,\n",
    "                weight_decay=1e-3)\n",
    "\n",
    "logger = pl_loggers.TensorBoardLogger(name=f\"{model_name}\", save_dir=log_path)\n",
    "logger_csv = pl_loggers.CSVLogger(name=f\"{model_name}\", save_dir=log_csv_path)\n",
    "\n",
    "\n",
    "checkpoint_callback = ModelCheckpoint(\n",
    "    dirpath=os.path.join(checkpoints_path, f\"{model_name}\", f\"version_{logger_csv.version}\", \"checkpoints\"),\n",
    "    filename=\"model-epoch={epoch:02d}\",\n",
    "    save_top_k=-1,\n",
    "    every_n_epochs=1,\n",
    "    save_on_train_epoch_end=True,\n",
    ")\n",
    "\n",
    "best_iou_callback = ModelCheckpoint(\n",
    "    dirpath=os.path.join(checkpoints_path, f\"{model_name}\", f\"version_{logger_csv.version}\", \"checkpoints\"),\n",
    "    filename=\"best_model_epoch={epoch:02d}-auroc={validation_auroc:.4f}\",\n",
    "    monitor=\"validation_auroc\",\n",
    "    mode=\"max\",\n",
    "    save_top_k=1,\n",
    "    save_on_train_epoch_end=True,\n",
    ")\n",
    "\n",
    "early_stop = EarlyStopping(monitor=\"validation_auroc\", patience=10, mode=\"max\")\n",
    "\n",
    "trainer = L.Trainer(\n",
    "    max_epochs=EPOCHS,\n",
    "    devices=[0],\n",
    "    default_root_dir=f'{checkpoints_path}/{model_name}',\n",
    "    logger=[logger, logger_csv],\n",
    "    accelerator=\"gpu\",\n",
    "    precision=\"32\",\n",
    "    callbacks=[best_iou_callback, early_stop, TQDMProgressBar(refresh_rate=1)],\n",
    "    log_every_n_steps=1\n",
    ")\n",
    "\n",
    "\n",
    "trainer.fit(model, train_dataloaders=train_dataloader, val_dataloaders=val_dataloader)\n",
    "#trainer.test(model, dataloaders=test_dataloader)"
   ]
  },
  {
   "cell_type": "code",
   "execution_count": 10,
   "id": "8017095e",
   "metadata": {},
   "outputs": [
    {
     "name": "stderr",
     "output_type": "stream",
     "text": [
      "LOCAL_RANK: 0 - CUDA_VISIBLE_DEVICES: [0,1,2,3]\n"
     ]
    },
    {
     "data": {
      "application/vnd.jupyter.widget-view+json": {
       "model_id": "b11d34cec2884200805042690bfa0447",
       "version_major": 2,
       "version_minor": 0
      },
      "text/plain": [
       "Testing: |                                                               | 0/? [00:00<?, ?it/s]"
      ]
     },
     "metadata": {},
     "output_type": "display_data"
    },
    {
     "name": "stdout",
     "output_type": "stream",
     "text": [
      "────────────────────────────────────────────────────────────────────────────────────────────────────────────────────────\n",
      "       Test metric             DataLoader 0\n",
      "────────────────────────────────────────────────────────────────────────────────────────────────────────────────────────\n",
      "      test_accuracy         0.6560477614402771\n",
      "       test_auroc           0.5701624155044556\n",
      "        test_loss           0.0461425706744194\n",
      "        test_pcc            0.19493193924427032\n",
      "         test_r2            -0.6820412874221802\n",
      "────────────────────────────────────────────────────────────────────────────────────────────────────────────────────────\n"
     ]
    },
    {
     "data": {
      "text/plain": [
       "[{'test_loss': 0.0461425706744194,\n",
       "  'test_pcc': 0.19493193924427032,\n",
       "  'test_r2': -0.6820412874221802,\n",
       "  'test_accuracy': 0.6560477614402771,\n",
       "  'test_auroc': 0.5701624155044556}]"
      ]
     },
     "execution_count": 10,
     "metadata": {},
     "output_type": "execute_result"
    }
   ],
   "source": [
    "best_model_path = best_iou_callback.best_model_path\n",
    "obj_model = ProteinPeptideInteractionModel(embedding_dim=1152, hidden_dim=512, num_heads=8, dropout=0.2)\n",
    "model = LModelA.load_from_checkpoint(best_model_path, model=obj_model)\n",
    "trainer.test(model, dataloaders=test_dataloader)"
   ]
  },
  {
   "cell_type": "code",
   "execution_count": 165,
   "id": "483ca97f",
   "metadata": {},
   "outputs": [
    {
     "name": "stderr",
     "output_type": "stream",
     "text": [
      "GPU available: True (cuda), used: True\n",
      "TPU available: False, using: 0 TPU cores\n",
      "HPU available: False, using: 0 HPUs\n",
      "LOCAL_RANK: 0 - CUDA_VISIBLE_DEVICES: [0,1,2,3]\n",
      "\n",
      "  | Name                              | Type                         | Params | Mode \n",
      "-------------------------------------------------------------------------------------------\n",
      "0 | model                             | TensorFusionInteractionModel | 1.4 M  | train\n",
      "1 | train_metrics_regression          | MetricCollection             | 0      | train\n",
      "2 | validation_metrics_regression     | MetricCollection             | 0      | train\n",
      "3 | test_metrics_regression           | MetricCollection             | 0      | train\n",
      "4 | train_metrics_classification      | MetricCollection             | 0      | train\n",
      "5 | validation_metrics_classification | MetricCollection             | 0      | train\n",
      "6 | test_metrics_classification       | MetricCollection             | 0      | train\n",
      "7 | loss_fn                           | HuberLoss                    | 0      | train\n",
      "-------------------------------------------------------------------------------------------\n",
      "1.4 M     Trainable params\n",
      "0         Non-trainable params\n",
      "1.4 M     Total params\n",
      "5.795     Total estimated model params size (MB)\n",
      "34        Modules in train mode\n",
      "0         Modules in eval mode\n"
     ]
    },
    {
     "data": {
      "application/vnd.jupyter.widget-view+json": {
       "model_id": "dd7a65a12acf4170bcbe6831a844abf7",
       "version_major": 2,
       "version_minor": 0
      },
      "text/plain": [
       "Sanity Checking: |                                                       | 0/? [00:00<?, ?it/s]"
      ]
     },
     "metadata": {},
     "output_type": "display_data"
    },
    {
     "data": {
      "application/vnd.jupyter.widget-view+json": {
       "model_id": "ef78e3ab5fb548a8aa86d2e472129f6f",
       "version_major": 2,
       "version_minor": 0
      },
      "text/plain": [
       "Training: |                                                              | 0/? [00:00<?, ?it/s]"
      ]
     },
     "metadata": {},
     "output_type": "display_data"
    },
    {
     "data": {
      "application/vnd.jupyter.widget-view+json": {
       "model_id": "9ee2c71725234a0d95c19d191b0aaf3d",
       "version_major": 2,
       "version_minor": 0
      },
      "text/plain": [
       "Validation: |                                                            | 0/? [00:00<?, ?it/s]"
      ]
     },
     "metadata": {},
     "output_type": "display_data"
    },
    {
     "data": {
      "application/vnd.jupyter.widget-view+json": {
       "model_id": "8526f07a43ec4f65a35e8be6c87f5389",
       "version_major": 2,
       "version_minor": 0
      },
      "text/plain": [
       "Validation: |                                                            | 0/? [00:00<?, ?it/s]"
      ]
     },
     "metadata": {},
     "output_type": "display_data"
    },
    {
     "data": {
      "application/vnd.jupyter.widget-view+json": {
       "model_id": "633e37aec0fe4c3593e4f62b80d08bb3",
       "version_major": 2,
       "version_minor": 0
      },
      "text/plain": [
       "Validation: |                                                            | 0/? [00:00<?, ?it/s]"
      ]
     },
     "metadata": {},
     "output_type": "display_data"
    },
    {
     "data": {
      "application/vnd.jupyter.widget-view+json": {
       "model_id": "72adeb8f19924587a87081702416cff9",
       "version_major": 2,
       "version_minor": 0
      },
      "text/plain": [
       "Validation: |                                                            | 0/? [00:00<?, ?it/s]"
      ]
     },
     "metadata": {},
     "output_type": "display_data"
    },
    {
     "data": {
      "application/vnd.jupyter.widget-view+json": {
       "model_id": "5935aa68d93b42f9845db8d19917e8ba",
       "version_major": 2,
       "version_minor": 0
      },
      "text/plain": [
       "Validation: |                                                            | 0/? [00:00<?, ?it/s]"
      ]
     },
     "metadata": {},
     "output_type": "display_data"
    },
    {
     "data": {
      "application/vnd.jupyter.widget-view+json": {
       "model_id": "2cd24107b4f34989a85a0a1289021dc9",
       "version_major": 2,
       "version_minor": 0
      },
      "text/plain": [
       "Validation: |                                                            | 0/? [00:00<?, ?it/s]"
      ]
     },
     "metadata": {},
     "output_type": "display_data"
    },
    {
     "data": {
      "application/vnd.jupyter.widget-view+json": {
       "model_id": "375bdc7f47694c689fab2239b3949afe",
       "version_major": 2,
       "version_minor": 0
      },
      "text/plain": [
       "Validation: |                                                            | 0/? [00:00<?, ?it/s]"
      ]
     },
     "metadata": {},
     "output_type": "display_data"
    },
    {
     "data": {
      "application/vnd.jupyter.widget-view+json": {
       "model_id": "c69addd3216749279906831c10c10441",
       "version_major": 2,
       "version_minor": 0
      },
      "text/plain": [
       "Validation: |                                                            | 0/? [00:00<?, ?it/s]"
      ]
     },
     "metadata": {},
     "output_type": "display_data"
    },
    {
     "data": {
      "application/vnd.jupyter.widget-view+json": {
       "model_id": "32d6eeb919fe4a8ba4269141bac5416c",
       "version_major": 2,
       "version_minor": 0
      },
      "text/plain": [
       "Validation: |                                                            | 0/? [00:00<?, ?it/s]"
      ]
     },
     "metadata": {},
     "output_type": "display_data"
    },
    {
     "data": {
      "application/vnd.jupyter.widget-view+json": {
       "model_id": "072abd9460f441bab6081a59e6559737",
       "version_major": 2,
       "version_minor": 0
      },
      "text/plain": [
       "Validation: |                                                            | 0/? [00:00<?, ?it/s]"
      ]
     },
     "metadata": {},
     "output_type": "display_data"
    },
    {
     "data": {
      "application/vnd.jupyter.widget-view+json": {
       "model_id": "5ac46169a4ca494fb5162cc38cc3e87f",
       "version_major": 2,
       "version_minor": 0
      },
      "text/plain": [
       "Validation: |                                                            | 0/? [00:00<?, ?it/s]"
      ]
     },
     "metadata": {},
     "output_type": "display_data"
    },
    {
     "data": {
      "application/vnd.jupyter.widget-view+json": {
       "model_id": "3cd66799e8364b0c9a6b1985197a11ca",
       "version_major": 2,
       "version_minor": 0
      },
      "text/plain": [
       "Validation: |                                                            | 0/? [00:00<?, ?it/s]"
      ]
     },
     "metadata": {},
     "output_type": "display_data"
    },
    {
     "data": {
      "application/vnd.jupyter.widget-view+json": {
       "model_id": "679d19ba03d443c48b4bd772c91b8792",
       "version_major": 2,
       "version_minor": 0
      },
      "text/plain": [
       "Validation: |                                                            | 0/? [00:00<?, ?it/s]"
      ]
     },
     "metadata": {},
     "output_type": "display_data"
    },
    {
     "data": {
      "application/vnd.jupyter.widget-view+json": {
       "model_id": "638fe8f037f54551aa8b48e4bdf70c98",
       "version_major": 2,
       "version_minor": 0
      },
      "text/plain": [
       "Validation: |                                                            | 0/? [00:00<?, ?it/s]"
      ]
     },
     "metadata": {},
     "output_type": "display_data"
    },
    {
     "data": {
      "application/vnd.jupyter.widget-view+json": {
       "model_id": "7a13f2f01f564dcb83dce786d02f3d7a",
       "version_major": 2,
       "version_minor": 0
      },
      "text/plain": [
       "Validation: |                                                            | 0/? [00:00<?, ?it/s]"
      ]
     },
     "metadata": {},
     "output_type": "display_data"
    },
    {
     "data": {
      "application/vnd.jupyter.widget-view+json": {
       "model_id": "4ad0dbf93ef0466a8232ac88bcbb027c",
       "version_major": 2,
       "version_minor": 0
      },
      "text/plain": [
       "Validation: |                                                            | 0/? [00:00<?, ?it/s]"
      ]
     },
     "metadata": {},
     "output_type": "display_data"
    },
    {
     "data": {
      "application/vnd.jupyter.widget-view+json": {
       "model_id": "f0f74787ecd94bfa9eb4c94c4bcc3e2e",
       "version_major": 2,
       "version_minor": 0
      },
      "text/plain": [
       "Validation: |                                                            | 0/? [00:00<?, ?it/s]"
      ]
     },
     "metadata": {},
     "output_type": "display_data"
    },
    {
     "data": {
      "application/vnd.jupyter.widget-view+json": {
       "model_id": "97a846321f3d4420916444bf0c8852d2",
       "version_major": 2,
       "version_minor": 0
      },
      "text/plain": [
       "Validation: |                                                            | 0/? [00:00<?, ?it/s]"
      ]
     },
     "metadata": {},
     "output_type": "display_data"
    },
    {
     "data": {
      "application/vnd.jupyter.widget-view+json": {
       "model_id": "b67da49ebdf6449796835f340a975dbb",
       "version_major": 2,
       "version_minor": 0
      },
      "text/plain": [
       "Validation: |                                                            | 0/? [00:00<?, ?it/s]"
      ]
     },
     "metadata": {},
     "output_type": "display_data"
    },
    {
     "data": {
      "application/vnd.jupyter.widget-view+json": {
       "model_id": "1301d88871824a87a91cd78e649d5758",
       "version_major": 2,
       "version_minor": 0
      },
      "text/plain": [
       "Validation: |                                                            | 0/? [00:00<?, ?it/s]"
      ]
     },
     "metadata": {},
     "output_type": "display_data"
    },
    {
     "name": "stderr",
     "output_type": "stream",
     "text": [
      "`Trainer.fit` stopped: `max_epochs=20` reached.\n"
     ]
    }
   ],
   "source": [
    "model_name = 'TensorFusionInteractionModel'\n",
    "obj_model = TensorFusionInteractionModel(embedding_dim=1152, hidden_dim=512, dropout=0.2)\n",
    "\n",
    "\n",
    "model = LModelA(obj_model, \n",
    "                learning_rate=3e-4,\n",
    "                weight_decay=1e-3)\n",
    "\n",
    "logger = pl_loggers.TensorBoardLogger(name=f\"{model_name}\", save_dir=log_path)\n",
    "logger_csv = pl_loggers.CSVLogger(name=f\"{model_name}\", save_dir=log_csv_path)\n",
    "\n",
    "\n",
    "checkpoint_callback = ModelCheckpoint(\n",
    "    dirpath=os.path.join(checkpoints_path, f\"{model_name}\", f\"version_{logger_csv.version}\", \"checkpoints\"),\n",
    "    filename=\"model-epoch={epoch:02d}\",\n",
    "    save_top_k=-1,\n",
    "    every_n_epochs=1,\n",
    "    save_on_train_epoch_end=True,\n",
    ")\n",
    "\n",
    "best_iou_callback = ModelCheckpoint(\n",
    "    dirpath=os.path.join(checkpoints_path, f\"{model_name}\", f\"version_{logger_csv.version}\", \"checkpoints\"),\n",
    "    filename=\"best_model_epoch={epoch:02d}-auroc={validation_auroc:.4f}\",\n",
    "    monitor=\"validation_auroc\",\n",
    "    mode=\"max\",\n",
    "    save_top_k=1,\n",
    "    save_on_train_epoch_end=True,\n",
    ")\n",
    "\n",
    "early_stop = EarlyStopping(monitor=\"validation_auroc\", patience=10, mode=\"max\")\n",
    "\n",
    "trainer = L.Trainer(\n",
    "    max_epochs=EPOCHS,\n",
    "    devices=[0],\n",
    "    default_root_dir=f'{checkpoints_path}/{model_name}',\n",
    "    logger=[logger, logger_csv],\n",
    "    accelerator=\"gpu\",\n",
    "    precision=\"32\",\n",
    "    callbacks=[best_iou_callback, early_stop, TQDMProgressBar(refresh_rate=1)],\n",
    "    log_every_n_steps=1\n",
    ")\n",
    "\n",
    "\n",
    "trainer.fit(model, train_dataloaders=train_dataloader, val_dataloaders=val_dataloader)\n",
    "best_model_path = best_iou_callback.best_model_path\n",
    "model = LModelA.load_from_checkpoint(best_model_path, model=obj_model)\n",
    "#trainer.test(model, dataloaders=test_dataloader)\n"
   ]
  },
  {
   "cell_type": "code",
   "execution_count": 166,
   "id": "06cf8ec0",
   "metadata": {},
   "outputs": [
    {
     "name": "stderr",
     "output_type": "stream",
     "text": [
      "LOCAL_RANK: 0 - CUDA_VISIBLE_DEVICES: [0,1,2,3]\n"
     ]
    },
    {
     "data": {
      "application/vnd.jupyter.widget-view+json": {
       "model_id": "c3688d37e2b046c79b0ad7d9bd9b0fc0",
       "version_major": 2,
       "version_minor": 0
      },
      "text/plain": [
       "Testing: |                                                               | 0/? [00:00<?, ?it/s]"
      ]
     },
     "metadata": {},
     "output_type": "display_data"
    },
    {
     "name": "stdout",
     "output_type": "stream",
     "text": [
      "────────────────────────────────────────────────────────────────────────────────────────────────────────────────────────\n",
      "       Test metric             DataLoader 0\n",
      "────────────────────────────────────────────────────────────────────────────────────────────────────────────────────────\n",
      "      test_accuracy         0.6993529200553894\n",
      "       test_auroc           0.5953564643859863\n",
      "        test_loss          0.039996568113565445\n",
      "        test_pcc            0.2469816356897354\n",
      "         test_r2           -0.45708346366882324\n",
      "────────────────────────────────────────────────────────────────────────────────────────────────────────────────────────\n"
     ]
    },
    {
     "data": {
      "text/plain": [
       "[{'test_loss': 0.039996568113565445,\n",
       "  'test_pcc': 0.2469816356897354,\n",
       "  'test_r2': -0.45708346366882324,\n",
       "  'test_accuracy': 0.6993529200553894,\n",
       "  'test_auroc': 0.5953564643859863}]"
      ]
     },
     "execution_count": 166,
     "metadata": {},
     "output_type": "execute_result"
    }
   ],
   "source": [
    "best_model_path = best_iou_callback.best_model_path\n",
    "model = LModelA.load_from_checkpoint(best_model_path, model=obj_model)\n",
    "trainer.test(model, dataloaders=test_dataloader)"
   ]
  },
  {
   "cell_type": "markdown",
   "id": "4b21baa5",
   "metadata": {},
   "source": [
    "# Использование моделей на основе графов"
   ]
  },
  {
   "cell_type": "markdown",
   "id": "0b6b49c8",
   "metadata": {},
   "source": [
    "## Датасет для графов"
   ]
  },
  {
   "cell_type": "code",
   "execution_count": null,
   "id": "8e798f32",
   "metadata": {},
   "outputs": [
    {
     "ename": "",
     "evalue": "",
     "output_type": "error",
     "traceback": [
      "\u001b[1;31mnotebook controller is DISPOSED. \n",
      "\u001b[1;31mView Jupyter <a href='command:jupyter.viewOutput'>log</a> for further details."
     ]
    }
   ],
   "source": [
    "import torch\n",
    "import torch.nn as nn\n",
    "import torch.nn.functional as F\n",
    "import numpy as np\n",
    "import ast\n",
    "import pandas as pd\n",
    "\n",
    "from torch.utils.data import Dataset\n",
    "from torch_geometric.data import Data\n",
    "from torch_geometric.loader import DataLoader\n",
    "from torch_geometric.nn import GINConv, GATConv, global_mean_pool, LayerNorm\n",
    "\n",
    "\n",
    "class ProteinPeptideGNNDataset(Dataset):\n",
    "    def __init__(self, df):\n",
    "        self.df = df\n",
    "\n",
    "    def __len__(self):\n",
    "        return len(self.df)\n",
    "\n",
    "    def create_chain_edges(self, length, offset=0):\n",
    "        edges = []\n",
    "        for i in range(length - 1):\n",
    "            edges.append((i + offset, i + 1 + offset))\n",
    "            edges.append((i + 1 + offset, i + offset))\n",
    "        return edges\n",
    "\n",
    "    def create_full_bipartite_edges(self, protein_len, peptide_len):\n",
    "        edges = []\n",
    "        for i in range(protein_len):\n",
    "            for j in range(peptide_len):\n",
    "                edges.append((i, j + protein_len))\n",
    "                edges.append((j + protein_len, i))\n",
    "        return edges\n",
    "\n",
    "    def __getitem__(self, idx):\n",
    "        row = self.df.loc[idx]\n",
    "        score = row['score']\n",
    "        alpha_path = row['alpha_path']\n",
    "        beta_path = row['beta_path']\n",
    "        peptide_path = row['peptide_path']\n",
    "        alpha_positions = row['alpha_positions']\n",
    "        beta_positions = row['beta_positions']\n",
    "\n",
    "        alpha_embeddings = np.load(alpha_path)[:, ast.literal_eval(alpha_positions), :].squeeze(0)\n",
    "        beta_embeddings = np.load(beta_path)[:, ast.literal_eval(beta_positions), :].squeeze(0)\n",
    "        protein_embeddings = np.concatenate([alpha_embeddings, beta_embeddings], axis=0)\n",
    "        peptide_embeddings = np.load(peptide_path)[:,1:-1].squeeze(0)\n",
    "\n",
    "        protein_embeddings = torch.FloatTensor(protein_embeddings)\n",
    "        peptide_embeddings = torch.FloatTensor(peptide_embeddings)\n",
    "\n",
    "        x = torch.cat([protein_embeddings, peptide_embeddings], dim=0)\n",
    "        protein_len = protein_embeddings.size(0)\n",
    "        peptide_len = peptide_embeddings.size(0)\n",
    "\n",
    "        seq_edges = self.create_chain_edges(protein_len) + self.create_chain_edges(peptide_len, offset=protein_len)\n",
    "        int_edges = self.create_full_bipartite_edges(protein_len, peptide_len)\n",
    "        edge_index = torch.tensor(seq_edges + int_edges, dtype=torch.long).t().contiguous()\n",
    "\n",
    "        peptide_mask = torch.zeros(x.size(0), dtype=torch.bool)\n",
    "        peptide_mask[protein_len:] = True\n",
    "        y = torch.tensor([score], dtype=torch.float)\n",
    "\n",
    "        data = Data(x=x, edge_index=edge_index, y=y)\n",
    "        data.peptide_mask = peptide_mask\n",
    "        data.protein_len = protein_len\n",
    "        data.peptide_len = peptide_len\n",
    "        return data"
   ]
  },
  {
   "cell_type": "markdown",
   "id": "e6602197",
   "metadata": {},
   "source": [
    "### Объявляем датасеты"
   ]
  },
  {
   "cell_type": "code",
   "execution_count": null,
   "id": "45f02261",
   "metadata": {},
   "outputs": [
    {
     "ename": "",
     "evalue": "",
     "output_type": "error",
     "traceback": [
      "\u001b[1;31mnotebook controller is DISPOSED. \n",
      "\u001b[1;31mView Jupyter <a href='command:jupyter.viewOutput'>log</a> for further details."
     ]
    }
   ],
   "source": [
    "BATCH_SIZE = 512\n",
    "\n",
    "train_dataset = ProteinPeptideGNNDataset(train_data)\n",
    "val_dataset = ProteinPeptideGNNDataset(val_data)\n",
    "test_dataset = ProteinPeptideGNNDataset(test_data)\n",
    "\n",
    "\n",
    "train_dataloader = DataLoader(train_dataset, batch_size=BATCH_SIZE, shuffle=True, num_workers=8)\n",
    "val_dataloader = DataLoader(val_dataset, batch_size=BATCH_SIZE, shuffle=False, num_workers=8)\n",
    "test_dataloader = DataLoader(test_dataset, batch_size=BATCH_SIZE, shuffle=False, num_workers=8)\n"
   ]
  },
  {
   "cell_type": "markdown",
   "id": "93ffa916",
   "metadata": {},
   "source": [
    "### Модели на графах"
   ]
  },
  {
   "cell_type": "markdown",
   "id": "5f781daf",
   "metadata": {},
   "source": [
    "#### 1)"
   ]
  },
  {
   "cell_type": "code",
   "execution_count": null,
   "id": "84936aa9",
   "metadata": {},
   "outputs": [
    {
     "ename": "",
     "evalue": "",
     "output_type": "error",
     "traceback": [
      "\u001b[1;31mnotebook controller is DISPOSED. \n",
      "\u001b[1;31mView Jupyter <a href='command:jupyter.viewOutput'>log</a> for further details."
     ]
    }
   ],
   "source": [
    "# ---------- GNN Model ----------\n",
    "class GNNModel(nn.Module):\n",
    "    def __init__(self, input_dim=1152, hidden_dim=128, dropout=0.2):\n",
    "        super().__init__()\n",
    "\n",
    "        self.conv1 = GATConv(input_dim, hidden_dim, heads=2, concat=False)\n",
    "        self.norm1 = LayerNorm(hidden_dim)\n",
    "        self.conv2 = GATConv(hidden_dim, hidden_dim, heads=2, concat=False)\n",
    "        self.norm2 = LayerNorm(hidden_dim)\n",
    "\n",
    "        self.dropout = nn.Dropout(dropout)\n",
    "\n",
    "        self.out = nn.Sequential(\n",
    "            nn.Linear(hidden_dim * 2, 128),\n",
    "            nn.ReLU(),\n",
    "            nn.Dropout(dropout),\n",
    "            nn.Linear(128, 1)\n",
    "        )\n",
    "\n",
    "    def forward(self, data):\n",
    "        x, edge_index = data.x, data.edge_index\n",
    "        batch = data.batch\n",
    "        peptide_mask = data.peptide_mask\n",
    "\n",
    "        x = F.elu(self.norm1(self.conv1(x, edge_index)))\n",
    "        x = self.dropout(x)\n",
    "        x = F.elu(self.norm2(self.conv2(x, edge_index)))\n",
    "        x = self.dropout(x)\n",
    "\n",
    "        prot_repr = global_mean_pool(x[~peptide_mask], batch[~peptide_mask])\n",
    "        pep_repr = global_mean_pool(x[peptide_mask], batch[peptide_mask])\n",
    "\n",
    "        combined = torch.cat([prot_repr, pep_repr], dim=1)\n",
    "        score = self.out(combined)\n",
    "\n",
    "        return score\n",
    "\n",
    "\n"
   ]
  },
  {
   "cell_type": "markdown",
   "id": "fa4cc850",
   "metadata": {},
   "source": [
    "#### 2)"
   ]
  },
  {
   "cell_type": "code",
   "execution_count": null,
   "id": "606e3bae",
   "metadata": {},
   "outputs": [
    {
     "ename": "",
     "evalue": "",
     "output_type": "error",
     "traceback": [
      "\u001b[1;31mnotebook controller is DISPOSED. \n",
      "\u001b[1;31mView Jupyter <a href='command:jupyter.viewOutput'>log</a> for further details."
     ]
    }
   ],
   "source": [
    "class GINModel(nn.Module):\n",
    "    def __init__(self, input_dim=1152, hidden_dim=128, dropout=0.3):\n",
    "        super().__init__()\n",
    "\n",
    "        # MLP для GINConv (обычно состоит из 2-х линейных слоёв)\n",
    "        def gin_mlp(in_dim, out_dim):\n",
    "            return nn.Sequential(\n",
    "                nn.Linear(in_dim, out_dim),\n",
    "                nn.ReLU(),\n",
    "                nn.Linear(out_dim, out_dim)\n",
    "            )\n",
    "\n",
    "        self.gin1 = GINConv(gin_mlp(input_dim, hidden_dim))\n",
    "        self.norm1 = LayerNorm(hidden_dim)\n",
    "\n",
    "        self.gin2 = GINConv(gin_mlp(hidden_dim, hidden_dim))\n",
    "        self.norm2 = LayerNorm(hidden_dim)\n",
    "\n",
    "        self.dropout = nn.Dropout(dropout)\n",
    "\n",
    "        self.mlp = nn.Sequential(\n",
    "            nn.Linear(hidden_dim * 2, 128),\n",
    "            nn.ReLU(),\n",
    "            nn.Dropout(dropout),\n",
    "            nn.Linear(128, 1)\n",
    "        )\n",
    "\n",
    "    def forward(self, data):\n",
    "        x, edge_index = data.x, data.edge_index\n",
    "        batch = data.batch\n",
    "        peptide_mask = data.peptide_mask\n",
    "\n",
    "        x = F.relu(self.norm1(self.gin1(x, edge_index)))\n",
    "        x = self.dropout(x)\n",
    "\n",
    "        x = F.relu(self.norm2(self.gin2(x, edge_index)))\n",
    "        x = self.dropout(x)\n",
    "\n",
    "        prot_repr = global_mean_pool(x[~peptide_mask], batch[~peptide_mask])\n",
    "        pep_repr  = global_mean_pool(x[peptide_mask], batch[peptide_mask])\n",
    "\n",
    "        combined = torch.cat([prot_repr, pep_repr], dim=1)\n",
    "        score = self.mlp(combined)\n",
    "        return score"
   ]
  },
  {
   "cell_type": "markdown",
   "id": "58d4ea76",
   "metadata": {},
   "source": [
    "### Lightning для графов"
   ]
  },
  {
   "cell_type": "code",
   "execution_count": null,
   "id": "95496b08",
   "metadata": {},
   "outputs": [
    {
     "ename": "",
     "evalue": "",
     "output_type": "error",
     "traceback": [
      "\u001b[1;31mnotebook controller is DISPOSED. \n",
      "\u001b[1;31mView Jupyter <a href='command:jupyter.viewOutput'>log</a> for further details."
     ]
    }
   ],
   "source": [
    "\n",
    "class LModelGM(L.LightningModule):\n",
    "    def __init__(self, model, learning_rate, weight_decay):\n",
    "        super().__init__()\n",
    "        self.save_hyperparameters(ignore=['model'])\n",
    "        self.model = model\n",
    "\n",
    "        self.learning_rate = learning_rate\n",
    "        self.weight_decay = weight_decay\n",
    "\n",
    "        # Метрики для каждой стадии\n",
    "        self.train_metrics_regression = self._make_metrics_regression(\"train_\")\n",
    "        self.validation_metrics_regression = self._make_metrics_regression(\"validation_\")\n",
    "        self.test_metrics_regression = self._make_metrics_regression(\"test_\")\n",
    "\n",
    "        self.train_metrics_classification = self._make_metrics_classification(\"train_\")\n",
    "        self.validation_metrics_classification = self._make_metrics_classification(\"validation_\")\n",
    "        self.test_metrics_classification = self._make_metrics_classification(\"test_\")\n",
    "\n",
    "        # self.loss_fn = nn.MSELoss()\n",
    "        self.loss_fn = nn.HuberLoss()\n",
    "        #self.loss_fn = nn.BCEWithLogitsLoss()\n",
    "\n",
    "        self.cutoff = 1.0 - np.log(500) / np.log(50000)\n",
    "\n",
    "    def _make_metrics_classification(self, prefix):\n",
    "        metrics = torchmetrics.MetricCollection(\n",
    "            {\n",
    "                \"auroc\": AUROC(task=\"binary\"),\n",
    "                \"accuracy\": Accuracy(task=\"binary\")\n",
    "            },\n",
    "            prefix=prefix\n",
    "        )\n",
    "        return metrics\n",
    "\n",
    "    def _make_metrics_regression(self, prefix):\n",
    "        metrics = torchmetrics.MetricCollection(\n",
    "            {\n",
    "                \"pcc\": PearsonCorrCoef(),\n",
    "                \"r2\": R2Score()\n",
    "            },\n",
    "            prefix=prefix\n",
    "        )\n",
    "        return metrics\n",
    "\n",
    "\n",
    "    def forward(self, batch):\n",
    "        return self.model(batch)\n",
    "\n",
    "    def _evaluate(self, batch, stage=None):\n",
    "        scores = batch.y\n",
    "        binary_scores = (scores >= self.cutoff).float()\n",
    "        logits = self.forward(batch)\n",
    "        probs = logits.sigmoid()        \n",
    "        loss = self.loss_fn(probs, scores)\n",
    "\n",
    "        metrics_dict = {f\"{stage}_loss\": loss}\n",
    "        if stage == 'train':\n",
    "            metrics_dict.update(self.train_metrics_regression(probs, scores))\n",
    "            metrics_dict.update(self.train_metrics_classification(probs, binary_scores))\n",
    "        elif stage == 'validation':\n",
    "            metrics_dict.update(self.validation_metrics_regression(probs, scores))\n",
    "            metrics_dict.update(self.validation_metrics_classification(probs, binary_scores))\n",
    "        elif stage == 'test':\n",
    "            metrics_dict.update(self.test_metrics_regression(probs, scores))\n",
    "            metrics_dict.update(self.test_metrics_classification(probs, binary_scores))\n",
    "\n",
    "        self.log_dict(metrics_dict, \n",
    "                      on_step=(stage == 'train'), \n",
    "                      on_epoch=True, \n",
    "                      prog_bar=True, \n",
    "                      sync_dist=True,\n",
    "                      batch_size=BATCH_SIZE)\n",
    "\n",
    "        return loss\n",
    "\n",
    "    def training_step(self, batch, batch_idx):\n",
    "        return self._evaluate(batch, stage='train')\n",
    "\n",
    "    def validation_step(self, batch, batch_idx):\n",
    "        self._evaluate(batch, stage='validation')\n",
    "\n",
    "    def test_step(self, batch, batch_idx):\n",
    "        self._evaluate(batch, stage='test')\n",
    "\n",
    "    def on_train_epoch_end(self):\n",
    "        self.train_metrics_classification.reset()\n",
    "        self.train_metrics_regression.reset()\n",
    "\n",
    "    def on_validation_epoch_end(self):\n",
    "        self.log_dict(self.validation_metrics_regression.compute(),\n",
    "                      on_step=False, on_epoch=True, \n",
    "                      prog_bar=True, sync_dist=True, \n",
    "                      batch_size=BATCH_SIZE)\n",
    "        self.validation_metrics_regression.reset()\n",
    "\n",
    "        self.log_dict(self.validation_metrics_classification.compute(),\n",
    "                      on_step=False, on_epoch=True, \n",
    "                      prog_bar=True, sync_dist=True, \n",
    "                      batch_size=BATCH_SIZE)\n",
    "        self.validation_metrics_classification.reset()\n",
    "\n",
    "    def on_test_epoch_end(self):\n",
    "        self.log_dict(self.test_metrics_regression.compute(),\n",
    "                      on_step=False, on_epoch=True, \n",
    "                      prog_bar=True, sync_dist=True, \n",
    "                      batch_size=BATCH_SIZE)\n",
    "        self.test_metrics_regression.reset()\n",
    "\n",
    "        self.log_dict(self.test_metrics_classification.compute(),\n",
    "                      on_step=False, on_epoch=True, \n",
    "                      prog_bar=True, sync_dist=True, \n",
    "                      batch_size=BATCH_SIZE)\n",
    "        self.test_metrics_classification.reset()\n",
    "\n",
    "    def configure_optimizers(self):\n",
    "        optimizer = torch.optim.AdamW(self.parameters(), \n",
    "                                      lr=self.learning_rate, \n",
    "                                      weight_decay=self.weight_decay)\n",
    "\n",
    "        scheduler = torch.optim.lr_scheduler.CosineAnnealingLR(\n",
    "            optimizer,\n",
    "            T_max=self.trainer.max_epochs,\n",
    "            eta_min=1e-6\n",
    "        )\n",
    "\n",
    "        return {\n",
    "            \"optimizer\": optimizer,\n",
    "            \"lr_scheduler\": {\n",
    "                \"scheduler\": scheduler,\n",
    "                \"interval\": \"step\",\n",
    "                \"frequency\": 20,\n",
    "            }\n",
    "        }\n"
   ]
  },
  {
   "cell_type": "code",
   "execution_count": null,
   "id": "1c8962e7",
   "metadata": {},
   "outputs": [
    {
     "name": "stderr",
     "output_type": "stream",
     "text": [
      "Using 16bit Automatic Mixed Precision (AMP)\n",
      "GPU available: True (cuda), used: True\n",
      "TPU available: False, using: 0 TPU cores\n",
      "HPU available: False, using: 0 HPUs\n",
      "LOCAL_RANK: 0 - CUDA_VISIBLE_DEVICES: [0,1,2,3]\n",
      "\n",
      "  | Name                              | Type             | Params | Mode \n",
      "-------------------------------------------------------------------------------\n",
      "0 | model                             | GNNModel         | 362 K  | train\n",
      "1 | train_metrics_regression          | MetricCollection | 0      | train\n",
      "2 | validation_metrics_regression     | MetricCollection | 0      | train\n",
      "3 | test_metrics_regression           | MetricCollection | 0      | train\n",
      "4 | train_metrics_classification      | MetricCollection | 0      | train\n",
      "5 | validation_metrics_classification | MetricCollection | 0      | train\n",
      "6 | test_metrics_classification       | MetricCollection | 0      | train\n",
      "7 | loss_fn                           | HuberLoss        | 0      | train\n",
      "-------------------------------------------------------------------------------\n",
      "362 K     Trainable params\n",
      "0         Non-trainable params\n",
      "362 K     Total params\n",
      "1.450     Total estimated model params size (MB)\n",
      "34        Modules in train mode\n",
      "0         Modules in eval mode\n"
     ]
    },
    {
     "data": {
      "application/vnd.jupyter.widget-view+json": {
       "model_id": "9294ef3716484f1aaa8c54e91d7f7318",
       "version_major": 2,
       "version_minor": 0
      },
      "text/plain": [
       "Sanity Checking: |                                                       | 0/? [00:00<?, ?it/s]"
      ]
     },
     "metadata": {},
     "output_type": "display_data"
    },
    {
     "data": {
      "application/vnd.jupyter.widget-view+json": {
       "model_id": "649130c2a5fe4ba39f18a76a0126f404",
       "version_major": 2,
       "version_minor": 0
      },
      "text/plain": [
       "Training: |                                                              | 0/? [00:00<?, ?it/s]"
      ]
     },
     "metadata": {},
     "output_type": "display_data"
    },
    {
     "data": {
      "application/vnd.jupyter.widget-view+json": {
       "model_id": "d667d4ab3960426b8c27b1db4c76c9e8",
       "version_major": 2,
       "version_minor": 0
      },
      "text/plain": [
       "Validation: |                                                            | 0/? [00:00<?, ?it/s]"
      ]
     },
     "metadata": {},
     "output_type": "display_data"
    },
    {
     "data": {
      "application/vnd.jupyter.widget-view+json": {
       "model_id": "9ec4877faf9942cdbcbc7636ccaf8ec2",
       "version_major": 2,
       "version_minor": 0
      },
      "text/plain": [
       "Validation: |                                                            | 0/? [00:00<?, ?it/s]"
      ]
     },
     "metadata": {},
     "output_type": "display_data"
    },
    {
     "data": {
      "application/vnd.jupyter.widget-view+json": {
       "model_id": "5070ff54432a49468ea25721a2c96e03",
       "version_major": 2,
       "version_minor": 0
      },
      "text/plain": [
       "Validation: |                                                            | 0/? [00:00<?, ?it/s]"
      ]
     },
     "metadata": {},
     "output_type": "display_data"
    },
    {
     "data": {
      "application/vnd.jupyter.widget-view+json": {
       "model_id": "78031b10dc0c45e0b5419e25455a69b4",
       "version_major": 2,
       "version_minor": 0
      },
      "text/plain": [
       "Validation: |                                                            | 0/? [00:00<?, ?it/s]"
      ]
     },
     "metadata": {},
     "output_type": "display_data"
    },
    {
     "data": {
      "application/vnd.jupyter.widget-view+json": {
       "model_id": "e9095374714d4b25acbfd609047c2ea8",
       "version_major": 2,
       "version_minor": 0
      },
      "text/plain": [
       "Validation: |                                                            | 0/? [00:00<?, ?it/s]"
      ]
     },
     "metadata": {},
     "output_type": "display_data"
    },
    {
     "data": {
      "application/vnd.jupyter.widget-view+json": {
       "model_id": "be22b6632f364f6d84c5f173032d2c13",
       "version_major": 2,
       "version_minor": 0
      },
      "text/plain": [
       "Validation: |                                                            | 0/? [00:00<?, ?it/s]"
      ]
     },
     "metadata": {},
     "output_type": "display_data"
    },
    {
     "data": {
      "application/vnd.jupyter.widget-view+json": {
       "model_id": "93f9104bea2a4cee953b6f970348f6d0",
       "version_major": 2,
       "version_minor": 0
      },
      "text/plain": [
       "Validation: |                                                            | 0/? [00:00<?, ?it/s]"
      ]
     },
     "metadata": {},
     "output_type": "display_data"
    },
    {
     "data": {
      "application/vnd.jupyter.widget-view+json": {
       "model_id": "5e572fcbd7a14cd79dd3cd22f14dcc66",
       "version_major": 2,
       "version_minor": 0
      },
      "text/plain": [
       "Validation: |                                                            | 0/? [00:00<?, ?it/s]"
      ]
     },
     "metadata": {},
     "output_type": "display_data"
    },
    {
     "data": {
      "application/vnd.jupyter.widget-view+json": {
       "model_id": "3be8d463379f46169ab1d7c8ab8387ab",
       "version_major": 2,
       "version_minor": 0
      },
      "text/plain": [
       "Validation: |                                                            | 0/? [00:00<?, ?it/s]"
      ]
     },
     "metadata": {},
     "output_type": "display_data"
    },
    {
     "data": {
      "application/vnd.jupyter.widget-view+json": {
       "model_id": "f46132e398dc4b16a299f6d68e3634d1",
       "version_major": 2,
       "version_minor": 0
      },
      "text/plain": [
       "Validation: |                                                            | 0/? [00:00<?, ?it/s]"
      ]
     },
     "metadata": {},
     "output_type": "display_data"
    },
    {
     "data": {
      "application/vnd.jupyter.widget-view+json": {
       "model_id": "f8f4f381b3eb44f383733c486eeb245c",
       "version_major": 2,
       "version_minor": 0
      },
      "text/plain": [
       "Validation: |                                                            | 0/? [00:00<?, ?it/s]"
      ]
     },
     "metadata": {},
     "output_type": "display_data"
    },
    {
     "data": {
      "application/vnd.jupyter.widget-view+json": {
       "model_id": "16c687bfb68642dda1b23eca6fd4e6a7",
       "version_major": 2,
       "version_minor": 0
      },
      "text/plain": [
       "Validation: |                                                            | 0/? [00:00<?, ?it/s]"
      ]
     },
     "metadata": {},
     "output_type": "display_data"
    },
    {
     "data": {
      "application/vnd.jupyter.widget-view+json": {
       "model_id": "6a2b18a746be4ed8a090d6242589bf42",
       "version_major": 2,
       "version_minor": 0
      },
      "text/plain": [
       "Validation: |                                                            | 0/? [00:00<?, ?it/s]"
      ]
     },
     "metadata": {},
     "output_type": "display_data"
    },
    {
     "data": {
      "application/vnd.jupyter.widget-view+json": {
       "model_id": "7bcc687142a34df395f9b715cb03250d",
       "version_major": 2,
       "version_minor": 0
      },
      "text/plain": [
       "Validation: |                                                            | 0/? [00:00<?, ?it/s]"
      ]
     },
     "metadata": {},
     "output_type": "display_data"
    },
    {
     "data": {
      "application/vnd.jupyter.widget-view+json": {
       "model_id": "30326c9457aa43009fbd9ac35ba2220a",
       "version_major": 2,
       "version_minor": 0
      },
      "text/plain": [
       "Validation: |                                                            | 0/? [00:00<?, ?it/s]"
      ]
     },
     "metadata": {},
     "output_type": "display_data"
    },
    {
     "data": {
      "application/vnd.jupyter.widget-view+json": {
       "model_id": "e6f78ae7f62f4497a29dfa8b1b5e819e",
       "version_major": 2,
       "version_minor": 0
      },
      "text/plain": [
       "Validation: |                                                            | 0/? [00:00<?, ?it/s]"
      ]
     },
     "metadata": {},
     "output_type": "display_data"
    },
    {
     "data": {
      "application/vnd.jupyter.widget-view+json": {
       "model_id": "903114107afa406ea256f6fce58582c6",
       "version_major": 2,
       "version_minor": 0
      },
      "text/plain": [
       "Validation: |                                                            | 0/? [00:00<?, ?it/s]"
      ]
     },
     "metadata": {},
     "output_type": "display_data"
    },
    {
     "data": {
      "application/vnd.jupyter.widget-view+json": {
       "model_id": "1d9f23752709496db3689b90adcf7d8a",
       "version_major": 2,
       "version_minor": 0
      },
      "text/plain": [
       "Validation: |                                                            | 0/? [00:00<?, ?it/s]"
      ]
     },
     "metadata": {},
     "output_type": "display_data"
    },
    {
     "data": {
      "application/vnd.jupyter.widget-view+json": {
       "model_id": "813bc7773e87416b9cb016a6843d3d96",
       "version_major": 2,
       "version_minor": 0
      },
      "text/plain": [
       "Validation: |                                                            | 0/? [00:00<?, ?it/s]"
      ]
     },
     "metadata": {},
     "output_type": "display_data"
    },
    {
     "data": {
      "application/vnd.jupyter.widget-view+json": {
       "model_id": "cc69ab9f6ea54bf5a6113ac0425af492",
       "version_major": 2,
       "version_minor": 0
      },
      "text/plain": [
       "Validation: |                                                            | 0/? [00:00<?, ?it/s]"
      ]
     },
     "metadata": {},
     "output_type": "display_data"
    },
    {
     "data": {
      "application/vnd.jupyter.widget-view+json": {
       "model_id": "b8a9241601bf466a81486344147e43a5",
       "version_major": 2,
       "version_minor": 0
      },
      "text/plain": [
       "Validation: |                                                            | 0/? [00:00<?, ?it/s]"
      ]
     },
     "metadata": {},
     "output_type": "display_data"
    },
    {
     "data": {
      "application/vnd.jupyter.widget-view+json": {
       "model_id": "b76fa71f04cd4126bf4c88fd24c05d92",
       "version_major": 2,
       "version_minor": 0
      },
      "text/plain": [
       "Validation: |                                                            | 0/? [00:00<?, ?it/s]"
      ]
     },
     "metadata": {},
     "output_type": "display_data"
    },
    {
     "data": {
      "application/vnd.jupyter.widget-view+json": {
       "model_id": "32b3282747dc435c98d49b8f138f9b83",
       "version_major": 2,
       "version_minor": 0
      },
      "text/plain": [
       "Validation: |                                                            | 0/? [00:00<?, ?it/s]"
      ]
     },
     "metadata": {},
     "output_type": "display_data"
    },
    {
     "data": {
      "application/vnd.jupyter.widget-view+json": {
       "model_id": "d1b94ac7102c44609984e057fc99707e",
       "version_major": 2,
       "version_minor": 0
      },
      "text/plain": [
       "Validation: |                                                            | 0/? [00:00<?, ?it/s]"
      ]
     },
     "metadata": {},
     "output_type": "display_data"
    },
    {
     "data": {
      "application/vnd.jupyter.widget-view+json": {
       "model_id": "bc50455747dc4c6283e7ba1d7db02242",
       "version_major": 2,
       "version_minor": 0
      },
      "text/plain": [
       "Validation: |                                                            | 0/? [00:00<?, ?it/s]"
      ]
     },
     "metadata": {},
     "output_type": "display_data"
    },
    {
     "data": {
      "application/vnd.jupyter.widget-view+json": {
       "model_id": "a81b7c6e24294f6baf42bf86d99fbb62",
       "version_major": 2,
       "version_minor": 0
      },
      "text/plain": [
       "Validation: |                                                            | 0/? [00:00<?, ?it/s]"
      ]
     },
     "metadata": {},
     "output_type": "display_data"
    },
    {
     "data": {
      "application/vnd.jupyter.widget-view+json": {
       "model_id": "7bdd96fb235948cb9f6ac199d6666d84",
       "version_major": 2,
       "version_minor": 0
      },
      "text/plain": [
       "Validation: |                                                            | 0/? [00:00<?, ?it/s]"
      ]
     },
     "metadata": {},
     "output_type": "display_data"
    },
    {
     "data": {
      "application/vnd.jupyter.widget-view+json": {
       "model_id": "34ee4fa48e264df0b501395bad24a4ee",
       "version_major": 2,
       "version_minor": 0
      },
      "text/plain": [
       "Validation: |                                                            | 0/? [00:00<?, ?it/s]"
      ]
     },
     "metadata": {},
     "output_type": "display_data"
    },
    {
     "data": {
      "application/vnd.jupyter.widget-view+json": {
       "model_id": "a32ecb4006b24bb39f0c0c0615eee75b",
       "version_major": 2,
       "version_minor": 0
      },
      "text/plain": [
       "Validation: |                                                            | 0/? [00:00<?, ?it/s]"
      ]
     },
     "metadata": {},
     "output_type": "display_data"
    },
    {
     "data": {
      "application/vnd.jupyter.widget-view+json": {
       "model_id": "569dd18462ae43cba81e098aa3067e24",
       "version_major": 2,
       "version_minor": 0
      },
      "text/plain": [
       "Validation: |                                                            | 0/? [00:00<?, ?it/s]"
      ]
     },
     "metadata": {},
     "output_type": "display_data"
    },
    {
     "data": {
      "application/vnd.jupyter.widget-view+json": {
       "model_id": "f57fdfaabfa94ce3aa6b9def194000b7",
       "version_major": 2,
       "version_minor": 0
      },
      "text/plain": [
       "Validation: |                                                            | 0/? [00:00<?, ?it/s]"
      ]
     },
     "metadata": {},
     "output_type": "display_data"
    },
    {
     "data": {
      "application/vnd.jupyter.widget-view+json": {
       "model_id": "a8155db7aaeb405ea9890d53096b0822",
       "version_major": 2,
       "version_minor": 0
      },
      "text/plain": [
       "Validation: |                                                            | 0/? [00:00<?, ?it/s]"
      ]
     },
     "metadata": {},
     "output_type": "display_data"
    },
    {
     "data": {
      "application/vnd.jupyter.widget-view+json": {
       "model_id": "81dbc33db41542d88f874b3fbe082a02",
       "version_major": 2,
       "version_minor": 0
      },
      "text/plain": [
       "Validation: |                                                            | 0/? [00:00<?, ?it/s]"
      ]
     },
     "metadata": {},
     "output_type": "display_data"
    },
    {
     "data": {
      "application/vnd.jupyter.widget-view+json": {
       "model_id": "963ced533c444c83882fb8b814ea03e9",
       "version_major": 2,
       "version_minor": 0
      },
      "text/plain": [
       "Validation: |                                                            | 0/? [00:00<?, ?it/s]"
      ]
     },
     "metadata": {},
     "output_type": "display_data"
    },
    {
     "data": {
      "application/vnd.jupyter.widget-view+json": {
       "model_id": "fc0899436217432cb5cc4c5ee1dd5328",
       "version_major": 2,
       "version_minor": 0
      },
      "text/plain": [
       "Validation: |                                                            | 0/? [00:00<?, ?it/s]"
      ]
     },
     "metadata": {},
     "output_type": "display_data"
    },
    {
     "data": {
      "application/vnd.jupyter.widget-view+json": {
       "model_id": "3e2600c74a2a4dbdafacea92ea1debb3",
       "version_major": 2,
       "version_minor": 0
      },
      "text/plain": [
       "Validation: |                                                            | 0/? [00:00<?, ?it/s]"
      ]
     },
     "metadata": {},
     "output_type": "display_data"
    },
    {
     "data": {
      "application/vnd.jupyter.widget-view+json": {
       "model_id": "275ba2069099443593e498ba8d1604ee",
       "version_major": 2,
       "version_minor": 0
      },
      "text/plain": [
       "Validation: |                                                            | 0/? [00:00<?, ?it/s]"
      ]
     },
     "metadata": {},
     "output_type": "display_data"
    },
    {
     "data": {
      "application/vnd.jupyter.widget-view+json": {
       "model_id": "ab7098ac9d634e97a80246f9f9449688",
       "version_major": 2,
       "version_minor": 0
      },
      "text/plain": [
       "Validation: |                                                            | 0/? [00:00<?, ?it/s]"
      ]
     },
     "metadata": {},
     "output_type": "display_data"
    },
    {
     "data": {
      "application/vnd.jupyter.widget-view+json": {
       "model_id": "5469e8a972f84b3fb00c5bd4ba740593",
       "version_major": 2,
       "version_minor": 0
      },
      "text/plain": [
       "Validation: |                                                            | 0/? [00:00<?, ?it/s]"
      ]
     },
     "metadata": {},
     "output_type": "display_data"
    },
    {
     "data": {
      "application/vnd.jupyter.widget-view+json": {
       "model_id": "c917dd4ec0224d97bb961214484509e1",
       "version_major": 2,
       "version_minor": 0
      },
      "text/plain": [
       "Validation: |                                                            | 0/? [00:00<?, ?it/s]"
      ]
     },
     "metadata": {},
     "output_type": "display_data"
    },
    {
     "data": {
      "application/vnd.jupyter.widget-view+json": {
       "model_id": "cf5a5252191c47fc995f5f95c1368228",
       "version_major": 2,
       "version_minor": 0
      },
      "text/plain": [
       "Validation: |                                                            | 0/? [00:00<?, ?it/s]"
      ]
     },
     "metadata": {},
     "output_type": "display_data"
    },
    {
     "data": {
      "application/vnd.jupyter.widget-view+json": {
       "model_id": "3db0e6bc4eaa4a778022d46b53814d2c",
       "version_major": 2,
       "version_minor": 0
      },
      "text/plain": [
       "Validation: |                                                            | 0/? [00:00<?, ?it/s]"
      ]
     },
     "metadata": {},
     "output_type": "display_data"
    },
    {
     "data": {
      "application/vnd.jupyter.widget-view+json": {
       "model_id": "ae3124a2c1b6483b8de26125d0ff2499",
       "version_major": 2,
       "version_minor": 0
      },
      "text/plain": [
       "Validation: |                                                            | 0/? [00:00<?, ?it/s]"
      ]
     },
     "metadata": {},
     "output_type": "display_data"
    },
    {
     "data": {
      "application/vnd.jupyter.widget-view+json": {
       "model_id": "b32e6de366644098b33bdfd3f653a7e5",
       "version_major": 2,
       "version_minor": 0
      },
      "text/plain": [
       "Validation: |                                                            | 0/? [00:00<?, ?it/s]"
      ]
     },
     "metadata": {},
     "output_type": "display_data"
    },
    {
     "data": {
      "application/vnd.jupyter.widget-view+json": {
       "model_id": "416029752d1f4f6ca96c525b8f8caaf1",
       "version_major": 2,
       "version_minor": 0
      },
      "text/plain": [
       "Validation: |                                                            | 0/? [00:00<?, ?it/s]"
      ]
     },
     "metadata": {},
     "output_type": "display_data"
    },
    {
     "data": {
      "application/vnd.jupyter.widget-view+json": {
       "model_id": "aaa05e5f1c1f4c5fb785ecf9746c4d5d",
       "version_major": 2,
       "version_minor": 0
      },
      "text/plain": [
       "Validation: |                                                            | 0/? [00:00<?, ?it/s]"
      ]
     },
     "metadata": {},
     "output_type": "display_data"
    },
    {
     "data": {
      "application/vnd.jupyter.widget-view+json": {
       "model_id": "eb0dd06bc17f492787da7f0dbcb38f8e",
       "version_major": 2,
       "version_minor": 0
      },
      "text/plain": [
       "Validation: |                                                            | 0/? [00:00<?, ?it/s]"
      ]
     },
     "metadata": {},
     "output_type": "display_data"
    },
    {
     "data": {
      "application/vnd.jupyter.widget-view+json": {
       "model_id": "425bd25ec5b24ad1965e8e25de8c10ae",
       "version_major": 2,
       "version_minor": 0
      },
      "text/plain": [
       "Validation: |                                                            | 0/? [00:00<?, ?it/s]"
      ]
     },
     "metadata": {},
     "output_type": "display_data"
    },
    {
     "data": {
      "application/vnd.jupyter.widget-view+json": {
       "model_id": "dbd97b1704974aa98eefe1ce003307e7",
       "version_major": 2,
       "version_minor": 0
      },
      "text/plain": [
       "Validation: |                                                            | 0/? [00:00<?, ?it/s]"
      ]
     },
     "metadata": {},
     "output_type": "display_data"
    },
    {
     "data": {
      "application/vnd.jupyter.widget-view+json": {
       "model_id": "c38903335f2a4f4787c7a1d2d521f48c",
       "version_major": 2,
       "version_minor": 0
      },
      "text/plain": [
       "Validation: |                                                            | 0/? [00:00<?, ?it/s]"
      ]
     },
     "metadata": {},
     "output_type": "display_data"
    },
    {
     "data": {
      "application/vnd.jupyter.widget-view+json": {
       "model_id": "090b9fcba6d34ce888712c03de7432d6",
       "version_major": 2,
       "version_minor": 0
      },
      "text/plain": [
       "Validation: |                                                            | 0/? [00:00<?, ?it/s]"
      ]
     },
     "metadata": {},
     "output_type": "display_data"
    },
    {
     "data": {
      "application/vnd.jupyter.widget-view+json": {
       "model_id": "002a02d6f94a4929b83cc405f173fdd4",
       "version_major": 2,
       "version_minor": 0
      },
      "text/plain": [
       "Validation: |                                                            | 0/? [00:00<?, ?it/s]"
      ]
     },
     "metadata": {},
     "output_type": "display_data"
    },
    {
     "data": {
      "application/vnd.jupyter.widget-view+json": {
       "model_id": "ab56d9696e58417585e9bbf392d42b7e",
       "version_major": 2,
       "version_minor": 0
      },
      "text/plain": [
       "Validation: |                                                            | 0/? [00:00<?, ?it/s]"
      ]
     },
     "metadata": {},
     "output_type": "display_data"
    },
    {
     "data": {
      "application/vnd.jupyter.widget-view+json": {
       "model_id": "065e2a95b7eb46f395ca4dee1d890f0f",
       "version_major": 2,
       "version_minor": 0
      },
      "text/plain": [
       "Validation: |                                                            | 0/? [00:00<?, ?it/s]"
      ]
     },
     "metadata": {},
     "output_type": "display_data"
    },
    {
     "data": {
      "application/vnd.jupyter.widget-view+json": {
       "model_id": "274819f8049140feb45cc6f3254e9449",
       "version_major": 2,
       "version_minor": 0
      },
      "text/plain": [
       "Validation: |                                                            | 0/? [00:00<?, ?it/s]"
      ]
     },
     "metadata": {},
     "output_type": "display_data"
    },
    {
     "data": {
      "application/vnd.jupyter.widget-view+json": {
       "model_id": "29b799feda094c5e92d5c37c06676e74",
       "version_major": 2,
       "version_minor": 0
      },
      "text/plain": [
       "Validation: |                                                            | 0/? [00:00<?, ?it/s]"
      ]
     },
     "metadata": {},
     "output_type": "display_data"
    },
    {
     "data": {
      "application/vnd.jupyter.widget-view+json": {
       "model_id": "d6ac8b718f264d6782cbaa66f6e06e2e",
       "version_major": 2,
       "version_minor": 0
      },
      "text/plain": [
       "Validation: |                                                            | 0/? [00:00<?, ?it/s]"
      ]
     },
     "metadata": {},
     "output_type": "display_data"
    },
    {
     "data": {
      "application/vnd.jupyter.widget-view+json": {
       "model_id": "dd0835c86cfc49c4b2f1ebd822842537",
       "version_major": 2,
       "version_minor": 0
      },
      "text/plain": [
       "Validation: |                                                            | 0/? [00:00<?, ?it/s]"
      ]
     },
     "metadata": {},
     "output_type": "display_data"
    },
    {
     "name": "stderr",
     "output_type": "stream",
     "text": [
      "LOCAL_RANK: 0 - CUDA_VISIBLE_DEVICES: [0,1,2,3]\n"
     ]
    },
    {
     "data": {
      "application/vnd.jupyter.widget-view+json": {
       "model_id": "c9816db2746c4e0f893045c96589b454",
       "version_major": 2,
       "version_minor": 0
      },
      "text/plain": [
       "Testing: |                                                               | 0/? [00:00<?, ?it/s]"
      ]
     },
     "metadata": {},
     "output_type": "display_data"
    },
    {
     "name": "stdout",
     "output_type": "stream",
     "text": [
      "────────────────────────────────────────────────────────────────────────────────────────────────────────────────────────\n",
      "       Test metric             DataLoader 0\n",
      "────────────────────────────────────────────────────────────────────────────────────────────────────────────────────────\n",
      "      test_accuracy         0.7147834897041321\n",
      "       test_auroc           0.5235203504562378\n",
      "        test_loss          0.042379897087812424\n",
      "        test_pcc            0.10439755022525787\n",
      "         test_r2            -0.536857008934021\n",
      "────────────────────────────────────────────────────────────────────────────────────────────────────────────────────────\n"
     ]
    },
    {
     "data": {
      "text/plain": [
       "[{'test_loss': 0.042379897087812424,\n",
       "  'test_pcc': 0.10439755022525787,\n",
       "  'test_r2': -0.536857008934021,\n",
       "  'test_accuracy': 0.7147834897041321,\n",
       "  'test_auroc': 0.5235203504562378}]"
      ]
     },
     "execution_count": 48,
     "metadata": {},
     "output_type": "execute_result"
    },
    {
     "ename": "",
     "evalue": "",
     "output_type": "error",
     "traceback": [
      "\u001b[1;31mnotebook controller is DISPOSED. \n",
      "\u001b[1;31mView Jupyter <a href='command:jupyter.viewOutput'>log</a> for further details."
     ]
    }
   ],
   "source": [
    "model_name = 'GNNModel'\n",
    "obj_model = GNNModel(input_dim=1152, hidden_dim=128, dropout=0.2)\n",
    "\n",
    "model = LModelGM(obj_model, \n",
    "                 learning_rate=3e-4, \n",
    "                 weight_decay=1e-3)\n",
    "\n",
    "logger = pl_loggers.TensorBoardLogger(name=f\"{model_name}\", save_dir=log_path)\n",
    "logger_csv = pl_loggers.CSVLogger(name=f\"{model_name}\", save_dir=log_csv_path)\n",
    "\n",
    "checkpoint_callback = ModelCheckpoint(\n",
    "    dirpath=os.path.join(checkpoints_path, f\"{model_name}\", f\"version_{logger_csv.version}\", \"checkpoints\"),\n",
    "    filename=\"model-epoch={epoch:02d}\",\n",
    "    save_top_k=-1,\n",
    "    every_n_epochs=1,\n",
    "    save_on_train_epoch_end=True,\n",
    ")\n",
    "\n",
    "best_iou_callback = ModelCheckpoint(\n",
    "    dirpath=os.path.join(checkpoints_path, f\"{model_name}\", f\"version_{logger_csv.version}\", \"checkpoints\"),\n",
    "    filename=\"best_model_epoch={epoch:02d}-auroc={validation_auroc:.4f}\",\n",
    "    monitor=\"validation_auroc\",\n",
    "    mode=\"max\",\n",
    "    save_top_k=1,\n",
    "    save_on_train_epoch_end=True,\n",
    ")\n",
    "\n",
    "early_stop = EarlyStopping(monitor=\"validation_auroc\", patience=10, mode=\"max\")\n",
    "\n",
    "trainer = L.Trainer(\n",
    "    max_epochs=EPOCHS,\n",
    "    devices=[0],\n",
    "    default_root_dir=f'{checkpoints_path}/{model_name}',\n",
    "    logger=[logger, logger_csv],\n",
    "    accelerator=\"gpu\",\n",
    "    precision=\"16-mixed\",\n",
    "    callbacks=[best_iou_callback, early_stop, TQDMProgressBar(refresh_rate=1)],\n",
    "    log_every_n_steps=1\n",
    ")\n",
    "\n",
    "\n",
    "trainer.fit(model, train_dataloaders=train_dataloader, val_dataloaders=val_dataloader)\n",
    "trainer.test(model, dataloaders=test_dataloader)"
   ]
  },
  {
   "cell_type": "code",
   "execution_count": null,
   "id": "b2ab624d",
   "metadata": {},
   "outputs": [
    {
     "name": "stderr",
     "output_type": "stream",
     "text": [
      "Using 16bit Automatic Mixed Precision (AMP)\n",
      "GPU available: True (cuda), used: True\n",
      "TPU available: False, using: 0 TPU cores\n",
      "HPU available: False, using: 0 HPUs\n",
      "LOCAL_RANK: 0 - CUDA_VISIBLE_DEVICES: [0,1,2,3]\n",
      "\n",
      "  | Name                              | Type             | Params | Mode \n",
      "-------------------------------------------------------------------------------\n",
      "0 | model                             | GINModel         | 230 K  | train\n",
      "1 | train_metrics_regression          | MetricCollection | 0      | train\n",
      "2 | validation_metrics_regression     | MetricCollection | 0      | train\n",
      "3 | test_metrics_regression           | MetricCollection | 0      | train\n",
      "4 | train_metrics_classification      | MetricCollection | 0      | train\n",
      "5 | validation_metrics_classification | MetricCollection | 0      | train\n",
      "6 | test_metrics_classification       | MetricCollection | 0      | train\n",
      "7 | loss_fn                           | HuberLoss        | 0      | train\n",
      "-------------------------------------------------------------------------------\n",
      "230 K     Trainable params\n",
      "0         Non-trainable params\n",
      "230 K     Total params\n",
      "0.923     Total estimated model params size (MB)\n",
      "40        Modules in train mode\n",
      "0         Modules in eval mode\n"
     ]
    },
    {
     "data": {
      "application/vnd.jupyter.widget-view+json": {
       "model_id": "f708b12cb37b4e68ab3e3c9f9ec45acf",
       "version_major": 2,
       "version_minor": 0
      },
      "text/plain": [
       "Sanity Checking: |                                                       | 0/? [00:00<?, ?it/s]"
      ]
     },
     "metadata": {},
     "output_type": "display_data"
    },
    {
     "data": {
      "application/vnd.jupyter.widget-view+json": {
       "model_id": "c212f50eb17c41ea86711c01c48fa772",
       "version_major": 2,
       "version_minor": 0
      },
      "text/plain": [
       "Training: |                                                              | 0/? [00:00<?, ?it/s]"
      ]
     },
     "metadata": {},
     "output_type": "display_data"
    },
    {
     "data": {
      "application/vnd.jupyter.widget-view+json": {
       "model_id": "bcd0c332b92b4b8dbd00eef33849ca7e",
       "version_major": 2,
       "version_minor": 0
      },
      "text/plain": [
       "Validation: |                                                            | 0/? [00:00<?, ?it/s]"
      ]
     },
     "metadata": {},
     "output_type": "display_data"
    },
    {
     "data": {
      "application/vnd.jupyter.widget-view+json": {
       "model_id": "c1042658ba9f4c1c895ff08f9d20e742",
       "version_major": 2,
       "version_minor": 0
      },
      "text/plain": [
       "Validation: |                                                            | 0/? [00:00<?, ?it/s]"
      ]
     },
     "metadata": {},
     "output_type": "display_data"
    },
    {
     "data": {
      "application/vnd.jupyter.widget-view+json": {
       "model_id": "65d04f6693954e5b870cd5fc2d5c78cd",
       "version_major": 2,
       "version_minor": 0
      },
      "text/plain": [
       "Validation: |                                                            | 0/? [00:00<?, ?it/s]"
      ]
     },
     "metadata": {},
     "output_type": "display_data"
    },
    {
     "data": {
      "application/vnd.jupyter.widget-view+json": {
       "model_id": "9de7d6132f42474ca6b3c48eabe6f3e1",
       "version_major": 2,
       "version_minor": 0
      },
      "text/plain": [
       "Validation: |                                                            | 0/? [00:00<?, ?it/s]"
      ]
     },
     "metadata": {},
     "output_type": "display_data"
    },
    {
     "data": {
      "application/vnd.jupyter.widget-view+json": {
       "model_id": "4b40f001327d48d5b45f6bba762a3db1",
       "version_major": 2,
       "version_minor": 0
      },
      "text/plain": [
       "Validation: |                                                            | 0/? [00:00<?, ?it/s]"
      ]
     },
     "metadata": {},
     "output_type": "display_data"
    },
    {
     "data": {
      "application/vnd.jupyter.widget-view+json": {
       "model_id": "b0b5a8f99d044976aae619bb35d337a2",
       "version_major": 2,
       "version_minor": 0
      },
      "text/plain": [
       "Validation: |                                                            | 0/? [00:00<?, ?it/s]"
      ]
     },
     "metadata": {},
     "output_type": "display_data"
    },
    {
     "data": {
      "application/vnd.jupyter.widget-view+json": {
       "model_id": "36658deaa6f24190a42f99e47d6cee91",
       "version_major": 2,
       "version_minor": 0
      },
      "text/plain": [
       "Validation: |                                                            | 0/? [00:00<?, ?it/s]"
      ]
     },
     "metadata": {},
     "output_type": "display_data"
    },
    {
     "data": {
      "application/vnd.jupyter.widget-view+json": {
       "model_id": "03f2ad5a6a27497c9f81336ea22f45bd",
       "version_major": 2,
       "version_minor": 0
      },
      "text/plain": [
       "Validation: |                                                            | 0/? [00:00<?, ?it/s]"
      ]
     },
     "metadata": {},
     "output_type": "display_data"
    },
    {
     "data": {
      "application/vnd.jupyter.widget-view+json": {
       "model_id": "f093e95309ee41d7870b5b8ff54cb0a2",
       "version_major": 2,
       "version_minor": 0
      },
      "text/plain": [
       "Validation: |                                                            | 0/? [00:00<?, ?it/s]"
      ]
     },
     "metadata": {},
     "output_type": "display_data"
    },
    {
     "data": {
      "application/vnd.jupyter.widget-view+json": {
       "model_id": "3effbd20389945058080f99c50c1bf66",
       "version_major": 2,
       "version_minor": 0
      },
      "text/plain": [
       "Validation: |                                                            | 0/? [00:00<?, ?it/s]"
      ]
     },
     "metadata": {},
     "output_type": "display_data"
    },
    {
     "data": {
      "application/vnd.jupyter.widget-view+json": {
       "model_id": "d0e563122650487d868aefe01f263d49",
       "version_major": 2,
       "version_minor": 0
      },
      "text/plain": [
       "Validation: |                                                            | 0/? [00:00<?, ?it/s]"
      ]
     },
     "metadata": {},
     "output_type": "display_data"
    },
    {
     "data": {
      "application/vnd.jupyter.widget-view+json": {
       "model_id": "c2dfb8e329844af5ac4c525b10d95dc9",
       "version_major": 2,
       "version_minor": 0
      },
      "text/plain": [
       "Validation: |                                                            | 0/? [00:00<?, ?it/s]"
      ]
     },
     "metadata": {},
     "output_type": "display_data"
    },
    {
     "data": {
      "application/vnd.jupyter.widget-view+json": {
       "model_id": "3e3280b84ac3469eb3329226d4f3f704",
       "version_major": 2,
       "version_minor": 0
      },
      "text/plain": [
       "Validation: |                                                            | 0/? [00:00<?, ?it/s]"
      ]
     },
     "metadata": {},
     "output_type": "display_data"
    },
    {
     "data": {
      "application/vnd.jupyter.widget-view+json": {
       "model_id": "a567dba4007b40b8bd3b21464688af6e",
       "version_major": 2,
       "version_minor": 0
      },
      "text/plain": [
       "Validation: |                                                            | 0/? [00:00<?, ?it/s]"
      ]
     },
     "metadata": {},
     "output_type": "display_data"
    },
    {
     "data": {
      "application/vnd.jupyter.widget-view+json": {
       "model_id": "cc99f2305a5242959e32c66f65555501",
       "version_major": 2,
       "version_minor": 0
      },
      "text/plain": [
       "Validation: |                                                            | 0/? [00:00<?, ?it/s]"
      ]
     },
     "metadata": {},
     "output_type": "display_data"
    },
    {
     "data": {
      "application/vnd.jupyter.widget-view+json": {
       "model_id": "7c513f0032014a72b0b313012ca39fb5",
       "version_major": 2,
       "version_minor": 0
      },
      "text/plain": [
       "Validation: |                                                            | 0/? [00:00<?, ?it/s]"
      ]
     },
     "metadata": {},
     "output_type": "display_data"
    },
    {
     "data": {
      "application/vnd.jupyter.widget-view+json": {
       "model_id": "9c7a6669fb2845b78f2b8689af36c58c",
       "version_major": 2,
       "version_minor": 0
      },
      "text/plain": [
       "Validation: |                                                            | 0/? [00:00<?, ?it/s]"
      ]
     },
     "metadata": {},
     "output_type": "display_data"
    },
    {
     "data": {
      "application/vnd.jupyter.widget-view+json": {
       "model_id": "191676379feb47168e84c5db482e7888",
       "version_major": 2,
       "version_minor": 0
      },
      "text/plain": [
       "Validation: |                                                            | 0/? [00:00<?, ?it/s]"
      ]
     },
     "metadata": {},
     "output_type": "display_data"
    },
    {
     "data": {
      "application/vnd.jupyter.widget-view+json": {
       "model_id": "54d27ab168604c63a6fa817b658c85b4",
       "version_major": 2,
       "version_minor": 0
      },
      "text/plain": [
       "Validation: |                                                            | 0/? [00:00<?, ?it/s]"
      ]
     },
     "metadata": {},
     "output_type": "display_data"
    },
    {
     "name": "stderr",
     "output_type": "stream",
     "text": [
      "LOCAL_RANK: 0 - CUDA_VISIBLE_DEVICES: [0,1,2,3]\n"
     ]
    },
    {
     "data": {
      "application/vnd.jupyter.widget-view+json": {
       "model_id": "089d3dea48ed49a88b5f8d3abc025cb5",
       "version_major": 2,
       "version_minor": 0
      },
      "text/plain": [
       "Testing: |                                                               | 0/? [00:00<?, ?it/s]"
      ]
     },
     "metadata": {},
     "output_type": "display_data"
    },
    {
     "name": "stdout",
     "output_type": "stream",
     "text": [
      "────────────────────────────────────────────────────────────────────────────────────────────────────────────────────────\n",
      "       Test metric             DataLoader 0\n",
      "────────────────────────────────────────────────────────────────────────────────────────────────────────────────────────\n",
      "      test_accuracy         0.7028372287750244\n",
      "       test_auroc           0.5785893797874451\n",
      "        test_loss          0.042902134358882904\n",
      "        test_pcc            0.18665660917758942\n",
      "         test_r2            -0.5628758668899536\n",
      "────────────────────────────────────────────────────────────────────────────────────────────────────────────────────────\n"
     ]
    },
    {
     "data": {
      "text/plain": [
       "[{'test_loss': 0.042902134358882904,\n",
       "  'test_pcc': 0.18665660917758942,\n",
       "  'test_r2': -0.5628758668899536,\n",
       "  'test_accuracy': 0.7028372287750244,\n",
       "  'test_auroc': 0.5785893797874451}]"
      ]
     },
     "execution_count": 49,
     "metadata": {},
     "output_type": "execute_result"
    },
    {
     "ename": "",
     "evalue": "",
     "output_type": "error",
     "traceback": [
      "\u001b[1;31mnotebook controller is DISPOSED. \n",
      "\u001b[1;31mView Jupyter <a href='command:jupyter.viewOutput'>log</a> for further details."
     ]
    }
   ],
   "source": [
    "model_name = 'GINModel'\n",
    "obj_model = GINModel(input_dim=1152, hidden_dim=128, dropout=0.2)\n",
    "\n",
    "model = LModelGM(obj_model, \n",
    "                 learning_rate=3e-4, \n",
    "                 weight_decay=1e-3)\n",
    "\n",
    "logger = pl_loggers.TensorBoardLogger(name=f\"{model_name}\", save_dir=log_path)\n",
    "logger_csv = pl_loggers.CSVLogger(name=f\"{model_name}\", save_dir=log_csv_path)\n",
    "\n",
    "checkpoint_callback = ModelCheckpoint(\n",
    "    dirpath=os.path.join(checkpoints_path, f\"{model_name}\", f\"version_{logger_csv.version}\", \"checkpoints\"),\n",
    "    filename=\"model-epoch={epoch:02d}\",\n",
    "    save_top_k=-1,\n",
    "    every_n_epochs=1,\n",
    "    save_on_train_epoch_end=True,\n",
    ")\n",
    "\n",
    "best_iou_callback = ModelCheckpoint(\n",
    "    dirpath=os.path.join(checkpoints_path, f\"{model_name}\", f\"version_{logger_csv.version}\", \"checkpoints\"),\n",
    "    filename=\"best_model_epoch={epoch:02d}-auroc={validation_auroc:.4f}\",\n",
    "    monitor=\"validation_auroc\",\n",
    "    mode=\"max\",\n",
    "    save_top_k=1,\n",
    "    save_on_train_epoch_end=True,\n",
    ")\n",
    "\n",
    "early_stop = EarlyStopping(monitor=\"validation_auroc\", patience=10, mode=\"max\")\n",
    "\n",
    "trainer = L.Trainer(\n",
    "    max_epochs=EPOCHS,\n",
    "    devices=[0],\n",
    "    default_root_dir=f'{checkpoints_path}/{model_name}',\n",
    "    logger=[logger, logger_csv],\n",
    "    accelerator=\"gpu\",\n",
    "    precision=\"16-mixed\",\n",
    "    callbacks=[best_iou_callback, early_stop, TQDMProgressBar(refresh_rate=1)],\n",
    "    log_every_n_steps=1\n",
    ")\n",
    "\n",
    "\n",
    "trainer.fit(model, train_dataloaders=train_dataloader, val_dataloaders=val_dataloader)\n",
    "trainer.test(model, dataloaders=test_dataloader)"
   ]
  },
  {
   "cell_type": "markdown",
   "id": "d0d6f4ff",
   "metadata": {},
   "source": [
    "# Embeddings"
   ]
  },
  {
   "cell_type": "markdown",
   "id": "ba882798",
   "metadata": {},
   "source": [
    "### Модели для работы с эмбендингами"
   ]
  },
  {
   "cell_type": "code",
   "execution_count": 92,
   "id": "62ab4782",
   "metadata": {},
   "outputs": [],
   "source": [
    "def collate_fn(batch):\n",
    "    proteins, peptides, labels = zip(*batch)\n",
    "    \n",
    "    proteins = torch.stack(proteins)        # [B, 34, 1152]\n",
    "    peptides = torch.stack(peptides)        # [B, 21, 1152] — уже паддинг\n",
    "    labels = torch.tensor(labels).unsqueeze(0)\n",
    "    \n",
    "    return proteins, peptides, labels\n",
    "\n",
    "\n",
    "class MHCSequenceDatasetEmb(Dataset):\n",
    "    def __init__(self, df, labels):\n",
    "        self.df = df\n",
    "        self.labels = labels\n",
    "        \n",
    "    def __len__(self):\n",
    "        return len(self.df)\n",
    "    \n",
    "    def __getitem__(self, idx):\n",
    "        row = self.df.iloc[idx]\n",
    "        label = self.labels[idx]\n",
    "        alpha_path = row['alpha_path']\n",
    "        beta_path = row['beta_path']\n",
    "        peptide_path = row['peptide_path']\n",
    "        alpha_positions = row['alpha_positions']\n",
    "        beta_positions = row['beta_positions']\n",
    "        \n",
    "                \n",
    "        alpha_embeddings = np.load(alpha_path)[:, ast.literal_eval(alpha_positions), :].squeeze(0)\n",
    "        beta_embeddings = np.load(beta_path)[:, ast.literal_eval(beta_positions), :].squeeze(0)\n",
    "        peptide_embeddings = torch.FloatTensor(np.load(peptide_path))[:,1:-1].squeeze(0)\n",
    "\n",
    "        peptide_len = peptide_embeddings.shape[0]\n",
    "\n",
    "        # Паддинг по центру до 21\n",
    "        total_pad = 21 - peptide_len\n",
    "        left_pad = total_pad // 2\n",
    "        right_pad = total_pad - left_pad\n",
    "        peptide_padded = F.pad(peptide_embeddings, (0, 0, left_pad, right_pad), 'constant', value=0)\n",
    "        protein = torch.FloatTensor(np.concatenate([alpha_embeddings, beta_embeddings], axis=0))\n",
    "\n",
    "        return protein, peptide_padded, int(label)\n",
    "    \n",
    "    "
   ]
  },
  {
   "cell_type": "code",
   "execution_count": 110,
   "id": "27c4f6aa",
   "metadata": {},
   "outputs": [],
   "source": [
    "from pytorch_metric_learning.losses import TripletMarginLoss\n",
    "from pytorch_metric_learning.samplers import MPerClassSampler\n",
    "from pytorch_metric_learning.miners import TripletMarginMiner\n",
    "\n",
    "\n",
    "cutoff = 1.0 - np.log(500) / np.log(50000)\n",
    "train_labels = np.array((train_data['score'] >= cutoff), dtype=np.int64)\n",
    "\n",
    "train_dataset = MHCSequenceDatasetEmb(train_data, train_labels)\n",
    "sampler = MPerClassSampler(train_labels, m=256, length_before_new_iter=len(train_labels))\n",
    "train_dataloader = DataLoader(train_dataset, batch_size=BATCH_SIZE, sampler=sampler, num_workers=8)\n",
    "\n",
    "cutoff = 1.0 - np.log(500) / np.log(50000)\n",
    "test_labels = np.array((test_data['score'] >= cutoff), dtype=np.int32)\n",
    "\n",
    "test_dataset = MHCSequenceDatasetEmb(test_data, test_labels)\n",
    "test_dataloader = DataLoader(test_dataset, batch_size=BATCH_SIZE, num_workers=8)\n",
    "\n",
    "cutoff = 1.0 - np.log(500) / np.log(50000)\n",
    "val_labels = np.array((val_data['score'] >= cutoff), dtype=np.int32)\n",
    "\n",
    "val_dataset = MHCSequenceDatasetEmb(val_data, val_labels)\n",
    "val_dataloader = DataLoader(val_dataset, batch_size=BATCH_SIZE, num_workers=8)\n",
    "\n"
   ]
  },
  {
   "cell_type": "code",
   "execution_count": 108,
   "id": "4a3c71ed",
   "metadata": {},
   "outputs": [],
   "source": [
    "batch = next(iter(train_dataloader))"
   ]
  },
  {
   "cell_type": "code",
   "execution_count": 109,
   "id": "d5520e49",
   "metadata": {},
   "outputs": [
    {
     "data": {
      "text/plain": [
       "tensor(256)"
      ]
     },
     "execution_count": 109,
     "metadata": {},
     "output_type": "execute_result"
    }
   ],
   "source": [
    "\n",
    "(batch[2] == 1).sum()"
   ]
  },
  {
   "cell_type": "code",
   "execution_count": 117,
   "id": "3efc68c0",
   "metadata": {},
   "outputs": [],
   "source": [
    "class ProteinPeptideInteractionEmbeddingModel(nn.Module):\n",
    "    def __init__(self, embedding_dim=1152, hidden_dim=512, embedding_out_dim=128, num_heads=8, dropout=0.3):\n",
    "        super().__init__()\n",
    "\n",
    "        # Проекция эмбеддингов\n",
    "        self.protein_proj = nn.Linear(embedding_dim, hidden_dim)\n",
    "        self.peptide_proj = nn.Linear(embedding_dim, hidden_dim)\n",
    "\n",
    "        # Кросс-аттеншн: пептид (query) ↔ белок (key/value)\n",
    "        self.cross_attn = nn.MultiheadAttention(\n",
    "            embed_dim=hidden_dim,\n",
    "            num_heads=num_heads,\n",
    "            dropout=dropout,\n",
    "            batch_first=True\n",
    "        )\n",
    "\n",
    "        # Голова для эмбеддингов (triplet/metric learning)\n",
    "        self.embedding_head = nn.Sequential(\n",
    "            nn.Linear(hidden_dim * 2, hidden_dim),\n",
    "            nn.ReLU(),\n",
    "            nn.Dropout(dropout),\n",
    "            nn.Linear(hidden_dim, embedding_out_dim)\n",
    "        )\n",
    "\n",
    "        # Голова для предсказания score (IC50, аффинность и т.д.)\n",
    "        self.score_head = nn.Sequential(\n",
    "            nn.Linear(embedding_out_dim, 64),\n",
    "            nn.ReLU(),\n",
    "            nn.Linear(64, 1)\n",
    "        )\n",
    "\n",
    "    def forward(self, protein, peptide):\n",
    "        \"\"\"\n",
    "        protein: [B, P_len, 1152]\n",
    "        peptide: [B, pep_len, 1152]\n",
    "        Returns:\n",
    "            embedding: [B, embedding_out_dim]\n",
    "            score:     [B] — регрессия\n",
    "        \"\"\"\n",
    "\n",
    "        # 1. Проекция\n",
    "        protein_proj = self.protein_proj(protein)   # [B, P_len, hidden_dim]\n",
    "        peptide_proj = self.peptide_proj(peptide)   # [B, pep_len, hidden_dim]\n",
    "\n",
    "        # 2. Cross-attention: пептид спрашивает белок\n",
    "        attn_out, _ = self.cross_attn(query=peptide_proj,\n",
    "                                      key=protein_proj,\n",
    "                                      value=protein_proj)  # [B, pep_len, hidden_dim]\n",
    "\n",
    "        # 3. Усреднение представлений\n",
    "        attn_repr = attn_out.mean(dim=1)            # [B, hidden_dim]\n",
    "        pep_repr = peptide_proj.mean(dim=1)         # [B, hidden_dim]\n",
    "\n",
    "        # 4. Объединение\n",
    "        combined = torch.cat([attn_repr, pep_repr], dim=1)  # [B, hidden_dim * 2]\n",
    "\n",
    "        # 5. Эмбеддинг (L2-нормализованный)\n",
    "        embedding = self.embedding_head(combined)           # [B, embedding_out_dim]\n",
    "        embedding = F.normalize(embedding, p=2, dim=1)      # L2 нормировка\n",
    "\n",
    "        # 6. Предсказание score\n",
    "        score = self.score_head(embedding).squeeze(-1)      # [B]\n",
    "\n",
    "        return embedding, score\n"
   ]
  },
  {
   "cell_type": "code",
   "execution_count": 130,
   "id": "34e8cf04",
   "metadata": {},
   "outputs": [],
   "source": [
    "import torch\n",
    "import torch.nn as nn\n",
    "import torch.nn.functional as F\n",
    "\n",
    "class ProteinPeptideInteractionTransformer(nn.Module):\n",
    "    def __init__(self, embedding_dim=1152, hidden_dim=512, embedding_out_dim=128, num_heads=8, dropout=0.3):\n",
    "        super().__init__()\n",
    "\n",
    "        self.embedding_dim = embedding_dim\n",
    "        self.hidden_dim = hidden_dim\n",
    "\n",
    "        # Проекция\n",
    "        self.protein_proj = nn.Linear(embedding_dim, hidden_dim)\n",
    "        self.peptide_proj = nn.Linear(embedding_dim, hidden_dim)\n",
    "\n",
    "        # Первый слой cross-attention\n",
    "        self.cross_attn1 = nn.MultiheadAttention(embed_dim=hidden_dim, num_heads=num_heads, dropout=dropout, batch_first=True)\n",
    "        self.norm1 = nn.LayerNorm(hidden_dim)\n",
    "\n",
    "        # Второй слой cross-attention\n",
    "        self.cross_attn2 = nn.MultiheadAttention(embed_dim=hidden_dim, num_heads=num_heads, dropout=dropout, batch_first=True)\n",
    "        self.norm2 = nn.LayerNorm(hidden_dim)\n",
    "\n",
    "        # Агрегация и объединение представлений\n",
    "        self.encoder = nn.Sequential(\n",
    "            nn.Linear(hidden_dim * 2, hidden_dim),\n",
    "            nn.ReLU(),\n",
    "            nn.Dropout(dropout),\n",
    "            nn.LayerNorm(hidden_dim),\n",
    "            nn.Linear(hidden_dim, embedding_out_dim)\n",
    "        )\n",
    "\n",
    "        # Предсказание биндинга\n",
    "        self.score_head = nn.Sequential(\n",
    "            nn.Linear(embedding_out_dim, 64),\n",
    "            nn.ReLU(),\n",
    "            nn.Linear(64, 1)\n",
    "        )\n",
    "\n",
    "    def forward(self, protein, peptide):\n",
    "        \"\"\"\n",
    "        protein: [B, P_len, 1152]\n",
    "        peptide: [B, pep_len, 1152]\n",
    "        Returns:\n",
    "            embedding: [B, embedding_out_dim]\n",
    "            score:     [B]\n",
    "        \"\"\"\n",
    "        B = protein.shape[0]\n",
    "\n",
    "        # Проекция эмбеддингов\n",
    "        protein_proj = self.protein_proj(protein)     # [B, P_len, hidden_dim]\n",
    "        peptide_proj = self.peptide_proj(peptide)     # [B, pep_len, hidden_dim]\n",
    "\n",
    "        # Первый cross-attention\n",
    "        attn_out1, _ = self.cross_attn1(query=peptide_proj, key=protein_proj, value=protein_proj)\n",
    "        attn_out1 = self.norm1(attn_out1 + peptide_proj)  # skip-connection\n",
    "\n",
    "        # Второй cross-attention\n",
    "        attn_out2, _ = self.cross_attn2(query=attn_out1, key=protein_proj, value=protein_proj)\n",
    "        attn_out2 = self.norm2(attn_out2 + attn_out1)     # skip-connection\n",
    "\n",
    "        # Усреднение\n",
    "        peptide_repr = attn_out2.mean(dim=1)              # [B, hidden_dim]\n",
    "        protein_repr = protein_proj.mean(dim=1)           # [B, hidden_dim]\n",
    "\n",
    "        # Объединение\n",
    "        combined = torch.cat([protein_repr, peptide_repr], dim=1)  # [B, hidden_dim * 2]\n",
    "\n",
    "        # Получение эмбеддинга\n",
    "        embedding = self.encoder(combined)                # [B, embedding_out_dim]\n",
    "        embedding = F.normalize(embedding, p=2, dim=1)\n",
    "\n",
    "        # Предсказание бинарного класса\n",
    "        score = self.score_head(embedding).squeeze(-1)    # [B]\n",
    "\n",
    "        return embedding, score\n"
   ]
  },
  {
   "cell_type": "markdown",
   "id": "13e1278e",
   "metadata": {},
   "source": [
    "### Lightning для Emb"
   ]
  },
  {
   "cell_type": "code",
   "execution_count": 134,
   "id": "87562a47",
   "metadata": {},
   "outputs": [],
   "source": [
    "\n",
    "class LModelEmb(L.LightningModule):\n",
    "    def __init__(self, model, learning_rate, weight_decay):\n",
    "        super().__init__()\n",
    "        self.save_hyperparameters(ignore=['model'])\n",
    "        self.model = model\n",
    "\n",
    "        self.learning_rate = learning_rate\n",
    "        self.weight_decay = weight_decay\n",
    "\n",
    "\n",
    "        self.loss_bce = nn.BCEWithLogitsLoss()\n",
    "        self.loss_fn = TripletMarginLoss(margin=2.)\n",
    "        self.miner = TripletMarginMiner(margin=2., type_of_triplets=\"semi-hard\")\n",
    "\n",
    "\n",
    "    def forward(self, mhc_embeddings, peptide_embeddings):\n",
    "        return self.model(mhc_embeddings, peptide_embeddings)\n",
    "        \n",
    "\n",
    "    def _evaluate(self, batch, stage=None):\n",
    "        mhc_embeddings, peptide_embeddings, labels = batch\n",
    "        embeddings, scores = self.forward(mhc_embeddings, peptide_embeddings)\n",
    "        hard_triplets = self.miner(embeddings, labels)    \n",
    "        loss_tml = self.loss_fn(embeddings, labels, hard_triplets)\n",
    "        loss_bce = self.loss_bce(scores, labels.float())\n",
    "\n",
    "        metrics_dict = {f\"{stage}_loss_tml\": loss_tml,\n",
    "                        f\"{stage}_loss_bce\": loss_bce,}\n",
    "        # with torch.no_grad():\n",
    "        #     dist_matrix = torch.cdist(embeddings, embeddings, p=2)\n",
    "        #     print(f\"{stage}: mean dist = {dist_matrix.mean():.4f}, max = {dist_matrix.max():.4f}, min = {dist_matrix.min():.4f}\")\n",
    "        self.log_dict(metrics_dict, \n",
    "                      on_step=(stage == 'train'), \n",
    "                      on_epoch=True, \n",
    "                      prog_bar=True, \n",
    "                      sync_dist=True,\n",
    "                      batch_size=BATCH_SIZE)\n",
    "\n",
    "        return loss_tml + loss_bce\n",
    "\n",
    "    def training_step(self, batch, batch_idx):\n",
    "        return self._evaluate(batch, stage='train')\n",
    "\n",
    "    def validation_step(self, batch, batch_idx):\n",
    "        self._evaluate(batch, stage='validation')\n",
    "\n",
    "    def test_step(self, batch, batch_idx):\n",
    "        self._evaluate(batch, stage='test')\n",
    "\n",
    "    def configure_optimizers(self):\n",
    "        optimizer = torch.optim.AdamW(self.parameters(), \n",
    "                                      lr=self.learning_rate, \n",
    "                                      weight_decay=self.weight_decay)\n",
    "\n",
    "        scheduler = torch.optim.lr_scheduler.CosineAnnealingLR(\n",
    "            optimizer,\n",
    "            T_max=self.trainer.max_epochs,\n",
    "            eta_min=1e-6\n",
    "        )\n",
    "\n",
    "        return {\n",
    "            \"optimizer\": optimizer,\n",
    "            \"lr_scheduler\": {\n",
    "                \"scheduler\": scheduler,\n",
    "                \"interval\": \"step\",\n",
    "                \"frequency\": 20,\n",
    "            }\n",
    "        }\n"
   ]
  },
  {
   "cell_type": "code",
   "execution_count": null,
   "id": "cdd37580",
   "metadata": {},
   "outputs": [
    {
     "name": "stderr",
     "output_type": "stream",
     "text": [
      "GPU available: True (cuda), used: True\n",
      "TPU available: False, using: 0 TPU cores\n",
      "HPU available: False, using: 0 HPUs\n",
      "LOCAL_RANK: 0 - CUDA_VISIBLE_DEVICES: [0,1,2,3]\n",
      "\n",
      "  | Name     | Type                                 | Params | Mode \n",
      "--------------------------------------------------------------------------\n",
      "0 | model    | ProteinPeptideInteractionTransformer | 3.9 M  | train\n",
      "1 | loss_bce | BCEWithLogitsLoss                    | 0      | train\n",
      "2 | loss_fn  | TripletMarginLoss                    | 0      | train\n",
      "3 | miner    | TripletMarginMiner                   | 0      | train\n",
      "--------------------------------------------------------------------------\n",
      "3.9 M     Trainable params\n",
      "0         Non-trainable params\n",
      "3.9 M     Total params\n",
      "15.535    Total estimated model params size (MB)\n",
      "25        Modules in train mode\n",
      "0         Modules in eval mode\n"
     ]
    },
    {
     "data": {
      "application/vnd.jupyter.widget-view+json": {
       "model_id": "2de4b48329864ee8b8e4071cb8ccd09c",
       "version_major": 2,
       "version_minor": 0
      },
      "text/plain": [
       "Sanity Checking: |                                                       | 0/? [00:00<?, ?it/s]"
      ]
     },
     "metadata": {},
     "output_type": "display_data"
    },
    {
     "data": {
      "application/vnd.jupyter.widget-view+json": {
       "model_id": "671724a02479429fa9720c36e2d312a8",
       "version_major": 2,
       "version_minor": 0
      },
      "text/plain": [
       "Training: |                                                              | 0/? [00:00<?, ?it/s]"
      ]
     },
     "metadata": {},
     "output_type": "display_data"
    },
    {
     "data": {
      "application/vnd.jupyter.widget-view+json": {
       "model_id": "9e035602b92d4a2b93e584316637a399",
       "version_major": 2,
       "version_minor": 0
      },
      "text/plain": [
       "Validation: |                                                            | 0/? [00:00<?, ?it/s]"
      ]
     },
     "metadata": {},
     "output_type": "display_data"
    },
    {
     "data": {
      "application/vnd.jupyter.widget-view+json": {
       "model_id": "3fde5cf6f952418e968be8992b30edfa",
       "version_major": 2,
       "version_minor": 0
      },
      "text/plain": [
       "Validation: |                                                            | 0/? [00:00<?, ?it/s]"
      ]
     },
     "metadata": {},
     "output_type": "display_data"
    },
    {
     "data": {
      "application/vnd.jupyter.widget-view+json": {
       "model_id": "65ace38f9a78471d908b425a6e588a07",
       "version_major": 2,
       "version_minor": 0
      },
      "text/plain": [
       "Validation: |                                                            | 0/? [00:00<?, ?it/s]"
      ]
     },
     "metadata": {},
     "output_type": "display_data"
    },
    {
     "data": {
      "application/vnd.jupyter.widget-view+json": {
       "model_id": "be07fd2e8245422f88e46b6fda409081",
       "version_major": 2,
       "version_minor": 0
      },
      "text/plain": [
       "Validation: |                                                            | 0/? [00:00<?, ?it/s]"
      ]
     },
     "metadata": {},
     "output_type": "display_data"
    },
    {
     "data": {
      "application/vnd.jupyter.widget-view+json": {
       "model_id": "6f3018a22c3345dc9af47d2dae5b1130",
       "version_major": 2,
       "version_minor": 0
      },
      "text/plain": [
       "Validation: |                                                            | 0/? [00:00<?, ?it/s]"
      ]
     },
     "metadata": {},
     "output_type": "display_data"
    },
    {
     "data": {
      "application/vnd.jupyter.widget-view+json": {
       "model_id": "f8cb63a62eb8423888ee087d99e67a6e",
       "version_major": 2,
       "version_minor": 0
      },
      "text/plain": [
       "Validation: |                                                            | 0/? [00:00<?, ?it/s]"
      ]
     },
     "metadata": {},
     "output_type": "display_data"
    },
    {
     "data": {
      "application/vnd.jupyter.widget-view+json": {
       "model_id": "9545c1c80f4947b3826d17bb3a5d75d5",
       "version_major": 2,
       "version_minor": 0
      },
      "text/plain": [
       "Validation: |                                                            | 0/? [00:00<?, ?it/s]"
      ]
     },
     "metadata": {},
     "output_type": "display_data"
    },
    {
     "data": {
      "application/vnd.jupyter.widget-view+json": {
       "model_id": "8393a3dfcf074a55b33c4ca5ee25c749",
       "version_major": 2,
       "version_minor": 0
      },
      "text/plain": [
       "Validation: |                                                            | 0/? [00:00<?, ?it/s]"
      ]
     },
     "metadata": {},
     "output_type": "display_data"
    },
    {
     "data": {
      "application/vnd.jupyter.widget-view+json": {
       "model_id": "95b64608ec054321859495235e5b21d9",
       "version_major": 2,
       "version_minor": 0
      },
      "text/plain": [
       "Validation: |                                                            | 0/? [00:00<?, ?it/s]"
      ]
     },
     "metadata": {},
     "output_type": "display_data"
    },
    {
     "data": {
      "application/vnd.jupyter.widget-view+json": {
       "model_id": "1a6342f014cc4c85b8bc29fdce9cd519",
       "version_major": 2,
       "version_minor": 0
      },
      "text/plain": [
       "Validation: |                                                            | 0/? [00:00<?, ?it/s]"
      ]
     },
     "metadata": {},
     "output_type": "display_data"
    },
    {
     "data": {
      "application/vnd.jupyter.widget-view+json": {
       "model_id": "cb0a1acadcaf48178064996ec3b0dd11",
       "version_major": 2,
       "version_minor": 0
      },
      "text/plain": [
       "Validation: |                                                            | 0/? [00:00<?, ?it/s]"
      ]
     },
     "metadata": {},
     "output_type": "display_data"
    },
    {
     "data": {
      "application/vnd.jupyter.widget-view+json": {
       "model_id": "c602b35d24924f7a9928ff22839a6672",
       "version_major": 2,
       "version_minor": 0
      },
      "text/plain": [
       "Validation: |                                                            | 0/? [00:00<?, ?it/s]"
      ]
     },
     "metadata": {},
     "output_type": "display_data"
    },
    {
     "data": {
      "application/vnd.jupyter.widget-view+json": {
       "model_id": "1246b04842214f3fbdf1290592806c3b",
       "version_major": 2,
       "version_minor": 0
      },
      "text/plain": [
       "Validation: |                                                            | 0/? [00:00<?, ?it/s]"
      ]
     },
     "metadata": {},
     "output_type": "display_data"
    },
    {
     "data": {
      "application/vnd.jupyter.widget-view+json": {
       "model_id": "e86d04f5dae0409280132d02e36d9bec",
       "version_major": 2,
       "version_minor": 0
      },
      "text/plain": [
       "Validation: |                                                            | 0/? [00:00<?, ?it/s]"
      ]
     },
     "metadata": {},
     "output_type": "display_data"
    },
    {
     "data": {
      "application/vnd.jupyter.widget-view+json": {
       "model_id": "0991c9d045f442c5a3b427e9de29f2b7",
       "version_major": 2,
       "version_minor": 0
      },
      "text/plain": [
       "Validation: |                                                            | 0/? [00:00<?, ?it/s]"
      ]
     },
     "metadata": {},
     "output_type": "display_data"
    },
    {
     "data": {
      "application/vnd.jupyter.widget-view+json": {
       "model_id": "cb374d2f47ae463f9c5f63588d73f7d9",
       "version_major": 2,
       "version_minor": 0
      },
      "text/plain": [
       "Validation: |                                                            | 0/? [00:00<?, ?it/s]"
      ]
     },
     "metadata": {},
     "output_type": "display_data"
    },
    {
     "data": {
      "application/vnd.jupyter.widget-view+json": {
       "model_id": "cbf94bde23a94867836805f5012c919c",
       "version_major": 2,
       "version_minor": 0
      },
      "text/plain": [
       "Validation: |                                                            | 0/? [00:00<?, ?it/s]"
      ]
     },
     "metadata": {},
     "output_type": "display_data"
    },
    {
     "data": {
      "application/vnd.jupyter.widget-view+json": {
       "model_id": "6fa6bae37749420784af23393cee9744",
       "version_major": 2,
       "version_minor": 0
      },
      "text/plain": [
       "Validation: |                                                            | 0/? [00:00<?, ?it/s]"
      ]
     },
     "metadata": {},
     "output_type": "display_data"
    },
    {
     "data": {
      "application/vnd.jupyter.widget-view+json": {
       "model_id": "d7e65089ef4349ab810be7c9251178ec",
       "version_major": 2,
       "version_minor": 0
      },
      "text/plain": [
       "Validation: |                                                            | 0/? [00:00<?, ?it/s]"
      ]
     },
     "metadata": {},
     "output_type": "display_data"
    },
    {
     "data": {
      "application/vnd.jupyter.widget-view+json": {
       "model_id": "1c3760ac16ba4bc4be97cdaaa36457c2",
       "version_major": 2,
       "version_minor": 0
      },
      "text/plain": [
       "Validation: |                                                            | 0/? [00:00<?, ?it/s]"
      ]
     },
     "metadata": {},
     "output_type": "display_data"
    },
    {
     "data": {
      "application/vnd.jupyter.widget-view+json": {
       "model_id": "6b58b0e65a0e4e508cfb83cd4b5f2cc4",
       "version_major": 2,
       "version_minor": 0
      },
      "text/plain": [
       "Validation: |                                                            | 0/? [00:00<?, ?it/s]"
      ]
     },
     "metadata": {},
     "output_type": "display_data"
    },
    {
     "data": {
      "application/vnd.jupyter.widget-view+json": {
       "model_id": "6f33b80e65354d379787f14a92f5b958",
       "version_major": 2,
       "version_minor": 0
      },
      "text/plain": [
       "Validation: |                                                            | 0/? [00:00<?, ?it/s]"
      ]
     },
     "metadata": {},
     "output_type": "display_data"
    },
    {
     "data": {
      "application/vnd.jupyter.widget-view+json": {
       "model_id": "a8ca1aea9d804365aeef91d147638836",
       "version_major": 2,
       "version_minor": 0
      },
      "text/plain": [
       "Validation: |                                                            | 0/? [00:00<?, ?it/s]"
      ]
     },
     "metadata": {},
     "output_type": "display_data"
    },
    {
     "data": {
      "application/vnd.jupyter.widget-view+json": {
       "model_id": "a58ab235c90043bfbee2f86ca78790f9",
       "version_major": 2,
       "version_minor": 0
      },
      "text/plain": [
       "Validation: |                                                            | 0/? [00:00<?, ?it/s]"
      ]
     },
     "metadata": {},
     "output_type": "display_data"
    },
    {
     "data": {
      "application/vnd.jupyter.widget-view+json": {
       "model_id": "66ed0c13e1104d04898b5d61a076eac3",
       "version_major": 2,
       "version_minor": 0
      },
      "text/plain": [
       "Validation: |                                                            | 0/? [00:00<?, ?it/s]"
      ]
     },
     "metadata": {},
     "output_type": "display_data"
    },
    {
     "data": {
      "application/vnd.jupyter.widget-view+json": {
       "model_id": "8f6c030487554ee492370942c000ef13",
       "version_major": 2,
       "version_minor": 0
      },
      "text/plain": [
       "Validation: |                                                            | 0/? [00:00<?, ?it/s]"
      ]
     },
     "metadata": {},
     "output_type": "display_data"
    },
    {
     "data": {
      "application/vnd.jupyter.widget-view+json": {
       "model_id": "ab25722395c24cf5913fa5c8d67b0e6a",
       "version_major": 2,
       "version_minor": 0
      },
      "text/plain": [
       "Validation: |                                                            | 0/? [00:00<?, ?it/s]"
      ]
     },
     "metadata": {},
     "output_type": "display_data"
    },
    {
     "data": {
      "application/vnd.jupyter.widget-view+json": {
       "model_id": "edc5daf17e334a04a0d6be40fd100c36",
       "version_major": 2,
       "version_minor": 0
      },
      "text/plain": [
       "Validation: |                                                            | 0/? [00:00<?, ?it/s]"
      ]
     },
     "metadata": {},
     "output_type": "display_data"
    },
    {
     "data": {
      "application/vnd.jupyter.widget-view+json": {
       "model_id": "7e5e192cd1464d62a58496ad51784d87",
       "version_major": 2,
       "version_minor": 0
      },
      "text/plain": [
       "Validation: |                                                            | 0/? [00:00<?, ?it/s]"
      ]
     },
     "metadata": {},
     "output_type": "display_data"
    },
    {
     "data": {
      "application/vnd.jupyter.widget-view+json": {
       "model_id": "a0e6b5797ae341af8898f4cd5beab943",
       "version_major": 2,
       "version_minor": 0
      },
      "text/plain": [
       "Validation: |                                                            | 0/? [00:00<?, ?it/s]"
      ]
     },
     "metadata": {},
     "output_type": "display_data"
    },
    {
     "data": {
      "application/vnd.jupyter.widget-view+json": {
       "model_id": "89a911ceea5f4b2b8af0060ae9fc5c39",
       "version_major": 2,
       "version_minor": 0
      },
      "text/plain": [
       "Validation: |                                                            | 0/? [00:00<?, ?it/s]"
      ]
     },
     "metadata": {},
     "output_type": "display_data"
    },
    {
     "data": {
      "application/vnd.jupyter.widget-view+json": {
       "model_id": "914f502dba2c44a4b4c359a3ed2de1d1",
       "version_major": 2,
       "version_minor": 0
      },
      "text/plain": [
       "Validation: |                                                            | 0/? [00:00<?, ?it/s]"
      ]
     },
     "metadata": {},
     "output_type": "display_data"
    },
    {
     "data": {
      "application/vnd.jupyter.widget-view+json": {
       "model_id": "0475d9d8e8d8404a857c53ee90b70f68",
       "version_major": 2,
       "version_minor": 0
      },
      "text/plain": [
       "Validation: |                                                            | 0/? [00:00<?, ?it/s]"
      ]
     },
     "metadata": {},
     "output_type": "display_data"
    },
    {
     "data": {
      "application/vnd.jupyter.widget-view+json": {
       "model_id": "241a867fa308497c8b67999f9f12a256",
       "version_major": 2,
       "version_minor": 0
      },
      "text/plain": [
       "Validation: |                                                            | 0/? [00:00<?, ?it/s]"
      ]
     },
     "metadata": {},
     "output_type": "display_data"
    },
    {
     "data": {
      "application/vnd.jupyter.widget-view+json": {
       "model_id": "b0eb52a333444d0b987fe2f502bdbef6",
       "version_major": 2,
       "version_minor": 0
      },
      "text/plain": [
       "Validation: |                                                            | 0/? [00:00<?, ?it/s]"
      ]
     },
     "metadata": {},
     "output_type": "display_data"
    },
    {
     "data": {
      "application/vnd.jupyter.widget-view+json": {
       "model_id": "6241169b03c041fab9d765481d5ef67b",
       "version_major": 2,
       "version_minor": 0
      },
      "text/plain": [
       "Validation: |                                                            | 0/? [00:00<?, ?it/s]"
      ]
     },
     "metadata": {},
     "output_type": "display_data"
    },
    {
     "data": {
      "application/vnd.jupyter.widget-view+json": {
       "model_id": "81484da7b1f0416ab10fbe382257a179",
       "version_major": 2,
       "version_minor": 0
      },
      "text/plain": [
       "Validation: |                                                            | 0/? [00:00<?, ?it/s]"
      ]
     },
     "metadata": {},
     "output_type": "display_data"
    },
    {
     "data": {
      "application/vnd.jupyter.widget-view+json": {
       "model_id": "8c96c281267942b7840957adf7a7f2b6",
       "version_major": 2,
       "version_minor": 0
      },
      "text/plain": [
       "Validation: |                                                            | 0/? [00:00<?, ?it/s]"
      ]
     },
     "metadata": {},
     "output_type": "display_data"
    },
    {
     "data": {
      "application/vnd.jupyter.widget-view+json": {
       "model_id": "9ce7236c8fe04c83ac3d13e2f1379a6a",
       "version_major": 2,
       "version_minor": 0
      },
      "text/plain": [
       "Validation: |                                                            | 0/? [00:00<?, ?it/s]"
      ]
     },
     "metadata": {},
     "output_type": "display_data"
    },
    {
     "data": {
      "application/vnd.jupyter.widget-view+json": {
       "model_id": "31020848c4ed4a4683f61462f28b1e6a",
       "version_major": 2,
       "version_minor": 0
      },
      "text/plain": [
       "Validation: |                                                            | 0/? [00:00<?, ?it/s]"
      ]
     },
     "metadata": {},
     "output_type": "display_data"
    },
    {
     "data": {
      "application/vnd.jupyter.widget-view+json": {
       "model_id": "0c2c9beccc264d8787f89d81cd4d1f0a",
       "version_major": 2,
       "version_minor": 0
      },
      "text/plain": [
       "Validation: |                                                            | 0/? [00:00<?, ?it/s]"
      ]
     },
     "metadata": {},
     "output_type": "display_data"
    },
    {
     "data": {
      "application/vnd.jupyter.widget-view+json": {
       "model_id": "29ab46ae599d4ed08c60127f69fdaba7",
       "version_major": 2,
       "version_minor": 0
      },
      "text/plain": [
       "Validation: |                                                            | 0/? [00:00<?, ?it/s]"
      ]
     },
     "metadata": {},
     "output_type": "display_data"
    },
    {
     "data": {
      "application/vnd.jupyter.widget-view+json": {
       "model_id": "abb3bd3fa8444f46b2308da3b63650f4",
       "version_major": 2,
       "version_minor": 0
      },
      "text/plain": [
       "Validation: |                                                            | 0/? [00:00<?, ?it/s]"
      ]
     },
     "metadata": {},
     "output_type": "display_data"
    },
    {
     "data": {
      "application/vnd.jupyter.widget-view+json": {
       "model_id": "ac302a28238b4a26a4ba99b08a08e1e5",
       "version_major": 2,
       "version_minor": 0
      },
      "text/plain": [
       "Validation: |                                                            | 0/? [00:00<?, ?it/s]"
      ]
     },
     "metadata": {},
     "output_type": "display_data"
    },
    {
     "data": {
      "application/vnd.jupyter.widget-view+json": {
       "model_id": "5f5e429bc90140af905c59e08fa7fb62",
       "version_major": 2,
       "version_minor": 0
      },
      "text/plain": [
       "Validation: |                                                            | 0/? [00:00<?, ?it/s]"
      ]
     },
     "metadata": {},
     "output_type": "display_data"
    },
    {
     "data": {
      "application/vnd.jupyter.widget-view+json": {
       "model_id": "66dee28301de4d139ddd461f8d719a94",
       "version_major": 2,
       "version_minor": 0
      },
      "text/plain": [
       "Validation: |                                                            | 0/? [00:00<?, ?it/s]"
      ]
     },
     "metadata": {},
     "output_type": "display_data"
    },
    {
     "data": {
      "application/vnd.jupyter.widget-view+json": {
       "model_id": "9ec9ea853e384c828172c9ddedc6bcf1",
       "version_major": 2,
       "version_minor": 0
      },
      "text/plain": [
       "Validation: |                                                            | 0/? [00:00<?, ?it/s]"
      ]
     },
     "metadata": {},
     "output_type": "display_data"
    },
    {
     "data": {
      "application/vnd.jupyter.widget-view+json": {
       "model_id": "7000ad3c7d1842a58b4da7022c4fe880",
       "version_major": 2,
       "version_minor": 0
      },
      "text/plain": [
       "Validation: |                                                            | 0/? [00:00<?, ?it/s]"
      ]
     },
     "metadata": {},
     "output_type": "display_data"
    },
    {
     "data": {
      "application/vnd.jupyter.widget-view+json": {
       "model_id": "29f20a7fd8cf403396dd6204a0a14784",
       "version_major": 2,
       "version_minor": 0
      },
      "text/plain": [
       "Validation: |                                                            | 0/? [00:00<?, ?it/s]"
      ]
     },
     "metadata": {},
     "output_type": "display_data"
    },
    {
     "data": {
      "application/vnd.jupyter.widget-view+json": {
       "model_id": "ab4480e6731246fdba035dea67d7e5d0",
       "version_major": 2,
       "version_minor": 0
      },
      "text/plain": [
       "Validation: |                                                            | 0/? [00:00<?, ?it/s]"
      ]
     },
     "metadata": {},
     "output_type": "display_data"
    },
    {
     "data": {
      "application/vnd.jupyter.widget-view+json": {
       "model_id": "b29eb426becd4cd0b1270f577c7f6371",
       "version_major": 2,
       "version_minor": 0
      },
      "text/plain": [
       "Validation: |                                                            | 0/? [00:00<?, ?it/s]"
      ]
     },
     "metadata": {},
     "output_type": "display_data"
    },
    {
     "data": {
      "application/vnd.jupyter.widget-view+json": {
       "model_id": "41f2002d5f2848c898e4fe3d48353c46",
       "version_major": 2,
       "version_minor": 0
      },
      "text/plain": [
       "Validation: |                                                            | 0/? [00:00<?, ?it/s]"
      ]
     },
     "metadata": {},
     "output_type": "display_data"
    },
    {
     "data": {
      "application/vnd.jupyter.widget-view+json": {
       "model_id": "86a0dd8cf5664972852081e48e029e2c",
       "version_major": 2,
       "version_minor": 0
      },
      "text/plain": [
       "Validation: |                                                            | 0/? [00:00<?, ?it/s]"
      ]
     },
     "metadata": {},
     "output_type": "display_data"
    },
    {
     "data": {
      "application/vnd.jupyter.widget-view+json": {
       "model_id": "eafa0b0a50264d768b5275ac2e5b69a8",
       "version_major": 2,
       "version_minor": 0
      },
      "text/plain": [
       "Validation: |                                                            | 0/? [00:00<?, ?it/s]"
      ]
     },
     "metadata": {},
     "output_type": "display_data"
    },
    {
     "data": {
      "application/vnd.jupyter.widget-view+json": {
       "model_id": "5e5bbae3d167460dbf52fbcdbf243b6b",
       "version_major": 2,
       "version_minor": 0
      },
      "text/plain": [
       "Validation: |                                                            | 0/? [00:00<?, ?it/s]"
      ]
     },
     "metadata": {},
     "output_type": "display_data"
    },
    {
     "data": {
      "application/vnd.jupyter.widget-view+json": {
       "model_id": "08a0e7c925ad4598882bdd613b2818f2",
       "version_major": 2,
       "version_minor": 0
      },
      "text/plain": [
       "Validation: |                                                            | 0/? [00:00<?, ?it/s]"
      ]
     },
     "metadata": {},
     "output_type": "display_data"
    },
    {
     "data": {
      "application/vnd.jupyter.widget-view+json": {
       "model_id": "81b579f882944374a88fec61a6604a50",
       "version_major": 2,
       "version_minor": 0
      },
      "text/plain": [
       "Validation: |                                                            | 0/? [00:00<?, ?it/s]"
      ]
     },
     "metadata": {},
     "output_type": "display_data"
    },
    {
     "data": {
      "application/vnd.jupyter.widget-view+json": {
       "model_id": "1ba432252cda4fef988273cf7e9bc796",
       "version_major": 2,
       "version_minor": 0
      },
      "text/plain": [
       "Validation: |                                                            | 0/? [00:00<?, ?it/s]"
      ]
     },
     "metadata": {},
     "output_type": "display_data"
    },
    {
     "data": {
      "application/vnd.jupyter.widget-view+json": {
       "model_id": "3f5898de61a84810be05f88bce6e6064",
       "version_major": 2,
       "version_minor": 0
      },
      "text/plain": [
       "Validation: |                                                            | 0/? [00:00<?, ?it/s]"
      ]
     },
     "metadata": {},
     "output_type": "display_data"
    },
    {
     "name": "stderr",
     "output_type": "stream",
     "text": [
      "\n",
      "Detected KeyboardInterrupt, attempting graceful shutdown ...\n"
     ]
    },
    {
     "ename": "NameError",
     "evalue": "name 'exit' is not defined",
     "output_type": "error",
     "traceback": [
      "\u001b[31m---------------------------------------------------------------------------\u001b[39m",
      "\u001b[31mKeyboardInterrupt\u001b[39m                         Traceback (most recent call last)",
      "\u001b[36mFile \u001b[39m\u001b[32m~/.conda/envs/esm/lib/python3.11/site-packages/lightning/pytorch/trainer/call.py:48\u001b[39m, in \u001b[36m_call_and_handle_interrupt\u001b[39m\u001b[34m(trainer, trainer_fn, *args, **kwargs)\u001b[39m\n\u001b[32m     47\u001b[39m         \u001b[38;5;28;01mreturn\u001b[39;00m trainer.strategy.launcher.launch(trainer_fn, *args, trainer=trainer, **kwargs)\n\u001b[32m---> \u001b[39m\u001b[32m48\u001b[39m     \u001b[38;5;28;01mreturn\u001b[39;00m \u001b[43mtrainer_fn\u001b[49m\u001b[43m(\u001b[49m\u001b[43m*\u001b[49m\u001b[43margs\u001b[49m\u001b[43m,\u001b[49m\u001b[43m \u001b[49m\u001b[43m*\u001b[49m\u001b[43m*\u001b[49m\u001b[43mkwargs\u001b[49m\u001b[43m)\u001b[49m\n\u001b[32m     50\u001b[39m \u001b[38;5;28;01mexcept\u001b[39;00m _TunerExitException:\n",
      "\u001b[36mFile \u001b[39m\u001b[32m~/.conda/envs/esm/lib/python3.11/site-packages/lightning/pytorch/trainer/trainer.py:599\u001b[39m, in \u001b[36mTrainer._fit_impl\u001b[39m\u001b[34m(self, model, train_dataloaders, val_dataloaders, datamodule, ckpt_path)\u001b[39m\n\u001b[32m    593\u001b[39m ckpt_path = \u001b[38;5;28mself\u001b[39m._checkpoint_connector._select_ckpt_path(\n\u001b[32m    594\u001b[39m     \u001b[38;5;28mself\u001b[39m.state.fn,\n\u001b[32m    595\u001b[39m     ckpt_path,\n\u001b[32m    596\u001b[39m     model_provided=\u001b[38;5;28;01mTrue\u001b[39;00m,\n\u001b[32m    597\u001b[39m     model_connected=\u001b[38;5;28mself\u001b[39m.lightning_module \u001b[38;5;129;01mis\u001b[39;00m \u001b[38;5;129;01mnot\u001b[39;00m \u001b[38;5;28;01mNone\u001b[39;00m,\n\u001b[32m    598\u001b[39m )\n\u001b[32m--> \u001b[39m\u001b[32m599\u001b[39m \u001b[38;5;28;43mself\u001b[39;49m\u001b[43m.\u001b[49m\u001b[43m_run\u001b[49m\u001b[43m(\u001b[49m\u001b[43mmodel\u001b[49m\u001b[43m,\u001b[49m\u001b[43m \u001b[49m\u001b[43mckpt_path\u001b[49m\u001b[43m=\u001b[49m\u001b[43mckpt_path\u001b[49m\u001b[43m)\u001b[49m\n\u001b[32m    601\u001b[39m \u001b[38;5;28;01massert\u001b[39;00m \u001b[38;5;28mself\u001b[39m.state.stopped\n",
      "\u001b[36mFile \u001b[39m\u001b[32m~/.conda/envs/esm/lib/python3.11/site-packages/lightning/pytorch/trainer/trainer.py:1012\u001b[39m, in \u001b[36mTrainer._run\u001b[39m\u001b[34m(self, model, ckpt_path)\u001b[39m\n\u001b[32m   1009\u001b[39m \u001b[38;5;66;03m# ----------------------------\u001b[39;00m\n\u001b[32m   1010\u001b[39m \u001b[38;5;66;03m# RUN THE TRAINER\u001b[39;00m\n\u001b[32m   1011\u001b[39m \u001b[38;5;66;03m# ----------------------------\u001b[39;00m\n\u001b[32m-> \u001b[39m\u001b[32m1012\u001b[39m results = \u001b[38;5;28;43mself\u001b[39;49m\u001b[43m.\u001b[49m\u001b[43m_run_stage\u001b[49m\u001b[43m(\u001b[49m\u001b[43m)\u001b[49m\n\u001b[32m   1014\u001b[39m \u001b[38;5;66;03m# ----------------------------\u001b[39;00m\n\u001b[32m   1015\u001b[39m \u001b[38;5;66;03m# POST-Training CLEAN UP\u001b[39;00m\n\u001b[32m   1016\u001b[39m \u001b[38;5;66;03m# ----------------------------\u001b[39;00m\n",
      "\u001b[36mFile \u001b[39m\u001b[32m~/.conda/envs/esm/lib/python3.11/site-packages/lightning/pytorch/trainer/trainer.py:1056\u001b[39m, in \u001b[36mTrainer._run_stage\u001b[39m\u001b[34m(self)\u001b[39m\n\u001b[32m   1055\u001b[39m \u001b[38;5;28;01mwith\u001b[39;00m torch.autograd.set_detect_anomaly(\u001b[38;5;28mself\u001b[39m._detect_anomaly):\n\u001b[32m-> \u001b[39m\u001b[32m1056\u001b[39m     \u001b[38;5;28;43mself\u001b[39;49m\u001b[43m.\u001b[49m\u001b[43mfit_loop\u001b[49m\u001b[43m.\u001b[49m\u001b[43mrun\u001b[49m\u001b[43m(\u001b[49m\u001b[43m)\u001b[49m\n\u001b[32m   1057\u001b[39m \u001b[38;5;28;01mreturn\u001b[39;00m \u001b[38;5;28;01mNone\u001b[39;00m\n",
      "\u001b[36mFile \u001b[39m\u001b[32m~/.conda/envs/esm/lib/python3.11/site-packages/lightning/pytorch/loops/fit_loop.py:216\u001b[39m, in \u001b[36m_FitLoop.run\u001b[39m\u001b[34m(self)\u001b[39m\n\u001b[32m    215\u001b[39m \u001b[38;5;28mself\u001b[39m.on_advance_start()\n\u001b[32m--> \u001b[39m\u001b[32m216\u001b[39m \u001b[38;5;28;43mself\u001b[39;49m\u001b[43m.\u001b[49m\u001b[43madvance\u001b[49m\u001b[43m(\u001b[49m\u001b[43m)\u001b[49m\n\u001b[32m    217\u001b[39m \u001b[38;5;28mself\u001b[39m.on_advance_end()\n",
      "\u001b[36mFile \u001b[39m\u001b[32m~/.conda/envs/esm/lib/python3.11/site-packages/lightning/pytorch/loops/fit_loop.py:455\u001b[39m, in \u001b[36m_FitLoop.advance\u001b[39m\u001b[34m(self)\u001b[39m\n\u001b[32m    454\u001b[39m \u001b[38;5;28;01massert\u001b[39;00m \u001b[38;5;28mself\u001b[39m._data_fetcher \u001b[38;5;129;01mis\u001b[39;00m \u001b[38;5;129;01mnot\u001b[39;00m \u001b[38;5;28;01mNone\u001b[39;00m\n\u001b[32m--> \u001b[39m\u001b[32m455\u001b[39m \u001b[38;5;28;43mself\u001b[39;49m\u001b[43m.\u001b[49m\u001b[43mepoch_loop\u001b[49m\u001b[43m.\u001b[49m\u001b[43mrun\u001b[49m\u001b[43m(\u001b[49m\u001b[38;5;28;43mself\u001b[39;49m\u001b[43m.\u001b[49m\u001b[43m_data_fetcher\u001b[49m\u001b[43m)\u001b[49m\n",
      "\u001b[36mFile \u001b[39m\u001b[32m~/.conda/envs/esm/lib/python3.11/site-packages/lightning/pytorch/loops/training_epoch_loop.py:152\u001b[39m, in \u001b[36m_TrainingEpochLoop.run\u001b[39m\u001b[34m(self, data_fetcher)\u001b[39m\n\u001b[32m    151\u001b[39m \u001b[38;5;28;01mtry\u001b[39;00m:\n\u001b[32m--> \u001b[39m\u001b[32m152\u001b[39m     \u001b[38;5;28;43mself\u001b[39;49m\u001b[43m.\u001b[49m\u001b[43madvance\u001b[49m\u001b[43m(\u001b[49m\u001b[43mdata_fetcher\u001b[49m\u001b[43m)\u001b[49m\n\u001b[32m    153\u001b[39m     \u001b[38;5;28mself\u001b[39m.on_advance_end(data_fetcher)\n",
      "\u001b[36mFile \u001b[39m\u001b[32m~/.conda/envs/esm/lib/python3.11/site-packages/lightning/pytorch/loops/training_epoch_loop.py:363\u001b[39m, in \u001b[36m_TrainingEpochLoop.advance\u001b[39m\u001b[34m(self, data_fetcher)\u001b[39m\n\u001b[32m    361\u001b[39m     \u001b[38;5;28mself\u001b[39m.batch_progress.is_last_batch = data_fetcher.done\n\u001b[32m--> \u001b[39m\u001b[32m363\u001b[39m \u001b[43mcall\u001b[49m\u001b[43m.\u001b[49m\u001b[43m_call_callback_hooks\u001b[49m\u001b[43m(\u001b[49m\u001b[43mtrainer\u001b[49m\u001b[43m,\u001b[49m\u001b[43m \u001b[49m\u001b[33;43m\"\u001b[39;49m\u001b[33;43mon_train_batch_end\u001b[39;49m\u001b[33;43m\"\u001b[39;49m\u001b[43m,\u001b[49m\u001b[43m \u001b[49m\u001b[43mbatch_output\u001b[49m\u001b[43m,\u001b[49m\u001b[43m \u001b[49m\u001b[43mbatch\u001b[49m\u001b[43m,\u001b[49m\u001b[43m \u001b[49m\u001b[43mbatch_idx\u001b[49m\u001b[43m)\u001b[49m\n\u001b[32m    364\u001b[39m call._call_lightning_module_hook(trainer, \u001b[33m\"\u001b[39m\u001b[33mon_train_batch_end\u001b[39m\u001b[33m\"\u001b[39m, batch_output, batch, batch_idx)\n",
      "\u001b[36mFile \u001b[39m\u001b[32m~/.conda/envs/esm/lib/python3.11/site-packages/lightning/pytorch/trainer/call.py:227\u001b[39m, in \u001b[36m_call_callback_hooks\u001b[39m\u001b[34m(trainer, hook_name, monitoring_callbacks, *args, **kwargs)\u001b[39m\n\u001b[32m    226\u001b[39m         \u001b[38;5;28;01mwith\u001b[39;00m trainer.profiler.profile(\u001b[33mf\u001b[39m\u001b[33m\"\u001b[39m\u001b[33m[Callback]\u001b[39m\u001b[38;5;132;01m{\u001b[39;00mcallback.state_key\u001b[38;5;132;01m}\u001b[39;00m\u001b[33m.\u001b[39m\u001b[38;5;132;01m{\u001b[39;00mhook_name\u001b[38;5;132;01m}\u001b[39;00m\u001b[33m\"\u001b[39m):\n\u001b[32m--> \u001b[39m\u001b[32m227\u001b[39m             \u001b[43mfn\u001b[49m\u001b[43m(\u001b[49m\u001b[43mtrainer\u001b[49m\u001b[43m,\u001b[49m\u001b[43m \u001b[49m\u001b[43mtrainer\u001b[49m\u001b[43m.\u001b[49m\u001b[43mlightning_module\u001b[49m\u001b[43m,\u001b[49m\u001b[43m \u001b[49m\u001b[43m*\u001b[49m\u001b[43margs\u001b[49m\u001b[43m,\u001b[49m\u001b[43m \u001b[49m\u001b[43m*\u001b[49m\u001b[43m*\u001b[49m\u001b[43mkwargs\u001b[49m\u001b[43m)\u001b[49m\n\u001b[32m    229\u001b[39m \u001b[38;5;28;01mif\u001b[39;00m pl_module:\n\u001b[32m    230\u001b[39m     \u001b[38;5;66;03m# restore current_fx when nested context\u001b[39;00m\n",
      "\u001b[36mFile \u001b[39m\u001b[32m~/.conda/envs/esm/lib/python3.11/site-packages/lightning/pytorch/callbacks/progress/tqdm_progress.py:279\u001b[39m, in \u001b[36mTQDMProgressBar.on_train_batch_end\u001b[39m\u001b[34m(self, trainer, pl_module, outputs, batch, batch_idx)\u001b[39m\n\u001b[32m    278\u001b[39m _update_n(\u001b[38;5;28mself\u001b[39m.train_progress_bar, n)\n\u001b[32m--> \u001b[39m\u001b[32m279\u001b[39m \u001b[38;5;28mself\u001b[39m.train_progress_bar.set_postfix(\u001b[38;5;28;43mself\u001b[39;49m\u001b[43m.\u001b[49m\u001b[43mget_metrics\u001b[49m\u001b[43m(\u001b[49m\u001b[43mtrainer\u001b[49m\u001b[43m,\u001b[49m\u001b[43m \u001b[49m\u001b[43mpl_module\u001b[49m\u001b[43m)\u001b[49m)\n",
      "\u001b[36mFile \u001b[39m\u001b[32m~/.conda/envs/esm/lib/python3.11/site-packages/lightning/pytorch/callbacks/progress/progress_bar.py:201\u001b[39m, in \u001b[36mProgressBar.get_metrics\u001b[39m\u001b[34m(self, trainer, pl_module)\u001b[39m\n\u001b[32m    200\u001b[39m standard_metrics = get_standard_metrics(trainer)\n\u001b[32m--> \u001b[39m\u001b[32m201\u001b[39m pbar_metrics = \u001b[43mtrainer\u001b[49m\u001b[43m.\u001b[49m\u001b[43mprogress_bar_metrics\u001b[49m\n\u001b[32m    202\u001b[39m duplicates = \u001b[38;5;28mlist\u001b[39m(standard_metrics.keys() & pbar_metrics.keys())\n",
      "\u001b[36mFile \u001b[39m\u001b[32m~/.conda/envs/esm/lib/python3.11/site-packages/lightning/pytorch/trainer/trainer.py:1667\u001b[39m, in \u001b[36mTrainer.progress_bar_metrics\u001b[39m\u001b[34m(self)\u001b[39m\n\u001b[32m   1661\u001b[39m \u001b[38;5;250m\u001b[39m\u001b[33;03m\"\"\"The metrics sent to the progress bar.\u001b[39;00m\n\u001b[32m   1662\u001b[39m \n\u001b[32m   1663\u001b[39m \u001b[33;03mThis includes metrics logged via :meth:`~lightning.pytorch.core.LightningModule.log` with the\u001b[39;00m\n\u001b[32m   1664\u001b[39m \u001b[33;03m:paramref:`~lightning.pytorch.core.LightningModule.log.prog_bar` argument set.\u001b[39;00m\n\u001b[32m   1665\u001b[39m \n\u001b[32m   1666\u001b[39m \u001b[33;03m\"\"\"\u001b[39;00m\n\u001b[32m-> \u001b[39m\u001b[32m1667\u001b[39m \u001b[38;5;28;01mreturn\u001b[39;00m \u001b[38;5;28;43mself\u001b[39;49m\u001b[43m.\u001b[49m\u001b[43m_logger_connector\u001b[49m\u001b[43m.\u001b[49m\u001b[43mprogress_bar_metrics\u001b[49m\n",
      "\u001b[36mFile \u001b[39m\u001b[32m~/.conda/envs/esm/lib/python3.11/site-packages/lightning/pytorch/trainer/connectors/logger_connector/logger_connector.py:255\u001b[39m, in \u001b[36m_LoggerConnector.progress_bar_metrics\u001b[39m\u001b[34m(self)\u001b[39m\n\u001b[32m    254\u001b[39m \u001b[38;5;28;01mif\u001b[39;00m \u001b[38;5;28mself\u001b[39m.trainer._results:\n\u001b[32m--> \u001b[39m\u001b[32m255\u001b[39m     metrics = \u001b[38;5;28;43mself\u001b[39;49m\u001b[43m.\u001b[49m\u001b[43mmetrics\u001b[49m[\u001b[33m\"\u001b[39m\u001b[33mpbar\u001b[39m\u001b[33m\"\u001b[39m]\n\u001b[32m    256\u001b[39m     \u001b[38;5;28mself\u001b[39m._progress_bar_metrics.update(metrics)\n",
      "\u001b[36mFile \u001b[39m\u001b[32m~/.conda/envs/esm/lib/python3.11/site-packages/lightning/pytorch/trainer/connectors/logger_connector/logger_connector.py:236\u001b[39m, in \u001b[36m_LoggerConnector.metrics\u001b[39m\u001b[34m(self)\u001b[39m\n\u001b[32m    235\u001b[39m \u001b[38;5;28;01massert\u001b[39;00m \u001b[38;5;28mself\u001b[39m.trainer._results \u001b[38;5;129;01mis\u001b[39;00m \u001b[38;5;129;01mnot\u001b[39;00m \u001b[38;5;28;01mNone\u001b[39;00m\n\u001b[32m--> \u001b[39m\u001b[32m236\u001b[39m \u001b[38;5;28;01mreturn\u001b[39;00m \u001b[38;5;28;43mself\u001b[39;49m\u001b[43m.\u001b[49m\u001b[43mtrainer\u001b[49m\u001b[43m.\u001b[49m\u001b[43m_results\u001b[49m\u001b[43m.\u001b[49m\u001b[43mmetrics\u001b[49m\u001b[43m(\u001b[49m\u001b[43mon_step\u001b[49m\u001b[43m)\u001b[49m\n",
      "\u001b[36mFile \u001b[39m\u001b[32m~/.conda/envs/esm/lib/python3.11/site-packages/lightning/pytorch/trainer/connectors/logger_connector/result.py:493\u001b[39m, in \u001b[36m_ResultCollection.metrics\u001b[39m\u001b[34m(self, on_step)\u001b[39m\n\u001b[32m    492\u001b[39m     \u001b[38;5;28;01mif\u001b[39;00m result_metric.meta.prog_bar:\n\u001b[32m--> \u001b[39m\u001b[32m493\u001b[39m         metrics[\u001b[33m\"\u001b[39m\u001b[33mpbar\u001b[39m\u001b[33m\"\u001b[39m][forked_name] = \u001b[43mconvert_tensors_to_scalars\u001b[49m\u001b[43m(\u001b[49m\u001b[43mvalue\u001b[49m\u001b[43m)\u001b[49m\n\u001b[32m    495\u001b[39m \u001b[38;5;28;01mreturn\u001b[39;00m metrics\n",
      "\u001b[36mFile \u001b[39m\u001b[32m~/.conda/envs/esm/lib/python3.11/site-packages/lightning/fabric/utilities/apply_func.py:136\u001b[39m, in \u001b[36mconvert_tensors_to_scalars\u001b[39m\u001b[34m(data)\u001b[39m\n\u001b[32m    134\u001b[39m     \u001b[38;5;28;01mreturn\u001b[39;00m value.item()\n\u001b[32m--> \u001b[39m\u001b[32m136\u001b[39m \u001b[38;5;28;01mreturn\u001b[39;00m \u001b[43mapply_to_collection\u001b[49m\u001b[43m(\u001b[49m\u001b[43mdata\u001b[49m\u001b[43m,\u001b[49m\u001b[43m \u001b[49m\u001b[43mTensor\u001b[49m\u001b[43m,\u001b[49m\u001b[43m \u001b[49m\u001b[43mto_item\u001b[49m\u001b[43m)\u001b[49m\n",
      "\u001b[36mFile \u001b[39m\u001b[32m~/.conda/envs/esm/lib/python3.11/site-packages/lightning_utilities/core/apply_func.py:66\u001b[39m, in \u001b[36mapply_to_collection\u001b[39m\u001b[34m(data, dtype, function, wrong_dtype, include_none, allow_frozen, *args, **kwargs)\u001b[39m\n\u001b[32m     65\u001b[39m \u001b[38;5;28;01mif\u001b[39;00m \u001b[38;5;28misinstance\u001b[39m(data, dtype):  \u001b[38;5;66;03m# single element\u001b[39;00m\n\u001b[32m---> \u001b[39m\u001b[32m66\u001b[39m     \u001b[38;5;28;01mreturn\u001b[39;00m \u001b[43mfunction\u001b[49m\u001b[43m(\u001b[49m\u001b[43mdata\u001b[49m\u001b[43m,\u001b[49m\u001b[43m \u001b[49m\u001b[43m*\u001b[49m\u001b[43margs\u001b[49m\u001b[43m,\u001b[49m\u001b[43m \u001b[49m\u001b[43m*\u001b[49m\u001b[43m*\u001b[49m\u001b[43mkwargs\u001b[49m\u001b[43m)\u001b[49m\n\u001b[32m     67\u001b[39m \u001b[38;5;28;01mif\u001b[39;00m data.\u001b[34m__class__\u001b[39m \u001b[38;5;129;01mis\u001b[39;00m \u001b[38;5;28mlist\u001b[39m \u001b[38;5;129;01mand\u001b[39;00m \u001b[38;5;28mall\u001b[39m(\u001b[38;5;28misinstance\u001b[39m(x, dtype) \u001b[38;5;28;01mfor\u001b[39;00m x \u001b[38;5;129;01min\u001b[39;00m data):  \u001b[38;5;66;03m# 1d homogeneous list\u001b[39;00m\n",
      "\u001b[36mFile \u001b[39m\u001b[32m~/.conda/envs/esm/lib/python3.11/site-packages/lightning/fabric/utilities/apply_func.py:134\u001b[39m, in \u001b[36mconvert_tensors_to_scalars.<locals>.to_item\u001b[39m\u001b[34m(value)\u001b[39m\n\u001b[32m    131\u001b[39m     \u001b[38;5;28;01mraise\u001b[39;00m \u001b[38;5;167;01mValueError\u001b[39;00m(\n\u001b[32m    132\u001b[39m         \u001b[33mf\u001b[39m\u001b[33m\"\u001b[39m\u001b[33mThe metric `\u001b[39m\u001b[38;5;132;01m{\u001b[39;00mvalue\u001b[38;5;132;01m}\u001b[39;00m\u001b[33m` does not contain a single element, thus it cannot be converted to a scalar.\u001b[39m\u001b[33m\"\u001b[39m\n\u001b[32m    133\u001b[39m     )\n\u001b[32m--> \u001b[39m\u001b[32m134\u001b[39m \u001b[38;5;28;01mreturn\u001b[39;00m \u001b[43mvalue\u001b[49m\u001b[43m.\u001b[49m\u001b[43mitem\u001b[49m\u001b[43m(\u001b[49m\u001b[43m)\u001b[49m\n",
      "\u001b[31mKeyboardInterrupt\u001b[39m: ",
      "\nDuring handling of the above exception, another exception occurred:\n",
      "\u001b[31mNameError\u001b[39m                                 Traceback (most recent call last)",
      "\u001b[36mCell\u001b[39m\u001b[36m \u001b[39m\u001b[32mIn[137]\u001b[39m\u001b[32m, line 43\u001b[39m\n\u001b[32m     29\u001b[39m early_stop = EarlyStopping(monitor=\u001b[33m\"\u001b[39m\u001b[33mvalidation_loss_tml\u001b[39m\u001b[33m\"\u001b[39m, patience=\u001b[32m10\u001b[39m, mode=\u001b[33m\"\u001b[39m\u001b[33mmin\u001b[39m\u001b[33m\"\u001b[39m)\n\u001b[32m     31\u001b[39m trainer = L.Trainer(\n\u001b[32m     32\u001b[39m     max_epochs=EPOCHS,\n\u001b[32m     33\u001b[39m     devices=[\u001b[32m1\u001b[39m],\n\u001b[32m   (...)\u001b[39m\u001b[32m     39\u001b[39m     log_every_n_steps=\u001b[32m1\u001b[39m\n\u001b[32m     40\u001b[39m )\n\u001b[32m---> \u001b[39m\u001b[32m43\u001b[39m \u001b[43mtrainer\u001b[49m\u001b[43m.\u001b[49m\u001b[43mfit\u001b[49m\u001b[43m(\u001b[49m\u001b[43mmodel\u001b[49m\u001b[43m,\u001b[49m\u001b[43m \u001b[49m\u001b[43mtrain_dataloaders\u001b[49m\u001b[43m=\u001b[49m\u001b[43mtrain_dataloader\u001b[49m\u001b[43m,\u001b[49m\u001b[43m \u001b[49m\u001b[43mval_dataloaders\u001b[49m\u001b[43m=\u001b[49m\u001b[43mval_dataloader\u001b[49m\u001b[43m)\u001b[49m\n\u001b[32m     44\u001b[39m trainer.test(model, dataloaders=test_dataloader)\n",
      "\u001b[36mFile \u001b[39m\u001b[32m~/.conda/envs/esm/lib/python3.11/site-packages/lightning/pytorch/trainer/trainer.py:561\u001b[39m, in \u001b[36mTrainer.fit\u001b[39m\u001b[34m(self, model, train_dataloaders, val_dataloaders, datamodule, ckpt_path)\u001b[39m\n\u001b[32m    559\u001b[39m \u001b[38;5;28mself\u001b[39m.training = \u001b[38;5;28;01mTrue\u001b[39;00m\n\u001b[32m    560\u001b[39m \u001b[38;5;28mself\u001b[39m.should_stop = \u001b[38;5;28;01mFalse\u001b[39;00m\n\u001b[32m--> \u001b[39m\u001b[32m561\u001b[39m \u001b[43mcall\u001b[49m\u001b[43m.\u001b[49m\u001b[43m_call_and_handle_interrupt\u001b[49m\u001b[43m(\u001b[49m\n\u001b[32m    562\u001b[39m \u001b[43m    \u001b[49m\u001b[38;5;28;43mself\u001b[39;49m\u001b[43m,\u001b[49m\u001b[43m \u001b[49m\u001b[38;5;28;43mself\u001b[39;49m\u001b[43m.\u001b[49m\u001b[43m_fit_impl\u001b[49m\u001b[43m,\u001b[49m\u001b[43m \u001b[49m\u001b[43mmodel\u001b[49m\u001b[43m,\u001b[49m\u001b[43m \u001b[49m\u001b[43mtrain_dataloaders\u001b[49m\u001b[43m,\u001b[49m\u001b[43m \u001b[49m\u001b[43mval_dataloaders\u001b[49m\u001b[43m,\u001b[49m\u001b[43m \u001b[49m\u001b[43mdatamodule\u001b[49m\u001b[43m,\u001b[49m\u001b[43m \u001b[49m\u001b[43mckpt_path\u001b[49m\n\u001b[32m    563\u001b[39m \u001b[43m\u001b[49m\u001b[43m)\u001b[49m\n",
      "\u001b[36mFile \u001b[39m\u001b[32m~/.conda/envs/esm/lib/python3.11/site-packages/lightning/pytorch/trainer/call.py:65\u001b[39m, in \u001b[36m_call_and_handle_interrupt\u001b[39m\u001b[34m(trainer, trainer_fn, *args, **kwargs)\u001b[39m\n\u001b[32m     63\u001b[39m     \u001b[38;5;28;01mif\u001b[39;00m \u001b[38;5;28misinstance\u001b[39m(launcher, _SubprocessScriptLauncher):\n\u001b[32m     64\u001b[39m         launcher.kill(_get_sigkill_signal())\n\u001b[32m---> \u001b[39m\u001b[32m65\u001b[39m     \u001b[43mexit\u001b[49m(\u001b[32m1\u001b[39m)\n\u001b[32m     67\u001b[39m \u001b[38;5;28;01mexcept\u001b[39;00m \u001b[38;5;167;01mBaseException\u001b[39;00m \u001b[38;5;28;01mas\u001b[39;00m exception:\n\u001b[32m     68\u001b[39m     _interrupt(trainer, exception)\n",
      "\u001b[31mNameError\u001b[39m: name 'exit' is not defined"
     ]
    }
   ],
   "source": [
    "model_name = 'ProteinPeptideInteractionTransformer'\n",
    "obj_model = ProteinPeptideInteractionTransformer(embedding_dim=1152, hidden_dim=512, \n",
    "                                                    embedding_out_dim=128, num_heads=8, dropout=0.3)\n",
    "\n",
    "model = LModelEmb(obj_model, \n",
    "                 learning_rate=1e-, \n",
    "                 weight_decay=1e-3)\n",
    "\n",
    "logger = pl_loggers.TensorBoardLogger(name=f\"{model_name}\", save_dir=log_path)\n",
    "logger_csv = pl_loggers.CSVLogger(name=f\"{model_name}\", save_dir=log_csv_path)\n",
    "\n",
    "checkpoint_callback = ModelCheckpoint(\n",
    "    dirpath=os.path.join(checkpoints_path, f\"{model_name}\", f\"version_{logger_csv.version}\", \"checkpoints\"),\n",
    "    filename=\"model-epoch={epoch:02d}\",\n",
    "    save_top_k=-1,\n",
    "    every_n_epochs=1,\n",
    "    save_on_train_epoch_end=True,\n",
    ")\n",
    "\n",
    "best_iou_callback = ModelCheckpoint(\n",
    "    dirpath=os.path.join(checkpoints_path, f\"{model_name}\", f\"version_{logger_csv.version}\", \"checkpoints\"),\n",
    "    filename=\"best_model_epoch={epoch:02d}-loss={validation_loss_tml:.4f}\",\n",
    "    monitor=\"validation_loss_tml\",\n",
    "    mode=\"min\",\n",
    "    save_top_k=1,\n",
    "    save_on_train_epoch_end=True,\n",
    ")\n",
    "\n",
    "early_stop = EarlyStopping(monitor=\"validation_loss_tml\", patience=10, mode=\"min\")\n",
    "\n",
    "trainer = L.Trainer(\n",
    "    max_epochs=EPOCHS,\n",
    "    devices=[1],\n",
    "    default_root_dir=f'{checkpoints_path}/{model_name}',\n",
    "    logger=[logger, logger_csv],\n",
    "    accelerator=\"gpu\",\n",
    "    precision=\"32\",\n",
    "    callbacks=[best_iou_callback, early_stop, TQDMProgressBar(refresh_rate=1)],\n",
    "    log_every_n_steps=1\n",
    ")\n",
    "\n",
    "\n",
    "trainer.fit(model, train_dataloaders=train_dataloader, val_dataloaders=val_dataloader)\n",
    "trainer.test(model, dataloaders=test_dataloader)"
   ]
  }
 ],
 "metadata": {
  "kernelspec": {
   "display_name": "esm_kernel",
   "language": "python",
   "name": "esm"
  },
  "language_info": {
   "codemirror_mode": {
    "name": "ipython",
    "version": 3
   },
   "file_extension": ".py",
   "mimetype": "text/x-python",
   "name": "python",
   "nbconvert_exporter": "python",
   "pygments_lexer": "ipython3",
   "version": "3.11.13"
  }
 },
 "nbformat": 4,
 "nbformat_minor": 5
}
